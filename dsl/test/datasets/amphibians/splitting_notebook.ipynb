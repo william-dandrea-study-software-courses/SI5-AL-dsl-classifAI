{
 "cells": [
  {
   "cell_type": "code",
   "execution_count": 40,
   "id": "bee81275",
   "metadata": {},
   "outputs": [],
   "source": [
    "import pandas as pd\n",
    "import numpy as np\n",
    "from sklearn.model_selection import train_test_split\n",
    "from sklearn.preprocessing import minmax_scale\n",
    "from sklearn.preprocessing import OrdinalEncoder\n",
    "from sklearn.preprocessing import OneHotEncoder\n",
    "from sklearn.model_selection import GridSearchCV\n",
    "from sklearn.model_selection import PredefinedSplit\n",
    "from sklearn.svm import SVC\n",
    "from sklearn.tree import DecisionTreeClassifier\n",
    "from sklearn.neighbors import KNeighborsClassifier\n",
    "from sklearn.neural_network import MLPClassifier\n",
    "from sklearn.ensemble import RandomForestClassifier\n",
    "import matplotlib.pyplot as plt\n",
    "from sklearn.metrics import accuracy_score, precision_score, recall_score, f1_score, roc_auc_score\n"
   ]
  },
  {
   "cell_type": "code",
   "execution_count": 41,
   "id": "648deb12",
   "metadata": {},
   "outputs": [],
   "source": [
    "import warnings\n",
    "warnings.filterwarnings('ignore')"
   ]
  },
  {
   "cell_type": "markdown",
   "id": "015e608a",
   "metadata": {},
   "source": [
    "![alt text](dataset.csv_mindmap.png \"Mindmap\")"
   ]
  },
  {
   "cell_type": "markdown",
   "id": "b31091a8",
   "metadata": {},
   "source": [
    "# Préprocessing\n",
    "| Column name | Column type | Use default transformation ? | Cleaning method | Possible values | Is Label ? |\n",
    "|------|------|------|------|------|------|\n",
    "| Motorway | Nominal Qualitative | Yes | Delete Line | A1 / S52 | No |\n",
    "| SR | Quantitative Discrete | Yes | Delete Line |  | No |\n",
    "| NR | Quantitative Discrete | Yes | Delete Line |  | No |\n",
    "| TR | Quantitative Discrete | Yes | Delete Line |  | No |\n",
    "| VR | Quantitative Discrete | Yes | Delete Line |  | No |\n",
    "| SUR1 | Quantitative Discrete | Yes | Delete Line |  | No |\n",
    "| SUR2 | Quantitative Discrete | Yes | Delete Line |  | No |\n",
    "| SUR3 | Quantitative Discrete | Yes | Delete Line |  | No |\n",
    "| UR | Quantitative Discrete | Yes | Delete Line |  | No |\n",
    "| FR | Quantitative Discrete | Yes | Delete Line |  | No |\n",
    "| OR | Quantitative Discrete | Yes | Delete Line |  | No |\n",
    "| RR | Quantitative Discrete | Yes | Delete Line |  | No |\n",
    "| BR | Quantitative Discrete | Yes | Delete Line |  | No |\n",
    "| MR | Quantitative Discrete | Yes | Delete Line |  | No |\n",
    "| CR | Quantitative Discrete | Yes | Delete Line |  | No |\n",
    "| GreenFrog | Boolean | Yes | Delete Line | True value = 1 / False value = 0 | No |\n",
    "| BrownFrog | Boolean | Yes | Delete Line | True value = 1 / False value = 0 | No |\n",
    "| CommonToad | Boolean | Yes | Delete Line | True value = 1 / False value = 0 | No |\n",
    "| FireBelliedToad | Boolean | Yes | Delete Line | True value = 1 / False value = 0 | No |\n",
    "| TreeFrog | Boolean | Yes | Delete Line | True value = 1 / False value = 0 | No |\n",
    "| CommonNewt | Boolean | Yes | Delete Line | True value = 1 / False value = 0 | No |\n",
    "| greatCreastedNewt | Boolean | Yes | Delete Line | True value = 1 / False value = 0 | Yes |\n"
   ]
  },
  {
   "cell_type": "markdown",
   "id": "d06a26ab",
   "metadata": {},
   "source": [
    "## We import the dataset"
   ]
  },
  {
   "cell_type": "code",
   "execution_count": 42,
   "id": "17d815dc",
   "metadata": {},
   "outputs": [
    {
     "data": {
      "text/plain": "    Motorway    SR  NR  TR  VR  SUR1  SUR2  SUR3  UR  FR  ...  BR  MR  CR  \\\n0         A1   700   1   5   1    10     6    10   3   1  ...   1   0   1   \n1         A1   200   1   5   1    10     6    10   3   4  ...   1   0   1   \n2         A1   300   1   5   0     6    10     2   3   4  ...   0   0   1   \n3         A1   600   2   1   4    10     2     6   0   0  ...   5   0   1   \n4         A1   200   1   5   1     6     6    10   1   0  ...   0   0   1   \n..       ...   ...  ..  ..  ..   ...   ...   ...  ..  ..  ...  ..  ..  ..   \n183      S52  2300   1  12   3     2     2     1   0   0  ...   1   0   1   \n184      S52   300   1  14   2     7    10     2   0   0  ...   5   0   1   \n185      S52   500   1   1   4     1    10     2   0   0  ...   5   0   1   \n186      S52   300   1  12   3     2     1     6   0   0  ...   0   0   1   \n187      S52   300   1  12   3     2     6    10   0   0  ...   1   0   1   \n\n     GreenFrog  BrownFrog  CommonToad  FireBelliedToad  TreeFrog  CommonNewt  \\\n0            0          1           1                0         0           1   \n1            0          1           1                0         0           1   \n2            0          0           1                0         0           0   \n3            0          1           1                1         0           1   \n4            0          0           0                0         0           0   \n..         ...        ...         ...              ...       ...         ...   \n183          0          1           0                0         0           0   \n184          1          1           1                1         0           1   \n185          1          1           1                1         0           1   \n186          0          1           1                0         0           0   \n187          0          1           1                0         0           0   \n\n     greatCreastedNewt  \n0                    0  \n1                    0  \n2                    0  \n3                    1  \n4                    0  \n..                 ...  \n183                  0  \n184                  0  \n185                  0  \n186                  0  \n187                  0  \n\n[188 rows x 22 columns]",
      "text/html": "<div>\n<style scoped>\n    .dataframe tbody tr th:only-of-type {\n        vertical-align: middle;\n    }\n\n    .dataframe tbody tr th {\n        vertical-align: top;\n    }\n\n    .dataframe thead th {\n        text-align: right;\n    }\n</style>\n<table border=\"1\" class=\"dataframe\">\n  <thead>\n    <tr style=\"text-align: right;\">\n      <th></th>\n      <th>Motorway</th>\n      <th>SR</th>\n      <th>NR</th>\n      <th>TR</th>\n      <th>VR</th>\n      <th>SUR1</th>\n      <th>SUR2</th>\n      <th>SUR3</th>\n      <th>UR</th>\n      <th>FR</th>\n      <th>...</th>\n      <th>BR</th>\n      <th>MR</th>\n      <th>CR</th>\n      <th>GreenFrog</th>\n      <th>BrownFrog</th>\n      <th>CommonToad</th>\n      <th>FireBelliedToad</th>\n      <th>TreeFrog</th>\n      <th>CommonNewt</th>\n      <th>greatCreastedNewt</th>\n    </tr>\n  </thead>\n  <tbody>\n    <tr>\n      <th>0</th>\n      <td>A1</td>\n      <td>700</td>\n      <td>1</td>\n      <td>5</td>\n      <td>1</td>\n      <td>10</td>\n      <td>6</td>\n      <td>10</td>\n      <td>3</td>\n      <td>1</td>\n      <td>...</td>\n      <td>1</td>\n      <td>0</td>\n      <td>1</td>\n      <td>0</td>\n      <td>1</td>\n      <td>1</td>\n      <td>0</td>\n      <td>0</td>\n      <td>1</td>\n      <td>0</td>\n    </tr>\n    <tr>\n      <th>1</th>\n      <td>A1</td>\n      <td>200</td>\n      <td>1</td>\n      <td>5</td>\n      <td>1</td>\n      <td>10</td>\n      <td>6</td>\n      <td>10</td>\n      <td>3</td>\n      <td>4</td>\n      <td>...</td>\n      <td>1</td>\n      <td>0</td>\n      <td>1</td>\n      <td>0</td>\n      <td>1</td>\n      <td>1</td>\n      <td>0</td>\n      <td>0</td>\n      <td>1</td>\n      <td>0</td>\n    </tr>\n    <tr>\n      <th>2</th>\n      <td>A1</td>\n      <td>300</td>\n      <td>1</td>\n      <td>5</td>\n      <td>0</td>\n      <td>6</td>\n      <td>10</td>\n      <td>2</td>\n      <td>3</td>\n      <td>4</td>\n      <td>...</td>\n      <td>0</td>\n      <td>0</td>\n      <td>1</td>\n      <td>0</td>\n      <td>0</td>\n      <td>1</td>\n      <td>0</td>\n      <td>0</td>\n      <td>0</td>\n      <td>0</td>\n    </tr>\n    <tr>\n      <th>3</th>\n      <td>A1</td>\n      <td>600</td>\n      <td>2</td>\n      <td>1</td>\n      <td>4</td>\n      <td>10</td>\n      <td>2</td>\n      <td>6</td>\n      <td>0</td>\n      <td>0</td>\n      <td>...</td>\n      <td>5</td>\n      <td>0</td>\n      <td>1</td>\n      <td>0</td>\n      <td>1</td>\n      <td>1</td>\n      <td>1</td>\n      <td>0</td>\n      <td>1</td>\n      <td>1</td>\n    </tr>\n    <tr>\n      <th>4</th>\n      <td>A1</td>\n      <td>200</td>\n      <td>1</td>\n      <td>5</td>\n      <td>1</td>\n      <td>6</td>\n      <td>6</td>\n      <td>10</td>\n      <td>1</td>\n      <td>0</td>\n      <td>...</td>\n      <td>0</td>\n      <td>0</td>\n      <td>1</td>\n      <td>0</td>\n      <td>0</td>\n      <td>0</td>\n      <td>0</td>\n      <td>0</td>\n      <td>0</td>\n      <td>0</td>\n    </tr>\n    <tr>\n      <th>...</th>\n      <td>...</td>\n      <td>...</td>\n      <td>...</td>\n      <td>...</td>\n      <td>...</td>\n      <td>...</td>\n      <td>...</td>\n      <td>...</td>\n      <td>...</td>\n      <td>...</td>\n      <td>...</td>\n      <td>...</td>\n      <td>...</td>\n      <td>...</td>\n      <td>...</td>\n      <td>...</td>\n      <td>...</td>\n      <td>...</td>\n      <td>...</td>\n      <td>...</td>\n      <td>...</td>\n    </tr>\n    <tr>\n      <th>183</th>\n      <td>S52</td>\n      <td>2300</td>\n      <td>1</td>\n      <td>12</td>\n      <td>3</td>\n      <td>2</td>\n      <td>2</td>\n      <td>1</td>\n      <td>0</td>\n      <td>0</td>\n      <td>...</td>\n      <td>1</td>\n      <td>0</td>\n      <td>1</td>\n      <td>0</td>\n      <td>1</td>\n      <td>0</td>\n      <td>0</td>\n      <td>0</td>\n      <td>0</td>\n      <td>0</td>\n    </tr>\n    <tr>\n      <th>184</th>\n      <td>S52</td>\n      <td>300</td>\n      <td>1</td>\n      <td>14</td>\n      <td>2</td>\n      <td>7</td>\n      <td>10</td>\n      <td>2</td>\n      <td>0</td>\n      <td>0</td>\n      <td>...</td>\n      <td>5</td>\n      <td>0</td>\n      <td>1</td>\n      <td>1</td>\n      <td>1</td>\n      <td>1</td>\n      <td>1</td>\n      <td>0</td>\n      <td>1</td>\n      <td>0</td>\n    </tr>\n    <tr>\n      <th>185</th>\n      <td>S52</td>\n      <td>500</td>\n      <td>1</td>\n      <td>1</td>\n      <td>4</td>\n      <td>1</td>\n      <td>10</td>\n      <td>2</td>\n      <td>0</td>\n      <td>0</td>\n      <td>...</td>\n      <td>5</td>\n      <td>0</td>\n      <td>1</td>\n      <td>1</td>\n      <td>1</td>\n      <td>1</td>\n      <td>1</td>\n      <td>0</td>\n      <td>1</td>\n      <td>0</td>\n    </tr>\n    <tr>\n      <th>186</th>\n      <td>S52</td>\n      <td>300</td>\n      <td>1</td>\n      <td>12</td>\n      <td>3</td>\n      <td>2</td>\n      <td>1</td>\n      <td>6</td>\n      <td>0</td>\n      <td>0</td>\n      <td>...</td>\n      <td>0</td>\n      <td>0</td>\n      <td>1</td>\n      <td>0</td>\n      <td>1</td>\n      <td>1</td>\n      <td>0</td>\n      <td>0</td>\n      <td>0</td>\n      <td>0</td>\n    </tr>\n    <tr>\n      <th>187</th>\n      <td>S52</td>\n      <td>300</td>\n      <td>1</td>\n      <td>12</td>\n      <td>3</td>\n      <td>2</td>\n      <td>6</td>\n      <td>10</td>\n      <td>0</td>\n      <td>0</td>\n      <td>...</td>\n      <td>1</td>\n      <td>0</td>\n      <td>1</td>\n      <td>0</td>\n      <td>1</td>\n      <td>1</td>\n      <td>0</td>\n      <td>0</td>\n      <td>0</td>\n      <td>0</td>\n    </tr>\n  </tbody>\n</table>\n<p>188 rows × 22 columns</p>\n</div>"
     },
     "execution_count": 42,
     "metadata": {},
     "output_type": "execute_result"
    }
   ],
   "source": [
    "def load_dataset() -> pd.DataFrame:\n",
    "\tcurrent_dataset = pd.read_csv(\"dataset.csv\", header=1)\n",
    "\tcurrent_dataset.columns = ['Motorway', 'SR', 'NR', 'TR', 'VR', 'SUR1', 'SUR2', 'SUR3', 'UR', 'FR', 'OR', 'RR', 'BR', 'MR', 'CR', 'GreenFrog', 'BrownFrog', 'CommonToad', 'FireBelliedToad', 'TreeFrog', 'CommonNewt', 'greatCreastedNewt']\n",
    "\treturn current_dataset\n",
    "\n",
    "dataframe: pd.DataFrame = load_dataset()\n",
    "dataframe"
   ]
  },
  {
   "cell_type": "code",
   "execution_count": 43,
   "id": "76609b10",
   "metadata": {},
   "outputs": [
    {
     "data": {
      "text/plain": "    Motorway    SR  NR  TR  VR  SUR1  SUR2  SUR3  UR  FR  ...  BR  MR  CR  \\\n0         A1   700   1   5   1    10     6    10   3   1  ...   1   0   1   \n1         A1   200   1   5   1    10     6    10   3   4  ...   1   0   1   \n2         A1   300   1   5   0     6    10     2   3   4  ...   0   0   1   \n3         A1   600   2   1   4    10     2     6   0   0  ...   5   0   1   \n4         A1   200   1   5   1     6     6    10   1   0  ...   0   0   1   \n..       ...   ...  ..  ..  ..   ...   ...   ...  ..  ..  ...  ..  ..  ..   \n183      S52  2300   1  12   3     2     2     1   0   0  ...   1   0   1   \n184      S52   300   1  14   2     7    10     2   0   0  ...   5   0   1   \n185      S52   500   1   1   4     1    10     2   0   0  ...   5   0   1   \n186      S52   300   1  12   3     2     1     6   0   0  ...   0   0   1   \n187      S52   300   1  12   3     2     6    10   0   0  ...   1   0   1   \n\n     GreenFrog  BrownFrog  CommonToad  FireBelliedToad  TreeFrog  CommonNewt  \\\n0            0          1           1                0         0           1   \n1            0          1           1                0         0           1   \n2            0          0           1                0         0           0   \n3            0          1           1                1         0           1   \n4            0          0           0                0         0           0   \n..         ...        ...         ...              ...       ...         ...   \n183          0          1           0                0         0           0   \n184          1          1           1                1         0           1   \n185          1          1           1                1         0           1   \n186          0          1           1                0         0           0   \n187          0          1           1                0         0           0   \n\n     greatCreastedNewt  \n0                    0  \n1                    0  \n2                    0  \n3                    1  \n4                    0  \n..                 ...  \n183                  0  \n184                  0  \n185                  0  \n186                  0  \n187                  0  \n\n[188 rows x 22 columns]",
      "text/html": "<div>\n<style scoped>\n    .dataframe tbody tr th:only-of-type {\n        vertical-align: middle;\n    }\n\n    .dataframe tbody tr th {\n        vertical-align: top;\n    }\n\n    .dataframe thead th {\n        text-align: right;\n    }\n</style>\n<table border=\"1\" class=\"dataframe\">\n  <thead>\n    <tr style=\"text-align: right;\">\n      <th></th>\n      <th>Motorway</th>\n      <th>SR</th>\n      <th>NR</th>\n      <th>TR</th>\n      <th>VR</th>\n      <th>SUR1</th>\n      <th>SUR2</th>\n      <th>SUR3</th>\n      <th>UR</th>\n      <th>FR</th>\n      <th>...</th>\n      <th>BR</th>\n      <th>MR</th>\n      <th>CR</th>\n      <th>GreenFrog</th>\n      <th>BrownFrog</th>\n      <th>CommonToad</th>\n      <th>FireBelliedToad</th>\n      <th>TreeFrog</th>\n      <th>CommonNewt</th>\n      <th>greatCreastedNewt</th>\n    </tr>\n  </thead>\n  <tbody>\n    <tr>\n      <th>0</th>\n      <td>A1</td>\n      <td>700</td>\n      <td>1</td>\n      <td>5</td>\n      <td>1</td>\n      <td>10</td>\n      <td>6</td>\n      <td>10</td>\n      <td>3</td>\n      <td>1</td>\n      <td>...</td>\n      <td>1</td>\n      <td>0</td>\n      <td>1</td>\n      <td>0</td>\n      <td>1</td>\n      <td>1</td>\n      <td>0</td>\n      <td>0</td>\n      <td>1</td>\n      <td>0</td>\n    </tr>\n    <tr>\n      <th>1</th>\n      <td>A1</td>\n      <td>200</td>\n      <td>1</td>\n      <td>5</td>\n      <td>1</td>\n      <td>10</td>\n      <td>6</td>\n      <td>10</td>\n      <td>3</td>\n      <td>4</td>\n      <td>...</td>\n      <td>1</td>\n      <td>0</td>\n      <td>1</td>\n      <td>0</td>\n      <td>1</td>\n      <td>1</td>\n      <td>0</td>\n      <td>0</td>\n      <td>1</td>\n      <td>0</td>\n    </tr>\n    <tr>\n      <th>2</th>\n      <td>A1</td>\n      <td>300</td>\n      <td>1</td>\n      <td>5</td>\n      <td>0</td>\n      <td>6</td>\n      <td>10</td>\n      <td>2</td>\n      <td>3</td>\n      <td>4</td>\n      <td>...</td>\n      <td>0</td>\n      <td>0</td>\n      <td>1</td>\n      <td>0</td>\n      <td>0</td>\n      <td>1</td>\n      <td>0</td>\n      <td>0</td>\n      <td>0</td>\n      <td>0</td>\n    </tr>\n    <tr>\n      <th>3</th>\n      <td>A1</td>\n      <td>600</td>\n      <td>2</td>\n      <td>1</td>\n      <td>4</td>\n      <td>10</td>\n      <td>2</td>\n      <td>6</td>\n      <td>0</td>\n      <td>0</td>\n      <td>...</td>\n      <td>5</td>\n      <td>0</td>\n      <td>1</td>\n      <td>0</td>\n      <td>1</td>\n      <td>1</td>\n      <td>1</td>\n      <td>0</td>\n      <td>1</td>\n      <td>1</td>\n    </tr>\n    <tr>\n      <th>4</th>\n      <td>A1</td>\n      <td>200</td>\n      <td>1</td>\n      <td>5</td>\n      <td>1</td>\n      <td>6</td>\n      <td>6</td>\n      <td>10</td>\n      <td>1</td>\n      <td>0</td>\n      <td>...</td>\n      <td>0</td>\n      <td>0</td>\n      <td>1</td>\n      <td>0</td>\n      <td>0</td>\n      <td>0</td>\n      <td>0</td>\n      <td>0</td>\n      <td>0</td>\n      <td>0</td>\n    </tr>\n    <tr>\n      <th>...</th>\n      <td>...</td>\n      <td>...</td>\n      <td>...</td>\n      <td>...</td>\n      <td>...</td>\n      <td>...</td>\n      <td>...</td>\n      <td>...</td>\n      <td>...</td>\n      <td>...</td>\n      <td>...</td>\n      <td>...</td>\n      <td>...</td>\n      <td>...</td>\n      <td>...</td>\n      <td>...</td>\n      <td>...</td>\n      <td>...</td>\n      <td>...</td>\n      <td>...</td>\n      <td>...</td>\n    </tr>\n    <tr>\n      <th>183</th>\n      <td>S52</td>\n      <td>2300</td>\n      <td>1</td>\n      <td>12</td>\n      <td>3</td>\n      <td>2</td>\n      <td>2</td>\n      <td>1</td>\n      <td>0</td>\n      <td>0</td>\n      <td>...</td>\n      <td>1</td>\n      <td>0</td>\n      <td>1</td>\n      <td>0</td>\n      <td>1</td>\n      <td>0</td>\n      <td>0</td>\n      <td>0</td>\n      <td>0</td>\n      <td>0</td>\n    </tr>\n    <tr>\n      <th>184</th>\n      <td>S52</td>\n      <td>300</td>\n      <td>1</td>\n      <td>14</td>\n      <td>2</td>\n      <td>7</td>\n      <td>10</td>\n      <td>2</td>\n      <td>0</td>\n      <td>0</td>\n      <td>...</td>\n      <td>5</td>\n      <td>0</td>\n      <td>1</td>\n      <td>1</td>\n      <td>1</td>\n      <td>1</td>\n      <td>1</td>\n      <td>0</td>\n      <td>1</td>\n      <td>0</td>\n    </tr>\n    <tr>\n      <th>185</th>\n      <td>S52</td>\n      <td>500</td>\n      <td>1</td>\n      <td>1</td>\n      <td>4</td>\n      <td>1</td>\n      <td>10</td>\n      <td>2</td>\n      <td>0</td>\n      <td>0</td>\n      <td>...</td>\n      <td>5</td>\n      <td>0</td>\n      <td>1</td>\n      <td>1</td>\n      <td>1</td>\n      <td>1</td>\n      <td>1</td>\n      <td>0</td>\n      <td>1</td>\n      <td>0</td>\n    </tr>\n    <tr>\n      <th>186</th>\n      <td>S52</td>\n      <td>300</td>\n      <td>1</td>\n      <td>12</td>\n      <td>3</td>\n      <td>2</td>\n      <td>1</td>\n      <td>6</td>\n      <td>0</td>\n      <td>0</td>\n      <td>...</td>\n      <td>0</td>\n      <td>0</td>\n      <td>1</td>\n      <td>0</td>\n      <td>1</td>\n      <td>1</td>\n      <td>0</td>\n      <td>0</td>\n      <td>0</td>\n      <td>0</td>\n    </tr>\n    <tr>\n      <th>187</th>\n      <td>S52</td>\n      <td>300</td>\n      <td>1</td>\n      <td>12</td>\n      <td>3</td>\n      <td>2</td>\n      <td>6</td>\n      <td>10</td>\n      <td>0</td>\n      <td>0</td>\n      <td>...</td>\n      <td>1</td>\n      <td>0</td>\n      <td>1</td>\n      <td>0</td>\n      <td>1</td>\n      <td>1</td>\n      <td>0</td>\n      <td>0</td>\n      <td>0</td>\n      <td>0</td>\n    </tr>\n  </tbody>\n</table>\n<p>188 rows × 22 columns</p>\n</div>"
     },
     "execution_count": 43,
     "metadata": {},
     "output_type": "execute_result"
    }
   ],
   "source": [
    "def clean_dataset(dataframe: pd.DataFrame) -> pd.DataFrame:\n",
    "\tdataframe = dataframe.replace(\"?\", np.nan)\n",
    "\tdataframe = dataframe[dataframe[\"Motorway\"].notna()]\n",
    "\tdataframe = dataframe[dataframe[\"SR\"].notna()]\n",
    "\tdataframe = dataframe[dataframe[\"NR\"].notna()]\n",
    "\tdataframe = dataframe[dataframe[\"TR\"].notna()]\n",
    "\tdataframe = dataframe[dataframe[\"VR\"].notna()]\n",
    "\tdataframe = dataframe[dataframe[\"SUR1\"].notna()]\n",
    "\tdataframe = dataframe[dataframe[\"SUR2\"].notna()]\n",
    "\tdataframe = dataframe[dataframe[\"SUR3\"].notna()]\n",
    "\tdataframe = dataframe[dataframe[\"UR\"].notna()]\n",
    "\tdataframe = dataframe[dataframe[\"FR\"].notna()]\n",
    "\tdataframe = dataframe[dataframe[\"OR\"].notna()]\n",
    "\tdataframe = dataframe[dataframe[\"RR\"].notna()]\n",
    "\tdataframe = dataframe[dataframe[\"BR\"].notna()]\n",
    "\tdataframe = dataframe[dataframe[\"MR\"].notna()]\n",
    "\tdataframe = dataframe[dataframe[\"CR\"].notna()]\n",
    "\tdataframe = dataframe[dataframe[\"GreenFrog\"].notna()]\n",
    "\tdataframe = dataframe[dataframe[\"BrownFrog\"].notna()]\n",
    "\tdataframe = dataframe[dataframe[\"CommonToad\"].notna()]\n",
    "\tdataframe = dataframe[dataframe[\"FireBelliedToad\"].notna()]\n",
    "\tdataframe = dataframe[dataframe[\"TreeFrog\"].notna()]\n",
    "\tdataframe = dataframe[dataframe[\"CommonNewt\"].notna()]\n",
    "\tdataframe = dataframe[dataframe[\"greatCreastedNewt\"].notna()]\n",
    "\treturn dataframe.reset_index(drop=True)\n",
    "\n",
    "dataframe: pd.DataFrame = load_dataset()\n",
    "\n",
    "cleaned_dataframe = clean_dataset(dataframe)\n",
    "cleaned_dataframe\n"
   ]
  },
  {
   "cell_type": "markdown",
   "id": "27abc3f7",
   "metadata": {},
   "source": [
    "# Splitting"
   ]
  },
  {
   "cell_type": "code",
   "execution_count": 44,
   "id": "afd674a0",
   "metadata": {},
   "outputs": [
    {
     "data": {
      "text/plain": "(    Motorway    SR  NR  TR  VR  SUR1  SUR2  SUR3  UR  FR  ...  RR  BR  MR  CR  \\\n 0        S52   300   1  15   3    10    10    10   0   0  ...   9   9   0   1   \n 1        S52  8250   1   1   3     6     2    10   0   0  ...   1   2   0   1   \n 2         A1   300   1   1   2     7     2    10   0   0  ...   5   5   2   1   \n 3         A1  1700   1   1   1     2     6    10   0   1  ...   2   2   2   1   \n 4         A1   200   1   5   1     6     6    10   1   0  ...   0   0   0   1   \n ..       ...   ...  ..  ..  ..   ...   ...   ...  ..  ..  ...  ..  ..  ..  ..   \n 115      S52   300   1  15   1     1    10     6   0   0  ...   5   5   0   1   \n 116       A1    50   1   1   2     2     7    10   0   0  ...   5   5   0   1   \n 117      S52   350   1   1   2    10     1     6   0   0  ...   1   1   0   1   \n 118      S52  1000   2   1   3     2     6     1   0   0  ...   0   1   0   1   \n 119      S52   300   1  15   1     1     1     9   0   0  ...   0   1   0   1   \n \n      GreenFrog  BrownFrog  CommonToad  FireBelliedToad  TreeFrog  CommonNewt  \n 0            0          1           1                0         1           0  \n 1            1          1           1                1         1           1  \n 2            1          0           0                0         0           1  \n 3            1          1           1                0         0           0  \n 4            0          0           0                0         0           0  \n ..         ...        ...         ...              ...       ...         ...  \n 115          1          0           0                1         0           0  \n 116          1          1           1                1         0           0  \n 117          1          1           1                1         1           1  \n 118          1          1           1                1         1           1  \n 119          0          1           0                0         0           0  \n \n [120 rows x 21 columns],\n 0      0\n 1      1\n 2      0\n 3      0\n 4      0\n       ..\n 115    0\n 116    0\n 117    0\n 118    1\n 119    0\n Name: greatCreastedNewt, Length: 120, dtype: int64,\n    Motorway      SR  NR  TR  VR  SUR1  SUR2  SUR3  UR  FR  ...  RR  BR  MR  \\\n 0        A1    1000   1   1   3     2     1     9   0   0  ...   2   5   0   \n 1        A1     100   1   5   1     7     2     6   3   0  ...   2   1   0   \n 2        A1    4000   1   1   3     1     1     2   0   0  ...   5   5   0   \n 3       S52     300   1   1   3     2     1     6   0   0  ...   2   1   0   \n 4        A1    1900   7  12   4     2     6     7   0   0  ...   5   5   0   \n 5       S52    1800   1   1   0    10     1     6   3   2  ...   1   2   0   \n 6        A1    1000   1  12   4     2     2     1   0   0  ...   5   9   0   \n 7       S52     300   1  14   1    10     6     2   0   0  ...   1   1   0   \n 8       S52     600   2   1   1     1    10     6   3   1  ...   1   0   0   \n 9        A1     300   1   1   1     2    10    10   0   0  ...   2   2   0   \n 10       A1    9100   1   1   0     7    10     2   3   3  ...   5   5   0   \n 11       A1     100   1  11   4     2     6     7   0   0  ...   5   5   0   \n 12       A1    7000   1   1   1     2     6    10   3   3  ...   1   5   0   \n 13       A1     600   1   1   2     7     1    10   0   0  ...   2   2   0   \n 14      S52     350   1   1   0     2     1    10   3   3  ...   1   1   0   \n 15      S52  500000   9   1   3    10     6     2   3   3  ...   1   1   0   \n 16       A1     200   1  12   4     2     7     6   0   0  ...   1   0   0   \n 17      S52    9000   3   1   2    10    10    10   0   1  ...   9   9   0   \n 18       A1     300   1  14   3     7     2     1   0   0  ...   5   5   0   \n 19       A1     400   1   1   2     1     7     6   0   0  ...   0   1   0   \n 20      S52     300   1  12   3     2     1     6   0   0  ...   1   0   0   \n 21      S52     100   1   1   1     1     7    10   0   0  ...   9   9   0   \n 22       A1   40000   1   1   1     2     2     6   3   2  ...   5   0   0   \n 23       A1     100   1   1   2     2     6    10   0   0  ...   1   1   0   \n 24       A1     200   1   5   1    10     6    10   3   4  ...   1   1   0   \n 25      S52      50   1   1   1     6    10    10   0   0  ...   0   0   0   \n 26      S52    6300   3   1   0     7     1     5   0   0  ...   2   1   0   \n 27       A1    2500   1   1   3    10     2     6   0   1  ...   0   1   0   \n 28      S52     600   1   1   4     9     2    10   0   0  ...   0   0   0   \n 29       A1     400   1   5   1     6     2    10   1   0  ...   2   0   0   \n \n     CR  GreenFrog  BrownFrog  CommonToad  FireBelliedToad  TreeFrog  \\\n 0    1          0          0           0                0         1   \n 1    1          1          0           0                0         0   \n 2    1          1          1           1                0         0   \n 3    1          1          1           0                0         0   \n 4    1          1          1           0                0         1   \n 5    1          1          1           1                1         1   \n 6    1          0          1           0                0         0   \n 7    1          0          1           0                0         0   \n 8    1          1          1           1                0         1   \n 9    1          0          1           1                0         0   \n 10   1          1          0           0                0         0   \n 11   1          0          0           1                0         1   \n 12   1          1          0           1                0         0   \n 13   1          0          0           0                0         1   \n 14   1          1          1           1                1         1   \n 15   1          1          1           1                1         1   \n 16   1          0          1           1                0         0   \n 17   1          1          1           1                0         1   \n 18   1          1          1           1                0         0   \n 19   1          0          1           0                0         0   \n 20   1          0          1           1                0         0   \n 21   1          0          1           1                1         0   \n 22   1          1          1           0                1         0   \n 23   1          0          1           0                0         0   \n 24   1          0          1           1                0         0   \n 25   1          0          1           1                0         1   \n 26   1          1          1           1                0         0   \n 27   1          1          0           1                0         0   \n 28   1          0          1           0                1         0   \n 29   1          0          0           1                0         1   \n \n     CommonNewt  \n 0            0  \n 1            0  \n 2            0  \n 3            0  \n 4            1  \n 5            1  \n 6            0  \n 7            0  \n 8            1  \n 9            0  \n 10           0  \n 11           0  \n 12           0  \n 13           0  \n 14           1  \n 15           1  \n 16           0  \n 17           0  \n 18           0  \n 19           1  \n 20           0  \n 21           0  \n 22           1  \n 23           0  \n 24           1  \n 25           0  \n 26           0  \n 27           1  \n 28           0  \n 29           0  \n \n [30 rows x 21 columns],\n 0     0\n 1     0\n 2     0\n 3     0\n 4     0\n 5     1\n 6     0\n 7     0\n 8     1\n 9     0\n 10    0\n 11    0\n 12    0\n 13    0\n 14    0\n 15    1\n 16    0\n 17    0\n 18    0\n 19    0\n 20    0\n 21    0\n 22    0\n 23    0\n 24    0\n 25    0\n 26    0\n 27    0\n 28    0\n 29    1\n Name: greatCreastedNewt, dtype: int64,\n    Motorway     SR  NR  TR  VR  SUR1  SUR2  SUR3  UR  FR  ...  RR  BR  MR  CR  \\\n 0       S52   2300   1  12   3     2     2     1   0   0  ...   2   1   0   1   \n 1       S52   2300   1   1   1     2     6    10   3   3  ...   1   0   0   1   \n 2        A1   3800   6   1   2     6     6     2   3   1  ...   0   0   0   1   \n 3        A1    300   1  12   4     1     1     1   0   0  ...   5  10   0   1   \n 4        A1    300   1  12   4     2     2     7   0   0  ...   2   5   0   1   \n 5       S52   8300   2   1   2     1    10     6   3   3  ...   2   2   0   1   \n 6        A1  25000   5   1   0     2     9     7   3   4  ...   0   0   0   1   \n 7        A1    500   2   1   0     2     9     1   3   3  ...   1   2   0   1   \n 8        A1    300   1  15   1     1     1     9   0   0  ...   0   5   0   1   \n 9       S52   2500   2   1   3     2     6    10   0   0  ...   0   0   0   1   \n 10       A1   9000   2   2   0    10     1     7   1   2  ...   1   1   0   1   \n 11      S52    300   1  15   1    10    10     6   0   0  ...   0   2   0   1   \n 12       A1   2500   1   1   3     7     2     9   0   0  ...   0   2   0   1   \n 13      S52   2300   1   1   2     1     1     6   0   0  ...   2   1   0   1   \n 14       A1    300   1  14   3     7     2     1   0   0  ...   5   5   0   1   \n 15       A1    200   1  12   4     7     2     6   0   0  ...   0   0   0   1   \n 16      S52    300   1  15   1     1    10     6   1   0  ...   1   1   0   1   \n 17      S52    300   1  12   3     1     2    10   0   0  ...   1   2   0   1   \n 18       A1   2100   1   1   3     2     9     2   0   0  ...   0   1   0   1   \n 19      S52    200   1   5   2    10     6     1   3   0  ...   1   1   0   1   \n 20       A1    300   1  11   3     1     2    10   0   0  ...  10  10   0   1   \n 21      S52    200   1   1   1     6     6     2   0   0  ...   0   0   0   1   \n 22      S52    300   1   1   0     6     9     2   3   3  ...   0   0   0   1   \n 23       A1   7000   6   1   1     6    10     2   3   4  ...   0   0   0   1   \n 24       A1    300   1   1   4     1     2     6   0   0  ...   2   2   0   1   \n 25      S52   2500   1   1   4     2     6     7   0   0  ...   5   1   0   1   \n 26       A1    500   1   5   0     6     6    10   1   2  ...   0   0   0   2   \n 27      S52    300   1  15   1     1     1    10   0   0  ...   9   5   0   1   \n 28       A1   4500   1   1   1     2     2     9   3   2  ...   9   9   0   1   \n 29      S52  29000   3   1   2    10     6     1   3   3  ...   2   0   0   1   \n 30      S52  22000   1   1   4     6     9     6   0   0  ...   0   0   0   1   \n 31       A1    200   1   1   4     2     7     1   0   0  ...   2   1   0   1   \n 32      S52  26000   3   1   1     1     2    10   3   4  ...   1   2   0   1   \n 33       A1    500   1  12   4     7     1     1   0   0  ...  10  10   0   1   \n 34      S52    300   1  15   1     1     1    10   0   0  ...   5   5   0   1   \n 35      S52    500   1   1   3    10     1     6   0   0  ...   0   1   0   1   \n 36       A1    100   1  12   4     7     2     1   0   0  ...   5   5   0   1   \n 37      S52   3400   2   2   0     6     7    10   0   0  ...   1   1   0   1   \n \n     GreenFrog  BrownFrog  CommonToad  FireBelliedToad  TreeFrog  CommonNewt  \n 0           0          1           0                0         0           0  \n 1           1          1           1                0         1           0  \n 2           1          0           1                0         1           0  \n 3           0          1           1                0         1           0  \n 4           0          1           0                0         0           0  \n 5           1          1           1                0         1           0  \n 6           1          0           0                1         0           0  \n 7           0          0           1                0         0           0  \n 8           0          1           1                0         0           0  \n 9           1          1           1                1         0           1  \n 10          1          0           1                0         0           0  \n 11          0          0           0                0         0           0  \n 12          0          1           0                0         0           0  \n 13          1          1           1                0         1           1  \n 14          1          1           1                0         1           1  \n 15          0          1           0                0         0           0  \n 16          0          1           0                0         0           0  \n 17          0          1           0                0         0           0  \n 18          0          0           0                0         1           0  \n 19          1          1           1                0         0           0  \n 20          1          1           0                1         0           0  \n 21          0          1           1                1         1           1  \n 22          1          1           1                0         1           0  \n 23          1          0           1                0         0           0  \n 24          0          1           0                0         0           0  \n 25          1          1           1                0         1           1  \n 26          0          0           1                0         0           0  \n 27          0          1           0                0         0           0  \n 28          1          1           1                0         1           0  \n 29          1          1           1                1         1           1  \n 30          1          1           1                1         1           0  \n 31          1          0           0                0         0           0  \n 32          1          1           1                1         1           1  \n 33          1          0           1                0         0           1  \n 34          0          1           0                0         0           0  \n 35          1          1           1                1         1           1  \n 36          0          1           0                0         0           0  \n 37          1          0           0                0         0           1  \n \n [38 rows x 21 columns],\n 0     0\n 1     0\n 2     0\n 3     0\n 4     0\n 5     0\n 6     0\n 7     0\n 8     0\n 9     0\n 10    0\n 11    0\n 12    0\n 13    0\n 14    0\n 15    0\n 16    0\n 17    0\n 18    0\n 19    0\n 20    0\n 21    1\n 22    0\n 23    0\n 24    0\n 25    0\n 26    0\n 27    0\n 28    0\n 29    1\n 30    0\n 31    0\n 32    0\n 33    0\n 34    0\n 35    0\n 36    0\n 37    0\n Name: greatCreastedNewt, dtype: int64)"
     },
     "execution_count": 44,
     "metadata": {},
     "output_type": "execute_result"
    }
   ],
   "source": [
    "def split_data(dataframe: pd.DataFrame):\n",
    "\ty = dataframe[\"greatCreastedNewt\"]\n",
    "\tX = dataframe.drop(\"greatCreastedNewt\", axis=1)\n",
    "\n",
    "\tX_train, X_test, y_train, y_test = train_test_split(X, y, test_size=0.2, random_state=42)\n",
    "\n",
    "\tX_train, X_val, y_train, y_val = train_test_split(X_train, y_train, test_size=0.2, random_state=42)\n",
    "\n",
    "\treturn X_train.reset_index(drop=True), y_train.reset_index(drop=True), X_val.reset_index(drop=True), y_val.reset_index(drop=True), X_test.reset_index(drop=True), y_test.reset_index(drop=True)\n",
    "\n",
    "dataframe: pd.DataFrame = load_dataset()\n",
    "\n",
    "cleaned_dataframe = clean_dataset(dataframe)\n",
    "\n",
    "X_train, y_train, X_val, y_val, X_test, y_test = split_data(cleaned_dataframe)\n",
    "X_train, y_train, X_val, y_val, X_test, y_test"
   ]
  },
  {
   "cell_type": "markdown",
   "id": "9e869ced",
   "metadata": {},
   "source": [
    "# Transformation"
   ]
  },
  {
   "cell_type": "code",
   "execution_count": 45,
   "id": "db680212",
   "metadata": {},
   "outputs": [
    {
     "data": {
      "text/plain": "           SR        NR        TR    VR      SUR1  SUR2  SUR3        UR    FR  \\\n0    0.000750  0.000000  1.000000  0.75  0.692308   0.9   0.9  0.000000  0.00   \n1    0.022835  0.000000  0.000000  0.75  0.384615   0.1   0.9  0.000000  0.00   \n2    0.000750  0.000000  0.000000  0.50  0.461538   0.1   0.9  0.000000  0.00   \n3    0.004639  0.000000  0.000000  0.25  0.076923   0.5   0.9  0.000000  0.25   \n4    0.000472  0.000000  0.285714  0.25  0.384615   0.5   0.9  0.333333  0.00   \n..        ...       ...       ...   ...       ...   ...   ...       ...   ...   \n115  0.000750  0.000000  1.000000  0.25  0.000000   0.9   0.5  0.000000  0.00   \n116  0.000056  0.000000  0.000000  0.50  0.076923   0.6   0.9  0.000000  0.00   \n117  0.000889  0.000000  0.000000  0.50  0.692308   0.0   0.5  0.000000  0.00   \n118  0.002695  0.090909  0.000000  0.75  0.076923   0.5   0.0  0.000000  0.00   \n119  0.000750  0.000000  1.000000  0.25  0.000000   0.0   0.8  0.000000  0.00   \n\n           OR  ...   MR   CR  GreenFrog  BrownFrog  CommonToad  \\\n0    1.000000  ...  0.0  0.0      False       True        True   \n1    1.000000  ...  0.0  0.0       True       True        True   \n2    1.000000  ...  1.0  0.0       True      False       False   \n3    1.000000  ...  1.0  0.0       True       True        True   \n4    0.333333  ...  0.0  0.0      False      False       False   \n..        ...  ...  ...  ...        ...        ...         ...   \n115  1.000000  ...  0.0  0.0       True      False       False   \n116  1.000000  ...  0.0  0.0       True       True        True   \n117  1.000000  ...  0.0  0.0       True       True        True   \n118  1.000000  ...  0.0  0.0       True       True        True   \n119  1.000000  ...  0.0  0.0      False       True       False   \n\n     FireBelliedToad  TreeFrog  CommonNewt  Motorway_A1  Motorway_S52  \n0              False      True       False          0.0           1.0  \n1               True      True        True          0.0           1.0  \n2              False     False        True          1.0           0.0  \n3              False     False       False          1.0           0.0  \n4              False     False       False          1.0           0.0  \n..               ...       ...         ...          ...           ...  \n115             True     False       False          0.0           1.0  \n116             True     False       False          1.0           0.0  \n117             True      True        True          0.0           1.0  \n118             True      True        True          0.0           1.0  \n119            False     False       False          0.0           1.0  \n\n[120 rows x 22 columns]",
      "text/html": "<div>\n<style scoped>\n    .dataframe tbody tr th:only-of-type {\n        vertical-align: middle;\n    }\n\n    .dataframe tbody tr th {\n        vertical-align: top;\n    }\n\n    .dataframe thead th {\n        text-align: right;\n    }\n</style>\n<table border=\"1\" class=\"dataframe\">\n  <thead>\n    <tr style=\"text-align: right;\">\n      <th></th>\n      <th>SR</th>\n      <th>NR</th>\n      <th>TR</th>\n      <th>VR</th>\n      <th>SUR1</th>\n      <th>SUR2</th>\n      <th>SUR3</th>\n      <th>UR</th>\n      <th>FR</th>\n      <th>OR</th>\n      <th>...</th>\n      <th>MR</th>\n      <th>CR</th>\n      <th>GreenFrog</th>\n      <th>BrownFrog</th>\n      <th>CommonToad</th>\n      <th>FireBelliedToad</th>\n      <th>TreeFrog</th>\n      <th>CommonNewt</th>\n      <th>Motorway_A1</th>\n      <th>Motorway_S52</th>\n    </tr>\n  </thead>\n  <tbody>\n    <tr>\n      <th>0</th>\n      <td>0.000750</td>\n      <td>0.000000</td>\n      <td>1.000000</td>\n      <td>0.75</td>\n      <td>0.692308</td>\n      <td>0.9</td>\n      <td>0.9</td>\n      <td>0.000000</td>\n      <td>0.00</td>\n      <td>1.000000</td>\n      <td>...</td>\n      <td>0.0</td>\n      <td>0.0</td>\n      <td>False</td>\n      <td>True</td>\n      <td>True</td>\n      <td>False</td>\n      <td>True</td>\n      <td>False</td>\n      <td>0.0</td>\n      <td>1.0</td>\n    </tr>\n    <tr>\n      <th>1</th>\n      <td>0.022835</td>\n      <td>0.000000</td>\n      <td>0.000000</td>\n      <td>0.75</td>\n      <td>0.384615</td>\n      <td>0.1</td>\n      <td>0.9</td>\n      <td>0.000000</td>\n      <td>0.00</td>\n      <td>1.000000</td>\n      <td>...</td>\n      <td>0.0</td>\n      <td>0.0</td>\n      <td>True</td>\n      <td>True</td>\n      <td>True</td>\n      <td>True</td>\n      <td>True</td>\n      <td>True</td>\n      <td>0.0</td>\n      <td>1.0</td>\n    </tr>\n    <tr>\n      <th>2</th>\n      <td>0.000750</td>\n      <td>0.000000</td>\n      <td>0.000000</td>\n      <td>0.50</td>\n      <td>0.461538</td>\n      <td>0.1</td>\n      <td>0.9</td>\n      <td>0.000000</td>\n      <td>0.00</td>\n      <td>1.000000</td>\n      <td>...</td>\n      <td>1.0</td>\n      <td>0.0</td>\n      <td>True</td>\n      <td>False</td>\n      <td>False</td>\n      <td>False</td>\n      <td>False</td>\n      <td>True</td>\n      <td>1.0</td>\n      <td>0.0</td>\n    </tr>\n    <tr>\n      <th>3</th>\n      <td>0.004639</td>\n      <td>0.000000</td>\n      <td>0.000000</td>\n      <td>0.25</td>\n      <td>0.076923</td>\n      <td>0.5</td>\n      <td>0.9</td>\n      <td>0.000000</td>\n      <td>0.25</td>\n      <td>1.000000</td>\n      <td>...</td>\n      <td>1.0</td>\n      <td>0.0</td>\n      <td>True</td>\n      <td>True</td>\n      <td>True</td>\n      <td>False</td>\n      <td>False</td>\n      <td>False</td>\n      <td>1.0</td>\n      <td>0.0</td>\n    </tr>\n    <tr>\n      <th>4</th>\n      <td>0.000472</td>\n      <td>0.000000</td>\n      <td>0.285714</td>\n      <td>0.25</td>\n      <td>0.384615</td>\n      <td>0.5</td>\n      <td>0.9</td>\n      <td>0.333333</td>\n      <td>0.00</td>\n      <td>0.333333</td>\n      <td>...</td>\n      <td>0.0</td>\n      <td>0.0</td>\n      <td>False</td>\n      <td>False</td>\n      <td>False</td>\n      <td>False</td>\n      <td>False</td>\n      <td>False</td>\n      <td>1.0</td>\n      <td>0.0</td>\n    </tr>\n    <tr>\n      <th>...</th>\n      <td>...</td>\n      <td>...</td>\n      <td>...</td>\n      <td>...</td>\n      <td>...</td>\n      <td>...</td>\n      <td>...</td>\n      <td>...</td>\n      <td>...</td>\n      <td>...</td>\n      <td>...</td>\n      <td>...</td>\n      <td>...</td>\n      <td>...</td>\n      <td>...</td>\n      <td>...</td>\n      <td>...</td>\n      <td>...</td>\n      <td>...</td>\n      <td>...</td>\n      <td>...</td>\n    </tr>\n    <tr>\n      <th>115</th>\n      <td>0.000750</td>\n      <td>0.000000</td>\n      <td>1.000000</td>\n      <td>0.25</td>\n      <td>0.000000</td>\n      <td>0.9</td>\n      <td>0.5</td>\n      <td>0.000000</td>\n      <td>0.00</td>\n      <td>1.000000</td>\n      <td>...</td>\n      <td>0.0</td>\n      <td>0.0</td>\n      <td>True</td>\n      <td>False</td>\n      <td>False</td>\n      <td>True</td>\n      <td>False</td>\n      <td>False</td>\n      <td>0.0</td>\n      <td>1.0</td>\n    </tr>\n    <tr>\n      <th>116</th>\n      <td>0.000056</td>\n      <td>0.000000</td>\n      <td>0.000000</td>\n      <td>0.50</td>\n      <td>0.076923</td>\n      <td>0.6</td>\n      <td>0.9</td>\n      <td>0.000000</td>\n      <td>0.00</td>\n      <td>1.000000</td>\n      <td>...</td>\n      <td>0.0</td>\n      <td>0.0</td>\n      <td>True</td>\n      <td>True</td>\n      <td>True</td>\n      <td>True</td>\n      <td>False</td>\n      <td>False</td>\n      <td>1.0</td>\n      <td>0.0</td>\n    </tr>\n    <tr>\n      <th>117</th>\n      <td>0.000889</td>\n      <td>0.000000</td>\n      <td>0.000000</td>\n      <td>0.50</td>\n      <td>0.692308</td>\n      <td>0.0</td>\n      <td>0.5</td>\n      <td>0.000000</td>\n      <td>0.00</td>\n      <td>1.000000</td>\n      <td>...</td>\n      <td>0.0</td>\n      <td>0.0</td>\n      <td>True</td>\n      <td>True</td>\n      <td>True</td>\n      <td>True</td>\n      <td>True</td>\n      <td>True</td>\n      <td>0.0</td>\n      <td>1.0</td>\n    </tr>\n    <tr>\n      <th>118</th>\n      <td>0.002695</td>\n      <td>0.090909</td>\n      <td>0.000000</td>\n      <td>0.75</td>\n      <td>0.076923</td>\n      <td>0.5</td>\n      <td>0.0</td>\n      <td>0.000000</td>\n      <td>0.00</td>\n      <td>1.000000</td>\n      <td>...</td>\n      <td>0.0</td>\n      <td>0.0</td>\n      <td>True</td>\n      <td>True</td>\n      <td>True</td>\n      <td>True</td>\n      <td>True</td>\n      <td>True</td>\n      <td>0.0</td>\n      <td>1.0</td>\n    </tr>\n    <tr>\n      <th>119</th>\n      <td>0.000750</td>\n      <td>0.000000</td>\n      <td>1.000000</td>\n      <td>0.25</td>\n      <td>0.000000</td>\n      <td>0.0</td>\n      <td>0.8</td>\n      <td>0.000000</td>\n      <td>0.00</td>\n      <td>1.000000</td>\n      <td>...</td>\n      <td>0.0</td>\n      <td>0.0</td>\n      <td>False</td>\n      <td>True</td>\n      <td>False</td>\n      <td>False</td>\n      <td>False</td>\n      <td>False</td>\n      <td>0.0</td>\n      <td>1.0</td>\n    </tr>\n  </tbody>\n</table>\n<p>120 rows × 22 columns</p>\n</div>"
     },
     "execution_count": 45,
     "metadata": {},
     "output_type": "execute_result"
    }
   ],
   "source": [
    "def transform_data(X_train, X_val, X_test):\n",
    "\tone_hot_encoder = OneHotEncoder( categories=[['A1', 'S52']])\n",
    "\tX_train_encoded_values = one_hot_encoder.fit_transform(X_train[[\"Motorway\"]]).toarray()\n",
    "\tX_val_encoded_values = one_hot_encoder.fit_transform(X_val[[\"Motorway\"]]).toarray()\n",
    "\tX_test_encoded_values = one_hot_encoder.fit_transform(X_test[[\"Motorway\"]]).toarray()\n",
    "\n",
    "\n",
    "\tX_train_encoded = pd.DataFrame(X_train_encoded_values, columns=[f\"Motorway_{x}\" for x in one_hot_encoder.categories_[0]])\n",
    "\tX_val_encoded = pd.DataFrame(X_val_encoded_values, columns=[f\"Motorway_{x}\" for x in one_hot_encoder.categories_[0]])\n",
    "\tX_test_encoded = pd.DataFrame(X_test_encoded_values, columns=[f\"Motorway_{x}\" for x in one_hot_encoder.categories_[0]])\n",
    "\tX_train = X_train.join(X_train_encoded)\n",
    "\tX_val = X_val.join(X_val_encoded)\n",
    "\tX_test = X_test.join(X_test_encoded)\n",
    "\n",
    "\tX_train = X_train.drop(\"Motorway\", axis=1)\n",
    "\tX_val = X_val.drop(\"Motorway\", axis=1)\n",
    "\tX_test = X_test.drop(\"Motorway\", axis=1)\n",
    "\tX_train[\"SR\"] = X_train[\"SR\"].astype(float)\n",
    "\tX_val[\"SR\"] = X_val[\"SR\"].astype(float)\n",
    "\tX_test[\"SR\"] = X_test[\"SR\"].astype(float)\n",
    "\tX_train[[\"SR\"]] = minmax_scale(X_train[[\"SR\"]])\n",
    "\tX_val[[\"SR\"]] = minmax_scale(X_val[[\"SR\"]])\n",
    "\tX_test[[\"SR\"]] = minmax_scale(X_test[[\"SR\"]])\n",
    "\n",
    "\tX_train[\"NR\"] = X_train[\"NR\"].astype(float)\n",
    "\tX_val[\"NR\"] = X_val[\"NR\"].astype(float)\n",
    "\tX_test[\"NR\"] = X_test[\"NR\"].astype(float)\n",
    "\tX_train[[\"NR\"]] = minmax_scale(X_train[[\"NR\"]])\n",
    "\tX_val[[\"NR\"]] = minmax_scale(X_val[[\"NR\"]])\n",
    "\tX_test[[\"NR\"]] = minmax_scale(X_test[[\"NR\"]])\n",
    "\n",
    "\tX_train[\"TR\"] = X_train[\"TR\"].astype(float)\n",
    "\tX_val[\"TR\"] = X_val[\"TR\"].astype(float)\n",
    "\tX_test[\"TR\"] = X_test[\"TR\"].astype(float)\n",
    "\tX_train[[\"TR\"]] = minmax_scale(X_train[[\"TR\"]])\n",
    "\tX_val[[\"TR\"]] = minmax_scale(X_val[[\"TR\"]])\n",
    "\tX_test[[\"TR\"]] = minmax_scale(X_test[[\"TR\"]])\n",
    "\n",
    "\tX_train[\"VR\"] = X_train[\"VR\"].astype(float)\n",
    "\tX_val[\"VR\"] = X_val[\"VR\"].astype(float)\n",
    "\tX_test[\"VR\"] = X_test[\"VR\"].astype(float)\n",
    "\tX_train[[\"VR\"]] = minmax_scale(X_train[[\"VR\"]])\n",
    "\tX_val[[\"VR\"]] = minmax_scale(X_val[[\"VR\"]])\n",
    "\tX_test[[\"VR\"]] = minmax_scale(X_test[[\"VR\"]])\n",
    "\n",
    "\tX_train[\"SUR1\"] = X_train[\"SUR1\"].astype(float)\n",
    "\tX_val[\"SUR1\"] = X_val[\"SUR1\"].astype(float)\n",
    "\tX_test[\"SUR1\"] = X_test[\"SUR1\"].astype(float)\n",
    "\tX_train[[\"SUR1\"]] = minmax_scale(X_train[[\"SUR1\"]])\n",
    "\tX_val[[\"SUR1\"]] = minmax_scale(X_val[[\"SUR1\"]])\n",
    "\tX_test[[\"SUR1\"]] = minmax_scale(X_test[[\"SUR1\"]])\n",
    "\n",
    "\tX_train[\"SUR2\"] = X_train[\"SUR2\"].astype(float)\n",
    "\tX_val[\"SUR2\"] = X_val[\"SUR2\"].astype(float)\n",
    "\tX_test[\"SUR2\"] = X_test[\"SUR2\"].astype(float)\n",
    "\tX_train[[\"SUR2\"]] = minmax_scale(X_train[[\"SUR2\"]])\n",
    "\tX_val[[\"SUR2\"]] = minmax_scale(X_val[[\"SUR2\"]])\n",
    "\tX_test[[\"SUR2\"]] = minmax_scale(X_test[[\"SUR2\"]])\n",
    "\n",
    "\tX_train[\"SUR3\"] = X_train[\"SUR3\"].astype(float)\n",
    "\tX_val[\"SUR3\"] = X_val[\"SUR3\"].astype(float)\n",
    "\tX_test[\"SUR3\"] = X_test[\"SUR3\"].astype(float)\n",
    "\tX_train[[\"SUR3\"]] = minmax_scale(X_train[[\"SUR3\"]])\n",
    "\tX_val[[\"SUR3\"]] = minmax_scale(X_val[[\"SUR3\"]])\n",
    "\tX_test[[\"SUR3\"]] = minmax_scale(X_test[[\"SUR3\"]])\n",
    "\n",
    "\tX_train[\"UR\"] = X_train[\"UR\"].astype(float)\n",
    "\tX_val[\"UR\"] = X_val[\"UR\"].astype(float)\n",
    "\tX_test[\"UR\"] = X_test[\"UR\"].astype(float)\n",
    "\tX_train[[\"UR\"]] = minmax_scale(X_train[[\"UR\"]])\n",
    "\tX_val[[\"UR\"]] = minmax_scale(X_val[[\"UR\"]])\n",
    "\tX_test[[\"UR\"]] = minmax_scale(X_test[[\"UR\"]])\n",
    "\n",
    "\tX_train[\"FR\"] = X_train[\"FR\"].astype(float)\n",
    "\tX_val[\"FR\"] = X_val[\"FR\"].astype(float)\n",
    "\tX_test[\"FR\"] = X_test[\"FR\"].astype(float)\n",
    "\tX_train[[\"FR\"]] = minmax_scale(X_train[[\"FR\"]])\n",
    "\tX_val[[\"FR\"]] = minmax_scale(X_val[[\"FR\"]])\n",
    "\tX_test[[\"FR\"]] = minmax_scale(X_test[[\"FR\"]])\n",
    "\n",
    "\tX_train[\"OR\"] = X_train[\"OR\"].astype(float)\n",
    "\tX_val[\"OR\"] = X_val[\"OR\"].astype(float)\n",
    "\tX_test[\"OR\"] = X_test[\"OR\"].astype(float)\n",
    "\tX_train[[\"OR\"]] = minmax_scale(X_train[[\"OR\"]])\n",
    "\tX_val[[\"OR\"]] = minmax_scale(X_val[[\"OR\"]])\n",
    "\tX_test[[\"OR\"]] = minmax_scale(X_test[[\"OR\"]])\n",
    "\n",
    "\tX_train[\"RR\"] = X_train[\"RR\"].astype(float)\n",
    "\tX_val[\"RR\"] = X_val[\"RR\"].astype(float)\n",
    "\tX_test[\"RR\"] = X_test[\"RR\"].astype(float)\n",
    "\tX_train[[\"RR\"]] = minmax_scale(X_train[[\"RR\"]])\n",
    "\tX_val[[\"RR\"]] = minmax_scale(X_val[[\"RR\"]])\n",
    "\tX_test[[\"RR\"]] = minmax_scale(X_test[[\"RR\"]])\n",
    "\n",
    "\tX_train[\"BR\"] = X_train[\"BR\"].astype(float)\n",
    "\tX_val[\"BR\"] = X_val[\"BR\"].astype(float)\n",
    "\tX_test[\"BR\"] = X_test[\"BR\"].astype(float)\n",
    "\tX_train[[\"BR\"]] = minmax_scale(X_train[[\"BR\"]])\n",
    "\tX_val[[\"BR\"]] = minmax_scale(X_val[[\"BR\"]])\n",
    "\tX_test[[\"BR\"]] = minmax_scale(X_test[[\"BR\"]])\n",
    "\n",
    "\tX_train[\"MR\"] = X_train[\"MR\"].astype(float)\n",
    "\tX_val[\"MR\"] = X_val[\"MR\"].astype(float)\n",
    "\tX_test[\"MR\"] = X_test[\"MR\"].astype(float)\n",
    "\tX_train[[\"MR\"]] = minmax_scale(X_train[[\"MR\"]])\n",
    "\tX_val[[\"MR\"]] = minmax_scale(X_val[[\"MR\"]])\n",
    "\tX_test[[\"MR\"]] = minmax_scale(X_test[[\"MR\"]])\n",
    "\n",
    "\tX_train[\"CR\"] = X_train[\"CR\"].astype(float)\n",
    "\tX_val[\"CR\"] = X_val[\"CR\"].astype(float)\n",
    "\tX_test[\"CR\"] = X_test[\"CR\"].astype(float)\n",
    "\tX_train[[\"CR\"]] = minmax_scale(X_train[[\"CR\"]])\n",
    "\tX_val[[\"CR\"]] = minmax_scale(X_val[[\"CR\"]])\n",
    "\tX_test[[\"CR\"]] = minmax_scale(X_test[[\"CR\"]])\n",
    "\n",
    "\tX_train[\"GreenFrog\"] = X_train[\"GreenFrog\"].map({1: True, 0: False})\n",
    "\tX_val[\"GreenFrog\"] = X_val[\"GreenFrog\"].map({1: True, 0: False})\n",
    "\tX_test[\"GreenFrog\"] = X_test[\"GreenFrog\"].map({1: True, 0: False})\n",
    "\n",
    "\tX_train[\"BrownFrog\"] = X_train[\"BrownFrog\"].map({1: True, 0: False})\n",
    "\tX_val[\"BrownFrog\"] = X_val[\"BrownFrog\"].map({1: True, 0: False})\n",
    "\tX_test[\"BrownFrog\"] = X_test[\"BrownFrog\"].map({1: True, 0: False})\n",
    "\n",
    "\tX_train[\"CommonToad\"] = X_train[\"CommonToad\"].map({1: True, 0: False})\n",
    "\tX_val[\"CommonToad\"] = X_val[\"CommonToad\"].map({1: True, 0: False})\n",
    "\tX_test[\"CommonToad\"] = X_test[\"CommonToad\"].map({1: True, 0: False})\n",
    "\n",
    "\tX_train[\"FireBelliedToad\"] = X_train[\"FireBelliedToad\"].map({1: True, 0: False})\n",
    "\tX_val[\"FireBelliedToad\"] = X_val[\"FireBelliedToad\"].map({1: True, 0: False})\n",
    "\tX_test[\"FireBelliedToad\"] = X_test[\"FireBelliedToad\"].map({1: True, 0: False})\n",
    "\n",
    "\tX_train[\"TreeFrog\"] = X_train[\"TreeFrog\"].map({1: True, 0: False})\n",
    "\tX_val[\"TreeFrog\"] = X_val[\"TreeFrog\"].map({1: True, 0: False})\n",
    "\tX_test[\"TreeFrog\"] = X_test[\"TreeFrog\"].map({1: True, 0: False})\n",
    "\n",
    "\tX_train[\"CommonNewt\"] = X_train[\"CommonNewt\"].map({1: True, 0: False})\n",
    "\tX_val[\"CommonNewt\"] = X_val[\"CommonNewt\"].map({1: True, 0: False})\n",
    "\tX_test[\"CommonNewt\"] = X_test[\"CommonNewt\"].map({1: True, 0: False})\n",
    "\n",
    "\treturn X_train, X_val, X_test\n",
    "\n",
    "dataframe: pd.DataFrame = load_dataset()\n",
    "cleaned_dataframe = clean_dataset(dataframe)\n",
    "X_train, y_train, X_val, y_val, X_test, y_test = split_data(cleaned_dataframe)\n",
    "X_train, X_val, X_test = transform_data(X_train, X_val, X_test)\n",
    "X_train\n"
   ]
  },
  {
   "cell_type": "markdown",
   "id": "4f13e09f",
   "metadata": {},
   "source": [
    "# Mining\n",
    "| Classifier type | Hyper-parameters | Grid name |\n",
    "|------|------|------|\n",
    "| svc_classifier | {'C': [1.0, 2.0]} | grid_search_svc_classifier |\n",
    "| decision_tree_classifier | {'splitter': ['best', 'random'], 'criterion': ['gini', 'entropy'], 'min_samples_split': [10, 12]} | grid_search_decision_tree_classifier |\n",
    "| k_neighbor_classifier | {'n_neighbors': [5, 8]} | grid_search_k_neighbor_classifier |\n",
    "| mlp_classifier | {'solver': ['sgd', 'adam'], 'activation': ['tanh', 'identity']} | grid_search_mlp_classifier |\n",
    "| random_forest_classifier | {'criterion': ['gini', 'entropy'], 'n_estimators': [5, 2, 7]} | grid_search_random_forest_classifier |\n"
   ]
  },
  {
   "cell_type": "code",
   "execution_count": 46,
   "id": "7c78edb4",
   "metadata": {},
   "outputs": [
    {
     "name": "stdout",
     "output_type": "stream",
     "text": [
      "Fitting 1 folds for each of 2 candidates, totalling 2 fits\n",
      "[CV] END ..............................................C=1.0; total time=   0.0s\n",
      "[CV] END ..............................................C=2.0; total time=   0.0s\n"
     ]
    },
    {
     "data": {
      "text/plain": "{'C': 1.0}"
     },
     "execution_count": 46,
     "metadata": {},
     "output_type": "execute_result"
    }
   ],
   "source": [
    "svc_classifier = SVC()\n",
    "\n",
    "split = [-1 if i < len(X_train) else 0 for i in range(X_train.shape[0] + X_val.shape[0])]\n",
    "grid_search_svc_classifier = GridSearchCV(estimator=svc_classifier, param_grid={'C': [1.0, 2.0]}, scoring=\"accuracy\", cv=PredefinedSplit(split), verbose=2)\n",
    "grid_search_svc_classifier.fit(np.concatenate([X_train, X_val]), np.concatenate([y_train, y_val]))\n",
    "grid_search_svc_classifier.best_params_"
   ]
  },
  {
   "cell_type": "code",
   "execution_count": 47,
   "id": "d1d3f545",
   "metadata": {},
   "outputs": [
    {
     "name": "stdout",
     "output_type": "stream",
     "text": [
      "Fitting 1 folds for each of 8 candidates, totalling 8 fits\n",
      "[CV] END criterion=gini, min_samples_split=10, splitter=best; total time=   0.0s\n",
      "[CV] END criterion=gini, min_samples_split=10, splitter=random; total time=   0.0s\n",
      "[CV] END criterion=gini, min_samples_split=12, splitter=best; total time=   0.0s\n",
      "[CV] END criterion=gini, min_samples_split=12, splitter=random; total time=   0.0s\n",
      "[CV] END criterion=entropy, min_samples_split=10, splitter=best; total time=   0.0s\n",
      "[CV] END criterion=entropy, min_samples_split=10, splitter=random; total time=   0.0s\n",
      "[CV] END criterion=entropy, min_samples_split=12, splitter=best; total time=   0.0s\n",
      "[CV] END criterion=entropy, min_samples_split=12, splitter=random; total time=   0.0s\n"
     ]
    },
    {
     "data": {
      "text/plain": "{'criterion': 'entropy', 'min_samples_split': 12, 'splitter': 'random'}"
     },
     "execution_count": 47,
     "metadata": {},
     "output_type": "execute_result"
    }
   ],
   "source": [
    "decision_tree_classifier = DecisionTreeClassifier()\n",
    "\n",
    "split = [-1 if i < len(X_train) else 0 for i in range(X_train.shape[0] + X_val.shape[0])]\n",
    "grid_search_decision_tree_classifier = GridSearchCV(estimator=decision_tree_classifier, param_grid={'splitter': ['best', 'random'], 'criterion': ['gini', 'entropy'], 'min_samples_split': [10, 12]}, scoring=\"accuracy\", cv=PredefinedSplit(split), verbose=2)\n",
    "grid_search_decision_tree_classifier.fit(np.concatenate([X_train, X_val]), np.concatenate([y_train, y_val]))\n",
    "grid_search_decision_tree_classifier.best_params_"
   ]
  },
  {
   "cell_type": "code",
   "execution_count": 48,
   "id": "eeb55403",
   "metadata": {},
   "outputs": [
    {
     "name": "stdout",
     "output_type": "stream",
     "text": [
      "Fitting 1 folds for each of 2 candidates, totalling 2 fits\n",
      "[CV] END ......................................n_neighbors=5; total time=   0.0s\n",
      "[CV] END ......................................n_neighbors=8; total time=   0.0s\n"
     ]
    },
    {
     "data": {
      "text/plain": "{'n_neighbors': 5}"
     },
     "execution_count": 48,
     "metadata": {},
     "output_type": "execute_result"
    }
   ],
   "source": [
    "k_neighbor_classifier = KNeighborsClassifier()\n",
    "\n",
    "split = [-1 if i < len(X_train) else 0 for i in range(X_train.shape[0] + X_val.shape[0])]\n",
    "grid_search_k_neighbor_classifier = GridSearchCV(estimator=k_neighbor_classifier, param_grid={'n_neighbors': [5, 8]}, scoring=\"accuracy\", cv=PredefinedSplit(split), verbose=2)\n",
    "grid_search_k_neighbor_classifier.fit(np.concatenate([X_train, X_val]), np.concatenate([y_train, y_val]))\n",
    "grid_search_k_neighbor_classifier.best_params_"
   ]
  },
  {
   "cell_type": "code",
   "execution_count": 49,
   "id": "9a5006db",
   "metadata": {},
   "outputs": [
    {
     "name": "stdout",
     "output_type": "stream",
     "text": [
      "Fitting 1 folds for each of 4 candidates, totalling 4 fits\n",
      "[CV] END ........................activation=tanh, solver=sgd; total time=   0.3s\n",
      "[CV] END .......................activation=tanh, solver=adam; total time=   0.2s\n",
      "[CV] END ....................activation=identity, solver=sgd; total time=   0.1s\n",
      "[CV] END ...................activation=identity, solver=adam; total time=   0.2s\n"
     ]
    },
    {
     "data": {
      "text/plain": "{'activation': 'tanh', 'solver': 'sgd'}"
     },
     "execution_count": 49,
     "metadata": {},
     "output_type": "execute_result"
    }
   ],
   "source": [
    "mlp_classifier = MLPClassifier()\n",
    "\n",
    "split = [-1 if i < len(X_train) else 0 for i in range(X_train.shape[0] + X_val.shape[0])]\n",
    "grid_search_mlp_classifier = GridSearchCV(estimator=mlp_classifier, param_grid={'solver': ['sgd', 'adam'], 'activation': ['tanh', 'identity']}, scoring=\"accuracy\", cv=PredefinedSplit(split), verbose=2)\n",
    "grid_search_mlp_classifier.fit(np.concatenate([X_train, X_val]), np.concatenate([y_train, y_val]))\n",
    "grid_search_mlp_classifier.best_params_"
   ]
  },
  {
   "cell_type": "code",
   "execution_count": 50,
   "id": "1b8cbef2",
   "metadata": {},
   "outputs": [
    {
     "name": "stdout",
     "output_type": "stream",
     "text": [
      "Fitting 1 folds for each of 6 candidates, totalling 6 fits\n",
      "[CV] END .....................criterion=gini, n_estimators=5; total time=   0.0s\n",
      "[CV] END .....................criterion=gini, n_estimators=2; total time=   0.0s\n",
      "[CV] END .....................criterion=gini, n_estimators=7; total time=   0.0s\n",
      "[CV] END ..................criterion=entropy, n_estimators=5; total time=   0.0s\n",
      "[CV] END ..................criterion=entropy, n_estimators=2; total time=   0.0s\n",
      "[CV] END ..................criterion=entropy, n_estimators=7; total time=   0.0s\n"
     ]
    },
    {
     "data": {
      "text/plain": "{'criterion': 'gini', 'n_estimators': 2}"
     },
     "execution_count": 50,
     "metadata": {},
     "output_type": "execute_result"
    }
   ],
   "source": [
    "random_forest_classifier = RandomForestClassifier()\n",
    "\n",
    "split = [-1 if i < len(X_train) else 0 for i in range(X_train.shape[0] + X_val.shape[0])]\n",
    "grid_search_random_forest_classifier = GridSearchCV(estimator=random_forest_classifier, param_grid={'criterion': ['gini', 'entropy'], 'n_estimators': [5, 2, 7]}, scoring=\"accuracy\", cv=PredefinedSplit(split), verbose=2)\n",
    "grid_search_random_forest_classifier.fit(np.concatenate([X_train, X_val]), np.concatenate([y_train, y_val]))\n",
    "grid_search_random_forest_classifier.best_params_"
   ]
  },
  {
   "cell_type": "markdown",
   "id": "a40e5171",
   "metadata": {},
   "source": [
    "# Comparaison"
   ]
  },
  {
   "cell_type": "code",
   "execution_count": 51,
   "id": "409f6170",
   "metadata": {},
   "outputs": [],
   "source": [
    "def comparaison_chart(grid_search_name):\n",
    "\tresults = grid_search_name.cv_results_\n",
    "\tparams = results[\"params\"]\n",
    "\tmean_tst_scores = results[\"mean_test_score\"]\n",
    "\tfor index, p in enumerate(params):\n",
    "\t\tp[\"mean_test_score\"] = mean_tst_scores[index]\n",
    "\tresults_dataframe = pd.DataFrame(params)\n",
    "\n",
    "\tcolumns_name = results_dataframe.columns.to_list()\n",
    "\tresults_dataframe = results_dataframe.sort_values(by=[\"mean_test_score\"], ascending=False)\n",
    "\tcolumns_name.remove(\"mean_test_score\")\n",
    "\tresults_dataframe[\"combinaison_hyperparameters\"] = results_dataframe[columns_name].apply(lambda x: \" | \".join(map(str, x)), axis=1)\n",
    "\n",
    "\n",
    "\tplt.barh(results_dataframe[\"combinaison_hyperparameters\"], results_dataframe[\"mean_test_score\"])\n",
    "\tplt.xlabel = \"score\"\n",
    "\tplt.ylabel = \"combinaison de paramètres\"\n",
    "\tplt.title = \"Résultats d entrainement\"\n",
    "\tplt.plot()\n"
   ]
  },
  {
   "cell_type": "code",
   "execution_count": 52,
   "id": "95dbf57f",
   "metadata": {},
   "outputs": [
    {
     "data": {
      "text/plain": "<Figure size 640x480 with 1 Axes>",
      "image/png": "[encoded data removed]"
     },
     "metadata": {},
     "output_type": "display_data"
    }
   ],
   "source": [
    "comparaison_chart(grid_search_svc_classifier)\n"
   ]
  },
  {
   "cell_type": "code",
   "execution_count": 53,
   "id": "d89aef79",
   "metadata": {},
   "outputs": [
    {
     "data": {
      "text/plain": "<Figure size 640x480 with 1 Axes>",
      "image/png": "[encoded data removed]"
     },
     "metadata": {},
     "output_type": "display_data"
    }
   ],
   "source": [
    "comparaison_chart(grid_search_decision_tree_classifier)\n"
   ]
  },
  {
   "cell_type": "code",
   "execution_count": 54,
   "id": "6e763364",
   "metadata": {},
   "outputs": [
    {
     "data": {
      "text/plain": "<Figure size 640x480 with 1 Axes>",
      "image/png": "[encoded data removed]"
     },
     "metadata": {},
     "output_type": "display_data"
    }
   ],
   "source": [
    "comparaison_chart(grid_search_k_neighbor_classifier)\n"
   ]
  },
  {
   "cell_type": "code",
   "execution_count": 55,
   "id": "459ecbe9",
   "metadata": {},
   "outputs": [
    {
     "ename": "TypeError",
     "evalue": "Singleton array array(1) cannot be considered a valid collection.",
     "output_type": "error",
     "traceback": [
      "\u001B[0;31m---------------------------------------------------------------------------\u001B[0m",
      "\u001B[0;31mTypeError\u001B[0m                                 Traceback (most recent call last)",
      "Cell \u001B[0;32mIn[55], line 8\u001B[0m\n\u001B[1;32m      5\u001B[0m prediction \u001B[38;5;241m=\u001B[39m np\u001B[38;5;241m.\u001B[39marray(np\u001B[38;5;241m.\u001B[39mwhere(prediction \u001B[38;5;241m==\u001B[39m \u001B[38;5;124m\"\u001B[39m\u001B[38;5;124mno\u001B[39m\u001B[38;5;124m\"\u001B[39m, \u001B[38;5;241m0\u001B[39m, \u001B[38;5;241m1\u001B[39m), dtype\u001B[38;5;241m=\u001B[39m\u001B[38;5;28mint\u001B[39m)\n\u001B[1;32m      6\u001B[0m scores[\u001B[38;5;124m\"\u001B[39m\u001B[38;5;124msvc_classifier\u001B[39m\u001B[38;5;124m\"\u001B[39m] \u001B[38;5;241m=\u001B[39m {}\n\u001B[0;32m----> 8\u001B[0m scores[\u001B[38;5;124m\"\u001B[39m\u001B[38;5;124msvc_classifier\u001B[39m\u001B[38;5;124m\"\u001B[39m][\u001B[38;5;124m\"\u001B[39m\u001B[38;5;124mprecision\u001B[39m\u001B[38;5;124m\"\u001B[39m] \u001B[38;5;241m=\u001B[39m \u001B[43mprecision_score\u001B[49m\u001B[43m(\u001B[49m\u001B[43my_test_format\u001B[49m\u001B[43m,\u001B[49m\u001B[43m \u001B[49m\u001B[43mprediction\u001B[49m\u001B[43m)\u001B[49m\n\u001B[1;32m     10\u001B[0m scores[\u001B[38;5;124m\"\u001B[39m\u001B[38;5;124msvc_classifier\u001B[39m\u001B[38;5;124m\"\u001B[39m][\u001B[38;5;124m\"\u001B[39m\u001B[38;5;124mrecall\u001B[39m\u001B[38;5;124m\"\u001B[39m] \u001B[38;5;241m=\u001B[39m recall_score(y_test_format, prediction)\n\u001B[1;32m     12\u001B[0m prediction \u001B[38;5;241m=\u001B[39m grid_search_k_neighbor_classifier\u001B[38;5;241m.\u001B[39mpredict(X_test)\n",
      "File \u001B[0;32m/Library/Frameworks/Python.framework/Versions/3.10/lib/python3.10/site-packages/sklearn/metrics/_classification.py:1954\u001B[0m, in \u001B[0;36mprecision_score\u001B[0;34m(y_true, y_pred, labels, pos_label, average, sample_weight, zero_division)\u001B[0m\n\u001B[1;32m   1825\u001B[0m \u001B[38;5;28;01mdef\u001B[39;00m \u001B[38;5;21mprecision_score\u001B[39m(\n\u001B[1;32m   1826\u001B[0m     y_true,\n\u001B[1;32m   1827\u001B[0m     y_pred,\n\u001B[0;32m   (...)\u001B[0m\n\u001B[1;32m   1833\u001B[0m     zero_division\u001B[38;5;241m=\u001B[39m\u001B[38;5;124m\"\u001B[39m\u001B[38;5;124mwarn\u001B[39m\u001B[38;5;124m\"\u001B[39m,\n\u001B[1;32m   1834\u001B[0m ):\n\u001B[1;32m   1835\u001B[0m \u001B[38;5;250m    \u001B[39m\u001B[38;5;124;03m\"\"\"Compute the precision.\u001B[39;00m\n\u001B[1;32m   1836\u001B[0m \n\u001B[1;32m   1837\u001B[0m \u001B[38;5;124;03m    The precision is the ratio ``tp / (tp + fp)`` where ``tp`` is the number of\u001B[39;00m\n\u001B[0;32m   (...)\u001B[0m\n\u001B[1;32m   1952\u001B[0m \u001B[38;5;124;03m    array([0.5, 1. , 1. ])\u001B[39;00m\n\u001B[1;32m   1953\u001B[0m \u001B[38;5;124;03m    \"\"\"\u001B[39;00m\n\u001B[0;32m-> 1954\u001B[0m     p, _, _, _ \u001B[38;5;241m=\u001B[39m \u001B[43mprecision_recall_fscore_support\u001B[49m\u001B[43m(\u001B[49m\n\u001B[1;32m   1955\u001B[0m \u001B[43m        \u001B[49m\u001B[43my_true\u001B[49m\u001B[43m,\u001B[49m\n\u001B[1;32m   1956\u001B[0m \u001B[43m        \u001B[49m\u001B[43my_pred\u001B[49m\u001B[43m,\u001B[49m\n\u001B[1;32m   1957\u001B[0m \u001B[43m        \u001B[49m\u001B[43mlabels\u001B[49m\u001B[38;5;241;43m=\u001B[39;49m\u001B[43mlabels\u001B[49m\u001B[43m,\u001B[49m\n\u001B[1;32m   1958\u001B[0m \u001B[43m        \u001B[49m\u001B[43mpos_label\u001B[49m\u001B[38;5;241;43m=\u001B[39;49m\u001B[43mpos_label\u001B[49m\u001B[43m,\u001B[49m\n\u001B[1;32m   1959\u001B[0m \u001B[43m        \u001B[49m\u001B[43maverage\u001B[49m\u001B[38;5;241;43m=\u001B[39;49m\u001B[43maverage\u001B[49m\u001B[43m,\u001B[49m\n\u001B[1;32m   1960\u001B[0m \u001B[43m        \u001B[49m\u001B[43mwarn_for\u001B[49m\u001B[38;5;241;43m=\u001B[39;49m\u001B[43m(\u001B[49m\u001B[38;5;124;43m\"\u001B[39;49m\u001B[38;5;124;43mprecision\u001B[39;49m\u001B[38;5;124;43m\"\u001B[39;49m\u001B[43m,\u001B[49m\u001B[43m)\u001B[49m\u001B[43m,\u001B[49m\n\u001B[1;32m   1961\u001B[0m \u001B[43m        \u001B[49m\u001B[43msample_weight\u001B[49m\u001B[38;5;241;43m=\u001B[39;49m\u001B[43msample_weight\u001B[49m\u001B[43m,\u001B[49m\n\u001B[1;32m   1962\u001B[0m \u001B[43m        \u001B[49m\u001B[43mzero_division\u001B[49m\u001B[38;5;241;43m=\u001B[39;49m\u001B[43mzero_division\u001B[49m\u001B[43m,\u001B[49m\n\u001B[1;32m   1963\u001B[0m \u001B[43m    \u001B[49m\u001B[43m)\u001B[49m\n\u001B[1;32m   1964\u001B[0m     \u001B[38;5;28;01mreturn\u001B[39;00m p\n",
      "File \u001B[0;32m/Library/Frameworks/Python.framework/Versions/3.10/lib/python3.10/site-packages/sklearn/metrics/_classification.py:1573\u001B[0m, in \u001B[0;36mprecision_recall_fscore_support\u001B[0;34m(y_true, y_pred, beta, labels, pos_label, average, warn_for, sample_weight, zero_division)\u001B[0m\n\u001B[1;32m   1571\u001B[0m \u001B[38;5;28;01mif\u001B[39;00m beta \u001B[38;5;241m<\u001B[39m \u001B[38;5;241m0\u001B[39m:\n\u001B[1;32m   1572\u001B[0m     \u001B[38;5;28;01mraise\u001B[39;00m \u001B[38;5;167;01mValueError\u001B[39;00m(\u001B[38;5;124m\"\u001B[39m\u001B[38;5;124mbeta should be >=0 in the F-beta score\u001B[39m\u001B[38;5;124m\"\u001B[39m)\n\u001B[0;32m-> 1573\u001B[0m labels \u001B[38;5;241m=\u001B[39m \u001B[43m_check_set_wise_labels\u001B[49m\u001B[43m(\u001B[49m\u001B[43my_true\u001B[49m\u001B[43m,\u001B[49m\u001B[43m \u001B[49m\u001B[43my_pred\u001B[49m\u001B[43m,\u001B[49m\u001B[43m \u001B[49m\u001B[43maverage\u001B[49m\u001B[43m,\u001B[49m\u001B[43m \u001B[49m\u001B[43mlabels\u001B[49m\u001B[43m,\u001B[49m\u001B[43m \u001B[49m\u001B[43mpos_label\u001B[49m\u001B[43m)\u001B[49m\n\u001B[1;32m   1575\u001B[0m \u001B[38;5;66;03m# Calculate tp_sum, pred_sum, true_sum ###\u001B[39;00m\n\u001B[1;32m   1576\u001B[0m samplewise \u001B[38;5;241m=\u001B[39m average \u001B[38;5;241m==\u001B[39m \u001B[38;5;124m\"\u001B[39m\u001B[38;5;124msamples\u001B[39m\u001B[38;5;124m\"\u001B[39m\n",
      "File \u001B[0;32m/Library/Frameworks/Python.framework/Versions/3.10/lib/python3.10/site-packages/sklearn/metrics/_classification.py:1374\u001B[0m, in \u001B[0;36m_check_set_wise_labels\u001B[0;34m(y_true, y_pred, average, labels, pos_label)\u001B[0m\n\u001B[1;32m   1371\u001B[0m \u001B[38;5;28;01mif\u001B[39;00m average \u001B[38;5;129;01mnot\u001B[39;00m \u001B[38;5;129;01min\u001B[39;00m average_options \u001B[38;5;129;01mand\u001B[39;00m average \u001B[38;5;241m!=\u001B[39m \u001B[38;5;124m\"\u001B[39m\u001B[38;5;124mbinary\u001B[39m\u001B[38;5;124m\"\u001B[39m:\n\u001B[1;32m   1372\u001B[0m     \u001B[38;5;28;01mraise\u001B[39;00m \u001B[38;5;167;01mValueError\u001B[39;00m(\u001B[38;5;124m\"\u001B[39m\u001B[38;5;124maverage has to be one of \u001B[39m\u001B[38;5;124m\"\u001B[39m \u001B[38;5;241m+\u001B[39m \u001B[38;5;28mstr\u001B[39m(average_options))\n\u001B[0;32m-> 1374\u001B[0m y_type, y_true, y_pred \u001B[38;5;241m=\u001B[39m \u001B[43m_check_targets\u001B[49m\u001B[43m(\u001B[49m\u001B[43my_true\u001B[49m\u001B[43m,\u001B[49m\u001B[43m \u001B[49m\u001B[43my_pred\u001B[49m\u001B[43m)\u001B[49m\n\u001B[1;32m   1375\u001B[0m \u001B[38;5;66;03m# Convert to Python primitive type to avoid NumPy type / Python str\u001B[39;00m\n\u001B[1;32m   1376\u001B[0m \u001B[38;5;66;03m# comparison. See https://github.com/numpy/numpy/issues/6784\u001B[39;00m\n\u001B[1;32m   1377\u001B[0m present_labels \u001B[38;5;241m=\u001B[39m unique_labels(y_true, y_pred)\u001B[38;5;241m.\u001B[39mtolist()\n",
      "File \u001B[0;32m/Library/Frameworks/Python.framework/Versions/3.10/lib/python3.10/site-packages/sklearn/metrics/_classification.py:86\u001B[0m, in \u001B[0;36m_check_targets\u001B[0;34m(y_true, y_pred)\u001B[0m\n\u001B[1;32m     59\u001B[0m \u001B[38;5;28;01mdef\u001B[39;00m \u001B[38;5;21m_check_targets\u001B[39m(y_true, y_pred):\n\u001B[1;32m     60\u001B[0m \u001B[38;5;250m    \u001B[39m\u001B[38;5;124;03m\"\"\"Check that y_true and y_pred belong to the same classification task.\u001B[39;00m\n\u001B[1;32m     61\u001B[0m \n\u001B[1;32m     62\u001B[0m \u001B[38;5;124;03m    This converts multiclass or binary types to a common shape, and raises a\u001B[39;00m\n\u001B[0;32m   (...)\u001B[0m\n\u001B[1;32m     84\u001B[0m \u001B[38;5;124;03m    y_pred : array or indicator matrix\u001B[39;00m\n\u001B[1;32m     85\u001B[0m \u001B[38;5;124;03m    \"\"\"\u001B[39;00m\n\u001B[0;32m---> 86\u001B[0m     \u001B[43mcheck_consistent_length\u001B[49m\u001B[43m(\u001B[49m\u001B[43my_true\u001B[49m\u001B[43m,\u001B[49m\u001B[43m \u001B[49m\u001B[43my_pred\u001B[49m\u001B[43m)\u001B[49m\n\u001B[1;32m     87\u001B[0m     type_true \u001B[38;5;241m=\u001B[39m type_of_target(y_true, input_name\u001B[38;5;241m=\u001B[39m\u001B[38;5;124m\"\u001B[39m\u001B[38;5;124my_true\u001B[39m\u001B[38;5;124m\"\u001B[39m)\n\u001B[1;32m     88\u001B[0m     type_pred \u001B[38;5;241m=\u001B[39m type_of_target(y_pred, input_name\u001B[38;5;241m=\u001B[39m\u001B[38;5;124m\"\u001B[39m\u001B[38;5;124my_pred\u001B[39m\u001B[38;5;124m\"\u001B[39m)\n",
      "File \u001B[0;32m/Library/Frameworks/Python.framework/Versions/3.10/lib/python3.10/site-packages/sklearn/utils/validation.py:394\u001B[0m, in \u001B[0;36mcheck_consistent_length\u001B[0;34m(*arrays)\u001B[0m\n\u001B[1;32m    383\u001B[0m \u001B[38;5;28;01mdef\u001B[39;00m \u001B[38;5;21mcheck_consistent_length\u001B[39m(\u001B[38;5;241m*\u001B[39marrays):\n\u001B[1;32m    384\u001B[0m \u001B[38;5;250m    \u001B[39m\u001B[38;5;124;03m\"\"\"Check that all arrays have consistent first dimensions.\u001B[39;00m\n\u001B[1;32m    385\u001B[0m \n\u001B[1;32m    386\u001B[0m \u001B[38;5;124;03m    Checks whether all objects in arrays have the same shape or length.\u001B[39;00m\n\u001B[0;32m   (...)\u001B[0m\n\u001B[1;32m    391\u001B[0m \u001B[38;5;124;03m        Objects that will be checked for consistent length.\u001B[39;00m\n\u001B[1;32m    392\u001B[0m \u001B[38;5;124;03m    \"\"\"\u001B[39;00m\n\u001B[0;32m--> 394\u001B[0m     lengths \u001B[38;5;241m=\u001B[39m [_num_samples(X) \u001B[38;5;28;01mfor\u001B[39;00m X \u001B[38;5;129;01min\u001B[39;00m arrays \u001B[38;5;28;01mif\u001B[39;00m X \u001B[38;5;129;01mis\u001B[39;00m \u001B[38;5;129;01mnot\u001B[39;00m \u001B[38;5;28;01mNone\u001B[39;00m]\n\u001B[1;32m    395\u001B[0m     uniques \u001B[38;5;241m=\u001B[39m np\u001B[38;5;241m.\u001B[39munique(lengths)\n\u001B[1;32m    396\u001B[0m     \u001B[38;5;28;01mif\u001B[39;00m \u001B[38;5;28mlen\u001B[39m(uniques) \u001B[38;5;241m>\u001B[39m \u001B[38;5;241m1\u001B[39m:\n",
      "File \u001B[0;32m/Library/Frameworks/Python.framework/Versions/3.10/lib/python3.10/site-packages/sklearn/utils/validation.py:394\u001B[0m, in \u001B[0;36m<listcomp>\u001B[0;34m(.0)\u001B[0m\n\u001B[1;32m    383\u001B[0m \u001B[38;5;28;01mdef\u001B[39;00m \u001B[38;5;21mcheck_consistent_length\u001B[39m(\u001B[38;5;241m*\u001B[39marrays):\n\u001B[1;32m    384\u001B[0m \u001B[38;5;250m    \u001B[39m\u001B[38;5;124;03m\"\"\"Check that all arrays have consistent first dimensions.\u001B[39;00m\n\u001B[1;32m    385\u001B[0m \n\u001B[1;32m    386\u001B[0m \u001B[38;5;124;03m    Checks whether all objects in arrays have the same shape or length.\u001B[39;00m\n\u001B[0;32m   (...)\u001B[0m\n\u001B[1;32m    391\u001B[0m \u001B[38;5;124;03m        Objects that will be checked for consistent length.\u001B[39;00m\n\u001B[1;32m    392\u001B[0m \u001B[38;5;124;03m    \"\"\"\u001B[39;00m\n\u001B[0;32m--> 394\u001B[0m     lengths \u001B[38;5;241m=\u001B[39m [\u001B[43m_num_samples\u001B[49m\u001B[43m(\u001B[49m\u001B[43mX\u001B[49m\u001B[43m)\u001B[49m \u001B[38;5;28;01mfor\u001B[39;00m X \u001B[38;5;129;01min\u001B[39;00m arrays \u001B[38;5;28;01mif\u001B[39;00m X \u001B[38;5;129;01mis\u001B[39;00m \u001B[38;5;129;01mnot\u001B[39;00m \u001B[38;5;28;01mNone\u001B[39;00m]\n\u001B[1;32m    395\u001B[0m     uniques \u001B[38;5;241m=\u001B[39m np\u001B[38;5;241m.\u001B[39munique(lengths)\n\u001B[1;32m    396\u001B[0m     \u001B[38;5;28;01mif\u001B[39;00m \u001B[38;5;28mlen\u001B[39m(uniques) \u001B[38;5;241m>\u001B[39m \u001B[38;5;241m1\u001B[39m:\n",
      "File \u001B[0;32m/Library/Frameworks/Python.framework/Versions/3.10/lib/python3.10/site-packages/sklearn/utils/validation.py:335\u001B[0m, in \u001B[0;36m_num_samples\u001B[0;34m(x)\u001B[0m\n\u001B[1;32m    333\u001B[0m \u001B[38;5;28;01mif\u001B[39;00m \u001B[38;5;28mhasattr\u001B[39m(x, \u001B[38;5;124m\"\u001B[39m\u001B[38;5;124mshape\u001B[39m\u001B[38;5;124m\"\u001B[39m) \u001B[38;5;129;01mand\u001B[39;00m x\u001B[38;5;241m.\u001B[39mshape \u001B[38;5;129;01mis\u001B[39;00m \u001B[38;5;129;01mnot\u001B[39;00m \u001B[38;5;28;01mNone\u001B[39;00m:\n\u001B[1;32m    334\u001B[0m     \u001B[38;5;28;01mif\u001B[39;00m \u001B[38;5;28mlen\u001B[39m(x\u001B[38;5;241m.\u001B[39mshape) \u001B[38;5;241m==\u001B[39m \u001B[38;5;241m0\u001B[39m:\n\u001B[0;32m--> 335\u001B[0m         \u001B[38;5;28;01mraise\u001B[39;00m \u001B[38;5;167;01mTypeError\u001B[39;00m(\n\u001B[1;32m    336\u001B[0m             \u001B[38;5;124m\"\u001B[39m\u001B[38;5;124mSingleton array \u001B[39m\u001B[38;5;132;01m%r\u001B[39;00m\u001B[38;5;124m cannot be considered a valid collection.\u001B[39m\u001B[38;5;124m\"\u001B[39m \u001B[38;5;241m%\u001B[39m x\n\u001B[1;32m    337\u001B[0m         )\n\u001B[1;32m    338\u001B[0m     \u001B[38;5;66;03m# Check that shape is returning an integer or default to len\u001B[39;00m\n\u001B[1;32m    339\u001B[0m     \u001B[38;5;66;03m# Dask dataframes may not return numeric shape[0] value\u001B[39;00m\n\u001B[1;32m    340\u001B[0m     \u001B[38;5;28;01mif\u001B[39;00m \u001B[38;5;28misinstance\u001B[39m(x\u001B[38;5;241m.\u001B[39mshape[\u001B[38;5;241m0\u001B[39m], numbers\u001B[38;5;241m.\u001B[39mIntegral):\n",
      "\u001B[0;31mTypeError\u001B[0m: Singleton array array(1) cannot be considered a valid collection."
     ]
    }
   ],
   "source": [
    "scores = {}\n",
    "y_test_format = y_test.to_numpy()\n",
    "y_test_format = np.array(np.where(y_test_format == \"no\", 0, 1), dtype=int)\n",
    "prediction = grid_search_svc_classifier.predict(X_test)\n",
    "prediction = np.array(np.where(prediction == \"no\", 0, 1), dtype=int)\n",
    "scores[\"svc_classifier\"] = {}\n",
    "\n",
    "scores[\"svc_classifier\"][\"precision\"] = precision_score(y_test_format, prediction)\n",
    "\n",
    "scores[\"svc_classifier\"][\"recall\"] = recall_score(y_test_format, prediction)\n",
    "\n",
    "prediction = grid_search_k_neighbor_classifier.predict(X_test)\n",
    "prediction = np.array(np.where(prediction == \"no\", 0, 1), dtype=int)\n",
    "scores[\"k_neighbor_classifier\"] = {}\n",
    "\n",
    "scores[\"k_neighbor_classifier\"][\"precision\"] = precision_score(y_test_format, prediction)\n",
    "\n",
    "scores[\"k_neighbor_classifier\"][\"recall\"] = recall_score(y_test_format, prediction)\n",
    "\n",
    "prediction = grid_search_decision_tree_classifier.predict(X_test)\n",
    "prediction = np.array(np.where(prediction == \"no\", 0, 1), dtype=int)\n",
    "scores[\"decision_tree_classifier\"] = {}\n",
    "\n",
    "scores[\"decision_tree_classifier\"][\"precision\"] = precision_score(y_test_format, prediction)\n",
    "\n",
    "scores[\"decision_tree_classifier\"][\"recall\"] = recall_score(y_test_format, prediction)\n",
    "\n",
    "plot_df = pd.DataFrame(scores)\n",
    "for cls in ['svc_classifier', 'k_neighbor_classifier', 'decision_tree_classifier']:\n",
    "\tplot_df.plot(y=cls, kind=\"bar\", use_index=True)\n",
    "plot_df\n"
   ]
  }
 ],
 "metadata": {},
 "nbformat": 4,
 "nbformat_minor": 5
}
