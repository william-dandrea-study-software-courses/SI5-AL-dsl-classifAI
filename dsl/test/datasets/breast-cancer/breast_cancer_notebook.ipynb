{
 "cells": [
  {
   "cell_type": "code",
   "execution_count": 1,
   "id": "39b5b310",
   "metadata": {},
   "outputs": [],
   "source": [
    "import pandas as pd\n",
    "import numpy as np\n",
    "from sklearn.model_selection import train_test_split\n",
    "from sklearn.preprocessing import minmax_scale\n",
    "from sklearn.preprocessing import OrdinalEncoder\n",
    "from sklearn.preprocessing import OneHotEncoder\n",
    "from sklearn.model_selection import GridSearchCV\n",
    "from sklearn.model_selection import PredefinedSplit\n",
    "from sklearn.svm import SVC\n",
    "from sklearn.tree import DecisionTreeClassifier\n",
    "from sklearn.neighbors import KNeighborsClassifier\n",
    "from sklearn.neural_network import MLPClassifier\n",
    "from sklearn.ensemble import RandomForestClassifier\n",
    "import matplotlib.pyplot as plt\n",
    "from sklearn.metrics import accuracy_score, precision_score, recall_score, f1_score, roc_auc_score\n"
   ]
  },
  {
   "cell_type": "code",
   "execution_count": 2,
   "id": "100f2aa8",
   "metadata": {},
   "outputs": [],
   "source": [
    "import warnings\n",
    "warnings.filterwarnings('ignore')"
   ]
  },
  {
   "cell_type": "markdown",
   "id": "260f7eda",
   "metadata": {},
   "source": [
    "![alt text](./breast-cancer.csv_mindmap.png \"Mindmap\")"
   ]
  },
  {
   "cell_type": "markdown",
   "id": "0af3dabd",
   "metadata": {},
   "source": [
    "# Préprocessing\n",
    "| Column name | Column type | Use default transformation ? | Cleaning method | Possible values | Is Label ? |\n",
    "|------|------|------|------|------|------|\n",
    "| Class | Boolean | Yes | Replace value by : False | True value = recurrence-events / False value = no-recurrence-events | No |\n",
    "| age | Ordinal Qualitative | Yes | Delete Line | 10-19 / 20-29 / 30-39 / 40-49 / 50-59 / 60-69 / 70-79 / 80-89 / 90-99 | No |\n",
    "| menopause | Nominal Qualitative | Yes | Delete Line | lt40 / ge40 / premeno | No |\n",
    "| tumor_size | Ordinal Qualitative | Yes | Delete Line | 0-4 / 5-9 / 10-14 / 15-19 / 20-24 / 25-29 / 30-34 / 35-39 / 40-44 / 45-49 / 50-54 / 55-59 | No |\n",
    "| inv_nodes | Ordinal Qualitative | Yes | Delete Line | 0-2 / 3-5 / 6-8 / 9-11 / 12-14 / 15-17 / 18-20 / 21-23 / 24-26 / 27-29 / 30-32 / 33-35 / 36-39 | No |\n",
    "| node_caps | Boolean | Yes | Delete Line | True value = yes / False value = no | No |\n",
    "| deg-malig | Quantitative Discrete | Yes | Delete Line |  | No |\n",
    "| breast | Nominal Qualitative | Yes | Delete Line | left / right | No |\n",
    "| breast-quad | Nominal Qualitative | Yes | Delete Line | left_up / left_low / right_up / right_low / central | No |\n",
    "| irradiat | Boolean | Yes | Delete Line | True value = yes / False value = no | Yes |\n"
   ]
  },
  {
   "cell_type": "markdown",
   "id": "486ac3ca",
   "metadata": {},
   "source": [
    "## We import the dataset"
   ]
  },
  {
   "cell_type": "code",
   "execution_count": 3,
   "id": "53863a64",
   "metadata": {},
   "outputs": [
    {
     "data": {
      "text/plain": "                    Class    age menopause tumor_size inv_nodes node_caps  \\\n0    no-recurrence-events  30-39   premeno      30-34       0-2        no   \n1    no-recurrence-events  40-49   premeno      20-24       0-2        no   \n2    no-recurrence-events  40-49   premeno      20-24       0-2        no   \n3    no-recurrence-events  60-69      ge40      15-19       0-2        no   \n4    no-recurrence-events  40-49   premeno        0-4       0-2        no   \n..                    ...    ...       ...        ...       ...       ...   \n281     recurrence-events  30-39   premeno      30-34       0-2        no   \n282     recurrence-events  30-39   premeno      20-24       0-2        no   \n283     recurrence-events  60-69      ge40      20-24       0-2        no   \n284     recurrence-events  40-49      ge40      30-34       3-5        no   \n285     recurrence-events  50-59      ge40      30-34       3-5        no   \n\n     deg-malig breast breast-quad irradiat  \n0            3   left    left_low       no  \n1            2  right    right_up       no  \n2            2   left    left_low       no  \n3            2  right     left_up       no  \n4            2  right   right_low       no  \n..         ...    ...         ...      ...  \n281          2   left     left_up       no  \n282          3   left     left_up      yes  \n283          1  right     left_up       no  \n284          3   left    left_low       no  \n285          3   left    left_low       no  \n\n[286 rows x 10 columns]",
      "text/html": "<div>\n<style scoped>\n    .dataframe tbody tr th:only-of-type {\n        vertical-align: middle;\n    }\n\n    .dataframe tbody tr th {\n        vertical-align: top;\n    }\n\n    .dataframe thead th {\n        text-align: right;\n    }\n</style>\n<table border=\"1\" class=\"dataframe\">\n  <thead>\n    <tr style=\"text-align: right;\">\n      <th></th>\n      <th>Class</th>\n      <th>age</th>\n      <th>menopause</th>\n      <th>tumor_size</th>\n      <th>inv_nodes</th>\n      <th>node_caps</th>\n      <th>deg-malig</th>\n      <th>breast</th>\n      <th>breast-quad</th>\n      <th>irradiat</th>\n    </tr>\n  </thead>\n  <tbody>\n    <tr>\n      <th>0</th>\n      <td>no-recurrence-events</td>\n      <td>30-39</td>\n      <td>premeno</td>\n      <td>30-34</td>\n      <td>0-2</td>\n      <td>no</td>\n      <td>3</td>\n      <td>left</td>\n      <td>left_low</td>\n      <td>no</td>\n    </tr>\n    <tr>\n      <th>1</th>\n      <td>no-recurrence-events</td>\n      <td>40-49</td>\n      <td>premeno</td>\n      <td>20-24</td>\n      <td>0-2</td>\n      <td>no</td>\n      <td>2</td>\n      <td>right</td>\n      <td>right_up</td>\n      <td>no</td>\n    </tr>\n    <tr>\n      <th>2</th>\n      <td>no-recurrence-events</td>\n      <td>40-49</td>\n      <td>premeno</td>\n      <td>20-24</td>\n      <td>0-2</td>\n      <td>no</td>\n      <td>2</td>\n      <td>left</td>\n      <td>left_low</td>\n      <td>no</td>\n    </tr>\n    <tr>\n      <th>3</th>\n      <td>no-recurrence-events</td>\n      <td>60-69</td>\n      <td>ge40</td>\n      <td>15-19</td>\n      <td>0-2</td>\n      <td>no</td>\n      <td>2</td>\n      <td>right</td>\n      <td>left_up</td>\n      <td>no</td>\n    </tr>\n    <tr>\n      <th>4</th>\n      <td>no-recurrence-events</td>\n      <td>40-49</td>\n      <td>premeno</td>\n      <td>0-4</td>\n      <td>0-2</td>\n      <td>no</td>\n      <td>2</td>\n      <td>right</td>\n      <td>right_low</td>\n      <td>no</td>\n    </tr>\n    <tr>\n      <th>...</th>\n      <td>...</td>\n      <td>...</td>\n      <td>...</td>\n      <td>...</td>\n      <td>...</td>\n      <td>...</td>\n      <td>...</td>\n      <td>...</td>\n      <td>...</td>\n      <td>...</td>\n    </tr>\n    <tr>\n      <th>281</th>\n      <td>recurrence-events</td>\n      <td>30-39</td>\n      <td>premeno</td>\n      <td>30-34</td>\n      <td>0-2</td>\n      <td>no</td>\n      <td>2</td>\n      <td>left</td>\n      <td>left_up</td>\n      <td>no</td>\n    </tr>\n    <tr>\n      <th>282</th>\n      <td>recurrence-events</td>\n      <td>30-39</td>\n      <td>premeno</td>\n      <td>20-24</td>\n      <td>0-2</td>\n      <td>no</td>\n      <td>3</td>\n      <td>left</td>\n      <td>left_up</td>\n      <td>yes</td>\n    </tr>\n    <tr>\n      <th>283</th>\n      <td>recurrence-events</td>\n      <td>60-69</td>\n      <td>ge40</td>\n      <td>20-24</td>\n      <td>0-2</td>\n      <td>no</td>\n      <td>1</td>\n      <td>right</td>\n      <td>left_up</td>\n      <td>no</td>\n    </tr>\n    <tr>\n      <th>284</th>\n      <td>recurrence-events</td>\n      <td>40-49</td>\n      <td>ge40</td>\n      <td>30-34</td>\n      <td>3-5</td>\n      <td>no</td>\n      <td>3</td>\n      <td>left</td>\n      <td>left_low</td>\n      <td>no</td>\n    </tr>\n    <tr>\n      <th>285</th>\n      <td>recurrence-events</td>\n      <td>50-59</td>\n      <td>ge40</td>\n      <td>30-34</td>\n      <td>3-5</td>\n      <td>no</td>\n      <td>3</td>\n      <td>left</td>\n      <td>left_low</td>\n      <td>no</td>\n    </tr>\n  </tbody>\n</table>\n<p>286 rows × 10 columns</p>\n</div>"
     },
     "execution_count": 3,
     "metadata": {},
     "output_type": "execute_result"
    }
   ],
   "source": [
    "def load_dataset() -> pd.DataFrame: \n",
    "\tcurrent_dataset = pd.read_csv(\"./breast-cancer.csv\", header=None) \n",
    "\tcurrent_dataset.columns = ['Class', 'age', 'menopause', 'tumor_size', 'inv_nodes', 'node_caps', 'deg-malig', 'breast', 'breast-quad', 'irradiat'] \n",
    "\treturn current_dataset \n",
    "\n",
    "dataframe: pd.DataFrame = load_dataset() \n",
    "dataframe"
   ]
  },
  {
   "cell_type": "code",
   "execution_count": 4,
   "id": "db1555bb",
   "metadata": {},
   "outputs": [
    {
     "data": {
      "text/plain": "                    Class    age menopause tumor_size inv_nodes node_caps  \\\n0    no-recurrence-events  30-39   premeno      30-34       0-2        no   \n1    no-recurrence-events  40-49   premeno      20-24       0-2        no   \n2    no-recurrence-events  40-49   premeno      20-24       0-2        no   \n3    no-recurrence-events  60-69      ge40      15-19       0-2        no   \n4    no-recurrence-events  40-49   premeno        0-4       0-2        no   \n..                    ...    ...       ...        ...       ...       ...   \n272     recurrence-events  30-39   premeno      30-34       0-2        no   \n273     recurrence-events  30-39   premeno      20-24       0-2        no   \n274     recurrence-events  60-69      ge40      20-24       0-2        no   \n275     recurrence-events  40-49      ge40      30-34       3-5        no   \n276     recurrence-events  50-59      ge40      30-34       3-5        no   \n\n     deg-malig breast breast-quad irradiat  \n0            3   left    left_low       no  \n1            2  right    right_up       no  \n2            2   left    left_low       no  \n3            2  right     left_up       no  \n4            2  right   right_low       no  \n..         ...    ...         ...      ...  \n272          2   left     left_up       no  \n273          3   left     left_up      yes  \n274          1  right     left_up       no  \n275          3   left    left_low       no  \n276          3   left    left_low       no  \n\n[277 rows x 10 columns]",
      "text/html": "<div>\n<style scoped>\n    .dataframe tbody tr th:only-of-type {\n        vertical-align: middle;\n    }\n\n    .dataframe tbody tr th {\n        vertical-align: top;\n    }\n\n    .dataframe thead th {\n        text-align: right;\n    }\n</style>\n<table border=\"1\" class=\"dataframe\">\n  <thead>\n    <tr style=\"text-align: right;\">\n      <th></th>\n      <th>Class</th>\n      <th>age</th>\n      <th>menopause</th>\n      <th>tumor_size</th>\n      <th>inv_nodes</th>\n      <th>node_caps</th>\n      <th>deg-malig</th>\n      <th>breast</th>\n      <th>breast-quad</th>\n      <th>irradiat</th>\n    </tr>\n  </thead>\n  <tbody>\n    <tr>\n      <th>0</th>\n      <td>no-recurrence-events</td>\n      <td>30-39</td>\n      <td>premeno</td>\n      <td>30-34</td>\n      <td>0-2</td>\n      <td>no</td>\n      <td>3</td>\n      <td>left</td>\n      <td>left_low</td>\n      <td>no</td>\n    </tr>\n    <tr>\n      <th>1</th>\n      <td>no-recurrence-events</td>\n      <td>40-49</td>\n      <td>premeno</td>\n      <td>20-24</td>\n      <td>0-2</td>\n      <td>no</td>\n      <td>2</td>\n      <td>right</td>\n      <td>right_up</td>\n      <td>no</td>\n    </tr>\n    <tr>\n      <th>2</th>\n      <td>no-recurrence-events</td>\n      <td>40-49</td>\n      <td>premeno</td>\n      <td>20-24</td>\n      <td>0-2</td>\n      <td>no</td>\n      <td>2</td>\n      <td>left</td>\n      <td>left_low</td>\n      <td>no</td>\n    </tr>\n    <tr>\n      <th>3</th>\n      <td>no-recurrence-events</td>\n      <td>60-69</td>\n      <td>ge40</td>\n      <td>15-19</td>\n      <td>0-2</td>\n      <td>no</td>\n      <td>2</td>\n      <td>right</td>\n      <td>left_up</td>\n      <td>no</td>\n    </tr>\n    <tr>\n      <th>4</th>\n      <td>no-recurrence-events</td>\n      <td>40-49</td>\n      <td>premeno</td>\n      <td>0-4</td>\n      <td>0-2</td>\n      <td>no</td>\n      <td>2</td>\n      <td>right</td>\n      <td>right_low</td>\n      <td>no</td>\n    </tr>\n    <tr>\n      <th>...</th>\n      <td>...</td>\n      <td>...</td>\n      <td>...</td>\n      <td>...</td>\n      <td>...</td>\n      <td>...</td>\n      <td>...</td>\n      <td>...</td>\n      <td>...</td>\n      <td>...</td>\n    </tr>\n    <tr>\n      <th>272</th>\n      <td>recurrence-events</td>\n      <td>30-39</td>\n      <td>premeno</td>\n      <td>30-34</td>\n      <td>0-2</td>\n      <td>no</td>\n      <td>2</td>\n      <td>left</td>\n      <td>left_up</td>\n      <td>no</td>\n    </tr>\n    <tr>\n      <th>273</th>\n      <td>recurrence-events</td>\n      <td>30-39</td>\n      <td>premeno</td>\n      <td>20-24</td>\n      <td>0-2</td>\n      <td>no</td>\n      <td>3</td>\n      <td>left</td>\n      <td>left_up</td>\n      <td>yes</td>\n    </tr>\n    <tr>\n      <th>274</th>\n      <td>recurrence-events</td>\n      <td>60-69</td>\n      <td>ge40</td>\n      <td>20-24</td>\n      <td>0-2</td>\n      <td>no</td>\n      <td>1</td>\n      <td>right</td>\n      <td>left_up</td>\n      <td>no</td>\n    </tr>\n    <tr>\n      <th>275</th>\n      <td>recurrence-events</td>\n      <td>40-49</td>\n      <td>ge40</td>\n      <td>30-34</td>\n      <td>3-5</td>\n      <td>no</td>\n      <td>3</td>\n      <td>left</td>\n      <td>left_low</td>\n      <td>no</td>\n    </tr>\n    <tr>\n      <th>276</th>\n      <td>recurrence-events</td>\n      <td>50-59</td>\n      <td>ge40</td>\n      <td>30-34</td>\n      <td>3-5</td>\n      <td>no</td>\n      <td>3</td>\n      <td>left</td>\n      <td>left_low</td>\n      <td>no</td>\n    </tr>\n  </tbody>\n</table>\n<p>277 rows × 10 columns</p>\n</div>"
     },
     "execution_count": 4,
     "metadata": {},
     "output_type": "execute_result"
    }
   ],
   "source": [
    "def clean_dataset(dataframe: pd.DataFrame) -> pd.DataFrame:\n",
    "\tdataframe = dataframe.replace(\"?\", np.nan)\n",
    "\tdataframe[\"Class\"] = dataframe[\"Class\"].replace(np.nan, False)\n",
    "\tdataframe = dataframe[dataframe[\"age\"].notna()]\n",
    "\tdataframe = dataframe[dataframe[\"menopause\"].notna()]\n",
    "\tdataframe = dataframe[dataframe[\"tumor_size\"].notna()]\n",
    "\tdataframe = dataframe[dataframe[\"inv_nodes\"].notna()]\n",
    "\tdataframe = dataframe[dataframe[\"node_caps\"].notna()]\n",
    "\tdataframe = dataframe[dataframe[\"deg-malig\"].notna()]\n",
    "\tdataframe = dataframe[dataframe[\"breast\"].notna()]\n",
    "\tdataframe = dataframe[dataframe[\"breast-quad\"].notna()]\n",
    "\tdataframe = dataframe[dataframe[\"irradiat\"].notna()]\n",
    "\treturn dataframe.reset_index(drop=True)\n",
    "\n",
    "dataframe: pd.DataFrame = load_dataset()\n",
    "\n",
    "cleaned_dataframe = clean_dataset(dataframe)\n",
    "cleaned_dataframe\n"
   ]
  },
  {
   "cell_type": "markdown",
   "id": "4fe46db0",
   "metadata": {},
   "source": [
    "# Splitting"
   ]
  },
  {
   "cell_type": "code",
   "execution_count": 5,
   "id": "d51603bd",
   "metadata": {},
   "outputs": [
    {
     "data": {
      "text/plain": "(                    Class    age menopause tumor_size inv_nodes node_caps  \\\n 0    no-recurrence-events  40-49   premeno      30-34       0-2        no   \n 1    no-recurrence-events  50-59      ge40      10-14       0-2        no   \n 2       recurrence-events  40-49   premeno      25-29       0-2        no   \n 3    no-recurrence-events  50-59   premeno      25-29       3-5       yes   \n 4    no-recurrence-events  50-59      ge40      35-39       0-2        no   \n ..                    ...    ...       ...        ...       ...       ...   \n 194  no-recurrence-events  50-59   premeno      20-24       3-5       yes   \n 195     recurrence-events  30-39   premeno      35-39       0-2        no   \n 196  no-recurrence-events  30-39   premeno      30-34       0-2        no   \n 197     recurrence-events  50-59      ge40      30-34       6-8       yes   \n 198  no-recurrence-events  40-49   premeno      10-14       0-2        no   \n \n      deg-malig breast breast-quad  \n 0            1  right     left_up  \n 1            1  right     left_up  \n 2            2  right    left_low  \n 3            2   left    left_low  \n 4            2   left     left_up  \n ..         ...    ...         ...  \n 194          2   left    left_low  \n 195          3   left    left_low  \n 196          2   left     left_up  \n 197          2   left   right_low  \n 198          2  right     left_up  \n \n [199 rows x 9 columns],\n 0       no\n 1       no\n 2       no\n 3      yes\n 4       no\n       ... \n 194     no\n 195     no\n 196     no\n 197    yes\n 198     no\n Name: irradiat, Length: 199, dtype: object,\n                    Class    age menopause tumor_size inv_nodes node_caps  \\\n 0   no-recurrence-events  60-69      ge40      30-34       0-2        no   \n 1   no-recurrence-events  40-49   premeno      30-34       0-2        no   \n 2   no-recurrence-events  50-59      ge40      25-29       0-2        no   \n 3   no-recurrence-events  60-69      ge40      15-19       0-2        no   \n 4   no-recurrence-events  50-59      ge40      20-24       3-5       yes   \n 5      recurrence-events  50-59      ge40      30-34      9-11       yes   \n 6      recurrence-events  40-49   premeno      50-54       0-2        no   \n 7   no-recurrence-events  40-49   premeno      40-44       0-2        no   \n 8   no-recurrence-events  50-59      ge40      35-39     15-17        no   \n 9   no-recurrence-events  60-69      ge40      10-14       0-2        no   \n 10  no-recurrence-events  70-79      ge40        0-4       0-2        no   \n 11  no-recurrence-events  50-59      ge40      15-19       0-2        no   \n 12     recurrence-events  50-59      ge40      30-34       3-5        no   \n 13     recurrence-events  40-49   premeno      35-39       0-2        no   \n 14  no-recurrence-events  30-39   premeno      40-44       0-2        no   \n 15  no-recurrence-events  50-59   premeno      40-44       0-2        no   \n 16     recurrence-events  40-49   premeno      40-44       0-2        no   \n 17     recurrence-events  40-49   premeno      15-19       0-2        no   \n 18     recurrence-events  40-49   premeno      25-29       0-2        no   \n 19     recurrence-events  30-39   premeno      20-24       3-5       yes   \n 20  no-recurrence-events  50-59      ge40      30-34       6-8       yes   \n 21     recurrence-events  40-49   premeno      25-29       0-2        no   \n 22  no-recurrence-events  40-49   premeno      30-34       0-2        no   \n 23  no-recurrence-events  50-59      ge40      30-34       0-2        no   \n 24  no-recurrence-events  50-59      ge40      25-29     15-17       yes   \n 25  no-recurrence-events  50-59      ge40      20-24       0-2        no   \n 26  no-recurrence-events  60-69      ge40      15-19       0-2        no   \n 27  no-recurrence-events  40-49   premeno      35-39      9-11       yes   \n 28  no-recurrence-events  50-59      ge40        0-4       0-2        no   \n 29     recurrence-events  40-49   premeno      15-19       0-2       yes   \n 30  no-recurrence-events  30-39      lt40      15-19       0-2        no   \n 31  no-recurrence-events  40-49   premeno      20-24       0-2        no   \n 32  no-recurrence-events  50-59      ge40        5-9       0-2        no   \n 33  no-recurrence-events  40-49   premeno      25-29       0-2        no   \n 34  no-recurrence-events  50-59      ge40      40-44       0-2        no   \n 35  no-recurrence-events  40-49   premeno      20-24       0-2        no   \n \n     deg-malig breast breast-quad  \n 0           2   left     left_up  \n 1           3   left     left_up  \n 2           1   left    left_low  \n 3           3  right     left_up  \n 4           2  right     left_up  \n 5           3   left   right_low  \n 6           2  right    left_low  \n 7           2  right    left_low  \n 8           3   left    left_low  \n 9           1  right    left_low  \n 10          1   left   right_low  \n 11          1  right     central  \n 12          3   left    left_low  \n 13          1  right     left_up  \n 14          2  right    right_up  \n 15          2   left     left_up  \n 16          1   left    left_low  \n 17          2   left     left_up  \n 18          3   left    right_up  \n 19          2   left    left_low  \n 20          2   left    left_low  \n 21          2   left    left_low  \n 22          2   left   right_low  \n 23          1  right    left_low  \n 24          3  right     left_up  \n 25          3   left     left_up  \n 26          2   left     left_up  \n 27          2  right     left_up  \n 28          1  right     central  \n 29          3  right     left_up  \n 30          3  right     left_up  \n 31          2  right     left_up  \n 32          2  right    right_up  \n 33          1   left   right_low  \n 34          3   left     left_up  \n 35          1  right    left_low  ,\n 0      no\n 1      no\n 2      no\n 3     yes\n 4      no\n 5     yes\n 6     yes\n 7      no\n 8      no\n 9      no\n 10     no\n 11     no\n 12     no\n 13     no\n 14     no\n 15     no\n 16     no\n 17     no\n 18     no\n 19     no\n 20     no\n 21    yes\n 22     no\n 23     no\n 24     no\n 25     no\n 26    yes\n 27    yes\n 28     no\n 29     no\n 30     no\n 31     no\n 32     no\n 33     no\n 34     no\n 35     no\n Name: irradiat, dtype: object,\n                    Class    age menopause tumor_size inv_nodes node_caps  \\\n 0   no-recurrence-events  50-59      ge40      40-44       0-2        no   \n 1   no-recurrence-events  30-39   premeno      30-34       6-8       yes   \n 2      recurrence-events  40-49   premeno      30-34     15-17       yes   \n 3   no-recurrence-events  60-69      ge40      10-14       0-2        no   \n 4      recurrence-events  60-69      ge40      25-29       0-2        no   \n 5      recurrence-events  50-59      ge40      20-24       3-5       yes   \n 6   no-recurrence-events  60-69      ge40      15-19       0-2        no   \n 7      recurrence-events  30-39   premeno      30-34       0-2        no   \n 8      recurrence-events  30-39   premeno      35-39      9-11       yes   \n 9   no-recurrence-events  60-69      ge40      45-49       6-8       yes   \n 10  no-recurrence-events  40-49   premeno      25-29       0-2        no   \n 11     recurrence-events  60-69      ge40      40-44       0-2        no   \n 12     recurrence-events  40-49   premeno      25-29       0-2        no   \n 13  no-recurrence-events  50-59      ge40      30-34       0-2        no   \n 14     recurrence-events  30-39   premeno      30-34       0-2        no   \n 15  no-recurrence-events  40-49   premeno      35-39       0-2        no   \n 16  no-recurrence-events  50-59      ge40      15-19       0-2       yes   \n 17  no-recurrence-events  40-49   premeno      20-24       0-2        no   \n 18     recurrence-events  50-59   premeno      30-34       0-2        no   \n 19     recurrence-events  60-69      ge40      35-39       6-8       yes   \n 20  no-recurrence-events  50-59      ge40      30-34       0-2        no   \n 21  no-recurrence-events  50-59   premeno      15-19       0-2        no   \n 22  no-recurrence-events  50-59      ge40      25-29       0-2        no   \n 23  no-recurrence-events  50-59   premeno      10-14       0-2        no   \n 24     recurrence-events  60-69      ge40      20-24       0-2        no   \n 25     recurrence-events  60-69      ge40      30-34       0-2        no   \n 26  no-recurrence-events  40-49   premeno      20-24       0-2        no   \n 27  no-recurrence-events  60-69      ge40        5-9       0-2        no   \n 28  no-recurrence-events  40-49   premeno      20-24       0-2        no   \n 29  no-recurrence-events  30-39   premeno      10-14       0-2        no   \n 30  no-recurrence-events  30-39   premeno      25-29       0-2        no   \n 31  no-recurrence-events  50-59      ge40      25-29       3-5       yes   \n 32  no-recurrence-events  50-59   premeno      35-39       0-2        no   \n 33  no-recurrence-events  30-39   premeno      20-24       3-5       yes   \n 34     recurrence-events  40-49   premeno      30-34       3-5        no   \n 35  no-recurrence-events  50-59      ge40      10-14       0-2        no   \n 36     recurrence-events  60-69      ge40      20-24       3-5        no   \n 37     recurrence-events  50-59   premeno      25-29       0-2        no   \n 38  no-recurrence-events  50-59   premeno      25-29       0-2        no   \n 39  no-recurrence-events  50-59      ge40      35-39       0-2        no   \n 40  no-recurrence-events  40-49   premeno      25-29       0-2        no   \n 41  no-recurrence-events  40-49   premeno      20-24       0-2        no   \n \n     deg-malig breast breast-quad  \n 0           3  right     left_up  \n 1           2  right    right_up  \n 2           3   left    left_low  \n 3           1   left     left_up  \n 4           3   left     left_up  \n 5           3  right    right_up  \n 6           2  right     left_up  \n 7           1  right     left_up  \n 8           3   left    left_low  \n 9           3   left     central  \n 10          2  right     central  \n 11          2  right    left_low  \n 12          2  right    left_low  \n 13          3  right    left_low  \n 14          2   left     left_up  \n 15          2  right    right_up  \n 16          2   left     central  \n 17          2   left     central  \n 18          3   left    right_up  \n 19          3   left    left_low  \n 20          1   left     left_up  \n 21          2  right   right_low  \n 22          1   left   right_low  \n 23          2  right     left_up  \n 24          1  right     left_up  \n 25          3  right     central  \n 26          1   left   right_low  \n 27          1   left     central  \n 28          2  right     left_up  \n 29          1  right    left_low  \n 30          2  right    left_low  \n 31          3  right     left_up  \n 32          2  right     left_up  \n 33          2  right     left_up  \n 34          2  right     left_up  \n 35          1   left    left_low  \n 36          2   left    left_low  \n 37          3  right    left_low  \n 38          2   left    left_low  \n 39          3   left    left_low  \n 40          2  right    left_low  \n 41          3  right    left_low  ,\n 0      no\n 1      no\n 2      no\n 3      no\n 4      no\n 5      no\n 6      no\n 7      no\n 8      no\n 9      no\n 10     no\n 11     no\n 12     no\n 13     no\n 14     no\n 15     no\n 16    yes\n 17     no\n 18     no\n 19     no\n 20     no\n 21     no\n 22     no\n 23     no\n 24     no\n 25     no\n 26     no\n 27     no\n 28     no\n 29     no\n 30     no\n 31     no\n 32     no\n 33    yes\n 34     no\n 35     no\n 36    yes\n 37    yes\n 38     no\n 39     no\n 40     no\n 41    yes\n Name: irradiat, dtype: object)"
     },
     "execution_count": 5,
     "metadata": {},
     "output_type": "execute_result"
    }
   ],
   "source": [
    "def split_data(dataframe: pd.DataFrame):\n",
    "\ty = dataframe[\"irradiat\"]\n",
    "\tX = dataframe.drop(\"irradiat\", axis=1)\n",
    "\t\n",
    "\tX_train, X_test, y_train, y_test = train_test_split(X, y, test_size=0.15, random_state=42)\n",
    "\t\n",
    "\tX_train, X_val, y_train, y_val = train_test_split(X_train, y_train, test_size=0.15, random_state=42)\n",
    "\t\n",
    "\treturn X_train.reset_index(drop=True), y_train.reset_index(drop=True), X_val.reset_index(drop=True), y_val.reset_index(drop=True), X_test.reset_index(drop=True), y_test.reset_index(drop=True)\n",
    "\n",
    "dataframe: pd.DataFrame = load_dataset()\n",
    "\n",
    "cleaned_dataframe = clean_dataset(dataframe)\n",
    "\n",
    "X_train, y_train, X_val, y_val, X_test, y_test = split_data(cleaned_dataframe)\n",
    "X_train, y_train, X_val, y_val, X_test, y_test"
   ]
  },
  {
   "cell_type": "markdown",
   "id": "542afe61",
   "metadata": {},
   "source": [
    "# Transformation"
   ]
  },
  {
   "cell_type": "code",
   "execution_count": 6,
   "id": "29ee6f0e",
   "metadata": {},
   "outputs": [
    {
     "data": {
      "text/plain": "     Class  age  tumor_size  inv_nodes  node_caps  deg-malig  menopause_lt40  \\\n0    False  3.0         6.0        0.0      False        0.0             0.0   \n1    False  4.0         2.0        0.0      False        0.0             0.0   \n2     True  3.0         5.0        0.0      False        0.5             0.0   \n3    False  4.0         5.0        1.0       True        0.5             0.0   \n4    False  4.0         7.0        0.0      False        0.5             0.0   \n..     ...  ...         ...        ...        ...        ...             ...   \n194  False  4.0         4.0        1.0       True        0.5             0.0   \n195   True  2.0         7.0        0.0      False        1.0             0.0   \n196  False  2.0         6.0        0.0      False        0.5             0.0   \n197   True  4.0         6.0        2.0       True        0.5             0.0   \n198  False  3.0         2.0        0.0      False        0.5             0.0   \n\n     menopause_ge40  menopause_premeno  breast_left  breast_right  \\\n0               0.0                1.0          0.0           1.0   \n1               1.0                0.0          0.0           1.0   \n2               0.0                1.0          0.0           1.0   \n3               0.0                1.0          1.0           0.0   \n4               1.0                0.0          1.0           0.0   \n..              ...                ...          ...           ...   \n194             0.0                1.0          1.0           0.0   \n195             0.0                1.0          1.0           0.0   \n196             0.0                1.0          1.0           0.0   \n197             1.0                0.0          1.0           0.0   \n198             0.0                1.0          0.0           1.0   \n\n     breast-quad_left_up  breast-quad_left_low  breast-quad_right_up  \\\n0                    1.0                   0.0                   0.0   \n1                    1.0                   0.0                   0.0   \n2                    0.0                   1.0                   0.0   \n3                    0.0                   1.0                   0.0   \n4                    1.0                   0.0                   0.0   \n..                   ...                   ...                   ...   \n194                  0.0                   1.0                   0.0   \n195                  0.0                   1.0                   0.0   \n196                  1.0                   0.0                   0.0   \n197                  0.0                   0.0                   0.0   \n198                  1.0                   0.0                   0.0   \n\n     breast-quad_right_low  breast-quad_central  \n0                      0.0                  0.0  \n1                      0.0                  0.0  \n2                      0.0                  0.0  \n3                      0.0                  0.0  \n4                      0.0                  0.0  \n..                     ...                  ...  \n194                    0.0                  0.0  \n195                    0.0                  0.0  \n196                    0.0                  0.0  \n197                    1.0                  0.0  \n198                    0.0                  0.0  \n\n[199 rows x 16 columns]",
      "text/html": "<div>\n<style scoped>\n    .dataframe tbody tr th:only-of-type {\n        vertical-align: middle;\n    }\n\n    .dataframe tbody tr th {\n        vertical-align: top;\n    }\n\n    .dataframe thead th {\n        text-align: right;\n    }\n</style>\n<table border=\"1\" class=\"dataframe\">\n  <thead>\n    <tr style=\"text-align: right;\">\n      <th></th>\n      <th>Class</th>\n      <th>age</th>\n      <th>tumor_size</th>\n      <th>inv_nodes</th>\n      <th>node_caps</th>\n      <th>deg-malig</th>\n      <th>menopause_lt40</th>\n      <th>menopause_ge40</th>\n      <th>menopause_premeno</th>\n      <th>breast_left</th>\n      <th>breast_right</th>\n      <th>breast-quad_left_up</th>\n      <th>breast-quad_left_low</th>\n      <th>breast-quad_right_up</th>\n      <th>breast-quad_right_low</th>\n      <th>breast-quad_central</th>\n    </tr>\n  </thead>\n  <tbody>\n    <tr>\n      <th>0</th>\n      <td>False</td>\n      <td>3.0</td>\n      <td>6.0</td>\n      <td>0.0</td>\n      <td>False</td>\n      <td>0.0</td>\n      <td>0.0</td>\n      <td>0.0</td>\n      <td>1.0</td>\n      <td>0.0</td>\n      <td>1.0</td>\n      <td>1.0</td>\n      <td>0.0</td>\n      <td>0.0</td>\n      <td>0.0</td>\n      <td>0.0</td>\n    </tr>\n    <tr>\n      <th>1</th>\n      <td>False</td>\n      <td>4.0</td>\n      <td>2.0</td>\n      <td>0.0</td>\n      <td>False</td>\n      <td>0.0</td>\n      <td>0.0</td>\n      <td>1.0</td>\n      <td>0.0</td>\n      <td>0.0</td>\n      <td>1.0</td>\n      <td>1.0</td>\n      <td>0.0</td>\n      <td>0.0</td>\n      <td>0.0</td>\n      <td>0.0</td>\n    </tr>\n    <tr>\n      <th>2</th>\n      <td>True</td>\n      <td>3.0</td>\n      <td>5.0</td>\n      <td>0.0</td>\n      <td>False</td>\n      <td>0.5</td>\n      <td>0.0</td>\n      <td>0.0</td>\n      <td>1.0</td>\n      <td>0.0</td>\n      <td>1.0</td>\n      <td>0.0</td>\n      <td>1.0</td>\n      <td>0.0</td>\n      <td>0.0</td>\n      <td>0.0</td>\n    </tr>\n    <tr>\n      <th>3</th>\n      <td>False</td>\n      <td>4.0</td>\n      <td>5.0</td>\n      <td>1.0</td>\n      <td>True</td>\n      <td>0.5</td>\n      <td>0.0</td>\n      <td>0.0</td>\n      <td>1.0</td>\n      <td>1.0</td>\n      <td>0.0</td>\n      <td>0.0</td>\n      <td>1.0</td>\n      <td>0.0</td>\n      <td>0.0</td>\n      <td>0.0</td>\n    </tr>\n    <tr>\n      <th>4</th>\n      <td>False</td>\n      <td>4.0</td>\n      <td>7.0</td>\n      <td>0.0</td>\n      <td>False</td>\n      <td>0.5</td>\n      <td>0.0</td>\n      <td>1.0</td>\n      <td>0.0</td>\n      <td>1.0</td>\n      <td>0.0</td>\n      <td>1.0</td>\n      <td>0.0</td>\n      <td>0.0</td>\n      <td>0.0</td>\n      <td>0.0</td>\n    </tr>\n    <tr>\n      <th>...</th>\n      <td>...</td>\n      <td>...</td>\n      <td>...</td>\n      <td>...</td>\n      <td>...</td>\n      <td>...</td>\n      <td>...</td>\n      <td>...</td>\n      <td>...</td>\n      <td>...</td>\n      <td>...</td>\n      <td>...</td>\n      <td>...</td>\n      <td>...</td>\n      <td>...</td>\n      <td>...</td>\n    </tr>\n    <tr>\n      <th>194</th>\n      <td>False</td>\n      <td>4.0</td>\n      <td>4.0</td>\n      <td>1.0</td>\n      <td>True</td>\n      <td>0.5</td>\n      <td>0.0</td>\n      <td>0.0</td>\n      <td>1.0</td>\n      <td>1.0</td>\n      <td>0.0</td>\n      <td>0.0</td>\n      <td>1.0</td>\n      <td>0.0</td>\n      <td>0.0</td>\n      <td>0.0</td>\n    </tr>\n    <tr>\n      <th>195</th>\n      <td>True</td>\n      <td>2.0</td>\n      <td>7.0</td>\n      <td>0.0</td>\n      <td>False</td>\n      <td>1.0</td>\n      <td>0.0</td>\n      <td>0.0</td>\n      <td>1.0</td>\n      <td>1.0</td>\n      <td>0.0</td>\n      <td>0.0</td>\n      <td>1.0</td>\n      <td>0.0</td>\n      <td>0.0</td>\n      <td>0.0</td>\n    </tr>\n    <tr>\n      <th>196</th>\n      <td>False</td>\n      <td>2.0</td>\n      <td>6.0</td>\n      <td>0.0</td>\n      <td>False</td>\n      <td>0.5</td>\n      <td>0.0</td>\n      <td>0.0</td>\n      <td>1.0</td>\n      <td>1.0</td>\n      <td>0.0</td>\n      <td>1.0</td>\n      <td>0.0</td>\n      <td>0.0</td>\n      <td>0.0</td>\n      <td>0.0</td>\n    </tr>\n    <tr>\n      <th>197</th>\n      <td>True</td>\n      <td>4.0</td>\n      <td>6.0</td>\n      <td>2.0</td>\n      <td>True</td>\n      <td>0.5</td>\n      <td>0.0</td>\n      <td>1.0</td>\n      <td>0.0</td>\n      <td>1.0</td>\n      <td>0.0</td>\n      <td>0.0</td>\n      <td>0.0</td>\n      <td>0.0</td>\n      <td>1.0</td>\n      <td>0.0</td>\n    </tr>\n    <tr>\n      <th>198</th>\n      <td>False</td>\n      <td>3.0</td>\n      <td>2.0</td>\n      <td>0.0</td>\n      <td>False</td>\n      <td>0.5</td>\n      <td>0.0</td>\n      <td>0.0</td>\n      <td>1.0</td>\n      <td>0.0</td>\n      <td>1.0</td>\n      <td>1.0</td>\n      <td>0.0</td>\n      <td>0.0</td>\n      <td>0.0</td>\n      <td>0.0</td>\n    </tr>\n  </tbody>\n</table>\n<p>199 rows × 16 columns</p>\n</div>"
     },
     "execution_count": 6,
     "metadata": {},
     "output_type": "execute_result"
    }
   ],
   "source": [
    "def transform_data(X_train, X_val, X_test):\n",
    "\tX_train[\"Class\"] = X_train[\"Class\"].map({'recurrence-events': True, 'no-recurrence-events': False})\n",
    "\tX_val[\"Class\"] = X_val[\"Class\"].map({'recurrence-events': True, 'no-recurrence-events': False})\n",
    "\tX_test[\"Class\"] = X_test[\"Class\"].map({'recurrence-events': True, 'no-recurrence-events': False})\n",
    "\t\n",
    "\tordinal_encoder = OrdinalEncoder(categories=[['10-19', '20-29', '30-39', '40-49', '50-59', '60-69', '70-79', '80-89', '90-99']])\n",
    "\tX_train[\"age\"] = ordinal_encoder.fit_transform(X_train[[\"age\"]])\n",
    "\tX_val[\"age\"] = ordinal_encoder.fit_transform(X_val[[\"age\"]])\n",
    "\tX_test[\"age\"] = ordinal_encoder.fit_transform(X_test[[\"age\"]])\n",
    "\t\n",
    "\tone_hot_encoder = OneHotEncoder( categories=[['lt40', 'ge40', 'premeno']])\n",
    "\tX_train_encoded_values = one_hot_encoder.fit_transform(X_train[[\"menopause\"]]).toarray()\n",
    "\tX_val_encoded_values = one_hot_encoder.fit_transform(X_val[[\"menopause\"]]).toarray()\n",
    "\tX_test_encoded_values = one_hot_encoder.fit_transform(X_test[[\"menopause\"]]).toarray()\n",
    "\t\n",
    "\t\n",
    "\tX_train_encoded = pd.DataFrame(X_train_encoded_values, columns=[f\"menopause_{x}\" for x in one_hot_encoder.categories_[0]])\n",
    "\tX_val_encoded = pd.DataFrame(X_val_encoded_values, columns=[f\"menopause_{x}\" for x in one_hot_encoder.categories_[0]])\n",
    "\tX_test_encoded = pd.DataFrame(X_test_encoded_values, columns=[f\"menopause_{x}\" for x in one_hot_encoder.categories_[0]])\n",
    "\tX_train = X_train.join(X_train_encoded)\n",
    "\tX_val = X_val.join(X_val_encoded)\n",
    "\tX_test = X_test.join(X_test_encoded)\n",
    "\t\n",
    "\tX_train = X_train.drop(\"menopause\", axis=1)\n",
    "\tX_val = X_val.drop(\"menopause\", axis=1)\n",
    "\tX_test = X_test.drop(\"menopause\", axis=1)\n",
    "\tordinal_encoder = OrdinalEncoder(categories=[['0-4', '5-9', '10-14', '15-19', '20-24', '25-29', '30-34', '35-39', '40-44', '45-49', '50-54', '55-59']])\n",
    "\tX_train[\"tumor_size\"] = ordinal_encoder.fit_transform(X_train[[\"tumor_size\"]])\n",
    "\tX_val[\"tumor_size\"] = ordinal_encoder.fit_transform(X_val[[\"tumor_size\"]])\n",
    "\tX_test[\"tumor_size\"] = ordinal_encoder.fit_transform(X_test[[\"tumor_size\"]])\n",
    "\t\n",
    "\tordinal_encoder = OrdinalEncoder(categories=[['0-2', '3-5', '6-8', '9-11', '12-14', '15-17', '18-20', '21-23', '24-26', '27-29', '30-32', '33-35', '36-39']])\n",
    "\tX_train[\"inv_nodes\"] = ordinal_encoder.fit_transform(X_train[[\"inv_nodes\"]])\n",
    "\tX_val[\"inv_nodes\"] = ordinal_encoder.fit_transform(X_val[[\"inv_nodes\"]])\n",
    "\tX_test[\"inv_nodes\"] = ordinal_encoder.fit_transform(X_test[[\"inv_nodes\"]])\n",
    "\t\n",
    "\tX_train[\"node_caps\"] = X_train[\"node_caps\"].map({'yes': True, 'no': False})\n",
    "\tX_val[\"node_caps\"] = X_val[\"node_caps\"].map({'yes': True, 'no': False})\n",
    "\tX_test[\"node_caps\"] = X_test[\"node_caps\"].map({'yes': True, 'no': False})\n",
    "\t\n",
    "\tX_train[\"deg-malig\"] = X_train[\"deg-malig\"].astype(float) \n",
    "\tX_val[\"deg-malig\"] = X_val[\"deg-malig\"].astype(float) \n",
    "\tX_test[\"deg-malig\"] = X_test[\"deg-malig\"].astype(float) \n",
    "\tX_train[[\"deg-malig\"]] = minmax_scale(X_train[[\"deg-malig\"]]) \n",
    "\tX_val[[\"deg-malig\"]] = minmax_scale(X_val[[\"deg-malig\"]])\n",
    "\tX_test[[\"deg-malig\"]] = minmax_scale(X_test[[\"deg-malig\"]])\n",
    "\t\n",
    "\tone_hot_encoder = OneHotEncoder( categories=[['left', 'right']])\n",
    "\tX_train_encoded_values = one_hot_encoder.fit_transform(X_train[[\"breast\"]]).toarray()\n",
    "\tX_val_encoded_values = one_hot_encoder.fit_transform(X_val[[\"breast\"]]).toarray()\n",
    "\tX_test_encoded_values = one_hot_encoder.fit_transform(X_test[[\"breast\"]]).toarray()\n",
    "\t\n",
    "\t\n",
    "\tX_train_encoded = pd.DataFrame(X_train_encoded_values, columns=[f\"breast_{x}\" for x in one_hot_encoder.categories_[0]])\n",
    "\tX_val_encoded = pd.DataFrame(X_val_encoded_values, columns=[f\"breast_{x}\" for x in one_hot_encoder.categories_[0]])\n",
    "\tX_test_encoded = pd.DataFrame(X_test_encoded_values, columns=[f\"breast_{x}\" for x in one_hot_encoder.categories_[0]])\n",
    "\tX_train = X_train.join(X_train_encoded)\n",
    "\tX_val = X_val.join(X_val_encoded)\n",
    "\tX_test = X_test.join(X_test_encoded)\n",
    "\t\n",
    "\tX_train = X_train.drop(\"breast\", axis=1)\n",
    "\tX_val = X_val.drop(\"breast\", axis=1)\n",
    "\tX_test = X_test.drop(\"breast\", axis=1)\n",
    "\tone_hot_encoder = OneHotEncoder( categories=[['left_up', 'left_low', 'right_up', 'right_low', 'central']])\n",
    "\tX_train_encoded_values = one_hot_encoder.fit_transform(X_train[[\"breast-quad\"]]).toarray()\n",
    "\tX_val_encoded_values = one_hot_encoder.fit_transform(X_val[[\"breast-quad\"]]).toarray()\n",
    "\tX_test_encoded_values = one_hot_encoder.fit_transform(X_test[[\"breast-quad\"]]).toarray()\n",
    "\t\n",
    "\t\n",
    "\tX_train_encoded = pd.DataFrame(X_train_encoded_values, columns=[f\"breast-quad_{x}\" for x in one_hot_encoder.categories_[0]])\n",
    "\tX_val_encoded = pd.DataFrame(X_val_encoded_values, columns=[f\"breast-quad_{x}\" for x in one_hot_encoder.categories_[0]])\n",
    "\tX_test_encoded = pd.DataFrame(X_test_encoded_values, columns=[f\"breast-quad_{x}\" for x in one_hot_encoder.categories_[0]])\n",
    "\tX_train = X_train.join(X_train_encoded)\n",
    "\tX_val = X_val.join(X_val_encoded)\n",
    "\tX_test = X_test.join(X_test_encoded)\n",
    "\t\n",
    "\tX_train = X_train.drop(\"breast-quad\", axis=1)\n",
    "\tX_val = X_val.drop(\"breast-quad\", axis=1)\n",
    "\tX_test = X_test.drop(\"breast-quad\", axis=1)\n",
    "\treturn X_train, X_val, X_test\n",
    "\n",
    "dataframe: pd.DataFrame = load_dataset()\n",
    "cleaned_dataframe = clean_dataset(dataframe)\n",
    "X_train, y_train, X_val, y_val, X_test, y_test = split_data(cleaned_dataframe)\n",
    "X_train, X_val, X_test = transform_data(X_train, X_val, X_test)\n",
    "X_train\n"
   ]
  },
  {
   "cell_type": "markdown",
   "id": "fa0d90c3",
   "metadata": {},
   "source": [
    "# Mining \n",
    "| Classifier type | Hyper-parameters | Grid name |\n",
    "|------|------|------|\n",
    "| svc_classifier | {'C': [1.0, 2.0]} | grid_search_svc_classifier |\n",
    "| decision_tree_classifier | {'splitter': ['best', 'random'], 'criterion': ['gini', 'entropy'], 'min_samples_split': [10, 12]} | grid_search_decision_tree_classifier |\n",
    "| k_neighbor_classifier | {'n_neighbors': [5, 8]} | grid_search_k_neighbor_classifier |\n",
    "| mlp_classifier | {'solver': ['sgd', 'adam'], 'activation': ['tanh', 'identity']} | grid_search_mlp_classifier |\n",
    "| random_forest_classifier | {'criterion': ['gini', 'entropy'], 'n_estimators': [5, 2]} | grid_search_random_forest_classifier |\n"
   ]
  },
  {
   "cell_type": "code",
   "execution_count": 7,
   "id": "2c4e85c2",
   "metadata": {},
   "outputs": [
    {
     "name": "stdout",
     "output_type": "stream",
     "text": [
      "Fitting 1 folds for each of 2 candidates, totalling 2 fits\n",
      "[CV] END ..............................................C=1.0; total time=   0.0s\n",
      "[CV] END ..............................................C=2.0; total time=   0.0s\n"
     ]
    },
    {
     "data": {
      "text/plain": "{'C': 1.0}"
     },
     "execution_count": 7,
     "metadata": {},
     "output_type": "execute_result"
    }
   ],
   "source": [
    "svc_classifier = SVC()\n",
    "\n",
    "split = [-1 if i < len(X_train) else 0 for i in range(X_train.shape[0] + X_val.shape[0])]\n",
    "grid_search_svc_classifier = GridSearchCV(estimator=svc_classifier, param_grid={'C': [1.0, 2.0]}, scoring=\"accuracy\", cv=PredefinedSplit(split), verbose=2)\n",
    "grid_search_svc_classifier.fit(np.concatenate([X_train, X_val]), np.concatenate([y_train, y_val]))\n",
    "grid_search_svc_classifier.best_params_"
   ]
  },
  {
   "cell_type": "code",
   "execution_count": 8,
   "id": "73eb78f5",
   "metadata": {},
   "outputs": [
    {
     "name": "stdout",
     "output_type": "stream",
     "text": [
      "Fitting 1 folds for each of 8 candidates, totalling 8 fits\n",
      "[CV] END criterion=gini, min_samples_split=10, splitter=best; total time=   0.0s\n",
      "[CV] END criterion=gini, min_samples_split=10, splitter=random; total time=   0.0s\n",
      "[CV] END criterion=gini, min_samples_split=12, splitter=best; total time=   0.0s\n",
      "[CV] END criterion=gini, min_samples_split=12, splitter=random; total time=   0.0s\n",
      "[CV] END criterion=entropy, min_samples_split=10, splitter=best; total time=   0.0s\n",
      "[CV] END criterion=entropy, min_samples_split=10, splitter=random; total time=   0.0s\n",
      "[CV] END criterion=entropy, min_samples_split=12, splitter=best; total time=   0.0s\n",
      "[CV] END criterion=entropy, min_samples_split=12, splitter=random; total time=   0.0s\n"
     ]
    },
    {
     "data": {
      "text/plain": "{'criterion': 'gini', 'min_samples_split': 10, 'splitter': 'random'}"
     },
     "execution_count": 8,
     "metadata": {},
     "output_type": "execute_result"
    }
   ],
   "source": [
    "decision_tree_classifier = DecisionTreeClassifier()\n",
    "\n",
    "split = [-1 if i < len(X_train) else 0 for i in range(X_train.shape[0] + X_val.shape[0])]\n",
    "grid_search_decision_tree_classifier = GridSearchCV(estimator=decision_tree_classifier, param_grid={'splitter': ['best', 'random'], 'criterion': ['gini', 'entropy'], 'min_samples_split': [10, 12]}, scoring=\"accuracy\", cv=PredefinedSplit(split), verbose=2)\n",
    "grid_search_decision_tree_classifier.fit(np.concatenate([X_train, X_val]), np.concatenate([y_train, y_val]))\n",
    "grid_search_decision_tree_classifier.best_params_"
   ]
  },
  {
   "cell_type": "code",
   "execution_count": 9,
   "id": "8cea9f0d",
   "metadata": {},
   "outputs": [
    {
     "name": "stdout",
     "output_type": "stream",
     "text": [
      "Fitting 1 folds for each of 2 candidates, totalling 2 fits\n",
      "[CV] END ......................................n_neighbors=5; total time=   0.1s\n",
      "[CV] END ......................................n_neighbors=8; total time=   0.0s\n"
     ]
    },
    {
     "data": {
      "text/plain": "{'n_neighbors': 8}"
     },
     "execution_count": 9,
     "metadata": {},
     "output_type": "execute_result"
    }
   ],
   "source": [
    "k_neighbor_classifier = KNeighborsClassifier()\n",
    "\n",
    "split = [-1 if i < len(X_train) else 0 for i in range(X_train.shape[0] + X_val.shape[0])]\n",
    "grid_search_k_neighbor_classifier = GridSearchCV(estimator=k_neighbor_classifier, param_grid={'n_neighbors': [5, 8]}, scoring=\"accuracy\", cv=PredefinedSplit(split), verbose=2)\n",
    "grid_search_k_neighbor_classifier.fit(np.concatenate([X_train, X_val]), np.concatenate([y_train, y_val]))\n",
    "grid_search_k_neighbor_classifier.best_params_"
   ]
  },
  {
   "cell_type": "code",
   "execution_count": 10,
   "id": "afc2fb60",
   "metadata": {},
   "outputs": [
    {
     "name": "stdout",
     "output_type": "stream",
     "text": [
      "Fitting 1 folds for each of 4 candidates, totalling 4 fits\n",
      "[CV] END ........................activation=tanh, solver=sgd; total time=   0.3s\n",
      "[CV] END .......................activation=tanh, solver=adam; total time=   0.2s\n",
      "[CV] END ....................activation=identity, solver=sgd; total time=   0.1s\n",
      "[CV] END ...................activation=identity, solver=adam; total time=   0.1s\n"
     ]
    },
    {
     "data": {
      "text/plain": "{'activation': 'identity', 'solver': 'sgd'}"
     },
     "execution_count": 10,
     "metadata": {},
     "output_type": "execute_result"
    }
   ],
   "source": [
    "mlp_classifier = MLPClassifier()\n",
    "\n",
    "split = [-1 if i < len(X_train) else 0 for i in range(X_train.shape[0] + X_val.shape[0])]\n",
    "grid_search_mlp_classifier = GridSearchCV(estimator=mlp_classifier, param_grid={'solver': ['sgd', 'adam'], 'activation': ['tanh', 'identity']}, scoring=\"accuracy\", cv=PredefinedSplit(split), verbose=2)\n",
    "grid_search_mlp_classifier.fit(np.concatenate([X_train, X_val]), np.concatenate([y_train, y_val]))\n",
    "grid_search_mlp_classifier.best_params_"
   ]
  },
  {
   "cell_type": "code",
   "execution_count": 11,
   "id": "6dab8db3",
   "metadata": {},
   "outputs": [
    {
     "name": "stdout",
     "output_type": "stream",
     "text": [
      "Fitting 1 folds for each of 4 candidates, totalling 4 fits\n",
      "[CV] END .....................criterion=gini, n_estimators=5; total time=   0.0s\n",
      "[CV] END .....................criterion=gini, n_estimators=2; total time=   0.0s\n",
      "[CV] END ..................criterion=entropy, n_estimators=5; total time=   0.0s\n",
      "[CV] END ..................criterion=entropy, n_estimators=2; total time=   0.0s\n"
     ]
    },
    {
     "data": {
      "text/plain": "{'criterion': 'gini', 'n_estimators': 2}"
     },
     "execution_count": 11,
     "metadata": {},
     "output_type": "execute_result"
    }
   ],
   "source": [
    "random_forest_classifier = RandomForestClassifier()\n",
    "\n",
    "split = [-1 if i < len(X_train) else 0 for i in range(X_train.shape[0] + X_val.shape[0])]\n",
    "grid_search_random_forest_classifier = GridSearchCV(estimator=random_forest_classifier, param_grid={'criterion': ['gini', 'entropy'], 'n_estimators': [5, 2]}, scoring=\"accuracy\", cv=PredefinedSplit(split), verbose=2)\n",
    "grid_search_random_forest_classifier.fit(np.concatenate([X_train, X_val]), np.concatenate([y_train, y_val]))\n",
    "grid_search_random_forest_classifier.best_params_"
   ]
  },
  {
   "cell_type": "markdown",
   "id": "4c10e082",
   "metadata": {},
   "source": [
    "# Comparaison"
   ]
  },
  {
   "cell_type": "code",
   "execution_count": 12,
   "id": "304cd13d",
   "metadata": {},
   "outputs": [],
   "source": [
    "def comparaison_chart(grid_search_name):\n",
    "\tresults = grid_search_name.cv_results_\n",
    "\tparams = results[\"params\"]\n",
    "\tmean_tst_scores = results[\"mean_test_score\"]\n",
    "\tfor index, p in enumerate(params):\n",
    "\t\tp[\"mean_test_score\"] = mean_tst_scores[index]\n",
    "\tresults_dataframe = pd.DataFrame(params)\n",
    "\t\n",
    "\tcolumns_name = results_dataframe.columns.to_list()\n",
    "\tresults_dataframe = results_dataframe.sort_values(by=[\"mean_test_score\"], ascending=False)\n",
    "\tcolumns_name.remove(\"mean_test_score\")\n",
    "\tresults_dataframe[\"combinaison_hyperparameters\"] = results_dataframe[columns_name].apply(lambda x: \" | \".join(map(str, x)), axis=1)\n",
    "\t\n",
    "\t\n",
    "\tplt.barh(results_dataframe[\"combinaison_hyperparameters\"], results_dataframe[\"mean_test_score\"])\n",
    "\tplt.xlabel = \"score\"\n",
    "\tplt.ylabel = \"combinaison de paramètres\"\n",
    "\tplt.title = \"Résultats d entrainement\"\n",
    "\tplt.plot()\n"
   ]
  },
  {
   "cell_type": "code",
   "execution_count": 13,
   "id": "b0612c8d",
   "metadata": {},
   "outputs": [
    {
     "data": {
      "text/plain": "<Figure size 640x480 with 1 Axes>",
      "image/png": "[encoded data removed]"
     },
     "metadata": {},
     "output_type": "display_data"
    }
   ],
   "source": [
    "comparaison_chart(grid_search_svc_classifier)\n"
   ]
  },
  {
   "cell_type": "code",
   "execution_count": 14,
   "id": "4d1436b7",
   "metadata": {},
   "outputs": [
    {
     "data": {
      "text/plain": "<Figure size 640x480 with 1 Axes>",
      "image/png": "[encoded data removed]"
     },
     "metadata": {},
     "output_type": "display_data"
    }
   ],
   "source": [
    "comparaison_chart(grid_search_decision_tree_classifier)\n"
   ]
  },
  {
   "cell_type": "code",
   "execution_count": 15,
   "id": "ff0bfa28",
   "metadata": {},
   "outputs": [
    {
     "data": {
      "text/plain": "          svc_classifier  decision_tree_classifier\nf1_score        0.000000                  0.181818\nauc             0.459459                  0.532432",
      "text/html": "<div>\n<style scoped>\n    .dataframe tbody tr th:only-of-type {\n        vertical-align: middle;\n    }\n\n    .dataframe tbody tr th {\n        vertical-align: top;\n    }\n\n    .dataframe thead th {\n        text-align: right;\n    }\n</style>\n<table border=\"1\" class=\"dataframe\">\n  <thead>\n    <tr style=\"text-align: right;\">\n      <th></th>\n      <th>svc_classifier</th>\n      <th>decision_tree_classifier</th>\n    </tr>\n  </thead>\n  <tbody>\n    <tr>\n      <th>f1_score</th>\n      <td>0.000000</td>\n      <td>0.181818</td>\n    </tr>\n    <tr>\n      <th>auc</th>\n      <td>0.459459</td>\n      <td>0.532432</td>\n    </tr>\n  </tbody>\n</table>\n</div>"
     },
     "execution_count": 15,
     "metadata": {},
     "output_type": "execute_result"
    },
    {
     "data": {
      "text/plain": "<Figure size 640x480 with 1 Axes>",
      "image/png": "[encoded data removed]"
     },
     "metadata": {},
     "output_type": "display_data"
    },
    {
     "data": {
      "text/plain": "<Figure size 640x480 with 1 Axes>",
      "image/png": "[encoded data removed]"
     },
     "metadata": {},
     "output_type": "display_data"
    }
   ],
   "source": [
    "scores = {}\n",
    "y_test_format = y_test.to_numpy()\n",
    "y_test_format = np.array(np.where(y_test_format == \"no\", 0, 1), dtype=int)\n",
    "prediction = grid_search_svc_classifier.predict(X_test)\n",
    "prediction = np.array(np.where(prediction == \"no\", 0, 1), dtype=int)\n",
    "scores[\"svc_classifier\"] = {}\n",
    "\n",
    "scores[\"svc_classifier\"][\"f1_score\"] = f1_score(y_test_format, prediction)\n",
    "\n",
    "scores[\"svc_classifier\"][\"auc\"] = roc_auc_score(y_test_format, prediction)\n",
    "\n",
    "prediction = grid_search_decision_tree_classifier.predict(X_test)\n",
    "prediction = np.array(np.where(prediction == \"no\", 0, 1), dtype=int)\n",
    "scores[\"decision_tree_classifier\"] = {}\n",
    "\n",
    "scores[\"decision_tree_classifier\"][\"f1_score\"] = f1_score(y_test_format, prediction)\n",
    "\n",
    "scores[\"decision_tree_classifier\"][\"auc\"] = roc_auc_score(y_test_format, prediction)\n",
    "\n",
    "plot_df = pd.DataFrame(scores)\n",
    "for cls in ['svc_classifier', 'decision_tree_classifier']:\n",
    "\tplot_df.plot(y=cls, kind=\"bar\", use_index=True)\n",
    "plot_df\n"
   ]
  }
 ],
 "metadata": {},
 "nbformat": 4,
 "nbformat_minor": 5
}
