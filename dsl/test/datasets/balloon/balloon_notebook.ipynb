{
 "cells": [
  {
   "cell_type": "code",
   "execution_count": 21,
   "id": "06db843d",
   "metadata": {},
   "outputs": [],
   "source": [
    "import pandas as pd\n",
    "import numpy as np\n",
    "from sklearn.model_selection import train_test_split\n",
    "from sklearn.preprocessing import minmax_scale\n",
    "from sklearn.preprocessing import OrdinalEncoder\n",
    "from sklearn.preprocessing import OneHotEncoder\n",
    "from sklearn.model_selection import GridSearchCV\n",
    "from sklearn.model_selection import PredefinedSplit\n",
    "from sklearn.svm import SVC\n",
    "from sklearn.tree import DecisionTreeClassifier\n",
    "from sklearn.neighbors import KNeighborsClassifier\n",
    "from sklearn.neural_network import MLPClassifier\n",
    "from sklearn.ensemble import RandomForestClassifier\n",
    "import matplotlib.pyplot as plt\n",
    "from sklearn.metrics import accuracy_score, precision_score, recall_score, f1_score, roc_auc_score\n"
   ]
  },
  {
   "cell_type": "code",
   "execution_count": 22,
   "id": "9a20f59a",
   "metadata": {},
   "outputs": [],
   "source": [
    "import warnings\n",
    "warnings.filterwarnings('ignore')"
   ]
  },
  {
   "cell_type": "markdown",
   "id": "082ff31c",
   "metadata": {},
   "source": [
    "![alt text](dataset.csv_mindmap.png \"Mindmap\")"
   ]
  },
  {
   "cell_type": "markdown",
   "id": "3f777e9a",
   "metadata": {},
   "source": [
    "# Préprocessing\n",
    "| Column name | Column type | Use default transformation ? | Cleaning method | Possible values | Is Label ? |\n",
    "|------|------|------|------|------|------|\n",
    "| color | Nominal Qualitative | Yes | Delete Line | YELLOW / PURPLE | No |\n",
    "| size | Ordinal Qualitative | Yes | Delete Line | SMALL / LARGE | No |\n",
    "| act | Nominal Qualitative | Yes | Delete Line | STRETCH / DIP | No |\n",
    "| age | Nominal Qualitative | Yes | Delete Line | ADULT / CHILD | No |\n",
    "| result | Boolean | Yes | Delete Line | True value = T / False value = F | Yes |\n"
   ]
  },
  {
   "cell_type": "markdown",
   "id": "a46d3cb2",
   "metadata": {},
   "source": [
    "## We import the dataset"
   ]
  },
  {
   "cell_type": "code",
   "execution_count": 23,
   "id": "9be84805",
   "metadata": {},
   "outputs": [
    {
     "data": {
      "text/plain": "     color   size      act    age result\n0   YELLOW  SMALL  STRETCH  ADULT      T\n1   YELLOW  SMALL  STRETCH  CHILD      T\n2   YELLOW  SMALL      DIP  ADULT      T\n3   YELLOW  SMALL      DIP  CHILD      T\n4   YELLOW  SMALL  STRETCH  ADULT      T\n5   YELLOW  SMALL  STRETCH  CHILD      T\n6   YELLOW  SMALL      DIP  ADULT      T\n7   YELLOW  SMALL      DIP  CHILD      T\n8   YELLOW  LARGE  STRETCH  ADULT      F\n9   YELLOW  LARGE  STRETCH  CHILD      F\n10  YELLOW  LARGE      DIP  ADULT      F\n11  YELLOW  LARGE      DIP  CHILD      F\n12  PURPLE  SMALL  STRETCH  ADULT      F\n13  PURPLE  SMALL  STRETCH  CHILD      F\n14  PURPLE  SMALL      DIP  ADULT      F\n15  PURPLE  SMALL      DIP  CHILD      F\n16  PURPLE  LARGE  STRETCH  ADULT      F\n17  PURPLE  LARGE  STRETCH  CHILD      F\n18  PURPLE  LARGE      DIP  ADULT      F\n19  PURPLE  LARGE      DIP  CHILD      F",
      "text/html": "<div>\n<style scoped>\n    .dataframe tbody tr th:only-of-type {\n        vertical-align: middle;\n    }\n\n    .dataframe tbody tr th {\n        vertical-align: top;\n    }\n\n    .dataframe thead th {\n        text-align: right;\n    }\n</style>\n<table border=\"1\" class=\"dataframe\">\n  <thead>\n    <tr style=\"text-align: right;\">\n      <th></th>\n      <th>color</th>\n      <th>size</th>\n      <th>act</th>\n      <th>age</th>\n      <th>result</th>\n    </tr>\n  </thead>\n  <tbody>\n    <tr>\n      <th>0</th>\n      <td>YELLOW</td>\n      <td>SMALL</td>\n      <td>STRETCH</td>\n      <td>ADULT</td>\n      <td>T</td>\n    </tr>\n    <tr>\n      <th>1</th>\n      <td>YELLOW</td>\n      <td>SMALL</td>\n      <td>STRETCH</td>\n      <td>CHILD</td>\n      <td>T</td>\n    </tr>\n    <tr>\n      <th>2</th>\n      <td>YELLOW</td>\n      <td>SMALL</td>\n      <td>DIP</td>\n      <td>ADULT</td>\n      <td>T</td>\n    </tr>\n    <tr>\n      <th>3</th>\n      <td>YELLOW</td>\n      <td>SMALL</td>\n      <td>DIP</td>\n      <td>CHILD</td>\n      <td>T</td>\n    </tr>\n    <tr>\n      <th>4</th>\n      <td>YELLOW</td>\n      <td>SMALL</td>\n      <td>STRETCH</td>\n      <td>ADULT</td>\n      <td>T</td>\n    </tr>\n    <tr>\n      <th>5</th>\n      <td>YELLOW</td>\n      <td>SMALL</td>\n      <td>STRETCH</td>\n      <td>CHILD</td>\n      <td>T</td>\n    </tr>\n    <tr>\n      <th>6</th>\n      <td>YELLOW</td>\n      <td>SMALL</td>\n      <td>DIP</td>\n      <td>ADULT</td>\n      <td>T</td>\n    </tr>\n    <tr>\n      <th>7</th>\n      <td>YELLOW</td>\n      <td>SMALL</td>\n      <td>DIP</td>\n      <td>CHILD</td>\n      <td>T</td>\n    </tr>\n    <tr>\n      <th>8</th>\n      <td>YELLOW</td>\n      <td>LARGE</td>\n      <td>STRETCH</td>\n      <td>ADULT</td>\n      <td>F</td>\n    </tr>\n    <tr>\n      <th>9</th>\n      <td>YELLOW</td>\n      <td>LARGE</td>\n      <td>STRETCH</td>\n      <td>CHILD</td>\n      <td>F</td>\n    </tr>\n    <tr>\n      <th>10</th>\n      <td>YELLOW</td>\n      <td>LARGE</td>\n      <td>DIP</td>\n      <td>ADULT</td>\n      <td>F</td>\n    </tr>\n    <tr>\n      <th>11</th>\n      <td>YELLOW</td>\n      <td>LARGE</td>\n      <td>DIP</td>\n      <td>CHILD</td>\n      <td>F</td>\n    </tr>\n    <tr>\n      <th>12</th>\n      <td>PURPLE</td>\n      <td>SMALL</td>\n      <td>STRETCH</td>\n      <td>ADULT</td>\n      <td>F</td>\n    </tr>\n    <tr>\n      <th>13</th>\n      <td>PURPLE</td>\n      <td>SMALL</td>\n      <td>STRETCH</td>\n      <td>CHILD</td>\n      <td>F</td>\n    </tr>\n    <tr>\n      <th>14</th>\n      <td>PURPLE</td>\n      <td>SMALL</td>\n      <td>DIP</td>\n      <td>ADULT</td>\n      <td>F</td>\n    </tr>\n    <tr>\n      <th>15</th>\n      <td>PURPLE</td>\n      <td>SMALL</td>\n      <td>DIP</td>\n      <td>CHILD</td>\n      <td>F</td>\n    </tr>\n    <tr>\n      <th>16</th>\n      <td>PURPLE</td>\n      <td>LARGE</td>\n      <td>STRETCH</td>\n      <td>ADULT</td>\n      <td>F</td>\n    </tr>\n    <tr>\n      <th>17</th>\n      <td>PURPLE</td>\n      <td>LARGE</td>\n      <td>STRETCH</td>\n      <td>CHILD</td>\n      <td>F</td>\n    </tr>\n    <tr>\n      <th>18</th>\n      <td>PURPLE</td>\n      <td>LARGE</td>\n      <td>DIP</td>\n      <td>ADULT</td>\n      <td>F</td>\n    </tr>\n    <tr>\n      <th>19</th>\n      <td>PURPLE</td>\n      <td>LARGE</td>\n      <td>DIP</td>\n      <td>CHILD</td>\n      <td>F</td>\n    </tr>\n  </tbody>\n</table>\n</div>"
     },
     "execution_count": 23,
     "metadata": {},
     "output_type": "execute_result"
    }
   ],
   "source": [
    "def load_dataset() -> pd.DataFrame:\n",
    "\tcurrent_dataset = pd.read_csv(\"dataset.csv\", header=None)\n",
    "\tcurrent_dataset.columns = ['color', 'size', 'act', 'age', 'result']\n",
    "\treturn current_dataset\n",
    "\n",
    "dataframe: pd.DataFrame = load_dataset()\n",
    "dataframe"
   ]
  },
  {
   "cell_type": "code",
   "execution_count": 24,
   "id": "2cc5f11c",
   "metadata": {},
   "outputs": [
    {
     "data": {
      "text/plain": "     color   size      act    age result\n0   YELLOW  SMALL  STRETCH  ADULT      T\n1   YELLOW  SMALL  STRETCH  CHILD      T\n2   YELLOW  SMALL      DIP  ADULT      T\n3   YELLOW  SMALL      DIP  CHILD      T\n4   YELLOW  SMALL  STRETCH  ADULT      T\n5   YELLOW  SMALL  STRETCH  CHILD      T\n6   YELLOW  SMALL      DIP  ADULT      T\n7   YELLOW  SMALL      DIP  CHILD      T\n8   YELLOW  LARGE  STRETCH  ADULT      F\n9   YELLOW  LARGE  STRETCH  CHILD      F\n10  YELLOW  LARGE      DIP  ADULT      F\n11  YELLOW  LARGE      DIP  CHILD      F\n12  PURPLE  SMALL  STRETCH  ADULT      F\n13  PURPLE  SMALL  STRETCH  CHILD      F\n14  PURPLE  SMALL      DIP  ADULT      F\n15  PURPLE  SMALL      DIP  CHILD      F\n16  PURPLE  LARGE  STRETCH  ADULT      F\n17  PURPLE  LARGE  STRETCH  CHILD      F\n18  PURPLE  LARGE      DIP  ADULT      F\n19  PURPLE  LARGE      DIP  CHILD      F",
      "text/html": "<div>\n<style scoped>\n    .dataframe tbody tr th:only-of-type {\n        vertical-align: middle;\n    }\n\n    .dataframe tbody tr th {\n        vertical-align: top;\n    }\n\n    .dataframe thead th {\n        text-align: right;\n    }\n</style>\n<table border=\"1\" class=\"dataframe\">\n  <thead>\n    <tr style=\"text-align: right;\">\n      <th></th>\n      <th>color</th>\n      <th>size</th>\n      <th>act</th>\n      <th>age</th>\n      <th>result</th>\n    </tr>\n  </thead>\n  <tbody>\n    <tr>\n      <th>0</th>\n      <td>YELLOW</td>\n      <td>SMALL</td>\n      <td>STRETCH</td>\n      <td>ADULT</td>\n      <td>T</td>\n    </tr>\n    <tr>\n      <th>1</th>\n      <td>YELLOW</td>\n      <td>SMALL</td>\n      <td>STRETCH</td>\n      <td>CHILD</td>\n      <td>T</td>\n    </tr>\n    <tr>\n      <th>2</th>\n      <td>YELLOW</td>\n      <td>SMALL</td>\n      <td>DIP</td>\n      <td>ADULT</td>\n      <td>T</td>\n    </tr>\n    <tr>\n      <th>3</th>\n      <td>YELLOW</td>\n      <td>SMALL</td>\n      <td>DIP</td>\n      <td>CHILD</td>\n      <td>T</td>\n    </tr>\n    <tr>\n      <th>4</th>\n      <td>YELLOW</td>\n      <td>SMALL</td>\n      <td>STRETCH</td>\n      <td>ADULT</td>\n      <td>T</td>\n    </tr>\n    <tr>\n      <th>5</th>\n      <td>YELLOW</td>\n      <td>SMALL</td>\n      <td>STRETCH</td>\n      <td>CHILD</td>\n      <td>T</td>\n    </tr>\n    <tr>\n      <th>6</th>\n      <td>YELLOW</td>\n      <td>SMALL</td>\n      <td>DIP</td>\n      <td>ADULT</td>\n      <td>T</td>\n    </tr>\n    <tr>\n      <th>7</th>\n      <td>YELLOW</td>\n      <td>SMALL</td>\n      <td>DIP</td>\n      <td>CHILD</td>\n      <td>T</td>\n    </tr>\n    <tr>\n      <th>8</th>\n      <td>YELLOW</td>\n      <td>LARGE</td>\n      <td>STRETCH</td>\n      <td>ADULT</td>\n      <td>F</td>\n    </tr>\n    <tr>\n      <th>9</th>\n      <td>YELLOW</td>\n      <td>LARGE</td>\n      <td>STRETCH</td>\n      <td>CHILD</td>\n      <td>F</td>\n    </tr>\n    <tr>\n      <th>10</th>\n      <td>YELLOW</td>\n      <td>LARGE</td>\n      <td>DIP</td>\n      <td>ADULT</td>\n      <td>F</td>\n    </tr>\n    <tr>\n      <th>11</th>\n      <td>YELLOW</td>\n      <td>LARGE</td>\n      <td>DIP</td>\n      <td>CHILD</td>\n      <td>F</td>\n    </tr>\n    <tr>\n      <th>12</th>\n      <td>PURPLE</td>\n      <td>SMALL</td>\n      <td>STRETCH</td>\n      <td>ADULT</td>\n      <td>F</td>\n    </tr>\n    <tr>\n      <th>13</th>\n      <td>PURPLE</td>\n      <td>SMALL</td>\n      <td>STRETCH</td>\n      <td>CHILD</td>\n      <td>F</td>\n    </tr>\n    <tr>\n      <th>14</th>\n      <td>PURPLE</td>\n      <td>SMALL</td>\n      <td>DIP</td>\n      <td>ADULT</td>\n      <td>F</td>\n    </tr>\n    <tr>\n      <th>15</th>\n      <td>PURPLE</td>\n      <td>SMALL</td>\n      <td>DIP</td>\n      <td>CHILD</td>\n      <td>F</td>\n    </tr>\n    <tr>\n      <th>16</th>\n      <td>PURPLE</td>\n      <td>LARGE</td>\n      <td>STRETCH</td>\n      <td>ADULT</td>\n      <td>F</td>\n    </tr>\n    <tr>\n      <th>17</th>\n      <td>PURPLE</td>\n      <td>LARGE</td>\n      <td>STRETCH</td>\n      <td>CHILD</td>\n      <td>F</td>\n    </tr>\n    <tr>\n      <th>18</th>\n      <td>PURPLE</td>\n      <td>LARGE</td>\n      <td>DIP</td>\n      <td>ADULT</td>\n      <td>F</td>\n    </tr>\n    <tr>\n      <th>19</th>\n      <td>PURPLE</td>\n      <td>LARGE</td>\n      <td>DIP</td>\n      <td>CHILD</td>\n      <td>F</td>\n    </tr>\n  </tbody>\n</table>\n</div>"
     },
     "execution_count": 24,
     "metadata": {},
     "output_type": "execute_result"
    }
   ],
   "source": [
    "def clean_dataset(dataframe: pd.DataFrame) -> pd.DataFrame:\n",
    "\tdataframe = dataframe.replace(\"?\", np.nan)\n",
    "\tdataframe = dataframe[dataframe[\"color\"].notna()]\n",
    "\tdataframe = dataframe[dataframe[\"size\"].notna()]\n",
    "\tdataframe = dataframe[dataframe[\"act\"].notna()]\n",
    "\tdataframe = dataframe[dataframe[\"age\"].notna()]\n",
    "\tdataframe = dataframe[dataframe[\"result\"].notna()]\n",
    "\treturn dataframe.reset_index(drop=True)\n",
    "\n",
    "dataframe: pd.DataFrame = load_dataset()\n",
    "\n",
    "cleaned_dataframe = clean_dataset(dataframe)\n",
    "cleaned_dataframe\n"
   ]
  },
  {
   "cell_type": "markdown",
   "id": "fdb20040",
   "metadata": {},
   "source": [
    "# Splitting"
   ]
  },
  {
   "cell_type": "code",
   "execution_count": 25,
   "id": "918ad294",
   "metadata": {},
   "outputs": [
    {
     "data": {
      "text/plain": "(     color   size      act    age\n 0   YELLOW  LARGE      DIP  ADULT\n 1   PURPLE  SMALL  STRETCH  ADULT\n 2   YELLOW  LARGE  STRETCH  CHILD\n 3   PURPLE  LARGE      DIP  CHILD\n 4   YELLOW  LARGE      DIP  CHILD\n 5   YELLOW  SMALL      DIP  ADULT\n 6   PURPLE  LARGE      DIP  ADULT\n 7   YELLOW  SMALL      DIP  ADULT\n 8   YELLOW  SMALL  STRETCH  ADULT\n 9   YELLOW  SMALL      DIP  CHILD\n 10  YELLOW  SMALL      DIP  CHILD\n 11  PURPLE  SMALL  STRETCH  CHILD,\n 0     F\n 1     F\n 2     F\n 3     F\n 4     F\n 5     T\n 6     F\n 7     T\n 8     T\n 9     T\n 10    T\n 11    F\n Name: result, dtype: object,\n     color   size      act    age\n 0  YELLOW  LARGE  STRETCH  ADULT\n 1  YELLOW  SMALL  STRETCH  CHILD\n 2  PURPLE  LARGE  STRETCH  ADULT\n 3  PURPLE  SMALL      DIP  ADULT,\n 0    F\n 1    T\n 2    F\n 3    F\n Name: result, dtype: object,\n     color   size      act    age\n 0  YELLOW  SMALL  STRETCH  ADULT\n 1  PURPLE  LARGE  STRETCH  CHILD\n 2  PURPLE  SMALL      DIP  CHILD\n 3  YELLOW  SMALL  STRETCH  CHILD,\n 0    T\n 1    F\n 2    F\n 3    T\n Name: result, dtype: object)"
     },
     "execution_count": 25,
     "metadata": {},
     "output_type": "execute_result"
    }
   ],
   "source": [
    "def split_data(dataframe: pd.DataFrame):\n",
    "\ty = dataframe[\"result\"]\n",
    "\tX = dataframe.drop(\"result\", axis=1)\n",
    "\n",
    "\tX_train, X_test, y_train, y_test = train_test_split(X, y, test_size=0.2, random_state=42)\n",
    "\n",
    "\tX_train, X_val, y_train, y_val = train_test_split(X_train, y_train, test_size=0.2, random_state=42)\n",
    "\n",
    "\treturn X_train.reset_index(drop=True), y_train.reset_index(drop=True), X_val.reset_index(drop=True), y_val.reset_index(drop=True), X_test.reset_index(drop=True), y_test.reset_index(drop=True)\n",
    "\n",
    "dataframe: pd.DataFrame = load_dataset()\n",
    "\n",
    "cleaned_dataframe = clean_dataset(dataframe)\n",
    "\n",
    "X_train, y_train, X_val, y_val, X_test, y_test = split_data(cleaned_dataframe)\n",
    "X_train, y_train, X_val, y_val, X_test, y_test"
   ]
  },
  {
   "cell_type": "markdown",
   "id": "cd88c329",
   "metadata": {},
   "source": [
    "# Transformation"
   ]
  },
  {
   "cell_type": "code",
   "execution_count": 26,
   "id": "03e7c2a8",
   "metadata": {},
   "outputs": [
    {
     "data": {
      "text/plain": "    size  color_YELLOW  color_PURPLE  act_STRETCH  act_DIP  age_ADULT  \\\n0    1.0           1.0           0.0          0.0      1.0        1.0   \n1    0.0           0.0           1.0          1.0      0.0        1.0   \n2    1.0           1.0           0.0          1.0      0.0        0.0   \n3    1.0           0.0           1.0          0.0      1.0        0.0   \n4    1.0           1.0           0.0          0.0      1.0        0.0   \n5    0.0           1.0           0.0          0.0      1.0        1.0   \n6    1.0           0.0           1.0          0.0      1.0        1.0   \n7    0.0           1.0           0.0          0.0      1.0        1.0   \n8    0.0           1.0           0.0          1.0      0.0        1.0   \n9    0.0           1.0           0.0          0.0      1.0        0.0   \n10   0.0           1.0           0.0          0.0      1.0        0.0   \n11   0.0           0.0           1.0          1.0      0.0        0.0   \n\n    age_CHILD  \n0         0.0  \n1         0.0  \n2         1.0  \n3         1.0  \n4         1.0  \n5         0.0  \n6         0.0  \n7         0.0  \n8         0.0  \n9         1.0  \n10        1.0  \n11        1.0  ",
      "text/html": "<div>\n<style scoped>\n    .dataframe tbody tr th:only-of-type {\n        vertical-align: middle;\n    }\n\n    .dataframe tbody tr th {\n        vertical-align: top;\n    }\n\n    .dataframe thead th {\n        text-align: right;\n    }\n</style>\n<table border=\"1\" class=\"dataframe\">\n  <thead>\n    <tr style=\"text-align: right;\">\n      <th></th>\n      <th>size</th>\n      <th>color_YELLOW</th>\n      <th>color_PURPLE</th>\n      <th>act_STRETCH</th>\n      <th>act_DIP</th>\n      <th>age_ADULT</th>\n      <th>age_CHILD</th>\n    </tr>\n  </thead>\n  <tbody>\n    <tr>\n      <th>0</th>\n      <td>1.0</td>\n      <td>1.0</td>\n      <td>0.0</td>\n      <td>0.0</td>\n      <td>1.0</td>\n      <td>1.0</td>\n      <td>0.0</td>\n    </tr>\n    <tr>\n      <th>1</th>\n      <td>0.0</td>\n      <td>0.0</td>\n      <td>1.0</td>\n      <td>1.0</td>\n      <td>0.0</td>\n      <td>1.0</td>\n      <td>0.0</td>\n    </tr>\n    <tr>\n      <th>2</th>\n      <td>1.0</td>\n      <td>1.0</td>\n      <td>0.0</td>\n      <td>1.0</td>\n      <td>0.0</td>\n      <td>0.0</td>\n      <td>1.0</td>\n    </tr>\n    <tr>\n      <th>3</th>\n      <td>1.0</td>\n      <td>0.0</td>\n      <td>1.0</td>\n      <td>0.0</td>\n      <td>1.0</td>\n      <td>0.0</td>\n      <td>1.0</td>\n    </tr>\n    <tr>\n      <th>4</th>\n      <td>1.0</td>\n      <td>1.0</td>\n      <td>0.0</td>\n      <td>0.0</td>\n      <td>1.0</td>\n      <td>0.0</td>\n      <td>1.0</td>\n    </tr>\n    <tr>\n      <th>5</th>\n      <td>0.0</td>\n      <td>1.0</td>\n      <td>0.0</td>\n      <td>0.0</td>\n      <td>1.0</td>\n      <td>1.0</td>\n      <td>0.0</td>\n    </tr>\n    <tr>\n      <th>6</th>\n      <td>1.0</td>\n      <td>0.0</td>\n      <td>1.0</td>\n      <td>0.0</td>\n      <td>1.0</td>\n      <td>1.0</td>\n      <td>0.0</td>\n    </tr>\n    <tr>\n      <th>7</th>\n      <td>0.0</td>\n      <td>1.0</td>\n      <td>0.0</td>\n      <td>0.0</td>\n      <td>1.0</td>\n      <td>1.0</td>\n      <td>0.0</td>\n    </tr>\n    <tr>\n      <th>8</th>\n      <td>0.0</td>\n      <td>1.0</td>\n      <td>0.0</td>\n      <td>1.0</td>\n      <td>0.0</td>\n      <td>1.0</td>\n      <td>0.0</td>\n    </tr>\n    <tr>\n      <th>9</th>\n      <td>0.0</td>\n      <td>1.0</td>\n      <td>0.0</td>\n      <td>0.0</td>\n      <td>1.0</td>\n      <td>0.0</td>\n      <td>1.0</td>\n    </tr>\n    <tr>\n      <th>10</th>\n      <td>0.0</td>\n      <td>1.0</td>\n      <td>0.0</td>\n      <td>0.0</td>\n      <td>1.0</td>\n      <td>0.0</td>\n      <td>1.0</td>\n    </tr>\n    <tr>\n      <th>11</th>\n      <td>0.0</td>\n      <td>0.0</td>\n      <td>1.0</td>\n      <td>1.0</td>\n      <td>0.0</td>\n      <td>0.0</td>\n      <td>1.0</td>\n    </tr>\n  </tbody>\n</table>\n</div>"
     },
     "execution_count": 26,
     "metadata": {},
     "output_type": "execute_result"
    }
   ],
   "source": [
    "def transform_data(X_train, X_val, X_test):\n",
    "\tone_hot_encoder = OneHotEncoder( categories=[['YELLOW', 'PURPLE']])\n",
    "\tX_train_encoded_values = one_hot_encoder.fit_transform(X_train[[\"color\"]]).toarray()\n",
    "\tX_val_encoded_values = one_hot_encoder.fit_transform(X_val[[\"color\"]]).toarray()\n",
    "\tX_test_encoded_values = one_hot_encoder.fit_transform(X_test[[\"color\"]]).toarray()\n",
    "\n",
    "\n",
    "\tX_train_encoded = pd.DataFrame(X_train_encoded_values, columns=[f\"color_{x}\" for x in one_hot_encoder.categories_[0]])\n",
    "\tX_val_encoded = pd.DataFrame(X_val_encoded_values, columns=[f\"color_{x}\" for x in one_hot_encoder.categories_[0]])\n",
    "\tX_test_encoded = pd.DataFrame(X_test_encoded_values, columns=[f\"color_{x}\" for x in one_hot_encoder.categories_[0]])\n",
    "\tX_train = X_train.join(X_train_encoded)\n",
    "\tX_val = X_val.join(X_val_encoded)\n",
    "\tX_test = X_test.join(X_test_encoded)\n",
    "\n",
    "\tX_train = X_train.drop(\"color\", axis=1)\n",
    "\tX_val = X_val.drop(\"color\", axis=1)\n",
    "\tX_test = X_test.drop(\"color\", axis=1)\n",
    "\tordinal_encoder = OrdinalEncoder(categories=[['SMALL', 'LARGE']])\n",
    "\tX_train[\"size\"] = ordinal_encoder.fit_transform(X_train[[\"size\"]])\n",
    "\tX_val[\"size\"] = ordinal_encoder.fit_transform(X_val[[\"size\"]])\n",
    "\tX_test[\"size\"] = ordinal_encoder.fit_transform(X_test[[\"size\"]])\n",
    "\n",
    "\tone_hot_encoder = OneHotEncoder( categories=[['STRETCH', 'DIP']])\n",
    "\tX_train_encoded_values = one_hot_encoder.fit_transform(X_train[[\"act\"]]).toarray()\n",
    "\tX_val_encoded_values = one_hot_encoder.fit_transform(X_val[[\"act\"]]).toarray()\n",
    "\tX_test_encoded_values = one_hot_encoder.fit_transform(X_test[[\"act\"]]).toarray()\n",
    "\n",
    "\n",
    "\tX_train_encoded = pd.DataFrame(X_train_encoded_values, columns=[f\"act_{x}\" for x in one_hot_encoder.categories_[0]])\n",
    "\tX_val_encoded = pd.DataFrame(X_val_encoded_values, columns=[f\"act_{x}\" for x in one_hot_encoder.categories_[0]])\n",
    "\tX_test_encoded = pd.DataFrame(X_test_encoded_values, columns=[f\"act_{x}\" for x in one_hot_encoder.categories_[0]])\n",
    "\tX_train = X_train.join(X_train_encoded)\n",
    "\tX_val = X_val.join(X_val_encoded)\n",
    "\tX_test = X_test.join(X_test_encoded)\n",
    "\n",
    "\tX_train = X_train.drop(\"act\", axis=1)\n",
    "\tX_val = X_val.drop(\"act\", axis=1)\n",
    "\tX_test = X_test.drop(\"act\", axis=1)\n",
    "\tone_hot_encoder = OneHotEncoder( categories=[['ADULT', 'CHILD']])\n",
    "\tX_train_encoded_values = one_hot_encoder.fit_transform(X_train[[\"age\"]]).toarray()\n",
    "\tX_val_encoded_values = one_hot_encoder.fit_transform(X_val[[\"age\"]]).toarray()\n",
    "\tX_test_encoded_values = one_hot_encoder.fit_transform(X_test[[\"age\"]]).toarray()\n",
    "\n",
    "\n",
    "\tX_train_encoded = pd.DataFrame(X_train_encoded_values, columns=[f\"age_{x}\" for x in one_hot_encoder.categories_[0]])\n",
    "\tX_val_encoded = pd.DataFrame(X_val_encoded_values, columns=[f\"age_{x}\" for x in one_hot_encoder.categories_[0]])\n",
    "\tX_test_encoded = pd.DataFrame(X_test_encoded_values, columns=[f\"age_{x}\" for x in one_hot_encoder.categories_[0]])\n",
    "\tX_train = X_train.join(X_train_encoded)\n",
    "\tX_val = X_val.join(X_val_encoded)\n",
    "\tX_test = X_test.join(X_test_encoded)\n",
    "\n",
    "\tX_train = X_train.drop(\"age\", axis=1)\n",
    "\tX_val = X_val.drop(\"age\", axis=1)\n",
    "\tX_test = X_test.drop(\"age\", axis=1)\n",
    "\treturn X_train, X_val, X_test\n",
    "\n",
    "dataframe: pd.DataFrame = load_dataset()\n",
    "cleaned_dataframe = clean_dataset(dataframe)\n",
    "X_train, y_train, X_val, y_val, X_test, y_test = split_data(cleaned_dataframe)\n",
    "X_train, X_val, X_test = transform_data(X_train, X_val, X_test)\n",
    "X_train\n"
   ]
  },
  {
   "cell_type": "markdown",
   "id": "522a0daa",
   "metadata": {},
   "source": [
    "# Mining\n",
    "| Classifier type | Hyper-parameters | Grid name |\n",
    "|------|------|------|\n",
    "| svc_classifier | {'C': [1.0, 2.0]} | grid_search_svc_classifier |\n",
    "| decision_tree_classifier | {'splitter': ['best', 'random'], 'criterion': ['gini', 'entropy'], 'min_samples_split': [10, 12]} | grid_search_decision_tree_classifier |\n",
    "| k_neighbor_classifier | {'n_neighbors': [5, 8]} | grid_search_k_neighbor_classifier |\n",
    "| mlp_classifier | {'solver': ['sgd', 'adam'], 'activation': ['tanh', 'identity']} | grid_search_mlp_classifier |\n",
    "| random_forest_classifier | {'criterion': ['gini', 'entropy'], 'n_estimators': [5, 2, 7]} | grid_search_random_forest_classifier |\n"
   ]
  },
  {
   "cell_type": "code",
   "execution_count": 27,
   "id": "1e54d6c5",
   "metadata": {},
   "outputs": [
    {
     "name": "stdout",
     "output_type": "stream",
     "text": [
      "Fitting 1 folds for each of 2 candidates, totalling 2 fits\n",
      "[CV] END ..............................................C=1.0; total time=   0.0s\n",
      "[CV] END ..............................................C=2.0; total time=   0.0s\n"
     ]
    },
    {
     "data": {
      "text/plain": "{'C': 1.0}"
     },
     "execution_count": 27,
     "metadata": {},
     "output_type": "execute_result"
    }
   ],
   "source": [
    "svc_classifier = SVC()\n",
    "\n",
    "split = [-1 if i < len(X_train) else 0 for i in range(X_train.shape[0] + X_val.shape[0])]\n",
    "grid_search_svc_classifier = GridSearchCV(estimator=svc_classifier, param_grid={'C': [1.0, 2.0]}, scoring=\"accuracy\", cv=PredefinedSplit(split), verbose=2)\n",
    "grid_search_svc_classifier.fit(np.concatenate([X_train, X_val]), np.concatenate([y_train, y_val]))\n",
    "grid_search_svc_classifier.best_params_"
   ]
  },
  {
   "cell_type": "code",
   "execution_count": 28,
   "id": "93a30ebc",
   "metadata": {},
   "outputs": [
    {
     "name": "stdout",
     "output_type": "stream",
     "text": [
      "Fitting 1 folds for each of 8 candidates, totalling 8 fits\n",
      "[CV] END criterion=gini, min_samples_split=10, splitter=best; total time=   0.0s\n",
      "[CV] END criterion=gini, min_samples_split=10, splitter=random; total time=   0.0s\n",
      "[CV] END criterion=gini, min_samples_split=12, splitter=best; total time=   0.0s\n",
      "[CV] END criterion=gini, min_samples_split=12, splitter=random; total time=   0.0s\n",
      "[CV] END criterion=entropy, min_samples_split=10, splitter=best; total time=   0.0s\n",
      "[CV] END criterion=entropy, min_samples_split=10, splitter=random; total time=   0.0s\n",
      "[CV] END criterion=entropy, min_samples_split=12, splitter=best; total time=   0.0s\n",
      "[CV] END criterion=entropy, min_samples_split=12, splitter=random; total time=   0.0s\n"
     ]
    },
    {
     "data": {
      "text/plain": "{'criterion': 'gini', 'min_samples_split': 10, 'splitter': 'best'}"
     },
     "execution_count": 28,
     "metadata": {},
     "output_type": "execute_result"
    }
   ],
   "source": [
    "decision_tree_classifier = DecisionTreeClassifier()\n",
    "\n",
    "split = [-1 if i < len(X_train) else 0 for i in range(X_train.shape[0] + X_val.shape[0])]\n",
    "grid_search_decision_tree_classifier = GridSearchCV(estimator=decision_tree_classifier, param_grid={'splitter': ['best', 'random'], 'criterion': ['gini', 'entropy'], 'min_samples_split': [10, 12]}, scoring=\"accuracy\", cv=PredefinedSplit(split), verbose=2)\n",
    "grid_search_decision_tree_classifier.fit(np.concatenate([X_train, X_val]), np.concatenate([y_train, y_val]))\n",
    "grid_search_decision_tree_classifier.best_params_"
   ]
  },
  {
   "cell_type": "code",
   "execution_count": 29,
   "id": "7ad50b0c",
   "metadata": {},
   "outputs": [
    {
     "name": "stdout",
     "output_type": "stream",
     "text": [
      "Fitting 1 folds for each of 2 candidates, totalling 2 fits\n",
      "[CV] END ......................................n_neighbors=5; total time=   0.0s\n",
      "[CV] END ......................................n_neighbors=8; total time=   0.0s\n"
     ]
    },
    {
     "data": {
      "text/plain": "{'n_neighbors': 5}"
     },
     "execution_count": 29,
     "metadata": {},
     "output_type": "execute_result"
    }
   ],
   "source": [
    "k_neighbor_classifier = KNeighborsClassifier()\n",
    "\n",
    "split = [-1 if i < len(X_train) else 0 for i in range(X_train.shape[0] + X_val.shape[0])]\n",
    "grid_search_k_neighbor_classifier = GridSearchCV(estimator=k_neighbor_classifier, param_grid={'n_neighbors': [5, 8]}, scoring=\"accuracy\", cv=PredefinedSplit(split), verbose=2)\n",
    "grid_search_k_neighbor_classifier.fit(np.concatenate([X_train, X_val]), np.concatenate([y_train, y_val]))\n",
    "grid_search_k_neighbor_classifier.best_params_"
   ]
  },
  {
   "cell_type": "code",
   "execution_count": 30,
   "id": "b4e96c73",
   "metadata": {},
   "outputs": [
    {
     "name": "stdout",
     "output_type": "stream",
     "text": [
      "Fitting 1 folds for each of 4 candidates, totalling 4 fits\n",
      "[CV] END ........................activation=tanh, solver=sgd; total time=   0.1s\n",
      "[CV] END .......................activation=tanh, solver=adam; total time=   0.2s\n",
      "[CV] END ....................activation=identity, solver=sgd; total time=   0.1s\n",
      "[CV] END ...................activation=identity, solver=adam; total time=   0.1s\n"
     ]
    },
    {
     "data": {
      "text/plain": "{'activation': 'tanh', 'solver': 'adam'}"
     },
     "execution_count": 30,
     "metadata": {},
     "output_type": "execute_result"
    }
   ],
   "source": [
    "mlp_classifier = MLPClassifier()\n",
    "\n",
    "split = [-1 if i < len(X_train) else 0 for i in range(X_train.shape[0] + X_val.shape[0])]\n",
    "grid_search_mlp_classifier = GridSearchCV(estimator=mlp_classifier, param_grid={'solver': ['sgd', 'adam'], 'activation': ['tanh', 'identity']}, scoring=\"accuracy\", cv=PredefinedSplit(split), verbose=2)\n",
    "grid_search_mlp_classifier.fit(np.concatenate([X_train, X_val]), np.concatenate([y_train, y_val]))\n",
    "grid_search_mlp_classifier.best_params_"
   ]
  },
  {
   "cell_type": "code",
   "execution_count": 31,
   "id": "7aa735ef",
   "metadata": {},
   "outputs": [
    {
     "name": "stdout",
     "output_type": "stream",
     "text": [
      "Fitting 1 folds for each of 6 candidates, totalling 6 fits\n",
      "[CV] END .....................criterion=gini, n_estimators=5; total time=   0.0s\n",
      "[CV] END .....................criterion=gini, n_estimators=2; total time=   0.0s\n",
      "[CV] END .....................criterion=gini, n_estimators=7; total time=   0.0s\n",
      "[CV] END ..................criterion=entropy, n_estimators=5; total time=   0.0s\n",
      "[CV] END ..................criterion=entropy, n_estimators=2; total time=   0.0s\n",
      "[CV] END ..................criterion=entropy, n_estimators=7; total time=   0.0s\n"
     ]
    },
    {
     "data": {
      "text/plain": "{'criterion': 'entropy', 'n_estimators': 2}"
     },
     "execution_count": 31,
     "metadata": {},
     "output_type": "execute_result"
    }
   ],
   "source": [
    "random_forest_classifier = RandomForestClassifier()\n",
    "\n",
    "split = [-1 if i < len(X_train) else 0 for i in range(X_train.shape[0] + X_val.shape[0])]\n",
    "grid_search_random_forest_classifier = GridSearchCV(estimator=random_forest_classifier, param_grid={'criterion': ['gini', 'entropy'], 'n_estimators': [5, 2, 7]}, scoring=\"accuracy\", cv=PredefinedSplit(split), verbose=2)\n",
    "grid_search_random_forest_classifier.fit(np.concatenate([X_train, X_val]), np.concatenate([y_train, y_val]))\n",
    "grid_search_random_forest_classifier.best_params_"
   ]
  },
  {
   "cell_type": "markdown",
   "id": "feb170b1",
   "metadata": {},
   "source": [
    "# Comparaison"
   ]
  },
  {
   "cell_type": "code",
   "execution_count": 32,
   "id": "e23dd9bd",
   "metadata": {},
   "outputs": [],
   "source": [
    "def comparaison_chart(grid_search_name):\n",
    "\tresults = grid_search_name.cv_results_\n",
    "\tparams = results[\"params\"]\n",
    "\tmean_tst_scores = results[\"mean_test_score\"]\n",
    "\tfor index, p in enumerate(params):\n",
    "\t\tp[\"mean_test_score\"] = mean_tst_scores[index]\n",
    "\tresults_dataframe = pd.DataFrame(params)\n",
    "\n",
    "\tcolumns_name = results_dataframe.columns.to_list()\n",
    "\tresults_dataframe = results_dataframe.sort_values(by=[\"mean_test_score\"], ascending=False)\n",
    "\tcolumns_name.remove(\"mean_test_score\")\n",
    "\tresults_dataframe[\"combinaison_hyperparameters\"] = results_dataframe[columns_name].apply(lambda x: \" | \".join(map(str, x)), axis=1)\n",
    "\n",
    "\n",
    "\tplt.barh(results_dataframe[\"combinaison_hyperparameters\"], results_dataframe[\"mean_test_score\"])\n",
    "\tplt.xlabel = \"score\"\n",
    "\tplt.ylabel = \"combinaison de paramètres\"\n",
    "\tplt.title = \"Résultats d entrainement\"\n",
    "\tplt.plot()\n"
   ]
  },
  {
   "cell_type": "code",
   "execution_count": 33,
   "id": "de060f66",
   "metadata": {},
   "outputs": [
    {
     "data": {
      "text/plain": "<Figure size 640x480 with 1 Axes>",
      "image/png": "[encoded data removed]"
     },
     "metadata": {},
     "output_type": "display_data"
    }
   ],
   "source": [
    "comparaison_chart(grid_search_svc_classifier)\n"
   ]
  },
  {
   "cell_type": "code",
   "execution_count": 34,
   "id": "2726d57b",
   "metadata": {},
   "outputs": [
    {
     "data": {
      "text/plain": "<Figure size 640x480 with 1 Axes>",
      "image/png": "[encoded data removed]"
     },
     "metadata": {},
     "output_type": "display_data"
    }
   ],
   "source": [
    "comparaison_chart(grid_search_decision_tree_classifier)\n"
   ]
  },
  {
   "cell_type": "code",
   "execution_count": 35,
   "id": "f62fa3cc",
   "metadata": {},
   "outputs": [
    {
     "data": {
      "text/plain": "<Figure size 640x480 with 1 Axes>",
      "image/png": "[encoded data removed]"
     },
     "metadata": {},
     "output_type": "display_data"
    }
   ],
   "source": [
    "comparaison_chart(grid_search_k_neighbor_classifier)\n"
   ]
  },
  {
   "cell_type": "code",
   "execution_count": 36,
   "id": "f6772e79",
   "metadata": {},
   "outputs": [
    {
     "data": {
      "text/plain": "          svc_classifier  k_neighbor_classifier  decision_tree_classifier\nf1_score             1.0                    1.0                       1.0",
      "text/html": "<div>\n<style scoped>\n    .dataframe tbody tr th:only-of-type {\n        vertical-align: middle;\n    }\n\n    .dataframe tbody tr th {\n        vertical-align: top;\n    }\n\n    .dataframe thead th {\n        text-align: right;\n    }\n</style>\n<table border=\"1\" class=\"dataframe\">\n  <thead>\n    <tr style=\"text-align: right;\">\n      <th></th>\n      <th>svc_classifier</th>\n      <th>k_neighbor_classifier</th>\n      <th>decision_tree_classifier</th>\n    </tr>\n  </thead>\n  <tbody>\n    <tr>\n      <th>f1_score</th>\n      <td>1.0</td>\n      <td>1.0</td>\n      <td>1.0</td>\n    </tr>\n  </tbody>\n</table>\n</div>"
     },
     "execution_count": 36,
     "metadata": {},
     "output_type": "execute_result"
    },
    {
     "data": {
      "text/plain": "<Figure size 640x480 with 1 Axes>",
      "image/png": "[encoded data removed]"
     },
     "metadata": {},
     "output_type": "display_data"
    },
    {
     "data": {
      "text/plain": "<Figure size 640x480 with 1 Axes>",
      "image/png": "[encoded data removed]"
     },
     "metadata": {},
     "output_type": "display_data"
    },
    {
     "data": {
      "text/plain": "<Figure size 640x480 with 1 Axes>",
      "image/png": "[encoded data removed]"
     },
     "metadata": {},
     "output_type": "display_data"
    }
   ],
   "source": [
    "scores = {}\n",
    "y_test_format = y_test.to_numpy()\n",
    "y_test_format = np.array(np.where(y_test_format == \"no\", 0, 1), dtype=int)\n",
    "prediction = grid_search_svc_classifier.predict(X_test)\n",
    "prediction = np.array(np.where(prediction == \"no\", 0, 1), dtype=int)\n",
    "scores[\"svc_classifier\"] = {}\n",
    "\n",
    "scores[\"svc_classifier\"][\"f1_score\"] = f1_score(y_test_format, prediction)\n",
    "\n",
    "prediction = grid_search_k_neighbor_classifier.predict(X_test)\n",
    "prediction = np.array(np.where(prediction == \"no\", 0, 1), dtype=int)\n",
    "scores[\"k_neighbor_classifier\"] = {}\n",
    "\n",
    "scores[\"k_neighbor_classifier\"][\"f1_score\"] = f1_score(y_test_format, prediction)\n",
    "\n",
    "prediction = grid_search_decision_tree_classifier.predict(X_test)\n",
    "prediction = np.array(np.where(prediction == \"no\", 0, 1), dtype=int)\n",
    "scores[\"decision_tree_classifier\"] = {}\n",
    "\n",
    "scores[\"decision_tree_classifier\"][\"f1_score\"] = f1_score(y_test_format, prediction)\n",
    "\n",
    "plot_df = pd.DataFrame(scores)\n",
    "for cls in ['svc_classifier', 'k_neighbor_classifier', 'decision_tree_classifier']:\n",
    "\tplot_df.plot(y=cls, kind=\"bar\", use_index=True)\n",
    "plot_df\n"
   ]
  }
 ],
 "metadata": {},
 "nbformat": 4,
 "nbformat_minor": 5
}
