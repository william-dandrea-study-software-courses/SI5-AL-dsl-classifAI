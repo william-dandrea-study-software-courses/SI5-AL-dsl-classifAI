{
 "cells": [
  {
   "cell_type": "code",
   "execution_count": 43,
   "id": "b29b6bda",
   "metadata": {},
   "outputs": [],
   "source": [
    "import pandas as pd\n",
    "import numpy as np\n",
    "from sklearn.model_selection import train_test_split\n",
    "from sklearn.preprocessing import minmax_scale\n",
    "from sklearn.preprocessing import OrdinalEncoder\n",
    "from sklearn.preprocessing import OneHotEncoder\n",
    "from sklearn.model_selection import GridSearchCV\n",
    "from sklearn.model_selection import PredefinedSplit\n",
    "from sklearn.svm import SVC\n",
    "from sklearn.tree import DecisionTreeClassifier\n",
    "from sklearn.neighbors import KNeighborsClassifier\n",
    "from sklearn.neural_network import MLPClassifier\n",
    "from sklearn.ensemble import RandomForestClassifier\n",
    "import matplotlib.pyplot as plt\n",
    "from sklearn.metrics import accuracy_score, precision_score, recall_score, f1_score, roc_auc_score\n"
   ]
  },
  {
   "cell_type": "code",
   "execution_count": 44,
   "id": "4bcc7f43",
   "metadata": {},
   "outputs": [],
   "source": [
    "import warnings\n",
    "warnings.filterwarnings('ignore')"
   ]
  },
  {
   "cell_type": "markdown",
   "id": "97933124",
   "metadata": {},
   "source": [
    "# Préprocessing"
   ]
  },
  {
   "cell_type": "markdown",
   "id": "31a6aa1a",
   "metadata": {},
   "source": [
    "## We import the dataset"
   ]
  },
  {
   "cell_type": "code",
   "execution_count": 45,
   "id": "bea937d9",
   "metadata": {},
   "outputs": [
    {
     "data": {
      "text/plain": "                    Class    age menopause tumor-size inv-nodes node-caps  \\\n0    no-recurrence-events  30-39   premeno      30-34       0-2        no   \n1    no-recurrence-events  40-49   premeno      20-24       0-2        no   \n2    no-recurrence-events  40-49   premeno      20-24       0-2        no   \n3    no-recurrence-events  60-69      ge40      15-19       0-2        no   \n4    no-recurrence-events  40-49   premeno        0-4       0-2        no   \n..                    ...    ...       ...        ...       ...       ...   \n281     recurrence-events  30-39   premeno      30-34       0-2        no   \n282     recurrence-events  30-39   premeno      20-24       0-2        no   \n283     recurrence-events  60-69      ge40      20-24       0-2        no   \n284     recurrence-events  40-49      ge40      30-34       3-5        no   \n285     recurrence-events  50-59      ge40      30-34       3-5        no   \n\n     deg-malig breast breast-quad irradiat  \n0            3   left    left_low       no  \n1            2  right    right_up       no  \n2            2   left    left_low       no  \n3            2  right     left_up       no  \n4            2  right   right_low       no  \n..         ...    ...         ...      ...  \n281          2   left     left_up       no  \n282          3   left     left_up      yes  \n283          1  right     left_up       no  \n284          3   left    left_low       no  \n285          3   left    left_low       no  \n\n[286 rows x 10 columns]",
      "text/html": "<div>\n<style scoped>\n    .dataframe tbody tr th:only-of-type {\n        vertical-align: middle;\n    }\n\n    .dataframe tbody tr th {\n        vertical-align: top;\n    }\n\n    .dataframe thead th {\n        text-align: right;\n    }\n</style>\n<table border=\"1\" class=\"dataframe\">\n  <thead>\n    <tr style=\"text-align: right;\">\n      <th></th>\n      <th>Class</th>\n      <th>age</th>\n      <th>menopause</th>\n      <th>tumor-size</th>\n      <th>inv-nodes</th>\n      <th>node-caps</th>\n      <th>deg-malig</th>\n      <th>breast</th>\n      <th>breast-quad</th>\n      <th>irradiat</th>\n    </tr>\n  </thead>\n  <tbody>\n    <tr>\n      <th>0</th>\n      <td>no-recurrence-events</td>\n      <td>30-39</td>\n      <td>premeno</td>\n      <td>30-34</td>\n      <td>0-2</td>\n      <td>no</td>\n      <td>3</td>\n      <td>left</td>\n      <td>left_low</td>\n      <td>no</td>\n    </tr>\n    <tr>\n      <th>1</th>\n      <td>no-recurrence-events</td>\n      <td>40-49</td>\n      <td>premeno</td>\n      <td>20-24</td>\n      <td>0-2</td>\n      <td>no</td>\n      <td>2</td>\n      <td>right</td>\n      <td>right_up</td>\n      <td>no</td>\n    </tr>\n    <tr>\n      <th>2</th>\n      <td>no-recurrence-events</td>\n      <td>40-49</td>\n      <td>premeno</td>\n      <td>20-24</td>\n      <td>0-2</td>\n      <td>no</td>\n      <td>2</td>\n      <td>left</td>\n      <td>left_low</td>\n      <td>no</td>\n    </tr>\n    <tr>\n      <th>3</th>\n      <td>no-recurrence-events</td>\n      <td>60-69</td>\n      <td>ge40</td>\n      <td>15-19</td>\n      <td>0-2</td>\n      <td>no</td>\n      <td>2</td>\n      <td>right</td>\n      <td>left_up</td>\n      <td>no</td>\n    </tr>\n    <tr>\n      <th>4</th>\n      <td>no-recurrence-events</td>\n      <td>40-49</td>\n      <td>premeno</td>\n      <td>0-4</td>\n      <td>0-2</td>\n      <td>no</td>\n      <td>2</td>\n      <td>right</td>\n      <td>right_low</td>\n      <td>no</td>\n    </tr>\n    <tr>\n      <th>...</th>\n      <td>...</td>\n      <td>...</td>\n      <td>...</td>\n      <td>...</td>\n      <td>...</td>\n      <td>...</td>\n      <td>...</td>\n      <td>...</td>\n      <td>...</td>\n      <td>...</td>\n    </tr>\n    <tr>\n      <th>281</th>\n      <td>recurrence-events</td>\n      <td>30-39</td>\n      <td>premeno</td>\n      <td>30-34</td>\n      <td>0-2</td>\n      <td>no</td>\n      <td>2</td>\n      <td>left</td>\n      <td>left_up</td>\n      <td>no</td>\n    </tr>\n    <tr>\n      <th>282</th>\n      <td>recurrence-events</td>\n      <td>30-39</td>\n      <td>premeno</td>\n      <td>20-24</td>\n      <td>0-2</td>\n      <td>no</td>\n      <td>3</td>\n      <td>left</td>\n      <td>left_up</td>\n      <td>yes</td>\n    </tr>\n    <tr>\n      <th>283</th>\n      <td>recurrence-events</td>\n      <td>60-69</td>\n      <td>ge40</td>\n      <td>20-24</td>\n      <td>0-2</td>\n      <td>no</td>\n      <td>1</td>\n      <td>right</td>\n      <td>left_up</td>\n      <td>no</td>\n    </tr>\n    <tr>\n      <th>284</th>\n      <td>recurrence-events</td>\n      <td>40-49</td>\n      <td>ge40</td>\n      <td>30-34</td>\n      <td>3-5</td>\n      <td>no</td>\n      <td>3</td>\n      <td>left</td>\n      <td>left_low</td>\n      <td>no</td>\n    </tr>\n    <tr>\n      <th>285</th>\n      <td>recurrence-events</td>\n      <td>50-59</td>\n      <td>ge40</td>\n      <td>30-34</td>\n      <td>3-5</td>\n      <td>no</td>\n      <td>3</td>\n      <td>left</td>\n      <td>left_low</td>\n      <td>no</td>\n    </tr>\n  </tbody>\n</table>\n<p>286 rows × 10 columns</p>\n</div>"
     },
     "execution_count": 45,
     "metadata": {},
     "output_type": "execute_result"
    }
   ],
   "source": [
    "def load_dataset() -> pd.DataFrame: \n",
    "\tcurrent_dataset = pd.read_csv(\"./breast-cancer.csv\", header=None) \n",
    "\tcurrent_dataset.columns = ['Class', 'age', 'menopause', 'tumor-size', 'inv-nodes', 'node-caps', 'deg-malig', 'breast', 'breast-quad', 'irradiat'] \n",
    "\treturn current_dataset \n",
    "\n",
    "dataframe: pd.DataFrame = load_dataset() \n",
    "dataframe"
   ]
  },
  {
   "cell_type": "code",
   "execution_count": 46,
   "id": "e8a0dfaf",
   "metadata": {},
   "outputs": [
    {
     "data": {
      "text/plain": "                    Class    age menopause tumor-size inv-nodes node-caps  \\\n0    no-recurrence-events  30-39   premeno      30-34       0-2        no   \n1    no-recurrence-events  40-49   premeno      20-24       0-2        no   \n2    no-recurrence-events  40-49   premeno      20-24       0-2        no   \n3    no-recurrence-events  60-69      ge40      15-19       0-2        no   \n4    no-recurrence-events  40-49   premeno        0-4       0-2        no   \n..                    ...    ...       ...        ...       ...       ...   \n272     recurrence-events  30-39   premeno      30-34       0-2        no   \n273     recurrence-events  30-39   premeno      20-24       0-2        no   \n274     recurrence-events  60-69      ge40      20-24       0-2        no   \n275     recurrence-events  40-49      ge40      30-34       3-5        no   \n276     recurrence-events  50-59      ge40      30-34       3-5        no   \n\n     deg-malig breast breast-quad irradiat  \n0            3   left    left_low       no  \n1            2  right    right_up       no  \n2            2   left    left_low       no  \n3            2  right     left_up       no  \n4            2  right   right_low       no  \n..         ...    ...         ...      ...  \n272          2   left     left_up       no  \n273          3   left     left_up      yes  \n274          1  right     left_up       no  \n275          3   left    left_low       no  \n276          3   left    left_low       no  \n\n[277 rows x 10 columns]",
      "text/html": "<div>\n<style scoped>\n    .dataframe tbody tr th:only-of-type {\n        vertical-align: middle;\n    }\n\n    .dataframe tbody tr th {\n        vertical-align: top;\n    }\n\n    .dataframe thead th {\n        text-align: right;\n    }\n</style>\n<table border=\"1\" class=\"dataframe\">\n  <thead>\n    <tr style=\"text-align: right;\">\n      <th></th>\n      <th>Class</th>\n      <th>age</th>\n      <th>menopause</th>\n      <th>tumor-size</th>\n      <th>inv-nodes</th>\n      <th>node-caps</th>\n      <th>deg-malig</th>\n      <th>breast</th>\n      <th>breast-quad</th>\n      <th>irradiat</th>\n    </tr>\n  </thead>\n  <tbody>\n    <tr>\n      <th>0</th>\n      <td>no-recurrence-events</td>\n      <td>30-39</td>\n      <td>premeno</td>\n      <td>30-34</td>\n      <td>0-2</td>\n      <td>no</td>\n      <td>3</td>\n      <td>left</td>\n      <td>left_low</td>\n      <td>no</td>\n    </tr>\n    <tr>\n      <th>1</th>\n      <td>no-recurrence-events</td>\n      <td>40-49</td>\n      <td>premeno</td>\n      <td>20-24</td>\n      <td>0-2</td>\n      <td>no</td>\n      <td>2</td>\n      <td>right</td>\n      <td>right_up</td>\n      <td>no</td>\n    </tr>\n    <tr>\n      <th>2</th>\n      <td>no-recurrence-events</td>\n      <td>40-49</td>\n      <td>premeno</td>\n      <td>20-24</td>\n      <td>0-2</td>\n      <td>no</td>\n      <td>2</td>\n      <td>left</td>\n      <td>left_low</td>\n      <td>no</td>\n    </tr>\n    <tr>\n      <th>3</th>\n      <td>no-recurrence-events</td>\n      <td>60-69</td>\n      <td>ge40</td>\n      <td>15-19</td>\n      <td>0-2</td>\n      <td>no</td>\n      <td>2</td>\n      <td>right</td>\n      <td>left_up</td>\n      <td>no</td>\n    </tr>\n    <tr>\n      <th>4</th>\n      <td>no-recurrence-events</td>\n      <td>40-49</td>\n      <td>premeno</td>\n      <td>0-4</td>\n      <td>0-2</td>\n      <td>no</td>\n      <td>2</td>\n      <td>right</td>\n      <td>right_low</td>\n      <td>no</td>\n    </tr>\n    <tr>\n      <th>...</th>\n      <td>...</td>\n      <td>...</td>\n      <td>...</td>\n      <td>...</td>\n      <td>...</td>\n      <td>...</td>\n      <td>...</td>\n      <td>...</td>\n      <td>...</td>\n      <td>...</td>\n    </tr>\n    <tr>\n      <th>272</th>\n      <td>recurrence-events</td>\n      <td>30-39</td>\n      <td>premeno</td>\n      <td>30-34</td>\n      <td>0-2</td>\n      <td>no</td>\n      <td>2</td>\n      <td>left</td>\n      <td>left_up</td>\n      <td>no</td>\n    </tr>\n    <tr>\n      <th>273</th>\n      <td>recurrence-events</td>\n      <td>30-39</td>\n      <td>premeno</td>\n      <td>20-24</td>\n      <td>0-2</td>\n      <td>no</td>\n      <td>3</td>\n      <td>left</td>\n      <td>left_up</td>\n      <td>yes</td>\n    </tr>\n    <tr>\n      <th>274</th>\n      <td>recurrence-events</td>\n      <td>60-69</td>\n      <td>ge40</td>\n      <td>20-24</td>\n      <td>0-2</td>\n      <td>no</td>\n      <td>1</td>\n      <td>right</td>\n      <td>left_up</td>\n      <td>no</td>\n    </tr>\n    <tr>\n      <th>275</th>\n      <td>recurrence-events</td>\n      <td>40-49</td>\n      <td>ge40</td>\n      <td>30-34</td>\n      <td>3-5</td>\n      <td>no</td>\n      <td>3</td>\n      <td>left</td>\n      <td>left_low</td>\n      <td>no</td>\n    </tr>\n    <tr>\n      <th>276</th>\n      <td>recurrence-events</td>\n      <td>50-59</td>\n      <td>ge40</td>\n      <td>30-34</td>\n      <td>3-5</td>\n      <td>no</td>\n      <td>3</td>\n      <td>left</td>\n      <td>left_low</td>\n      <td>no</td>\n    </tr>\n  </tbody>\n</table>\n<p>277 rows × 10 columns</p>\n</div>"
     },
     "execution_count": 46,
     "metadata": {},
     "output_type": "execute_result"
    }
   ],
   "source": [
    "def clean_dataset(dataframe: pd.DataFrame) -> pd.DataFrame:\n",
    "\tdataframe = dataframe.replace(\"?\", np.nan)\n",
    "\tdataframe[\"Class\"] = dataframe[\"Class\"].replace(np.nan, False)\n",
    "\tdataframe = dataframe[dataframe[\"age\"].notna()]\n",
    "\tdataframe = dataframe[dataframe[\"menopause\"].notna()]\n",
    "\tdataframe = dataframe[dataframe[\"tumor-size\"].notna()]\n",
    "\tdataframe = dataframe[dataframe[\"inv-nodes\"].notna()]\n",
    "\tdataframe = dataframe[dataframe[\"node-caps\"].notna()]\n",
    "\tdataframe = dataframe[dataframe[\"deg-malig\"].notna()]\n",
    "\tdataframe = dataframe[dataframe[\"breast\"].notna()]\n",
    "\tdataframe = dataframe[dataframe[\"breast-quad\"].notna()]\n",
    "\tdataframe = dataframe[dataframe[\"irradiat\"].notna()]\n",
    "\treturn dataframe.reset_index(drop=True)\n",
    "\n",
    "dataframe: pd.DataFrame = load_dataset()\n",
    "\n",
    "cleaned_dataframe = clean_dataset(dataframe)\n",
    "cleaned_dataframe\n"
   ]
  },
  {
   "cell_type": "markdown",
   "id": "7f0a96c8",
   "metadata": {},
   "source": [
    "# Splitting"
   ]
  },
  {
   "cell_type": "code",
   "execution_count": 47,
   "id": "dec37e6d",
   "metadata": {},
   "outputs": [
    {
     "data": {
      "text/plain": "(                    Class    age menopause tumor-size inv-nodes node-caps  \\\n 0    no-recurrence-events  40-49   premeno      30-34       0-2        no   \n 1    no-recurrence-events  50-59      ge40      10-14       0-2        no   \n 2       recurrence-events  40-49   premeno      25-29       0-2        no   \n 3    no-recurrence-events  50-59   premeno      25-29       3-5       yes   \n 4    no-recurrence-events  50-59      ge40      35-39       0-2        no   \n ..                    ...    ...       ...        ...       ...       ...   \n 194  no-recurrence-events  50-59   premeno      20-24       3-5       yes   \n 195     recurrence-events  30-39   premeno      35-39       0-2        no   \n 196  no-recurrence-events  30-39   premeno      30-34       0-2        no   \n 197     recurrence-events  50-59      ge40      30-34       6-8       yes   \n 198  no-recurrence-events  40-49   premeno      10-14       0-2        no   \n \n      deg-malig breast breast-quad  \n 0            1  right     left_up  \n 1            1  right     left_up  \n 2            2  right    left_low  \n 3            2   left    left_low  \n 4            2   left     left_up  \n ..         ...    ...         ...  \n 194          2   left    left_low  \n 195          3   left    left_low  \n 196          2   left     left_up  \n 197          2   left   right_low  \n 198          2  right     left_up  \n \n [199 rows x 9 columns],\n 0       no\n 1       no\n 2       no\n 3      yes\n 4       no\n       ... \n 194     no\n 195     no\n 196     no\n 197    yes\n 198     no\n Name: irradiat, Length: 199, dtype: object,\n                    Class    age menopause tumor-size inv-nodes node-caps  \\\n 0   no-recurrence-events  60-69      ge40      30-34       0-2        no   \n 1   no-recurrence-events  40-49   premeno      30-34       0-2        no   \n 2   no-recurrence-events  50-59      ge40      25-29       0-2        no   \n 3   no-recurrence-events  60-69      ge40      15-19       0-2        no   \n 4   no-recurrence-events  50-59      ge40      20-24       3-5       yes   \n 5      recurrence-events  50-59      ge40      30-34      9-11       yes   \n 6      recurrence-events  40-49   premeno      50-54       0-2        no   \n 7   no-recurrence-events  40-49   premeno      40-44       0-2        no   \n 8   no-recurrence-events  50-59      ge40      35-39     15-17        no   \n 9   no-recurrence-events  60-69      ge40      10-14       0-2        no   \n 10  no-recurrence-events  70-79      ge40        0-4       0-2        no   \n 11  no-recurrence-events  50-59      ge40      15-19       0-2        no   \n 12     recurrence-events  50-59      ge40      30-34       3-5        no   \n 13     recurrence-events  40-49   premeno      35-39       0-2        no   \n 14  no-recurrence-events  30-39   premeno      40-44       0-2        no   \n 15  no-recurrence-events  50-59   premeno      40-44       0-2        no   \n 16     recurrence-events  40-49   premeno      40-44       0-2        no   \n 17     recurrence-events  40-49   premeno      15-19       0-2        no   \n 18     recurrence-events  40-49   premeno      25-29       0-2        no   \n 19     recurrence-events  30-39   premeno      20-24       3-5       yes   \n 20  no-recurrence-events  50-59      ge40      30-34       6-8       yes   \n 21     recurrence-events  40-49   premeno      25-29       0-2        no   \n 22  no-recurrence-events  40-49   premeno      30-34       0-2        no   \n 23  no-recurrence-events  50-59      ge40      30-34       0-2        no   \n 24  no-recurrence-events  50-59      ge40      25-29     15-17       yes   \n 25  no-recurrence-events  50-59      ge40      20-24       0-2        no   \n 26  no-recurrence-events  60-69      ge40      15-19       0-2        no   \n 27  no-recurrence-events  40-49   premeno      35-39      9-11       yes   \n 28  no-recurrence-events  50-59      ge40        0-4       0-2        no   \n 29     recurrence-events  40-49   premeno      15-19       0-2       yes   \n 30  no-recurrence-events  30-39      lt40      15-19       0-2        no   \n 31  no-recurrence-events  40-49   premeno      20-24       0-2        no   \n 32  no-recurrence-events  50-59      ge40        5-9       0-2        no   \n 33  no-recurrence-events  40-49   premeno      25-29       0-2        no   \n 34  no-recurrence-events  50-59      ge40      40-44       0-2        no   \n 35  no-recurrence-events  40-49   premeno      20-24       0-2        no   \n \n     deg-malig breast breast-quad  \n 0           2   left     left_up  \n 1           3   left     left_up  \n 2           1   left    left_low  \n 3           3  right     left_up  \n 4           2  right     left_up  \n 5           3   left   right_low  \n 6           2  right    left_low  \n 7           2  right    left_low  \n 8           3   left    left_low  \n 9           1  right    left_low  \n 10          1   left   right_low  \n 11          1  right     central  \n 12          3   left    left_low  \n 13          1  right     left_up  \n 14          2  right    right_up  \n 15          2   left     left_up  \n 16          1   left    left_low  \n 17          2   left     left_up  \n 18          3   left    right_up  \n 19          2   left    left_low  \n 20          2   left    left_low  \n 21          2   left    left_low  \n 22          2   left   right_low  \n 23          1  right    left_low  \n 24          3  right     left_up  \n 25          3   left     left_up  \n 26          2   left     left_up  \n 27          2  right     left_up  \n 28          1  right     central  \n 29          3  right     left_up  \n 30          3  right     left_up  \n 31          2  right     left_up  \n 32          2  right    right_up  \n 33          1   left   right_low  \n 34          3   left     left_up  \n 35          1  right    left_low  ,\n 0      no\n 1      no\n 2      no\n 3     yes\n 4      no\n 5     yes\n 6     yes\n 7      no\n 8      no\n 9      no\n 10     no\n 11     no\n 12     no\n 13     no\n 14     no\n 15     no\n 16     no\n 17     no\n 18     no\n 19     no\n 20     no\n 21    yes\n 22     no\n 23     no\n 24     no\n 25     no\n 26    yes\n 27    yes\n 28     no\n 29     no\n 30     no\n 31     no\n 32     no\n 33     no\n 34     no\n 35     no\n Name: irradiat, dtype: object,\n                    Class    age menopause tumor-size inv-nodes node-caps  \\\n 0   no-recurrence-events  50-59      ge40      40-44       0-2        no   \n 1   no-recurrence-events  30-39   premeno      30-34       6-8       yes   \n 2      recurrence-events  40-49   premeno      30-34     15-17       yes   \n 3   no-recurrence-events  60-69      ge40      10-14       0-2        no   \n 4      recurrence-events  60-69      ge40      25-29       0-2        no   \n 5      recurrence-events  50-59      ge40      20-24       3-5       yes   \n 6   no-recurrence-events  60-69      ge40      15-19       0-2        no   \n 7      recurrence-events  30-39   premeno      30-34       0-2        no   \n 8      recurrence-events  30-39   premeno      35-39      9-11       yes   \n 9   no-recurrence-events  60-69      ge40      45-49       6-8       yes   \n 10  no-recurrence-events  40-49   premeno      25-29       0-2        no   \n 11     recurrence-events  60-69      ge40      40-44       0-2        no   \n 12     recurrence-events  40-49   premeno      25-29       0-2        no   \n 13  no-recurrence-events  50-59      ge40      30-34       0-2        no   \n 14     recurrence-events  30-39   premeno      30-34       0-2        no   \n 15  no-recurrence-events  40-49   premeno      35-39       0-2        no   \n 16  no-recurrence-events  50-59      ge40      15-19       0-2       yes   \n 17  no-recurrence-events  40-49   premeno      20-24       0-2        no   \n 18     recurrence-events  50-59   premeno      30-34       0-2        no   \n 19     recurrence-events  60-69      ge40      35-39       6-8       yes   \n 20  no-recurrence-events  50-59      ge40      30-34       0-2        no   \n 21  no-recurrence-events  50-59   premeno      15-19       0-2        no   \n 22  no-recurrence-events  50-59      ge40      25-29       0-2        no   \n 23  no-recurrence-events  50-59   premeno      10-14       0-2        no   \n 24     recurrence-events  60-69      ge40      20-24       0-2        no   \n 25     recurrence-events  60-69      ge40      30-34       0-2        no   \n 26  no-recurrence-events  40-49   premeno      20-24       0-2        no   \n 27  no-recurrence-events  60-69      ge40        5-9       0-2        no   \n 28  no-recurrence-events  40-49   premeno      20-24       0-2        no   \n 29  no-recurrence-events  30-39   premeno      10-14       0-2        no   \n 30  no-recurrence-events  30-39   premeno      25-29       0-2        no   \n 31  no-recurrence-events  50-59      ge40      25-29       3-5       yes   \n 32  no-recurrence-events  50-59   premeno      35-39       0-2        no   \n 33  no-recurrence-events  30-39   premeno      20-24       3-5       yes   \n 34     recurrence-events  40-49   premeno      30-34       3-5        no   \n 35  no-recurrence-events  50-59      ge40      10-14       0-2        no   \n 36     recurrence-events  60-69      ge40      20-24       3-5        no   \n 37     recurrence-events  50-59   premeno      25-29       0-2        no   \n 38  no-recurrence-events  50-59   premeno      25-29       0-2        no   \n 39  no-recurrence-events  50-59      ge40      35-39       0-2        no   \n 40  no-recurrence-events  40-49   premeno      25-29       0-2        no   \n 41  no-recurrence-events  40-49   premeno      20-24       0-2        no   \n \n     deg-malig breast breast-quad  \n 0           3  right     left_up  \n 1           2  right    right_up  \n 2           3   left    left_low  \n 3           1   left     left_up  \n 4           3   left     left_up  \n 5           3  right    right_up  \n 6           2  right     left_up  \n 7           1  right     left_up  \n 8           3   left    left_low  \n 9           3   left     central  \n 10          2  right     central  \n 11          2  right    left_low  \n 12          2  right    left_low  \n 13          3  right    left_low  \n 14          2   left     left_up  \n 15          2  right    right_up  \n 16          2   left     central  \n 17          2   left     central  \n 18          3   left    right_up  \n 19          3   left    left_low  \n 20          1   left     left_up  \n 21          2  right   right_low  \n 22          1   left   right_low  \n 23          2  right     left_up  \n 24          1  right     left_up  \n 25          3  right     central  \n 26          1   left   right_low  \n 27          1   left     central  \n 28          2  right     left_up  \n 29          1  right    left_low  \n 30          2  right    left_low  \n 31          3  right     left_up  \n 32          2  right     left_up  \n 33          2  right     left_up  \n 34          2  right     left_up  \n 35          1   left    left_low  \n 36          2   left    left_low  \n 37          3  right    left_low  \n 38          2   left    left_low  \n 39          3   left    left_low  \n 40          2  right    left_low  \n 41          3  right    left_low  ,\n 0      no\n 1      no\n 2      no\n 3      no\n 4      no\n 5      no\n 6      no\n 7      no\n 8      no\n 9      no\n 10     no\n 11     no\n 12     no\n 13     no\n 14     no\n 15     no\n 16    yes\n 17     no\n 18     no\n 19     no\n 20     no\n 21     no\n 22     no\n 23     no\n 24     no\n 25     no\n 26     no\n 27     no\n 28     no\n 29     no\n 30     no\n 31     no\n 32     no\n 33    yes\n 34     no\n 35     no\n 36    yes\n 37    yes\n 38     no\n 39     no\n 40     no\n 41    yes\n Name: irradiat, dtype: object)"
     },
     "execution_count": 47,
     "metadata": {},
     "output_type": "execute_result"
    }
   ],
   "source": [
    "def split_data(dataframe: pd.DataFrame):\n",
    "\ty = dataframe[\"irradiat\"]\n",
    "\tX = dataframe.drop(\"irradiat\", axis=1)\n",
    "\t\n",
    "\tX_train, X_test, y_train, y_test = train_test_split(X, y, test_size=0.15, random_state=42)\n",
    "\t\n",
    "\tX_train, X_val, y_train, y_val = train_test_split(X_train, y_train, test_size=0.15, random_state=42)\n",
    "\t\n",
    "\treturn X_train.reset_index(drop=True), y_train.reset_index(drop=True), X_val.reset_index(drop=True), y_val.reset_index(drop=True), X_test.reset_index(drop=True), y_test.reset_index(drop=True)\n",
    "\n",
    "dataframe: pd.DataFrame = load_dataset()\n",
    "\n",
    "cleaned_dataframe = clean_dataset(dataframe)\n",
    "\n",
    "X_train, y_train, X_val, y_val, X_test, y_test = split_data(cleaned_dataframe)\n",
    "X_train, y_train, X_val, y_val, X_test, y_test"
   ]
  },
  {
   "cell_type": "markdown",
   "id": "b57600d3",
   "metadata": {},
   "source": [
    "# Transformation"
   ]
  },
  {
   "cell_type": "code",
   "execution_count": 48,
   "id": "c80176b9",
   "metadata": {},
   "outputs": [
    {
     "data": {
      "text/plain": "     Class    age  tumor-size  inv-nodes  node-caps  deg-malig  \\\n0    False  40-49         6.0        0.0      False        0.0   \n1    False  50-59         2.0        0.0      False        0.0   \n2     True  40-49         5.0        0.0      False        0.5   \n3    False  50-59         5.0        1.0       True        0.5   \n4    False  50-59         7.0        0.0      False        0.5   \n..     ...    ...         ...        ...        ...        ...   \n194  False  50-59         4.0        1.0       True        0.5   \n195   True  30-39         7.0        0.0      False        1.0   \n196  False  30-39         6.0        0.0      False        0.5   \n197   True  50-59         6.0        2.0       True        0.5   \n198  False  40-49         2.0        0.0      False        0.5   \n\n     menopause_lt40  menopause_ge40  menopause_premeno  breast_left  \\\n0               0.0             0.0                1.0          0.0   \n1               0.0             1.0                0.0          0.0   \n2               0.0             0.0                1.0          0.0   \n3               0.0             0.0                1.0          1.0   \n4               0.0             1.0                0.0          1.0   \n..              ...             ...                ...          ...   \n194             0.0             0.0                1.0          1.0   \n195             0.0             0.0                1.0          1.0   \n196             0.0             0.0                1.0          1.0   \n197             0.0             1.0                0.0          1.0   \n198             0.0             0.0                1.0          0.0   \n\n     breast_right  breast-quad_left_up  breast-quad_left_low  \\\n0             1.0                  1.0                   0.0   \n1             1.0                  1.0                   0.0   \n2             1.0                  0.0                   1.0   \n3             0.0                  0.0                   1.0   \n4             0.0                  1.0                   0.0   \n..            ...                  ...                   ...   \n194           0.0                  0.0                   1.0   \n195           0.0                  0.0                   1.0   \n196           0.0                  1.0                   0.0   \n197           0.0                  0.0                   0.0   \n198           1.0                  1.0                   0.0   \n\n     breast-quad_right_up  breast-quad_right_low  breast-quad_central  \n0                     0.0                    0.0                  0.0  \n1                     0.0                    0.0                  0.0  \n2                     0.0                    0.0                  0.0  \n3                     0.0                    0.0                  0.0  \n4                     0.0                    0.0                  0.0  \n..                    ...                    ...                  ...  \n194                   0.0                    0.0                  0.0  \n195                   0.0                    0.0                  0.0  \n196                   0.0                    0.0                  0.0  \n197                   0.0                    1.0                  0.0  \n198                   0.0                    0.0                  0.0  \n\n[199 rows x 16 columns]",
      "text/html": "<div>\n<style scoped>\n    .dataframe tbody tr th:only-of-type {\n        vertical-align: middle;\n    }\n\n    .dataframe tbody tr th {\n        vertical-align: top;\n    }\n\n    .dataframe thead th {\n        text-align: right;\n    }\n</style>\n<table border=\"1\" class=\"dataframe\">\n  <thead>\n    <tr style=\"text-align: right;\">\n      <th></th>\n      <th>Class</th>\n      <th>age</th>\n      <th>tumor-size</th>\n      <th>inv-nodes</th>\n      <th>node-caps</th>\n      <th>deg-malig</th>\n      <th>menopause_lt40</th>\n      <th>menopause_ge40</th>\n      <th>menopause_premeno</th>\n      <th>breast_left</th>\n      <th>breast_right</th>\n      <th>breast-quad_left_up</th>\n      <th>breast-quad_left_low</th>\n      <th>breast-quad_right_up</th>\n      <th>breast-quad_right_low</th>\n      <th>breast-quad_central</th>\n    </tr>\n  </thead>\n  <tbody>\n    <tr>\n      <th>0</th>\n      <td>False</td>\n      <td>40-49</td>\n      <td>6.0</td>\n      <td>0.0</td>\n      <td>False</td>\n      <td>0.0</td>\n      <td>0.0</td>\n      <td>0.0</td>\n      <td>1.0</td>\n      <td>0.0</td>\n      <td>1.0</td>\n      <td>1.0</td>\n      <td>0.0</td>\n      <td>0.0</td>\n      <td>0.0</td>\n      <td>0.0</td>\n    </tr>\n    <tr>\n      <th>1</th>\n      <td>False</td>\n      <td>50-59</td>\n      <td>2.0</td>\n      <td>0.0</td>\n      <td>False</td>\n      <td>0.0</td>\n      <td>0.0</td>\n      <td>1.0</td>\n      <td>0.0</td>\n      <td>0.0</td>\n      <td>1.0</td>\n      <td>1.0</td>\n      <td>0.0</td>\n      <td>0.0</td>\n      <td>0.0</td>\n      <td>0.0</td>\n    </tr>\n    <tr>\n      <th>2</th>\n      <td>True</td>\n      <td>40-49</td>\n      <td>5.0</td>\n      <td>0.0</td>\n      <td>False</td>\n      <td>0.5</td>\n      <td>0.0</td>\n      <td>0.0</td>\n      <td>1.0</td>\n      <td>0.0</td>\n      <td>1.0</td>\n      <td>0.0</td>\n      <td>1.0</td>\n      <td>0.0</td>\n      <td>0.0</td>\n      <td>0.0</td>\n    </tr>\n    <tr>\n      <th>3</th>\n      <td>False</td>\n      <td>50-59</td>\n      <td>5.0</td>\n      <td>1.0</td>\n      <td>True</td>\n      <td>0.5</td>\n      <td>0.0</td>\n      <td>0.0</td>\n      <td>1.0</td>\n      <td>1.0</td>\n      <td>0.0</td>\n      <td>0.0</td>\n      <td>1.0</td>\n      <td>0.0</td>\n      <td>0.0</td>\n      <td>0.0</td>\n    </tr>\n    <tr>\n      <th>4</th>\n      <td>False</td>\n      <td>50-59</td>\n      <td>7.0</td>\n      <td>0.0</td>\n      <td>False</td>\n      <td>0.5</td>\n      <td>0.0</td>\n      <td>1.0</td>\n      <td>0.0</td>\n      <td>1.0</td>\n      <td>0.0</td>\n      <td>1.0</td>\n      <td>0.0</td>\n      <td>0.0</td>\n      <td>0.0</td>\n      <td>0.0</td>\n    </tr>\n    <tr>\n      <th>...</th>\n      <td>...</td>\n      <td>...</td>\n      <td>...</td>\n      <td>...</td>\n      <td>...</td>\n      <td>...</td>\n      <td>...</td>\n      <td>...</td>\n      <td>...</td>\n      <td>...</td>\n      <td>...</td>\n      <td>...</td>\n      <td>...</td>\n      <td>...</td>\n      <td>...</td>\n      <td>...</td>\n    </tr>\n    <tr>\n      <th>194</th>\n      <td>False</td>\n      <td>50-59</td>\n      <td>4.0</td>\n      <td>1.0</td>\n      <td>True</td>\n      <td>0.5</td>\n      <td>0.0</td>\n      <td>0.0</td>\n      <td>1.0</td>\n      <td>1.0</td>\n      <td>0.0</td>\n      <td>0.0</td>\n      <td>1.0</td>\n      <td>0.0</td>\n      <td>0.0</td>\n      <td>0.0</td>\n    </tr>\n    <tr>\n      <th>195</th>\n      <td>True</td>\n      <td>30-39</td>\n      <td>7.0</td>\n      <td>0.0</td>\n      <td>False</td>\n      <td>1.0</td>\n      <td>0.0</td>\n      <td>0.0</td>\n      <td>1.0</td>\n      <td>1.0</td>\n      <td>0.0</td>\n      <td>0.0</td>\n      <td>1.0</td>\n      <td>0.0</td>\n      <td>0.0</td>\n      <td>0.0</td>\n    </tr>\n    <tr>\n      <th>196</th>\n      <td>False</td>\n      <td>30-39</td>\n      <td>6.0</td>\n      <td>0.0</td>\n      <td>False</td>\n      <td>0.5</td>\n      <td>0.0</td>\n      <td>0.0</td>\n      <td>1.0</td>\n      <td>1.0</td>\n      <td>0.0</td>\n      <td>1.0</td>\n      <td>0.0</td>\n      <td>0.0</td>\n      <td>0.0</td>\n      <td>0.0</td>\n    </tr>\n    <tr>\n      <th>197</th>\n      <td>True</td>\n      <td>50-59</td>\n      <td>6.0</td>\n      <td>2.0</td>\n      <td>True</td>\n      <td>0.5</td>\n      <td>0.0</td>\n      <td>1.0</td>\n      <td>0.0</td>\n      <td>1.0</td>\n      <td>0.0</td>\n      <td>0.0</td>\n      <td>0.0</td>\n      <td>0.0</td>\n      <td>1.0</td>\n      <td>0.0</td>\n    </tr>\n    <tr>\n      <th>198</th>\n      <td>False</td>\n      <td>40-49</td>\n      <td>2.0</td>\n      <td>0.0</td>\n      <td>False</td>\n      <td>0.5</td>\n      <td>0.0</td>\n      <td>0.0</td>\n      <td>1.0</td>\n      <td>0.0</td>\n      <td>1.0</td>\n      <td>1.0</td>\n      <td>0.0</td>\n      <td>0.0</td>\n      <td>0.0</td>\n      <td>0.0</td>\n    </tr>\n  </tbody>\n</table>\n<p>199 rows × 16 columns</p>\n</div>"
     },
     "execution_count": 48,
     "metadata": {},
     "output_type": "execute_result"
    }
   ],
   "source": [
    "def transform_data(X_train, X_val, X_test):\n",
    "\tX_train[\"Class\"] = X_train[\"Class\"].map({'recurrence-events': True, 'no-recurrence-events': False})\n",
    "\tX_val[\"Class\"] = X_val[\"Class\"].map({'recurrence-events': True, 'no-recurrence-events': False})\n",
    "\tX_test[\"Class\"] = X_test[\"Class\"].map({'recurrence-events': True, 'no-recurrence-events': False})\n",
    "\t\n",
    "\tone_hot_encoder = OneHotEncoder( categories=[['lt40', 'ge40', 'premeno']])\n",
    "\tX_train_encoded_values = one_hot_encoder.fit_transform(X_train[[\"menopause\"]]).toarray()\n",
    "\tX_val_encoded_values = one_hot_encoder.fit_transform(X_val[[\"menopause\"]]).toarray()\n",
    "\tX_test_encoded_values = one_hot_encoder.fit_transform(X_test[[\"menopause\"]]).toarray()\n",
    "\t\n",
    "\t\n",
    "\tX_train_encoded = pd.DataFrame(X_train_encoded_values, columns=[f\"menopause_{x}\" for x in one_hot_encoder.categories_[0]])\n",
    "\tX_val_encoded = pd.DataFrame(X_val_encoded_values, columns=[f\"menopause_{x}\" for x in one_hot_encoder.categories_[0]])\n",
    "\tX_test_encoded = pd.DataFrame(X_test_encoded_values, columns=[f\"menopause_{x}\" for x in one_hot_encoder.categories_[0]])\n",
    "\tX_train = X_train.join(X_train_encoded)\n",
    "\tX_val = X_val.join(X_val_encoded)\n",
    "\tX_test = X_test.join(X_test_encoded)\n",
    "\t\n",
    "\tX_train = X_train.drop(\"menopause\", axis=1)\n",
    "\tX_val = X_val.drop(\"menopause\", axis=1)\n",
    "\tX_test = X_test.drop(\"menopause\", axis=1)\n",
    "\tordinal_encoder = OrdinalEncoder(categories=[['0-4', '5-9', '10-14', '15-19', '20-24', '25-29', '30-34', '35-39', '40-44', '45-49', '50-54', '55-59']])\n",
    "\tX_train[\"tumor-size\"] = ordinal_encoder.fit_transform(X_train[[\"tumor-size\"]])\n",
    "\tX_val[\"tumor-size\"] = ordinal_encoder.fit_transform(X_val[[\"tumor-size\"]])\n",
    "\tX_test[\"tumor-size\"] = ordinal_encoder.fit_transform(X_test[[\"tumor-size\"]])\n",
    "\t\n",
    "\tordinal_encoder = OrdinalEncoder(categories=[['0-2', '3-5', '6-8', '9-11', '12-14', '15-17', '18-20', '21-23', '24-26', '27-29', '30-32', '33-35', '36-39']])\n",
    "\tX_train[\"inv-nodes\"] = ordinal_encoder.fit_transform(X_train[[\"inv-nodes\"]])\n",
    "\tX_val[\"inv-nodes\"] = ordinal_encoder.fit_transform(X_val[[\"inv-nodes\"]])\n",
    "\tX_test[\"inv-nodes\"] = ordinal_encoder.fit_transform(X_test[[\"inv-nodes\"]])\n",
    "\t\n",
    "\tX_train[\"node-caps\"] = X_train[\"node-caps\"].map({'yes': True, 'no': False})\n",
    "\tX_val[\"node-caps\"] = X_val[\"node-caps\"].map({'yes': True, 'no': False})\n",
    "\tX_test[\"node-caps\"] = X_test[\"node-caps\"].map({'yes': True, 'no': False})\n",
    "\t\n",
    "\tX_train[\"deg-malig\"] = X_train[\"deg-malig\"].astype(float) \n",
    "\tX_val[\"deg-malig\"] = X_val[\"deg-malig\"].astype(float) \n",
    "\tX_test[\"deg-malig\"] = X_test[\"deg-malig\"].astype(float) \n",
    "\tX_train[[\"deg-malig\"]] = minmax_scale(X_train[[\"deg-malig\"]]) \n",
    "\tX_val[[\"deg-malig\"]] = minmax_scale(X_val[[\"deg-malig\"]])\n",
    "\tX_test[[\"deg-malig\"]] = minmax_scale(X_test[[\"deg-malig\"]])\n",
    "\t\n",
    "\tone_hot_encoder = OneHotEncoder( categories=[['left', 'right']])\n",
    "\tX_train_encoded_values = one_hot_encoder.fit_transform(X_train[[\"breast\"]]).toarray()\n",
    "\tX_val_encoded_values = one_hot_encoder.fit_transform(X_val[[\"breast\"]]).toarray()\n",
    "\tX_test_encoded_values = one_hot_encoder.fit_transform(X_test[[\"breast\"]]).toarray()\n",
    "\t\n",
    "\t\n",
    "\tX_train_encoded = pd.DataFrame(X_train_encoded_values, columns=[f\"breast_{x}\" for x in one_hot_encoder.categories_[0]])\n",
    "\tX_val_encoded = pd.DataFrame(X_val_encoded_values, columns=[f\"breast_{x}\" for x in one_hot_encoder.categories_[0]])\n",
    "\tX_test_encoded = pd.DataFrame(X_test_encoded_values, columns=[f\"breast_{x}\" for x in one_hot_encoder.categories_[0]])\n",
    "\tX_train = X_train.join(X_train_encoded)\n",
    "\tX_val = X_val.join(X_val_encoded)\n",
    "\tX_test = X_test.join(X_test_encoded)\n",
    "\t\n",
    "\tX_train = X_train.drop(\"breast\", axis=1)\n",
    "\tX_val = X_val.drop(\"breast\", axis=1)\n",
    "\tX_test = X_test.drop(\"breast\", axis=1)\n",
    "\tone_hot_encoder = OneHotEncoder( categories=[['left_up', 'left_low', 'right_up', 'right_low', 'central']])\n",
    "\tX_train_encoded_values = one_hot_encoder.fit_transform(X_train[[\"breast-quad\"]]).toarray()\n",
    "\tX_val_encoded_values = one_hot_encoder.fit_transform(X_val[[\"breast-quad\"]]).toarray()\n",
    "\tX_test_encoded_values = one_hot_encoder.fit_transform(X_test[[\"breast-quad\"]]).toarray()\n",
    "\t\n",
    "\t\n",
    "\tX_train_encoded = pd.DataFrame(X_train_encoded_values, columns=[f\"breast-quad_{x}\" for x in one_hot_encoder.categories_[0]])\n",
    "\tX_val_encoded = pd.DataFrame(X_val_encoded_values, columns=[f\"breast-quad_{x}\" for x in one_hot_encoder.categories_[0]])\n",
    "\tX_test_encoded = pd.DataFrame(X_test_encoded_values, columns=[f\"breast-quad_{x}\" for x in one_hot_encoder.categories_[0]])\n",
    "\tX_train = X_train.join(X_train_encoded)\n",
    "\tX_val = X_val.join(X_val_encoded)\n",
    "\tX_test = X_test.join(X_test_encoded)\n",
    "\t\n",
    "\tX_train = X_train.drop(\"breast-quad\", axis=1)\n",
    "\tX_val = X_val.drop(\"breast-quad\", axis=1)\n",
    "\tX_test = X_test.drop(\"breast-quad\", axis=1)\n",
    "\treturn X_train, X_val, X_test\n",
    "\n",
    "dataframe: pd.DataFrame = load_dataset()\n",
    "cleaned_dataframe = clean_dataset(dataframe)\n",
    "X_train, y_train, X_val, y_val, X_test, y_test = split_data(cleaned_dataframe)\n",
    "X_train, X_val, X_test = transform_data(X_train, X_val, X_test)\n",
    "X_train\n"
   ]
  },
  {
   "cell_type": "markdown",
   "id": "22f887b0",
   "metadata": {},
   "source": [
    "# Mining"
   ]
  },
  {
   "cell_type": "code",
   "execution_count": 49,
   "id": "0cf9ebf6",
   "metadata": {},
   "outputs": [
    {
     "name": "stdout",
     "output_type": "stream",
     "text": [
      "Fitting 1 folds for each of 2 candidates, totalling 2 fits\n",
      "[CV] END ..............................................C=1.0; total time=   0.0s\n",
      "[CV] END ..............................................C=2.0; total time=   0.0s\n"
     ]
    },
    {
     "ename": "ValueError",
     "evalue": "\nAll the 2 fits failed.\nIt is very likely that your model is misconfigured.\nYou can try to debug the error by setting error_score='raise'.\n\nBelow are more details about the failures:\n--------------------------------------------------------------------------------\n2 fits failed with the following error:\nTraceback (most recent call last):\n  File \"/Library/Frameworks/Python.framework/Versions/3.10/lib/python3.10/site-packages/sklearn/model_selection/_validation.py\", line 686, in _fit_and_score\n    estimator.fit(X_train, y_train, **fit_params)\n  File \"/Library/Frameworks/Python.framework/Versions/3.10/lib/python3.10/site-packages/sklearn/svm/_base.py\", line 192, in fit\n    X, y = self._validate_data(\n  File \"/Library/Frameworks/Python.framework/Versions/3.10/lib/python3.10/site-packages/sklearn/base.py\", line 554, in _validate_data\n    X, y = check_X_y(X, y, **check_params)\n  File \"/Library/Frameworks/Python.framework/Versions/3.10/lib/python3.10/site-packages/sklearn/utils/validation.py\", line 1104, in check_X_y\n    X = check_array(\n  File \"/Library/Frameworks/Python.framework/Versions/3.10/lib/python3.10/site-packages/sklearn/utils/validation.py\", line 877, in check_array\n    array = _asarray_with_order(array, order=order, dtype=dtype, xp=xp)\n  File \"/Library/Frameworks/Python.framework/Versions/3.10/lib/python3.10/site-packages/sklearn/utils/_array_api.py\", line 185, in _asarray_with_order\n    array = numpy.asarray(array, order=order, dtype=dtype)\nValueError: could not convert string to float: '40-49'\n",
     "output_type": "error",
     "traceback": [
      "\u001B[0;31m---------------------------------------------------------------------------\u001B[0m",
      "\u001B[0;31mValueError\u001B[0m                                Traceback (most recent call last)",
      "Cell \u001B[0;32mIn[49], line 5\u001B[0m\n\u001B[1;32m      3\u001B[0m split \u001B[38;5;241m=\u001B[39m [\u001B[38;5;241m-\u001B[39m\u001B[38;5;241m1\u001B[39m \u001B[38;5;28;01mif\u001B[39;00m i \u001B[38;5;241m<\u001B[39m \u001B[38;5;28mlen\u001B[39m(X_train) \u001B[38;5;28;01melse\u001B[39;00m \u001B[38;5;241m0\u001B[39m \u001B[38;5;28;01mfor\u001B[39;00m i \u001B[38;5;129;01min\u001B[39;00m \u001B[38;5;28mrange\u001B[39m(X_train\u001B[38;5;241m.\u001B[39mshape[\u001B[38;5;241m0\u001B[39m] \u001B[38;5;241m+\u001B[39m X_val\u001B[38;5;241m.\u001B[39mshape[\u001B[38;5;241m0\u001B[39m])]\n\u001B[1;32m      4\u001B[0m grid_search_svc_classifier \u001B[38;5;241m=\u001B[39m GridSearchCV(estimator\u001B[38;5;241m=\u001B[39msvc_classifier, param_grid\u001B[38;5;241m=\u001B[39m{\u001B[38;5;124m'\u001B[39m\u001B[38;5;124mC\u001B[39m\u001B[38;5;124m'\u001B[39m: [\u001B[38;5;241m1.0\u001B[39m, \u001B[38;5;241m2.0\u001B[39m]}, scoring\u001B[38;5;241m=\u001B[39m\u001B[38;5;124m\"\u001B[39m\u001B[38;5;124maccuracy\u001B[39m\u001B[38;5;124m\"\u001B[39m, cv\u001B[38;5;241m=\u001B[39mPredefinedSplit(split), verbose\u001B[38;5;241m=\u001B[39m\u001B[38;5;241m2\u001B[39m)\n\u001B[0;32m----> 5\u001B[0m \u001B[43mgrid_search_svc_classifier\u001B[49m\u001B[38;5;241;43m.\u001B[39;49m\u001B[43mfit\u001B[49m\u001B[43m(\u001B[49m\u001B[43mnp\u001B[49m\u001B[38;5;241;43m.\u001B[39;49m\u001B[43mconcatenate\u001B[49m\u001B[43m(\u001B[49m\u001B[43m[\u001B[49m\u001B[43mX_train\u001B[49m\u001B[43m,\u001B[49m\u001B[43m \u001B[49m\u001B[43mX_val\u001B[49m\u001B[43m]\u001B[49m\u001B[43m)\u001B[49m\u001B[43m,\u001B[49m\u001B[43m \u001B[49m\u001B[43mnp\u001B[49m\u001B[38;5;241;43m.\u001B[39;49m\u001B[43mconcatenate\u001B[49m\u001B[43m(\u001B[49m\u001B[43m[\u001B[49m\u001B[43my_train\u001B[49m\u001B[43m,\u001B[49m\u001B[43m \u001B[49m\u001B[43my_val\u001B[49m\u001B[43m]\u001B[49m\u001B[43m)\u001B[49m\u001B[43m)\u001B[49m\n\u001B[1;32m      6\u001B[0m grid_search_svc_classifier\u001B[38;5;241m.\u001B[39mbest_params_\n",
      "File \u001B[0;32m/Library/Frameworks/Python.framework/Versions/3.10/lib/python3.10/site-packages/sklearn/model_selection/_search.py:875\u001B[0m, in \u001B[0;36mBaseSearchCV.fit\u001B[0;34m(self, X, y, groups, **fit_params)\u001B[0m\n\u001B[1;32m    869\u001B[0m     results \u001B[38;5;241m=\u001B[39m \u001B[38;5;28mself\u001B[39m\u001B[38;5;241m.\u001B[39m_format_results(\n\u001B[1;32m    870\u001B[0m         all_candidate_params, n_splits, all_out, all_more_results\n\u001B[1;32m    871\u001B[0m     )\n\u001B[1;32m    873\u001B[0m     \u001B[38;5;28;01mreturn\u001B[39;00m results\n\u001B[0;32m--> 875\u001B[0m \u001B[38;5;28;43mself\u001B[39;49m\u001B[38;5;241;43m.\u001B[39;49m\u001B[43m_run_search\u001B[49m\u001B[43m(\u001B[49m\u001B[43mevaluate_candidates\u001B[49m\u001B[43m)\u001B[49m\n\u001B[1;32m    877\u001B[0m \u001B[38;5;66;03m# multimetric is determined here because in the case of a callable\u001B[39;00m\n\u001B[1;32m    878\u001B[0m \u001B[38;5;66;03m# self.scoring the return type is only known after calling\u001B[39;00m\n\u001B[1;32m    879\u001B[0m first_test_score \u001B[38;5;241m=\u001B[39m all_out[\u001B[38;5;241m0\u001B[39m][\u001B[38;5;124m\"\u001B[39m\u001B[38;5;124mtest_scores\u001B[39m\u001B[38;5;124m\"\u001B[39m]\n",
      "File \u001B[0;32m/Library/Frameworks/Python.framework/Versions/3.10/lib/python3.10/site-packages/sklearn/model_selection/_search.py:1389\u001B[0m, in \u001B[0;36mGridSearchCV._run_search\u001B[0;34m(self, evaluate_candidates)\u001B[0m\n\u001B[1;32m   1387\u001B[0m \u001B[38;5;28;01mdef\u001B[39;00m \u001B[38;5;21m_run_search\u001B[39m(\u001B[38;5;28mself\u001B[39m, evaluate_candidates):\n\u001B[1;32m   1388\u001B[0m \u001B[38;5;250m    \u001B[39m\u001B[38;5;124;03m\"\"\"Search all candidates in param_grid\"\"\"\u001B[39;00m\n\u001B[0;32m-> 1389\u001B[0m     \u001B[43mevaluate_candidates\u001B[49m\u001B[43m(\u001B[49m\u001B[43mParameterGrid\u001B[49m\u001B[43m(\u001B[49m\u001B[38;5;28;43mself\u001B[39;49m\u001B[38;5;241;43m.\u001B[39;49m\u001B[43mparam_grid\u001B[49m\u001B[43m)\u001B[49m\u001B[43m)\u001B[49m\n",
      "File \u001B[0;32m/Library/Frameworks/Python.framework/Versions/3.10/lib/python3.10/site-packages/sklearn/model_selection/_search.py:852\u001B[0m, in \u001B[0;36mBaseSearchCV.fit.<locals>.evaluate_candidates\u001B[0;34m(candidate_params, cv, more_results)\u001B[0m\n\u001B[1;32m    845\u001B[0m \u001B[38;5;28;01melif\u001B[39;00m \u001B[38;5;28mlen\u001B[39m(out) \u001B[38;5;241m!=\u001B[39m n_candidates \u001B[38;5;241m*\u001B[39m n_splits:\n\u001B[1;32m    846\u001B[0m     \u001B[38;5;28;01mraise\u001B[39;00m \u001B[38;5;167;01mValueError\u001B[39;00m(\n\u001B[1;32m    847\u001B[0m         \u001B[38;5;124m\"\u001B[39m\u001B[38;5;124mcv.split and cv.get_n_splits returned \u001B[39m\u001B[38;5;124m\"\u001B[39m\n\u001B[1;32m    848\u001B[0m         \u001B[38;5;124m\"\u001B[39m\u001B[38;5;124minconsistent results. Expected \u001B[39m\u001B[38;5;132;01m{}\u001B[39;00m\u001B[38;5;124m \u001B[39m\u001B[38;5;124m\"\u001B[39m\n\u001B[1;32m    849\u001B[0m         \u001B[38;5;124m\"\u001B[39m\u001B[38;5;124msplits, got \u001B[39m\u001B[38;5;132;01m{}\u001B[39;00m\u001B[38;5;124m\"\u001B[39m\u001B[38;5;241m.\u001B[39mformat(n_splits, \u001B[38;5;28mlen\u001B[39m(out) \u001B[38;5;241m/\u001B[39m\u001B[38;5;241m/\u001B[39m n_candidates)\n\u001B[1;32m    850\u001B[0m     )\n\u001B[0;32m--> 852\u001B[0m \u001B[43m_warn_or_raise_about_fit_failures\u001B[49m\u001B[43m(\u001B[49m\u001B[43mout\u001B[49m\u001B[43m,\u001B[49m\u001B[43m \u001B[49m\u001B[38;5;28;43mself\u001B[39;49m\u001B[38;5;241;43m.\u001B[39;49m\u001B[43merror_score\u001B[49m\u001B[43m)\u001B[49m\n\u001B[1;32m    854\u001B[0m \u001B[38;5;66;03m# For callable self.scoring, the return type is only know after\u001B[39;00m\n\u001B[1;32m    855\u001B[0m \u001B[38;5;66;03m# calling. If the return type is a dictionary, the error scores\u001B[39;00m\n\u001B[1;32m    856\u001B[0m \u001B[38;5;66;03m# can now be inserted with the correct key. The type checking\u001B[39;00m\n\u001B[1;32m    857\u001B[0m \u001B[38;5;66;03m# of out will be done in `_insert_error_scores`.\u001B[39;00m\n\u001B[1;32m    858\u001B[0m \u001B[38;5;28;01mif\u001B[39;00m callable(\u001B[38;5;28mself\u001B[39m\u001B[38;5;241m.\u001B[39mscoring):\n",
      "File \u001B[0;32m/Library/Frameworks/Python.framework/Versions/3.10/lib/python3.10/site-packages/sklearn/model_selection/_validation.py:367\u001B[0m, in \u001B[0;36m_warn_or_raise_about_fit_failures\u001B[0;34m(results, error_score)\u001B[0m\n\u001B[1;32m    360\u001B[0m \u001B[38;5;28;01mif\u001B[39;00m num_failed_fits \u001B[38;5;241m==\u001B[39m num_fits:\n\u001B[1;32m    361\u001B[0m     all_fits_failed_message \u001B[38;5;241m=\u001B[39m (\n\u001B[1;32m    362\u001B[0m         \u001B[38;5;124mf\u001B[39m\u001B[38;5;124m\"\u001B[39m\u001B[38;5;130;01m\\n\u001B[39;00m\u001B[38;5;124mAll the \u001B[39m\u001B[38;5;132;01m{\u001B[39;00mnum_fits\u001B[38;5;132;01m}\u001B[39;00m\u001B[38;5;124m fits failed.\u001B[39m\u001B[38;5;130;01m\\n\u001B[39;00m\u001B[38;5;124m\"\u001B[39m\n\u001B[1;32m    363\u001B[0m         \u001B[38;5;124m\"\u001B[39m\u001B[38;5;124mIt is very likely that your model is misconfigured.\u001B[39m\u001B[38;5;130;01m\\n\u001B[39;00m\u001B[38;5;124m\"\u001B[39m\n\u001B[1;32m    364\u001B[0m         \u001B[38;5;124m\"\u001B[39m\u001B[38;5;124mYou can try to debug the error by setting error_score=\u001B[39m\u001B[38;5;124m'\u001B[39m\u001B[38;5;124mraise\u001B[39m\u001B[38;5;124m'\u001B[39m\u001B[38;5;124m.\u001B[39m\u001B[38;5;130;01m\\n\u001B[39;00m\u001B[38;5;130;01m\\n\u001B[39;00m\u001B[38;5;124m\"\u001B[39m\n\u001B[1;32m    365\u001B[0m         \u001B[38;5;124mf\u001B[39m\u001B[38;5;124m\"\u001B[39m\u001B[38;5;124mBelow are more details about the failures:\u001B[39m\u001B[38;5;130;01m\\n\u001B[39;00m\u001B[38;5;132;01m{\u001B[39;00mfit_errors_summary\u001B[38;5;132;01m}\u001B[39;00m\u001B[38;5;124m\"\u001B[39m\n\u001B[1;32m    366\u001B[0m     )\n\u001B[0;32m--> 367\u001B[0m     \u001B[38;5;28;01mraise\u001B[39;00m \u001B[38;5;167;01mValueError\u001B[39;00m(all_fits_failed_message)\n\u001B[1;32m    369\u001B[0m \u001B[38;5;28;01melse\u001B[39;00m:\n\u001B[1;32m    370\u001B[0m     some_fits_failed_message \u001B[38;5;241m=\u001B[39m (\n\u001B[1;32m    371\u001B[0m         \u001B[38;5;124mf\u001B[39m\u001B[38;5;124m\"\u001B[39m\u001B[38;5;130;01m\\n\u001B[39;00m\u001B[38;5;132;01m{\u001B[39;00mnum_failed_fits\u001B[38;5;132;01m}\u001B[39;00m\u001B[38;5;124m fits failed out of a total of \u001B[39m\u001B[38;5;132;01m{\u001B[39;00mnum_fits\u001B[38;5;132;01m}\u001B[39;00m\u001B[38;5;124m.\u001B[39m\u001B[38;5;130;01m\\n\u001B[39;00m\u001B[38;5;124m\"\u001B[39m\n\u001B[1;32m    372\u001B[0m         \u001B[38;5;124m\"\u001B[39m\u001B[38;5;124mThe score on these train-test partitions for these parameters\u001B[39m\u001B[38;5;124m\"\u001B[39m\n\u001B[0;32m   (...)\u001B[0m\n\u001B[1;32m    376\u001B[0m         \u001B[38;5;124mf\u001B[39m\u001B[38;5;124m\"\u001B[39m\u001B[38;5;124mBelow are more details about the failures:\u001B[39m\u001B[38;5;130;01m\\n\u001B[39;00m\u001B[38;5;132;01m{\u001B[39;00mfit_errors_summary\u001B[38;5;132;01m}\u001B[39;00m\u001B[38;5;124m\"\u001B[39m\n\u001B[1;32m    377\u001B[0m     )\n",
      "\u001B[0;31mValueError\u001B[0m: \nAll the 2 fits failed.\nIt is very likely that your model is misconfigured.\nYou can try to debug the error by setting error_score='raise'.\n\nBelow are more details about the failures:\n--------------------------------------------------------------------------------\n2 fits failed with the following error:\nTraceback (most recent call last):\n  File \"/Library/Frameworks/Python.framework/Versions/3.10/lib/python3.10/site-packages/sklearn/model_selection/_validation.py\", line 686, in _fit_and_score\n    estimator.fit(X_train, y_train, **fit_params)\n  File \"/Library/Frameworks/Python.framework/Versions/3.10/lib/python3.10/site-packages/sklearn/svm/_base.py\", line 192, in fit\n    X, y = self._validate_data(\n  File \"/Library/Frameworks/Python.framework/Versions/3.10/lib/python3.10/site-packages/sklearn/base.py\", line 554, in _validate_data\n    X, y = check_X_y(X, y, **check_params)\n  File \"/Library/Frameworks/Python.framework/Versions/3.10/lib/python3.10/site-packages/sklearn/utils/validation.py\", line 1104, in check_X_y\n    X = check_array(\n  File \"/Library/Frameworks/Python.framework/Versions/3.10/lib/python3.10/site-packages/sklearn/utils/validation.py\", line 877, in check_array\n    array = _asarray_with_order(array, order=order, dtype=dtype, xp=xp)\n  File \"/Library/Frameworks/Python.framework/Versions/3.10/lib/python3.10/site-packages/sklearn/utils/_array_api.py\", line 185, in _asarray_with_order\n    array = numpy.asarray(array, order=order, dtype=dtype)\nValueError: could not convert string to float: '40-49'\n"
     ]
    }
   ],
   "source": [
    "svc_classifier = SVC()\n",
    "\n",
    "split = [-1 if i < len(X_train) else 0 for i in range(X_train.shape[0] + X_val.shape[0])]\n",
    "grid_search_svc_classifier = GridSearchCV(estimator=svc_classifier, param_grid={'C': [1.0, 2.0]}, scoring=\"accuracy\", cv=PredefinedSplit(split), verbose=2)\n",
    "grid_search_svc_classifier.fit(np.concatenate([X_train, X_val]), np.concatenate([y_train, y_val]))\n",
    "grid_search_svc_classifier.best_params_"
   ]
  },
  {
   "cell_type": "code",
   "execution_count": null,
   "id": "ab3831af",
   "metadata": {},
   "outputs": [],
   "source": [
    "decision_tree_classifier = DecisionTreeClassifier()\n",
    "\n",
    "split = [-1 if i < len(X_train) else 0 for i in range(X_train.shape[0] + X_val.shape[0])]\n",
    "grid_search_decision_tree_classifier = GridSearchCV(estimator=decision_tree_classifier, param_grid={'splitter': ['best', 'random'], 'criterion': ['gini', 'entropy'], 'min_samples_split': [10, 12]}, scoring=\"accuracy\", cv=PredefinedSplit(split), verbose=2)\n",
    "grid_search_decision_tree_classifier.fit(np.concatenate([X_train, X_val]), np.concatenate([y_train, y_val]))\n",
    "grid_search_decision_tree_classifier.best_params_"
   ]
  },
  {
   "cell_type": "code",
   "execution_count": null,
   "id": "5bd37416",
   "metadata": {},
   "outputs": [],
   "source": [
    "k_neighbor_classifier = KNeighborsClassifier()\n",
    "\n",
    "split = [-1 if i < len(X_train) else 0 for i in range(X_train.shape[0] + X_val.shape[0])]\n",
    "grid_search_k_neighbor_classifier = GridSearchCV(estimator=k_neighbor_classifier, param_grid={'n_neighbors': [5, 8]}, scoring=\"accuracy\", cv=PredefinedSplit(split), verbose=2)\n",
    "grid_search_k_neighbor_classifier.fit(np.concatenate([X_train, X_val]), np.concatenate([y_train, y_val]))\n",
    "grid_search_k_neighbor_classifier.best_params_"
   ]
  },
  {
   "cell_type": "code",
   "execution_count": null,
   "id": "d6574a69",
   "metadata": {},
   "outputs": [],
   "source": [
    "mlp_classifier = MLPClassifier()\n",
    "\n",
    "split = [-1 if i < len(X_train) else 0 for i in range(X_train.shape[0] + X_val.shape[0])]\n",
    "grid_search_mlp_classifier = GridSearchCV(estimator=mlp_classifier, param_grid={'solver': ['sgd', 'adam'], 'activation': ['tanh', 'identity']}, scoring=\"accuracy\", cv=PredefinedSplit(split), verbose=2)\n",
    "grid_search_mlp_classifier.fit(np.concatenate([X_train, X_val]), np.concatenate([y_train, y_val]))\n",
    "grid_search_mlp_classifier.best_params_"
   ]
  },
  {
   "cell_type": "code",
   "execution_count": null,
   "id": "709cfc1f",
   "metadata": {},
   "outputs": [],
   "source": [
    "random_forest_classifier = RandomForestClassifier()\n",
    "\n",
    "split = [-1 if i < len(X_train) else 0 for i in range(X_train.shape[0] + X_val.shape[0])]\n",
    "grid_search_random_forest_classifier = GridSearchCV(estimator=random_forest_classifier, param_grid={'criterion': ['gini', 'entropy'], 'n_estimators': [5, 2]}, scoring=\"accuracy\", cv=PredefinedSplit(split), verbose=2)\n",
    "grid_search_random_forest_classifier.fit(np.concatenate([X_train, X_val]), np.concatenate([y_train, y_val]))\n",
    "grid_search_random_forest_classifier.best_params_"
   ]
  },
  {
   "cell_type": "markdown",
   "id": "64534d34",
   "metadata": {},
   "source": [
    "# Comparaison"
   ]
  },
  {
   "cell_type": "code",
   "execution_count": null,
   "id": "f7d2a584",
   "metadata": {},
   "outputs": [],
   "source": [
    "def comparaison_chart(grid_search_name):\n",
    "\tresults = grid_search_name.cv_results_\n",
    "\tparams = results[\"params\"]\n",
    "\tmean_tst_scores = results[\"mean_test_score\"]\n",
    "\tfor index, p in enumerate(params):\n",
    "\t\tp[\"mean_test_score\"] = mean_tst_scores[index]\n",
    "\tresults_dataframe = pd.DataFrame(params)\n",
    "\t\n",
    "\tcolumns_name = results_dataframe.columns.to_list()\n",
    "\tresults_dataframe = results_dataframe.sort_values(by=[\"mean_test_score\"], ascending=False)\n",
    "\tcolumns_name.remove(\"mean_test_score\")\n",
    "\tresults_dataframe[\"combinaison_hyperparameters\"] = results_dataframe[columns_name].apply(lambda x: \" | \".join(map(str, x)), axis=1)\n",
    "\t\n",
    "\t\n",
    "\tplt.barh(results_dataframe[\"combinaison_hyperparameters\"], results_dataframe[\"mean_test_score\"])\n",
    "\tplt.xlabel = \"score\"\n",
    "\tplt.ylabel = \"combinaison de paramètres\"\n",
    "\tplt.title = \"Résultats d entrainement\"\n",
    "\tplt.plot()\n"
   ]
  },
  {
   "cell_type": "code",
   "execution_count": null,
   "id": "be91b431",
   "metadata": {},
   "outputs": [],
   "source": [
    "comparaison_chart(grid_search_random_forest_classifier)\n"
   ]
  },
  {
   "cell_type": "code",
   "execution_count": null,
   "id": "6e5c442c",
   "metadata": {},
   "outputs": [],
   "source": [
    "scores = {}\n",
    "y_test_format = y_test.to_numpy()\n",
    "y_test_format = np.array(np.where(y_test_format == \"no\", 0, 1), dtype=int)\n",
    "prediction = grid_search_svc_classifier.predict(X_test)\n",
    "prediction = np.array(np.where(prediction == \"no\", 0, 1), dtype=int)\n",
    "scores[\"svc_classifier\"] = {}\n",
    "\n",
    "scores[\"svc_classifier\"][\"f1_score\"] = f1_score(y_test_format, prediction)\n",
    "\n",
    "scores[\"svc_classifier\"][\"auc\"] = roc_auc_score(y_test_format, prediction)\n",
    "\n",
    "scores[\"svc_classifier\"][\"recall\"] = recall_score(y_test_format, prediction)\n",
    "\n",
    "scores[\"svc_classifier\"][\"precision\"] = precision_score(y_test_format, prediction)\n",
    "\n",
    "prediction = grid_search_decision_tree_classifier.predict(X_test)\n",
    "prediction = np.array(np.where(prediction == \"no\", 0, 1), dtype=int)\n",
    "scores[\"decision_tree_classifier\"] = {}\n",
    "\n",
    "scores[\"decision_tree_classifier\"][\"f1_score\"] = f1_score(y_test_format, prediction)\n",
    "\n",
    "scores[\"decision_tree_classifier\"][\"auc\"] = roc_auc_score(y_test_format, prediction)\n",
    "\n",
    "scores[\"decision_tree_classifier\"][\"recall\"] = recall_score(y_test_format, prediction)\n",
    "\n",
    "scores[\"decision_tree_classifier\"][\"precision\"] = precision_score(y_test_format, prediction)\n",
    "\n",
    "prediction = grid_search_k_neighbor_classifier.predict(X_test)\n",
    "prediction = np.array(np.where(prediction == \"no\", 0, 1), dtype=int)\n",
    "scores[\"k_neighbor_classifier\"] = {}\n",
    "\n",
    "scores[\"k_neighbor_classifier\"][\"f1_score\"] = f1_score(y_test_format, prediction)\n",
    "\n",
    "scores[\"k_neighbor_classifier\"][\"auc\"] = roc_auc_score(y_test_format, prediction)\n",
    "\n",
    "scores[\"k_neighbor_classifier\"][\"recall\"] = recall_score(y_test_format, prediction)\n",
    "\n",
    "scores[\"k_neighbor_classifier\"][\"precision\"] = precision_score(y_test_format, prediction)\n",
    "\n",
    "prediction = grid_search_mlp_classifier.predict(X_test)\n",
    "prediction = np.array(np.where(prediction == \"no\", 0, 1), dtype=int)\n",
    "scores[\"mlp_classifier\"] = {}\n",
    "\n",
    "scores[\"mlp_classifier\"][\"f1_score\"] = f1_score(y_test_format, prediction)\n",
    "\n",
    "scores[\"mlp_classifier\"][\"auc\"] = roc_auc_score(y_test_format, prediction)\n",
    "\n",
    "scores[\"mlp_classifier\"][\"recall\"] = recall_score(y_test_format, prediction)\n",
    "\n",
    "scores[\"mlp_classifier\"][\"precision\"] = precision_score(y_test_format, prediction)\n",
    "\n",
    "prediction = grid_search_random_forest_classifier.predict(X_test)\n",
    "prediction = np.array(np.where(prediction == \"no\", 0, 1), dtype=int)\n",
    "scores[\"random_forest_classifier\"] = {}\n",
    "\n",
    "scores[\"random_forest_classifier\"][\"f1_score\"] = f1_score(y_test_format, prediction)\n",
    "\n",
    "scores[\"random_forest_classifier\"][\"auc\"] = roc_auc_score(y_test_format, prediction)\n",
    "\n",
    "scores[\"random_forest_classifier\"][\"recall\"] = recall_score(y_test_format, prediction)\n",
    "\n",
    "scores[\"random_forest_classifier\"][\"precision\"] = precision_score(y_test_format, prediction)\n",
    "\n",
    "plot_df = pd.DataFrame(scores)\n",
    "for cls in ['svc_classifier', 'decision_tree_classifier', 'k_neighbor_classifier', 'mlp_classifier', 'random_forest_classifier']:\n",
    "\tplot_df.plot(y=cls, kind=\"bar\", use_index=True)\n",
    "plot_df\n"
   ]
  }
 ],
 "metadata": {},
 "nbformat": 4,
 "nbformat_minor": 5
}
