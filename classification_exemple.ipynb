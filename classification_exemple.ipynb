{
 "cells": [
  {
   "cell_type": "markdown",
   "source": [
    "# Importations"
   ],
   "metadata": {
    "collapsed": false
   }
  },
  {
   "cell_type": "code",
   "execution_count": 15,
   "outputs": [],
   "source": [
    "from typing import List\n",
    "from enum import Enum\n",
    "\n",
    "import numpy as np\n",
    "import pandas as pd"
   ],
   "metadata": {
    "collapsed": false
   }
  },
  {
   "cell_type": "code",
   "execution_count": 16,
   "outputs": [
    {
     "data": {
      "text/plain": "                    Class    age menopause tumor-size inv-nodes node-caps  \\\n0    no-recurrence-events  30-39   premeno      30-34       0-2        no   \n1    no-recurrence-events  40-49   premeno      20-24       0-2        no   \n2    no-recurrence-events  40-49   premeno      20-24       0-2        no   \n3    no-recurrence-events  60-69      ge40      15-19       0-2        no   \n4    no-recurrence-events  40-49   premeno        0-4       0-2        no   \n..                    ...    ...       ...        ...       ...       ...   \n281     recurrence-events  30-39   premeno      30-34       0-2        no   \n282     recurrence-events  30-39   premeno      20-24       0-2        no   \n283     recurrence-events  60-69      ge40      20-24       0-2        no   \n284     recurrence-events  40-49      ge40      30-34       3-5        no   \n285     recurrence-events  50-59      ge40      30-34       3-5        no   \n\n     deg-malig breast breast-quad       \n0            3   left    left_low   no  \n1            2  right    right_up   no  \n2            2   left    left_low   no  \n3            2  right     left_up   no  \n4            2  right   right_low   no  \n..         ...    ...         ...  ...  \n281          2   left     left_up   no  \n282          3   left     left_up  yes  \n283          1  right     left_up   no  \n284          3   left    left_low   no  \n285          3   left    left_low   no  \n\n[286 rows x 10 columns]",
      "text/html": "<div>\n<style scoped>\n    .dataframe tbody tr th:only-of-type {\n        vertical-align: middle;\n    }\n\n    .dataframe tbody tr th {\n        vertical-align: top;\n    }\n\n    .dataframe thead th {\n        text-align: right;\n    }\n</style>\n<table border=\"1\" class=\"dataframe\">\n  <thead>\n    <tr style=\"text-align: right;\">\n      <th></th>\n      <th>Class</th>\n      <th>age</th>\n      <th>menopause</th>\n      <th>tumor-size</th>\n      <th>inv-nodes</th>\n      <th>node-caps</th>\n      <th>deg-malig</th>\n      <th>breast</th>\n      <th>breast-quad</th>\n      <th></th>\n    </tr>\n  </thead>\n  <tbody>\n    <tr>\n      <th>0</th>\n      <td>no-recurrence-events</td>\n      <td>30-39</td>\n      <td>premeno</td>\n      <td>30-34</td>\n      <td>0-2</td>\n      <td>no</td>\n      <td>3</td>\n      <td>left</td>\n      <td>left_low</td>\n      <td>no</td>\n    </tr>\n    <tr>\n      <th>1</th>\n      <td>no-recurrence-events</td>\n      <td>40-49</td>\n      <td>premeno</td>\n      <td>20-24</td>\n      <td>0-2</td>\n      <td>no</td>\n      <td>2</td>\n      <td>right</td>\n      <td>right_up</td>\n      <td>no</td>\n    </tr>\n    <tr>\n      <th>2</th>\n      <td>no-recurrence-events</td>\n      <td>40-49</td>\n      <td>premeno</td>\n      <td>20-24</td>\n      <td>0-2</td>\n      <td>no</td>\n      <td>2</td>\n      <td>left</td>\n      <td>left_low</td>\n      <td>no</td>\n    </tr>\n    <tr>\n      <th>3</th>\n      <td>no-recurrence-events</td>\n      <td>60-69</td>\n      <td>ge40</td>\n      <td>15-19</td>\n      <td>0-2</td>\n      <td>no</td>\n      <td>2</td>\n      <td>right</td>\n      <td>left_up</td>\n      <td>no</td>\n    </tr>\n    <tr>\n      <th>4</th>\n      <td>no-recurrence-events</td>\n      <td>40-49</td>\n      <td>premeno</td>\n      <td>0-4</td>\n      <td>0-2</td>\n      <td>no</td>\n      <td>2</td>\n      <td>right</td>\n      <td>right_low</td>\n      <td>no</td>\n    </tr>\n    <tr>\n      <th>...</th>\n      <td>...</td>\n      <td>...</td>\n      <td>...</td>\n      <td>...</td>\n      <td>...</td>\n      <td>...</td>\n      <td>...</td>\n      <td>...</td>\n      <td>...</td>\n      <td>...</td>\n    </tr>\n    <tr>\n      <th>281</th>\n      <td>recurrence-events</td>\n      <td>30-39</td>\n      <td>premeno</td>\n      <td>30-34</td>\n      <td>0-2</td>\n      <td>no</td>\n      <td>2</td>\n      <td>left</td>\n      <td>left_up</td>\n      <td>no</td>\n    </tr>\n    <tr>\n      <th>282</th>\n      <td>recurrence-events</td>\n      <td>30-39</td>\n      <td>premeno</td>\n      <td>20-24</td>\n      <td>0-2</td>\n      <td>no</td>\n      <td>3</td>\n      <td>left</td>\n      <td>left_up</td>\n      <td>yes</td>\n    </tr>\n    <tr>\n      <th>283</th>\n      <td>recurrence-events</td>\n      <td>60-69</td>\n      <td>ge40</td>\n      <td>20-24</td>\n      <td>0-2</td>\n      <td>no</td>\n      <td>1</td>\n      <td>right</td>\n      <td>left_up</td>\n      <td>no</td>\n    </tr>\n    <tr>\n      <th>284</th>\n      <td>recurrence-events</td>\n      <td>40-49</td>\n      <td>ge40</td>\n      <td>30-34</td>\n      <td>3-5</td>\n      <td>no</td>\n      <td>3</td>\n      <td>left</td>\n      <td>left_low</td>\n      <td>no</td>\n    </tr>\n    <tr>\n      <th>285</th>\n      <td>recurrence-events</td>\n      <td>50-59</td>\n      <td>ge40</td>\n      <td>30-34</td>\n      <td>3-5</td>\n      <td>no</td>\n      <td>3</td>\n      <td>left</td>\n      <td>left_low</td>\n      <td>no</td>\n    </tr>\n  </tbody>\n</table>\n<p>286 rows × 10 columns</p>\n</div>"
     },
     "execution_count": 16,
     "metadata": {},
     "output_type": "execute_result"
    }
   ],
   "source": [
    "def load_dataset(dataset_url: str) -> pd.DataFrame:\n",
    "    current_dataset = pd.read_csv(dataset_url, header=None)\n",
    "    current_dataset.columns = ['Class', 'age', 'menopause', 'tumor-size', 'inv-nodes', 'node-caps', 'deg-malig', 'breast', 'breast-quad', '']\n",
    "    return current_dataset\n",
    "\n",
    "\n",
    "load_dataset(\"./breast-cancer.csv\")"
   ],
   "metadata": {
    "collapsed": false
   }
  },
  {
   "cell_type": "markdown",
   "source": [
    "# Dataset sur lequel nous allons travailler"
   ],
   "metadata": {
    "collapsed": false
   }
  },
  {
   "cell_type": "code",
   "execution_count": 17,
   "outputs": [],
   "source": [
    "class DataType(Enum):\n",
    "    BOOLEAN = 1\n",
    "    QUALITATIVE_NOMINAL = 2         # Named categories : ['FH', 'SF', 'EV']\n",
    "    QUALITATIVE_ORDINAL = 3         # Categories with an implied order : ['small', 'medium', 'high']\n",
    "    QUANTITATIVE_DISCRETE = 4       # Only particular numbers : [1, 2, 3, 6, 8]\n",
    "    QUANTITATIVE_CONTINUOUS = 5     # Any numerical value : [1.345, 2.394, 8.345, 0.432]\n",
    "    LABEL = 6                       # Label de la classification\n",
    "\n",
    "\n",
    "class JobWhenMissingValue(Enum):    # Si une valeur d'un dataset est manquante\n",
    "    DELETE_LINE = 1                 # - On supprime la ligne\n",
    "    REPLACE_VALUE = 2               # - On remplace la valeur\n",
    "\n",
    "class EncodingType(Enum):\n",
    "    ONE_HOT_ENCODER = 1\n",
    "    ORDINAL_ENCODER = 2"
   ],
   "metadata": {
    "collapsed": false
   }
  },
  {
   "cell_type": "code",
   "execution_count": 18,
   "outputs": [],
   "source": [
    "# Url à partir de la racine du dataset au format CSV\n",
    "CSV_FILE_URL: str = 'breast-cancer.csv'\n",
    "\n",
    "# Si le fichier CSV contient les noms de colonnes, mettre à True, si le fichier CSV ne contient\n",
    "# que les données, et pas les titres, mettre à False\n",
    "IS_CSV_FILE_CONTAINS_ROW_HEADER: bool = False\n",
    "\n",
    "# Renommer les noms des colonnes\n",
    "NAMES_ROWS_HEADER: List[str] = [\n",
    "    \"class\",\n",
    "    \"age\",\n",
    "    \"menopause\",\n",
    "    \"tumor-size\",\n",
    "    \"inv-nodes\",\n",
    "    \"node-caps\",\n",
    "    \"deg-malig\",\n",
    "    \"breast\",\n",
    "    \"breast-quad\",\n",
    "    \"irradiat\",\n",
    "]\n",
    "\n",
    "# Les types des données qui ont été inséré\n",
    "ROWS_DATATYPES = {\n",
    "    \"class\": {\n",
    "        \"datatype\": DataType.BOOLEAN,\n",
    "        \"possible_values\": [ \"recurrence-events\", \"no-recurrence-events\" ], # TRUE, FALSE\n",
    "        \"job_when_missing_value\": {\n",
    "            \"type\": JobWhenMissingValue.REPLACE_VALUE,\n",
    "            \"replace_by\": False,\n",
    "        }\n",
    "    },\n",
    "    \"age\": {\n",
    "        \"datatype\": DataType.QUALITATIVE_ORDINAL,\n",
    "        \"possible_values\": [ \"10-19\", \"20-29\", \"30-39\", \"40-49\", \"50-59\", \"60-69\", \"70-79\", \"80-89\", \"90-99\" ],\n",
    "        \"encoding\": EncodingType.ORDINAL_ENCODER,\n",
    "        \"job_when_missing_value\": {\n",
    "            \"type\": JobWhenMissingValue.DELETE_LINE,\n",
    "        }\n",
    "    },\n",
    "    \"menopause\": {\n",
    "        \"datatype\": DataType.QUALITATIVE_NOMINAL,\n",
    "        \"possible_values\": [ \"lt40\", \"premeno\", \"ge40\" ],\n",
    "        \"encoding\": EncodingType.ONE_HOT_ENCODER,\n",
    "        \"job_when_missing_value\": {\n",
    "            \"type\": JobWhenMissingValue.DELETE_LINE,\n",
    "        }\n",
    "    },\n",
    "    \"tumor-size\": {\n",
    "        \"datatype\": DataType.QUALITATIVE_ORDINAL,\n",
    "        \"possible_values\": [ \"0-4\", \"5-9\", \"10-14\", \"15-19\", \"20-24\", \"25-29\", \"30-34\", \"35-39\", \"40-44\", \"45-49\", \"50-54\", \"55-59\" ],\n",
    "        \"encoding\": EncodingType.ORDINAL_ENCODER,\n",
    "        \"job_when_missing_value\": {\n",
    "            \"type\": JobWhenMissingValue.DELETE_LINE,\n",
    "        }\n",
    "    },\n",
    "    \"inv-nodes\": {\n",
    "        \"datatype\": DataType.QUALITATIVE_ORDINAL,\n",
    "        \"possible_values\": [ \"0-2\", \"3-5\", \"6-8\", \"9-11\", \"12-14\", \"15-17\", \"18-20\", \"21-23\", \"24-26\", \"27-29\", \"30-32\", \"33-35\", \"36-39\" ],\n",
    "        \"encoding\": EncodingType.ORDINAL_ENCODER,\n",
    "        \"job_when_missing_value\": {\n",
    "            \"type\": JobWhenMissingValue.DELETE_LINE,\n",
    "        }\n",
    "    },\n",
    "    \"node-caps\": {\n",
    "        \"datatype\": DataType.BOOLEAN,\n",
    "        \"possible_values\": [\"yes\", \"no\"],\n",
    "        \"job_when_missing_value\": {\n",
    "            \"type\": JobWhenMissingValue.DELETE_LINE,\n",
    "        }\n",
    "    },\n",
    "    \"deg-malig\": {\n",
    "        \"datatype\": DataType.QUANTITATIVE_DISCRETE,\n",
    "        \"job_when_missing_value\": {\n",
    "            \"type\": JobWhenMissingValue.DELETE_LINE,\n",
    "        }\n",
    "    },\n",
    "    \"breast\": {\n",
    "        \"datatype\": DataType.QUALITATIVE_NOMINAL,\n",
    "        \"possible_values\": [ \"left\", \"right\" ],\n",
    "        \"encoding\": EncodingType.ONE_HOT_ENCODER,\n",
    "        \"job_when_missing_value\": {\n",
    "            \"type\": JobWhenMissingValue.DELETE_LINE,\n",
    "        }\n",
    "    },\n",
    "    \"breast-quad\": {\n",
    "        \"datatype\": DataType.QUALITATIVE_NOMINAL,\n",
    "        \"possible_values\": [ \"left_up\",  \"left_low\",  \"right_up\",  \"right_low\",  \"central\" ],\n",
    "        \"encoding\": EncodingType.ONE_HOT_ENCODER,\n",
    "        \"job_when_missing_value\": {\n",
    "            \"type\": JobWhenMissingValue.DELETE_LINE,\n",
    "        }\n",
    "    },\n",
    "    \"irradiat\": {\n",
    "        \"datatype\": DataType.LABEL,\n",
    "        \"possible_values\": [\"yes\", \"no\"],\n",
    "        \"job_when_missing_value\": {\n",
    "            \"type\": JobWhenMissingValue.DELETE_LINE,\n",
    "        }\n",
    "    },\n",
    "}"
   ],
   "metadata": {
    "collapsed": false
   }
  },
  {
   "cell_type": "code",
   "execution_count": 19,
   "outputs": [],
   "source": [
    "\n",
    "def load_dataset(dataset_url: str, is_csv_file_contains_row_header: bool, names_raw_header: List[str]) -> pd.DataFrame:\n",
    "\n",
    "    header_value = 1 if is_csv_file_contains_row_header else None\n",
    "\n",
    "    current_dataset = pd.read_csv(dataset_url, header=header_value)\n",
    "\n",
    "    if header_value is None:\n",
    "        current_dataset.columns = names_raw_header\n",
    "\n",
    "    return current_dataset\n",
    "\n",
    "current_dataset = load_dataset(CSV_FILE_URL, IS_CSV_FILE_CONTAINS_ROW_HEADER, NAMES_ROWS_HEADER)"
   ],
   "metadata": {
    "collapsed": false
   }
  },
  {
   "cell_type": "markdown",
   "source": [
    "# Pré-processing"
   ],
   "metadata": {
    "collapsed": false
   }
  },
  {
   "cell_type": "markdown",
   "source": [
    "## Nettoyage des données\n",
    "\n",
    "Cela consiste à enlever les données manquantes ou erronées et à corriger les erreurs éventuelles."
   ],
   "metadata": {
    "collapsed": false
   }
  },
  {
   "cell_type": "code",
   "execution_count": 20,
   "outputs": [
    {
     "data": {
      "text/plain": "     index                 class    age menopause tumor-size inv-nodes  \\\n0        0  no-recurrence-events  30-39   premeno      30-34       0-2   \n1        1  no-recurrence-events  40-49   premeno      20-24       0-2   \n2        2  no-recurrence-events  40-49   premeno      20-24       0-2   \n3        3  no-recurrence-events  60-69      ge40      15-19       0-2   \n4        4  no-recurrence-events  40-49   premeno        0-4       0-2   \n..     ...                   ...    ...       ...        ...       ...   \n272    281     recurrence-events  30-39   premeno      30-34       0-2   \n273    282     recurrence-events  30-39   premeno      20-24       0-2   \n274    283     recurrence-events  60-69      ge40      20-24       0-2   \n275    284     recurrence-events  40-49      ge40      30-34       3-5   \n276    285     recurrence-events  50-59      ge40      30-34       3-5   \n\n    node-caps  deg-malig breast breast-quad irradiat  \n0          no          3   left    left_low       no  \n1          no          2  right    right_up       no  \n2          no          2   left    left_low       no  \n3          no          2  right     left_up       no  \n4          no          2  right   right_low       no  \n..        ...        ...    ...         ...      ...  \n272        no          2   left     left_up       no  \n273        no          3   left     left_up      yes  \n274        no          1  right     left_up       no  \n275        no          3   left    left_low       no  \n276        no          3   left    left_low       no  \n\n[277 rows x 11 columns]",
      "text/html": "<div>\n<style scoped>\n    .dataframe tbody tr th:only-of-type {\n        vertical-align: middle;\n    }\n\n    .dataframe tbody tr th {\n        vertical-align: top;\n    }\n\n    .dataframe thead th {\n        text-align: right;\n    }\n</style>\n<table border=\"1\" class=\"dataframe\">\n  <thead>\n    <tr style=\"text-align: right;\">\n      <th></th>\n      <th>index</th>\n      <th>class</th>\n      <th>age</th>\n      <th>menopause</th>\n      <th>tumor-size</th>\n      <th>inv-nodes</th>\n      <th>node-caps</th>\n      <th>deg-malig</th>\n      <th>breast</th>\n      <th>breast-quad</th>\n      <th>irradiat</th>\n    </tr>\n  </thead>\n  <tbody>\n    <tr>\n      <th>0</th>\n      <td>0</td>\n      <td>no-recurrence-events</td>\n      <td>30-39</td>\n      <td>premeno</td>\n      <td>30-34</td>\n      <td>0-2</td>\n      <td>no</td>\n      <td>3</td>\n      <td>left</td>\n      <td>left_low</td>\n      <td>no</td>\n    </tr>\n    <tr>\n      <th>1</th>\n      <td>1</td>\n      <td>no-recurrence-events</td>\n      <td>40-49</td>\n      <td>premeno</td>\n      <td>20-24</td>\n      <td>0-2</td>\n      <td>no</td>\n      <td>2</td>\n      <td>right</td>\n      <td>right_up</td>\n      <td>no</td>\n    </tr>\n    <tr>\n      <th>2</th>\n      <td>2</td>\n      <td>no-recurrence-events</td>\n      <td>40-49</td>\n      <td>premeno</td>\n      <td>20-24</td>\n      <td>0-2</td>\n      <td>no</td>\n      <td>2</td>\n      <td>left</td>\n      <td>left_low</td>\n      <td>no</td>\n    </tr>\n    <tr>\n      <th>3</th>\n      <td>3</td>\n      <td>no-recurrence-events</td>\n      <td>60-69</td>\n      <td>ge40</td>\n      <td>15-19</td>\n      <td>0-2</td>\n      <td>no</td>\n      <td>2</td>\n      <td>right</td>\n      <td>left_up</td>\n      <td>no</td>\n    </tr>\n    <tr>\n      <th>4</th>\n      <td>4</td>\n      <td>no-recurrence-events</td>\n      <td>40-49</td>\n      <td>premeno</td>\n      <td>0-4</td>\n      <td>0-2</td>\n      <td>no</td>\n      <td>2</td>\n      <td>right</td>\n      <td>right_low</td>\n      <td>no</td>\n    </tr>\n    <tr>\n      <th>...</th>\n      <td>...</td>\n      <td>...</td>\n      <td>...</td>\n      <td>...</td>\n      <td>...</td>\n      <td>...</td>\n      <td>...</td>\n      <td>...</td>\n      <td>...</td>\n      <td>...</td>\n      <td>...</td>\n    </tr>\n    <tr>\n      <th>272</th>\n      <td>281</td>\n      <td>recurrence-events</td>\n      <td>30-39</td>\n      <td>premeno</td>\n      <td>30-34</td>\n      <td>0-2</td>\n      <td>no</td>\n      <td>2</td>\n      <td>left</td>\n      <td>left_up</td>\n      <td>no</td>\n    </tr>\n    <tr>\n      <th>273</th>\n      <td>282</td>\n      <td>recurrence-events</td>\n      <td>30-39</td>\n      <td>premeno</td>\n      <td>20-24</td>\n      <td>0-2</td>\n      <td>no</td>\n      <td>3</td>\n      <td>left</td>\n      <td>left_up</td>\n      <td>yes</td>\n    </tr>\n    <tr>\n      <th>274</th>\n      <td>283</td>\n      <td>recurrence-events</td>\n      <td>60-69</td>\n      <td>ge40</td>\n      <td>20-24</td>\n      <td>0-2</td>\n      <td>no</td>\n      <td>1</td>\n      <td>right</td>\n      <td>left_up</td>\n      <td>no</td>\n    </tr>\n    <tr>\n      <th>275</th>\n      <td>284</td>\n      <td>recurrence-events</td>\n      <td>40-49</td>\n      <td>ge40</td>\n      <td>30-34</td>\n      <td>3-5</td>\n      <td>no</td>\n      <td>3</td>\n      <td>left</td>\n      <td>left_low</td>\n      <td>no</td>\n    </tr>\n    <tr>\n      <th>276</th>\n      <td>285</td>\n      <td>recurrence-events</td>\n      <td>50-59</td>\n      <td>ge40</td>\n      <td>30-34</td>\n      <td>3-5</td>\n      <td>no</td>\n      <td>3</td>\n      <td>left</td>\n      <td>left_low</td>\n      <td>no</td>\n    </tr>\n  </tbody>\n</table>\n<p>277 rows × 11 columns</p>\n</div>"
     },
     "execution_count": 20,
     "metadata": {},
     "output_type": "execute_result"
    }
   ],
   "source": [
    "def clean_dataset(dataframe: pd.DataFrame, parameters: dict) -> pd.DataFrame:\n",
    "    \"\"\" Méthode qui nettoie le dataset selon les volontés définies par le client dans `parameters`\n",
    "    :param dataframe: pd.DataFrame = notre dataset\n",
    "    :param parameters: dict = notre dictionnaire ROWS_DATATYPES\n",
    "    \"\"\"\n",
    "    dataframe = dataframe.replace(\"?\", np.nan)\n",
    "\n",
    "    for key, value in parameters.items():\n",
    "\n",
    "        if value[\"job_when_missing_value\"][\"type\"] == JobWhenMissingValue.DELETE_LINE:\n",
    "            dataframe = dataframe[dataframe[key].notna()]\n",
    "\n",
    "        if value[\"job_when_missing_value\"][\"type\"] == JobWhenMissingValue.REPLACE_VALUE:\n",
    "            dataframe[key] = dataframe[key].replace(np.nan, value[\"job_when_missing_value\"][\"replace_by\"])\n",
    "\n",
    "\n",
    "    return dataframe.reset_index()\n",
    "\n",
    "current_dataset = load_dataset(CSV_FILE_URL, IS_CSV_FILE_CONTAINS_ROW_HEADER, NAMES_ROWS_HEADER)\n",
    "clean_dataset(current_dataset, ROWS_DATATYPES)"
   ],
   "metadata": {
    "collapsed": false
   }
  },
  {
   "cell_type": "markdown",
   "source": [
    "## Normalisation des données (uniquement pour les données quantitatives)\n",
    "\n",
    "Cela consiste à mettre toutes les données sur la même échelle, afin d'éviter que certains attributs aient un poids plus important que d'autres dans l'analyse."
   ],
   "metadata": {
    "collapsed": false
   }
  },
  {
   "cell_type": "code",
   "execution_count": 21,
   "outputs": [
    {
     "data": {
      "text/plain": "                    class    age menopause tumor-size inv-nodes node-caps  \\\n0    no-recurrence-events  30-39   premeno      30-34       0-2        no   \n1    no-recurrence-events  40-49   premeno      20-24       0-2        no   \n2    no-recurrence-events  40-49   premeno      20-24       0-2        no   \n3    no-recurrence-events  60-69      ge40      15-19       0-2        no   \n4    no-recurrence-events  40-49   premeno        0-4       0-2        no   \n..                    ...    ...       ...        ...       ...       ...   \n281     recurrence-events  30-39   premeno      30-34       0-2        no   \n282     recurrence-events  30-39   premeno      20-24       0-2        no   \n283     recurrence-events  60-69      ge40      20-24       0-2        no   \n284     recurrence-events  40-49      ge40      30-34       3-5        no   \n285     recurrence-events  50-59      ge40      30-34       3-5        no   \n\n     deg-malig breast breast-quad irradiat  \n0          1.0   left    left_low       no  \n1          0.5  right    right_up       no  \n2          0.5   left    left_low       no  \n3          0.5  right     left_up       no  \n4          0.5  right   right_low       no  \n..         ...    ...         ...      ...  \n281        0.5   left     left_up       no  \n282        1.0   left     left_up      yes  \n283        0.0  right     left_up       no  \n284        1.0   left    left_low       no  \n285        1.0   left    left_low       no  \n\n[286 rows x 10 columns]",
      "text/html": "<div>\n<style scoped>\n    .dataframe tbody tr th:only-of-type {\n        vertical-align: middle;\n    }\n\n    .dataframe tbody tr th {\n        vertical-align: top;\n    }\n\n    .dataframe thead th {\n        text-align: right;\n    }\n</style>\n<table border=\"1\" class=\"dataframe\">\n  <thead>\n    <tr style=\"text-align: right;\">\n      <th></th>\n      <th>class</th>\n      <th>age</th>\n      <th>menopause</th>\n      <th>tumor-size</th>\n      <th>inv-nodes</th>\n      <th>node-caps</th>\n      <th>deg-malig</th>\n      <th>breast</th>\n      <th>breast-quad</th>\n      <th>irradiat</th>\n    </tr>\n  </thead>\n  <tbody>\n    <tr>\n      <th>0</th>\n      <td>no-recurrence-events</td>\n      <td>30-39</td>\n      <td>premeno</td>\n      <td>30-34</td>\n      <td>0-2</td>\n      <td>no</td>\n      <td>1.0</td>\n      <td>left</td>\n      <td>left_low</td>\n      <td>no</td>\n    </tr>\n    <tr>\n      <th>1</th>\n      <td>no-recurrence-events</td>\n      <td>40-49</td>\n      <td>premeno</td>\n      <td>20-24</td>\n      <td>0-2</td>\n      <td>no</td>\n      <td>0.5</td>\n      <td>right</td>\n      <td>right_up</td>\n      <td>no</td>\n    </tr>\n    <tr>\n      <th>2</th>\n      <td>no-recurrence-events</td>\n      <td>40-49</td>\n      <td>premeno</td>\n      <td>20-24</td>\n      <td>0-2</td>\n      <td>no</td>\n      <td>0.5</td>\n      <td>left</td>\n      <td>left_low</td>\n      <td>no</td>\n    </tr>\n    <tr>\n      <th>3</th>\n      <td>no-recurrence-events</td>\n      <td>60-69</td>\n      <td>ge40</td>\n      <td>15-19</td>\n      <td>0-2</td>\n      <td>no</td>\n      <td>0.5</td>\n      <td>right</td>\n      <td>left_up</td>\n      <td>no</td>\n    </tr>\n    <tr>\n      <th>4</th>\n      <td>no-recurrence-events</td>\n      <td>40-49</td>\n      <td>premeno</td>\n      <td>0-4</td>\n      <td>0-2</td>\n      <td>no</td>\n      <td>0.5</td>\n      <td>right</td>\n      <td>right_low</td>\n      <td>no</td>\n    </tr>\n    <tr>\n      <th>...</th>\n      <td>...</td>\n      <td>...</td>\n      <td>...</td>\n      <td>...</td>\n      <td>...</td>\n      <td>...</td>\n      <td>...</td>\n      <td>...</td>\n      <td>...</td>\n      <td>...</td>\n    </tr>\n    <tr>\n      <th>281</th>\n      <td>recurrence-events</td>\n      <td>30-39</td>\n      <td>premeno</td>\n      <td>30-34</td>\n      <td>0-2</td>\n      <td>no</td>\n      <td>0.5</td>\n      <td>left</td>\n      <td>left_up</td>\n      <td>no</td>\n    </tr>\n    <tr>\n      <th>282</th>\n      <td>recurrence-events</td>\n      <td>30-39</td>\n      <td>premeno</td>\n      <td>20-24</td>\n      <td>0-2</td>\n      <td>no</td>\n      <td>1.0</td>\n      <td>left</td>\n      <td>left_up</td>\n      <td>yes</td>\n    </tr>\n    <tr>\n      <th>283</th>\n      <td>recurrence-events</td>\n      <td>60-69</td>\n      <td>ge40</td>\n      <td>20-24</td>\n      <td>0-2</td>\n      <td>no</td>\n      <td>0.0</td>\n      <td>right</td>\n      <td>left_up</td>\n      <td>no</td>\n    </tr>\n    <tr>\n      <th>284</th>\n      <td>recurrence-events</td>\n      <td>40-49</td>\n      <td>ge40</td>\n      <td>30-34</td>\n      <td>3-5</td>\n      <td>no</td>\n      <td>1.0</td>\n      <td>left</td>\n      <td>left_low</td>\n      <td>no</td>\n    </tr>\n    <tr>\n      <th>285</th>\n      <td>recurrence-events</td>\n      <td>50-59</td>\n      <td>ge40</td>\n      <td>30-34</td>\n      <td>3-5</td>\n      <td>no</td>\n      <td>1.0</td>\n      <td>left</td>\n      <td>left_low</td>\n      <td>no</td>\n    </tr>\n  </tbody>\n</table>\n<p>286 rows × 10 columns</p>\n</div>"
     },
     "execution_count": 21,
     "metadata": {},
     "output_type": "execute_result"
    }
   ],
   "source": [
    "from sklearn.preprocessing import minmax_scale\n",
    "\n",
    "def normalize_dataset(dataframe: pd.DataFrame, parameters: dict) -> pd.DataFrame:\n",
    "    \"\"\"\n",
    "    :param dataframe:\n",
    "    :param parameters:\n",
    "    :return:\n",
    "    \"\"\"\n",
    "    for key, value in parameters.items():\n",
    "\n",
    "        if value[\"datatype\"] == DataType.QUANTITATIVE_DISCRETE or value[\"datatype\"] == DataType.QUANTITATIVE_CONTINUOUS:\n",
    "\n",
    "            dataframe[[key]] = minmax_scale(dataframe[[key]])\n",
    "\n",
    "    return dataframe\n",
    "\n",
    "current_dataset = load_dataset(CSV_FILE_URL, IS_CSV_FILE_CONTAINS_ROW_HEADER, NAMES_ROWS_HEADER)\n",
    "normalize_dataset(current_dataset, ROWS_DATATYPES)"
   ],
   "metadata": {
    "collapsed": false
   }
  },
  {
   "cell_type": "markdown",
   "source": [
    "## Transformation des données\n",
    "\n",
    "Cela consiste à appliquer des transformations mathématiques aux données afin de les mettre sous une forme qui convient mieux à l'analyse. Par exemple, il peut être utile de transformer des données catégorielles en données numériques."
   ],
   "metadata": {
    "collapsed": false
   }
  },
  {
   "cell_type": "code",
   "execution_count": 22,
   "outputs": [
    {
     "data": {
      "text/plain": "     index  class  age  tumor-size  inv-nodes  node-caps  deg-malig irradiat  \\\n0        0  False  2.0         6.0        0.0      False        1.0       no   \n1        1  False  3.0         4.0        0.0      False        0.5       no   \n2        2  False  3.0         4.0        0.0      False        0.5       no   \n3        3  False  5.0         3.0        0.0      False        0.5       no   \n4        4  False  3.0         0.0        0.0      False        0.5       no   \n..     ...    ...  ...         ...        ...        ...        ...      ...   \n272    281   True  2.0         6.0        0.0      False        0.5       no   \n273    282   True  2.0         4.0        0.0      False        1.0      yes   \n274    283   True  5.0         4.0        0.0      False        0.0       no   \n275    284   True  3.0         6.0        1.0      False        1.0       no   \n276    285   True  4.0         6.0        1.0      False        1.0       no   \n\n     menopause_lt40  menopause_premeno  menopause_ge40  breast_left  \\\n0               0.0                1.0             0.0          1.0   \n1               0.0                1.0             0.0          0.0   \n2               0.0                1.0             0.0          1.0   \n3               0.0                0.0             1.0          0.0   \n4               0.0                1.0             0.0          0.0   \n..              ...                ...             ...          ...   \n272             0.0                1.0             0.0          1.0   \n273             0.0                1.0             0.0          1.0   \n274             0.0                0.0             1.0          0.0   \n275             0.0                0.0             1.0          1.0   \n276             0.0                0.0             1.0          1.0   \n\n     breast_right  breast-quad_left_up  breast-quad_left_low  \\\n0             0.0                  0.0                   1.0   \n1             1.0                  0.0                   0.0   \n2             0.0                  0.0                   1.0   \n3             1.0                  1.0                   0.0   \n4             1.0                  0.0                   0.0   \n..            ...                  ...                   ...   \n272           0.0                  1.0                   0.0   \n273           0.0                  1.0                   0.0   \n274           1.0                  1.0                   0.0   \n275           0.0                  0.0                   1.0   \n276           0.0                  0.0                   1.0   \n\n     breast-quad_right_up  breast-quad_right_low  breast-quad_central  \n0                     0.0                    0.0                  0.0  \n1                     1.0                    0.0                  0.0  \n2                     0.0                    0.0                  0.0  \n3                     0.0                    0.0                  0.0  \n4                     0.0                    1.0                  0.0  \n..                    ...                    ...                  ...  \n272                   0.0                    0.0                  0.0  \n273                   0.0                    0.0                  0.0  \n274                   0.0                    0.0                  0.0  \n275                   0.0                    0.0                  0.0  \n276                   0.0                    0.0                  0.0  \n\n[277 rows x 18 columns]",
      "text/html": "<div>\n<style scoped>\n    .dataframe tbody tr th:only-of-type {\n        vertical-align: middle;\n    }\n\n    .dataframe tbody tr th {\n        vertical-align: top;\n    }\n\n    .dataframe thead th {\n        text-align: right;\n    }\n</style>\n<table border=\"1\" class=\"dataframe\">\n  <thead>\n    <tr style=\"text-align: right;\">\n      <th></th>\n      <th>index</th>\n      <th>class</th>\n      <th>age</th>\n      <th>tumor-size</th>\n      <th>inv-nodes</th>\n      <th>node-caps</th>\n      <th>deg-malig</th>\n      <th>irradiat</th>\n      <th>menopause_lt40</th>\n      <th>menopause_premeno</th>\n      <th>menopause_ge40</th>\n      <th>breast_left</th>\n      <th>breast_right</th>\n      <th>breast-quad_left_up</th>\n      <th>breast-quad_left_low</th>\n      <th>breast-quad_right_up</th>\n      <th>breast-quad_right_low</th>\n      <th>breast-quad_central</th>\n    </tr>\n  </thead>\n  <tbody>\n    <tr>\n      <th>0</th>\n      <td>0</td>\n      <td>False</td>\n      <td>2.0</td>\n      <td>6.0</td>\n      <td>0.0</td>\n      <td>False</td>\n      <td>1.0</td>\n      <td>no</td>\n      <td>0.0</td>\n      <td>1.0</td>\n      <td>0.0</td>\n      <td>1.0</td>\n      <td>0.0</td>\n      <td>0.0</td>\n      <td>1.0</td>\n      <td>0.0</td>\n      <td>0.0</td>\n      <td>0.0</td>\n    </tr>\n    <tr>\n      <th>1</th>\n      <td>1</td>\n      <td>False</td>\n      <td>3.0</td>\n      <td>4.0</td>\n      <td>0.0</td>\n      <td>False</td>\n      <td>0.5</td>\n      <td>no</td>\n      <td>0.0</td>\n      <td>1.0</td>\n      <td>0.0</td>\n      <td>0.0</td>\n      <td>1.0</td>\n      <td>0.0</td>\n      <td>0.0</td>\n      <td>1.0</td>\n      <td>0.0</td>\n      <td>0.0</td>\n    </tr>\n    <tr>\n      <th>2</th>\n      <td>2</td>\n      <td>False</td>\n      <td>3.0</td>\n      <td>4.0</td>\n      <td>0.0</td>\n      <td>False</td>\n      <td>0.5</td>\n      <td>no</td>\n      <td>0.0</td>\n      <td>1.0</td>\n      <td>0.0</td>\n      <td>1.0</td>\n      <td>0.0</td>\n      <td>0.0</td>\n      <td>1.0</td>\n      <td>0.0</td>\n      <td>0.0</td>\n      <td>0.0</td>\n    </tr>\n    <tr>\n      <th>3</th>\n      <td>3</td>\n      <td>False</td>\n      <td>5.0</td>\n      <td>3.0</td>\n      <td>0.0</td>\n      <td>False</td>\n      <td>0.5</td>\n      <td>no</td>\n      <td>0.0</td>\n      <td>0.0</td>\n      <td>1.0</td>\n      <td>0.0</td>\n      <td>1.0</td>\n      <td>1.0</td>\n      <td>0.0</td>\n      <td>0.0</td>\n      <td>0.0</td>\n      <td>0.0</td>\n    </tr>\n    <tr>\n      <th>4</th>\n      <td>4</td>\n      <td>False</td>\n      <td>3.0</td>\n      <td>0.0</td>\n      <td>0.0</td>\n      <td>False</td>\n      <td>0.5</td>\n      <td>no</td>\n      <td>0.0</td>\n      <td>1.0</td>\n      <td>0.0</td>\n      <td>0.0</td>\n      <td>1.0</td>\n      <td>0.0</td>\n      <td>0.0</td>\n      <td>0.0</td>\n      <td>1.0</td>\n      <td>0.0</td>\n    </tr>\n    <tr>\n      <th>...</th>\n      <td>...</td>\n      <td>...</td>\n      <td>...</td>\n      <td>...</td>\n      <td>...</td>\n      <td>...</td>\n      <td>...</td>\n      <td>...</td>\n      <td>...</td>\n      <td>...</td>\n      <td>...</td>\n      <td>...</td>\n      <td>...</td>\n      <td>...</td>\n      <td>...</td>\n      <td>...</td>\n      <td>...</td>\n      <td>...</td>\n    </tr>\n    <tr>\n      <th>272</th>\n      <td>281</td>\n      <td>True</td>\n      <td>2.0</td>\n      <td>6.0</td>\n      <td>0.0</td>\n      <td>False</td>\n      <td>0.5</td>\n      <td>no</td>\n      <td>0.0</td>\n      <td>1.0</td>\n      <td>0.0</td>\n      <td>1.0</td>\n      <td>0.0</td>\n      <td>1.0</td>\n      <td>0.0</td>\n      <td>0.0</td>\n      <td>0.0</td>\n      <td>0.0</td>\n    </tr>\n    <tr>\n      <th>273</th>\n      <td>282</td>\n      <td>True</td>\n      <td>2.0</td>\n      <td>4.0</td>\n      <td>0.0</td>\n      <td>False</td>\n      <td>1.0</td>\n      <td>yes</td>\n      <td>0.0</td>\n      <td>1.0</td>\n      <td>0.0</td>\n      <td>1.0</td>\n      <td>0.0</td>\n      <td>1.0</td>\n      <td>0.0</td>\n      <td>0.0</td>\n      <td>0.0</td>\n      <td>0.0</td>\n    </tr>\n    <tr>\n      <th>274</th>\n      <td>283</td>\n      <td>True</td>\n      <td>5.0</td>\n      <td>4.0</td>\n      <td>0.0</td>\n      <td>False</td>\n      <td>0.0</td>\n      <td>no</td>\n      <td>0.0</td>\n      <td>0.0</td>\n      <td>1.0</td>\n      <td>0.0</td>\n      <td>1.0</td>\n      <td>1.0</td>\n      <td>0.0</td>\n      <td>0.0</td>\n      <td>0.0</td>\n      <td>0.0</td>\n    </tr>\n    <tr>\n      <th>275</th>\n      <td>284</td>\n      <td>True</td>\n      <td>3.0</td>\n      <td>6.0</td>\n      <td>1.0</td>\n      <td>False</td>\n      <td>1.0</td>\n      <td>no</td>\n      <td>0.0</td>\n      <td>0.0</td>\n      <td>1.0</td>\n      <td>1.0</td>\n      <td>0.0</td>\n      <td>0.0</td>\n      <td>1.0</td>\n      <td>0.0</td>\n      <td>0.0</td>\n      <td>0.0</td>\n    </tr>\n    <tr>\n      <th>276</th>\n      <td>285</td>\n      <td>True</td>\n      <td>4.0</td>\n      <td>6.0</td>\n      <td>1.0</td>\n      <td>False</td>\n      <td>1.0</td>\n      <td>no</td>\n      <td>0.0</td>\n      <td>0.0</td>\n      <td>1.0</td>\n      <td>1.0</td>\n      <td>0.0</td>\n      <td>0.0</td>\n      <td>1.0</td>\n      <td>0.0</td>\n      <td>0.0</td>\n      <td>0.0</td>\n    </tr>\n  </tbody>\n</table>\n<p>277 rows × 18 columns</p>\n</div>"
     },
     "execution_count": 22,
     "metadata": {},
     "output_type": "execute_result"
    }
   ],
   "source": [
    "from sklearn.preprocessing import OrdinalEncoder\n",
    "from sklearn.preprocessing import OneHotEncoder\n",
    "\n",
    "def transform_data(dataframe: pd.DataFrame, parameters: dict) -> pd.DataFrame:\n",
    "    \"\"\"\n",
    "    \"datatype\": DataType.QUALITATIVE_ORDINAL,\n",
    "        \"possible_values\": [ \"10-19\", \"20-29\", \"30-39\", \"40-49\", \"50-59\", \"60-69\", \"70-79\", \"80-89\", \"90-99\" ],\n",
    "        \"encoding\": EncodingType.ORDINAL_ENCODER,\n",
    "        \"job_when_missing_value\": {\n",
    "            \"type\": JobWhenMissingValue.DELETE_LINE,\n",
    "    }\n",
    "    \"\"\"\n",
    "\n",
    "    for key, value in parameters.items():\n",
    "        if value[\"datatype\"] == DataType.BOOLEAN:\n",
    "            remplacement = {\n",
    "                value[\"possible_values\"][0]: True,\n",
    "                value[\"possible_values\"][1]: False\n",
    "            }\n",
    "\n",
    "            dataframe[key] = dataframe[key].map(remplacement)\n",
    "\n",
    "        if \"encoding\" in value and value[\"encoding\"] == EncodingType.ORDINAL_ENCODER:\n",
    "            # Création de l'objet OrdinalEncoder\n",
    "            ordinal_encoder = OrdinalEncoder(categories=[value[\"possible_values\"]])\n",
    "\n",
    "            # Encodage des valeurs de la colonne\n",
    "            dataframe[key] = ordinal_encoder.fit_transform(dataframe[[key]])\n",
    "\n",
    "        if \"encoding\" in value and value[\"encoding\"] == EncodingType.ONE_HOT_ENCODER:\n",
    "            # Création de l'objet OneHotEncoder\n",
    "            one_hot_encoder = OneHotEncoder(categories=[value[\"possible_values\"]])\n",
    "\n",
    "            # Encodage des valeurs de la colonne\n",
    "            values_encoded = one_hot_encoder.fit_transform(dataframe[[key]]).toarray()\n",
    "\n",
    "            dataframe = dataframe.drop(key, axis=1)\n",
    "\n",
    "            dataframe_encoded = pd.DataFrame(values_encoded, columns=[f\"{key}_{x}\" for x in one_hot_encoder.categories_[0]])\n",
    "            dataframe = dataframe.join(dataframe_encoded)\n",
    "\n",
    "\n",
    "\n",
    "    return dataframe\n",
    "\n",
    "current_dataset = load_dataset(CSV_FILE_URL, IS_CSV_FILE_CONTAINS_ROW_HEADER, NAMES_ROWS_HEADER)\n",
    "current_dataset = clean_dataset(current_dataset, ROWS_DATATYPES)\n",
    "current_dataset = normalize_dataset(current_dataset, ROWS_DATATYPES)\n",
    "transform_data(current_dataset, ROWS_DATATYPES)"
   ],
   "metadata": {
    "collapsed": false
   }
  },
  {
   "cell_type": "markdown",
   "source": [
    "# Split des données"
   ],
   "metadata": {
    "collapsed": false
   }
  },
  {
   "cell_type": "code",
   "execution_count": 23,
   "outputs": [
    {
     "data": {
      "text/plain": "(     index  class  age  tumor-size  inv-nodes  node-caps  deg-malig  \\\n 261    270   True  4.0         6.0        2.0       True        1.0   \n 116    116  False  2.0         3.0        0.0      False        0.0   \n 191    196  False  4.0         2.0        1.0      False        0.0   \n 74      74  False  2.0         1.0        0.0      False        0.5   \n 5        5  False  5.0         3.0        0.0      False        0.5   \n ..     ...    ...  ...         ...        ...        ...        ...   \n 273    282   True  2.0         4.0        0.0      False        1.0   \n 115    115  False  4.0         4.0        0.0      False        0.5   \n 141    141  False  4.0         4.0        1.0       True        0.5   \n 72      72  False  5.0         4.0        0.0      False        0.5   \n 150    151  False  5.0         6.0        1.0       True        1.0   \n \n      menopause_lt40  menopause_premeno  menopause_ge40  breast_left  \\\n 261             0.0                0.0             1.0          1.0   \n 116             0.0                1.0             0.0          1.0   \n 191             0.0                1.0             0.0          0.0   \n 74              0.0                1.0             0.0          1.0   \n 5               0.0                0.0             1.0          1.0   \n ..              ...                ...             ...          ...   \n 273             0.0                1.0             0.0          1.0   \n 115             0.0                0.0             1.0          0.0   \n 141             0.0                1.0             0.0          1.0   \n 72              0.0                0.0             1.0          1.0   \n 150             0.0                0.0             1.0          1.0   \n \n      breast_right  breast-quad_left_up  breast-quad_left_low  \\\n 261           0.0                  0.0                   0.0   \n 116           0.0                  0.0                   1.0   \n 191           1.0                  1.0                   0.0   \n 74            0.0                  0.0                   0.0   \n 5             0.0                  0.0                   1.0   \n ..            ...                  ...                   ...   \n 273           0.0                  1.0                   0.0   \n 115           1.0                  1.0                   0.0   \n 141           0.0                  0.0                   1.0   \n 72            0.0                  1.0                   0.0   \n 150           0.0                  0.0                   1.0   \n \n      breast-quad_right_up  breast-quad_right_low  breast-quad_central  \n 261                   0.0                    1.0                  0.0  \n 116                   0.0                    0.0                  0.0  \n 191                   0.0                    0.0                  0.0  \n 74                    0.0                    1.0                  0.0  \n 5                     0.0                    0.0                  0.0  \n ..                    ...                    ...                  ...  \n 273                   0.0                    0.0                  0.0  \n 115                   0.0                    0.0                  0.0  \n 141                   0.0                    0.0                  0.0  \n 72                    0.0                    0.0                  0.0  \n 150                   0.0                    0.0                  0.0  \n \n [165 rows x 17 columns],\n 261     no\n 116     no\n 191     no\n 74      no\n 5       no\n       ... \n 273    yes\n 115     no\n 141     no\n 72      no\n 150     no\n Name: irradiat, Length: 165, dtype: object,\n      index  class  age  tumor-size  inv-nodes  node-caps  deg-malig  \\\n 153    154  False  2.0         3.0        0.0      False        1.0   \n 250    257   True  3.0         4.0        1.0       True        0.5   \n 234    241   True  3.0         3.0        5.0       True        1.0   \n 271    280   True  4.0         8.0        2.0       True        1.0   \n 137    137  False  3.0         1.0        0.0      False        0.0   \n 175    178  False  4.0         5.0        1.0      False        0.5   \n 8        8  False  3.0        10.0        0.0      False        0.5   \n 151    152  False  4.0         7.0        5.0      False        1.0   \n 85      85  False  4.0         7.0        0.0      False        1.0   \n 229    236   True  3.0         5.0        0.0      False        0.5   \n 36      36  False  4.0         0.0        0.0      False        0.5   \n 143    143  False  3.0         9.0        0.0      False        0.5   \n 174    177  False  5.0         2.0        0.0      False        0.5   \n 192    197  False  3.0         2.0        0.0      False        0.5   \n 265    274   True  5.0         6.0        1.0       True        0.5   \n 270    279   True  4.0         8.0        2.0       True        1.0   \n 88      88  False  4.0         4.0        0.0      False        1.0   \n 18      18  False  5.0         6.0        0.0      False        1.0   \n 169    172  False  5.0         6.0        2.0       True        0.5   \n 148    149  False  4.0         6.0        0.0      False        1.0   \n 247    254   True  3.0         6.0        0.0       True        1.0   \n 100    100  False  3.0         4.0        0.0      False        1.0   \n 87      87  False  6.0         0.0        0.0      False        0.0   \n 55      55  False  6.0         8.0        0.0      False        0.0   \n 195    200  False  5.0         5.0        0.0      False        1.0   \n 235    242   True  4.0         5.0        2.0      False        1.0   \n 216    222   True  5.0         5.0        0.0      False        1.0   \n 203    209   True  3.0         7.0        0.0      False        0.0   \n 109    109  False  5.0         6.0        0.0      False        0.0   \n 232    239   True  3.0         4.0        1.0       True        0.5   \n 122    122  False  4.0         8.0        0.0      False        1.0   \n 96      96  False  5.0         6.0        0.0      False        0.5   \n 27      27  False  5.0         5.0        0.0      False        1.0   \n 219    225   True  3.0         4.0        1.0      False        1.0   \n 65      65  False  3.0         2.0        0.0      False        0.0   \n 185    190  False  3.0         3.0        4.0      False        1.0   \n 51      51  False  2.0         4.0        0.0      False        0.5   \n 199    204   True  4.0         5.0        0.0      False        0.5   \n 94      94  False  4.0         2.0        0.0      False        0.0   \n 61      61  False  3.0         2.0        0.0      False        0.0   \n 41      41  False  5.0         5.0        0.0      False        0.5   \n 14      14  False  3.0         6.0        0.0      False        1.0   \n 128    128  False  4.0         5.0        0.0       True        0.5   \n 240    247   True  4.0         6.0        3.0       True        1.0   \n 28      28  False  3.0         8.0        0.0      False        0.5   \n 106    106  False  3.0         4.0        0.0      False        0.5   \n 170    173  False  4.0         4.0        1.0       True        0.5   \n 47      47  False  4.0         5.0        0.0      False        0.0   \n 239    246   True  2.0         3.0        2.0       True        1.0   \n 7        7  False  5.0         4.0        0.0      False        0.0   \n 188    193  False  2.0         2.0        0.0      False        0.5   \n 194    199  False  4.0         5.0        0.0      False        0.0   \n 172    175  False  3.0         6.0        0.0      False        0.5   \n 63      63  False  1.0         7.0        0.0      False        0.5   \n 39      39  False  3.0         6.0        0.0      False        0.0   \n 200    205   True  2.0         0.0        0.0      False        0.5   \n \n      menopause_lt40  menopause_premeno  menopause_ge40  breast_left  \\\n 153             1.0                0.0             0.0          0.0   \n 250             0.0                1.0             0.0          1.0   \n 234             0.0                1.0             0.0          1.0   \n 271             0.0                0.0             1.0          1.0   \n 137             0.0                1.0             0.0          1.0   \n 175             0.0                1.0             0.0          0.0   \n 8               0.0                1.0             0.0          1.0   \n 151             0.0                0.0             1.0          1.0   \n 85              0.0                0.0             1.0          1.0   \n 229             0.0                1.0             0.0          0.0   \n 36              0.0                0.0             1.0          1.0   \n 143             0.0                1.0             0.0          1.0   \n 174             0.0                0.0             1.0          1.0   \n 192             0.0                1.0             0.0          1.0   \n 265             0.0                0.0             1.0          1.0   \n 270             0.0                0.0             1.0          1.0   \n 88              0.0                0.0             1.0          0.0   \n 18              0.0                0.0             1.0          1.0   \n 169             0.0                0.0             1.0          0.0   \n 148             1.0                0.0             0.0          0.0   \n 247             0.0                1.0             0.0          0.0   \n 100             0.0                0.0             1.0          1.0   \n 87              0.0                0.0             1.0          1.0   \n 55              0.0                0.0             1.0          0.0   \n 195             0.0                0.0             1.0          0.0   \n 235             0.0                0.0             1.0          1.0   \n 216             0.0                0.0             1.0          1.0   \n 203             0.0                1.0             0.0          0.0   \n 109             0.0                0.0             1.0          0.0   \n 232             0.0                1.0             0.0          0.0   \n 122             0.0                0.0             1.0          1.0   \n 96              0.0                0.0             1.0          1.0   \n 27              0.0                0.0             1.0          0.0   \n 219             0.0                0.0             1.0          0.0   \n 65              0.0                1.0             0.0          0.0   \n 185             0.0                1.0             0.0          0.0   \n 51              0.0                1.0             0.0          1.0   \n 199             0.0                1.0             0.0          1.0   \n 94              0.0                1.0             0.0          1.0   \n 61              0.0                1.0             0.0          0.0   \n 41              0.0                0.0             1.0          1.0   \n 14              0.0                1.0             0.0          1.0   \n 128             0.0                1.0             0.0          1.0   \n 240             0.0                0.0             1.0          1.0   \n 28              0.0                1.0             0.0          0.0   \n 106             0.0                1.0             0.0          1.0   \n 170             0.0                0.0             1.0          0.0   \n 47              0.0                1.0             0.0          0.0   \n 239             0.0                1.0             0.0          1.0   \n 7               0.0                0.0             1.0          1.0   \n 188             0.0                1.0             0.0          1.0   \n 194             0.0                1.0             0.0          1.0   \n 172             0.0                1.0             0.0          0.0   \n 63              0.0                1.0             0.0          0.0   \n 39              0.0                1.0             0.0          1.0   \n 200             0.0                1.0             0.0          0.0   \n \n      breast_right  breast-quad_left_up  breast-quad_left_low  \\\n 153           1.0                  1.0                   0.0   \n 250           0.0                  0.0                   1.0   \n 234           0.0                  0.0                   1.0   \n 271           0.0                  0.0                   1.0   \n 137           0.0                  0.0                   1.0   \n 175           1.0                  1.0                   0.0   \n 8             0.0                  0.0                   1.0   \n 151           0.0                  0.0                   1.0   \n 85            0.0                  1.0                   0.0   \n 229           1.0                  0.0                   1.0   \n 36            0.0                  0.0                   0.0   \n 143           0.0                  0.0                   1.0   \n 174           0.0                  0.0                   1.0   \n 192           0.0                  0.0                   1.0   \n 265           0.0                  0.0                   0.0   \n 270           0.0                  0.0                   1.0   \n 88            1.0                  1.0                   0.0   \n 18            0.0                  0.0                   1.0   \n 169           1.0                  0.0                   0.0   \n 148           1.0                  1.0                   0.0   \n 247           1.0                  0.0                   0.0   \n 100           0.0                  0.0                   1.0   \n 87            0.0                  0.0                   0.0   \n 55            1.0                  0.0                   0.0   \n 195           1.0                  0.0                   1.0   \n 235           0.0                  0.0                   1.0   \n 216           0.0                  0.0                   0.0   \n 203           1.0                  1.0                   0.0   \n 109           1.0                  1.0                   0.0   \n 232           1.0                  0.0                   0.0   \n 122           0.0                  1.0                   0.0   \n 96            0.0                  1.0                   0.0   \n 27            1.0                  1.0                   0.0   \n 219           1.0                  0.0                   1.0   \n 65            1.0                  1.0                   0.0   \n 185           1.0                  0.0                   0.0   \n 51            0.0                  0.0                   0.0   \n 199           0.0                  0.0                   0.0   \n 94            0.0                  0.0                   1.0   \n 61            1.0                  0.0                   0.0   \n 41            0.0                  0.0                   1.0   \n 14            0.0                  1.0                   0.0   \n 128           0.0                  1.0                   0.0   \n 240           0.0                  0.0                   0.0   \n 28            1.0                  0.0                   1.0   \n 106           0.0                  1.0                   0.0   \n 170           1.0                  1.0                   0.0   \n 47            1.0                  1.0                   0.0   \n 239           0.0                  0.0                   1.0   \n 7             0.0                  0.0                   1.0   \n 188           0.0                  0.0                   0.0   \n 194           0.0                  0.0                   1.0   \n 172           1.0                  0.0                   0.0   \n 63            1.0                  0.0                   0.0   \n 39            0.0                  0.0                   1.0   \n 200           1.0                  0.0                   0.0   \n \n      breast-quad_right_up  breast-quad_right_low  breast-quad_central  \n 153                   0.0                    0.0                  0.0  \n 250                   0.0                    0.0                  0.0  \n 234                   0.0                    0.0                  0.0  \n 271                   0.0                    0.0                  0.0  \n 137                   0.0                    0.0                  0.0  \n 175                   0.0                    0.0                  0.0  \n 8                     0.0                    0.0                  0.0  \n 151                   0.0                    0.0                  0.0  \n 85                    0.0                    0.0                  0.0  \n 229                   0.0                    0.0                  0.0  \n 36                    0.0                    0.0                  1.0  \n 143                   0.0                    0.0                  0.0  \n 174                   0.0                    0.0                  0.0  \n 192                   0.0                    0.0                  0.0  \n 265                   0.0                    0.0                  1.0  \n 270                   0.0                    0.0                  0.0  \n 88                    0.0                    0.0                  0.0  \n 18                    0.0                    0.0                  0.0  \n 169                   1.0                    0.0                  0.0  \n 148                   0.0                    0.0                  0.0  \n 247                   1.0                    0.0                  0.0  \n 100                   0.0                    0.0                  0.0  \n 87                    0.0                    1.0                  0.0  \n 55                    1.0                    0.0                  0.0  \n 195                   0.0                    0.0                  0.0  \n 235                   0.0                    0.0                  0.0  \n 216                   0.0                    1.0                  0.0  \n 203                   0.0                    0.0                  0.0  \n 109                   0.0                    0.0                  0.0  \n 232                   1.0                    0.0                  0.0  \n 122                   0.0                    0.0                  0.0  \n 96                    0.0                    0.0                  0.0  \n 27                    0.0                    0.0                  0.0  \n 219                   0.0                    0.0                  0.0  \n 65                    0.0                    0.0                  0.0  \n 185                   0.0                    1.0                  0.0  \n 51                    0.0                    1.0                  0.0  \n 199                   1.0                    0.0                  0.0  \n 94                    0.0                    0.0                  0.0  \n 61                    0.0                    1.0                  0.0  \n 41                    0.0                    0.0                  0.0  \n 14                    0.0                    0.0                  0.0  \n 128                   0.0                    0.0                  0.0  \n 240                   0.0                    1.0                  0.0  \n 28                    0.0                    0.0                  0.0  \n 106                   0.0                    0.0                  0.0  \n 170                   0.0                    0.0                  0.0  \n 47                    0.0                    0.0                  0.0  \n 239                   0.0                    0.0                  0.0  \n 7                     0.0                    0.0                  0.0  \n 188                   0.0                    1.0                  0.0  \n 194                   0.0                    0.0                  0.0  \n 172                   1.0                    0.0                  0.0  \n 63                    1.0                    0.0                  0.0  \n 39                    0.0                    0.0                  0.0  \n 200                   0.0                    0.0                  1.0  ,\n 153     no\n 250    yes\n 234     no\n 271    yes\n 137    yes\n 175    yes\n 8       no\n 151     no\n 85      no\n 229     no\n 36      no\n 143    yes\n 174     no\n 192    yes\n 265    yes\n 270    yes\n 88      no\n 18      no\n 169     no\n 148     no\n 247     no\n 100     no\n 87      no\n 55      no\n 195     no\n 235    yes\n 216    yes\n 203     no\n 109     no\n 232    yes\n 122     no\n 96      no\n 27      no\n 219    yes\n 65      no\n 185    yes\n 51      no\n 199     no\n 94      no\n 61      no\n 41      no\n 14      no\n 128     no\n 240    yes\n 28      no\n 106     no\n 170     no\n 47      no\n 239    yes\n 7       no\n 188     no\n 194     no\n 172    yes\n 63      no\n 39      no\n 200     no\n Name: irradiat, dtype: object,\n      index  class  age  tumor-size  inv-nodes  node-caps  deg-malig  \\\n 30      30  False  4.0         8.0        0.0      False        1.0   \n 126    126  False  2.0         6.0        2.0       True        0.5   \n 220    226   True  3.0         6.0        5.0       True        1.0   \n 142    142  False  5.0         2.0        0.0      False        0.0   \n 255    262   True  5.0         5.0        0.0      False        1.0   \n 236    243   True  4.0         4.0        1.0       True        1.0   \n 97      97  False  5.0         3.0        0.0      False        0.5   \n 215    221   True  2.0         6.0        0.0      False        0.0   \n 256    265   True  2.0         7.0        3.0       True        1.0   \n 144    144  False  5.0         9.0        2.0       True        1.0   \n 79      79  False  3.0         5.0        0.0      False        0.5   \n 208    214   True  5.0         8.0        0.0      False        0.5   \n 230    237   True  3.0         5.0        0.0      False        0.5   \n 101    101  False  4.0         6.0        0.0      False        1.0   \n 272    281   True  2.0         6.0        0.0      False        0.5   \n 114    114  False  3.0         7.0        0.0      False        0.5   \n 193    198  False  4.0         3.0        0.0       True        0.5   \n 60      60  False  3.0         4.0        0.0      False        0.5   \n 202    208   True  4.0         6.0        0.0      False        1.0   \n 241    248   True  5.0         7.0        2.0       True        1.0   \n 45      45  False  4.0         6.0        0.0      False        0.0   \n 73      73  False  4.0         3.0        0.0      False        0.5   \n 181    186  False  4.0         5.0        0.0      False        0.0   \n 165    168  False  4.0         2.0        0.0      False        0.5   \n 274    283   True  5.0         4.0        0.0      False        0.0   \n 212    218   True  5.0         6.0        0.0      False        1.0   \n 84      84  False  3.0         4.0        0.0      False        0.0   \n 42      42  False  5.0         1.0        0.0      False        0.0   \n 9        9  False  3.0         4.0        0.0      False        0.5   \n 118    118  False  2.0         2.0        0.0      False        0.0   \n 22      22  False  2.0         5.0        0.0      False        0.5   \n 155    156  False  4.0         5.0        1.0       True        1.0   \n 24      24  False  4.0         7.0        0.0      False        0.5   \n 167    170  False  2.0         4.0        1.0       True        0.5   \n 225    231   True  3.0         6.0        1.0      False        0.5   \n 75      75  False  4.0         2.0        0.0      False        0.0   \n 233    240   True  5.0         4.0        1.0      False        0.5   \n 262    271   True  4.0         5.0        0.0      False        1.0   \n 6        6  False  4.0         5.0        0.0      False        0.5   \n 68      68  False  4.0         7.0        0.0      False        1.0   \n 46      46  False  3.0         5.0        0.0      False        0.5   \n 176    179  False  3.0         4.0        0.0      False        1.0   \n 66      66  False  3.0         5.0        0.0      False        0.0   \n 25      25  False  3.0         5.0        0.0      False        0.5   \n 125    125  False  6.0         2.0        0.0      False        0.5   \n 213    219   True  2.0         3.0        0.0      False        0.0   \n 19      19  False  4.0         6.0        0.0      False        0.0   \n 82      82  False  5.0         3.0        0.0      False        0.5   \n 258    267   True  5.0         4.0        8.0       True        1.0   \n 269    278   True  4.0         7.0        5.0       True        1.0   \n 90      90  False  2.0         0.0        0.0      False        0.5   \n 152    153  False  5.0         3.0        0.0      False        1.0   \n 260    269   True  3.0         5.0        0.0      False        0.5   \n 15      15  False  5.0         6.0        0.0      False        0.0   \n 159    160  False  3.0         5.0        0.0      False        1.0   \n 10      10  False  3.0         0.0        0.0      False        1.0   \n \n      menopause_lt40  menopause_premeno  menopause_ge40  breast_left  \\\n 30              0.0                0.0             1.0          0.0   \n 126             0.0                1.0             0.0          0.0   \n 220             0.0                1.0             0.0          1.0   \n 142             0.0                0.0             1.0          1.0   \n 255             0.0                0.0             1.0          1.0   \n 236             0.0                0.0             1.0          0.0   \n 97              0.0                0.0             1.0          0.0   \n 215             0.0                1.0             0.0          0.0   \n 256             0.0                1.0             0.0          1.0   \n 144             0.0                0.0             1.0          1.0   \n 79              0.0                1.0             0.0          0.0   \n 208             0.0                0.0             1.0          0.0   \n 230             0.0                1.0             0.0          0.0   \n 101             0.0                0.0             1.0          0.0   \n 272             0.0                1.0             0.0          1.0   \n 114             0.0                1.0             0.0          0.0   \n 193             0.0                0.0             1.0          1.0   \n 60              0.0                1.0             0.0          1.0   \n 202             0.0                1.0             0.0          1.0   \n 241             0.0                0.0             1.0          1.0   \n 45              0.0                0.0             1.0          1.0   \n 73              0.0                1.0             0.0          0.0   \n 181             0.0                0.0             1.0          1.0   \n 165             0.0                1.0             0.0          0.0   \n 274             0.0                0.0             1.0          0.0   \n 212             0.0                0.0             1.0          0.0   \n 84              0.0                1.0             0.0          1.0   \n 42              0.0                0.0             1.0          1.0   \n 9               0.0                1.0             0.0          0.0   \n 118             0.0                1.0             0.0          0.0   \n 22              0.0                1.0             0.0          0.0   \n 155             0.0                0.0             1.0          0.0   \n 24              0.0                1.0             0.0          0.0   \n 167             0.0                1.0             0.0          0.0   \n 225             0.0                1.0             0.0          0.0   \n 75              0.0                0.0             1.0          1.0   \n 233             0.0                0.0             1.0          1.0   \n 262             0.0                1.0             0.0          0.0   \n 6               0.0                1.0             0.0          1.0   \n 68              0.0                0.0             1.0          1.0   \n 46              0.0                1.0             0.0          0.0   \n 176             0.0                1.0             0.0          0.0   \n 66              0.0                1.0             0.0          0.0   \n 25              0.0                1.0             0.0          1.0   \n 125             0.0                0.0             1.0          1.0   \n 213             0.0                1.0             0.0          0.0   \n 19              0.0                0.0             1.0          0.0   \n 82              0.0                0.0             1.0          0.0   \n 258             0.0                0.0             1.0          1.0   \n 269             0.0                1.0             0.0          0.0   \n 90              0.0                1.0             0.0          0.0   \n 152             0.0                0.0             1.0          0.0   \n 260             0.0                1.0             0.0          1.0   \n 15              1.0                0.0             0.0          1.0   \n 159             0.0                1.0             0.0          0.0   \n 10              0.0                1.0             0.0          1.0   \n \n      breast_right  breast-quad_left_up  breast-quad_left_low  \\\n 30            1.0                  1.0                   0.0   \n 126           1.0                  0.0                   0.0   \n 220           0.0                  0.0                   1.0   \n 142           0.0                  1.0                   0.0   \n 255           0.0                  1.0                   0.0   \n 236           1.0                  0.0                   0.0   \n 97            1.0                  1.0                   0.0   \n 215           1.0                  1.0                   0.0   \n 256           0.0                  0.0                   1.0   \n 144           0.0                  0.0                   0.0   \n 79            1.0                  0.0                   0.0   \n 208           1.0                  0.0                   1.0   \n 230           1.0                  0.0                   1.0   \n 101           1.0                  0.0                   1.0   \n 272           0.0                  1.0                   0.0   \n 114           1.0                  0.0                   0.0   \n 193           0.0                  0.0                   0.0   \n 60            0.0                  0.0                   0.0   \n 202           0.0                  0.0                   0.0   \n 241           0.0                  0.0                   1.0   \n 45            0.0                  1.0                   0.0   \n 73            1.0                  0.0                   0.0   \n 181           0.0                  0.0                   0.0   \n 165           1.0                  1.0                   0.0   \n 274           1.0                  1.0                   0.0   \n 212           1.0                  0.0                   0.0   \n 84            0.0                  0.0                   0.0   \n 42            0.0                  0.0                   0.0   \n 9             1.0                  1.0                   0.0   \n 118           1.0                  0.0                   1.0   \n 22            1.0                  0.0                   1.0   \n 155           1.0                  1.0                   0.0   \n 24            1.0                  1.0                   0.0   \n 167           1.0                  1.0                   0.0   \n 225           1.0                  1.0                   0.0   \n 75            0.0                  0.0                   1.0   \n 233           0.0                  0.0                   1.0   \n 262           1.0                  0.0                   1.0   \n 6             0.0                  0.0                   1.0   \n 68            0.0                  0.0                   1.0   \n 46            1.0                  0.0                   1.0   \n 176           1.0                  0.0                   1.0   \n 66            1.0                  0.0                   0.0   \n 25            0.0                  1.0                   0.0   \n 125           0.0                  0.0                   0.0   \n 213           1.0                  0.0                   1.0   \n 19            1.0                  0.0                   0.0   \n 82            1.0                  0.0                   1.0   \n 258           0.0                  0.0                   1.0   \n 269           1.0                  0.0                   0.0   \n 90            1.0                  0.0                   0.0   \n 152           1.0                  1.0                   0.0   \n 260           0.0                  0.0                   1.0   \n 15            0.0                  0.0                   1.0   \n 159           1.0                  1.0                   0.0   \n 10            0.0                  0.0                   0.0   \n \n      breast-quad_right_up  breast-quad_right_low  breast-quad_central  \n 30                    0.0                    0.0                  0.0  \n 126                   1.0                    0.0                  0.0  \n 220                   0.0                    0.0                  0.0  \n 142                   0.0                    0.0                  0.0  \n 255                   0.0                    0.0                  0.0  \n 236                   1.0                    0.0                  0.0  \n 97                    0.0                    0.0                  0.0  \n 215                   0.0                    0.0                  0.0  \n 256                   0.0                    0.0                  0.0  \n 144                   0.0                    0.0                  1.0  \n 79                    0.0                    0.0                  1.0  \n 208                   0.0                    0.0                  0.0  \n 230                   0.0                    0.0                  0.0  \n 101                   0.0                    0.0                  0.0  \n 272                   0.0                    0.0                  0.0  \n 114                   1.0                    0.0                  0.0  \n 193                   0.0                    0.0                  1.0  \n 60                    0.0                    0.0                  1.0  \n 202                   1.0                    0.0                  0.0  \n 241                   0.0                    0.0                  0.0  \n 45                    0.0                    0.0                  0.0  \n 73                    0.0                    1.0                  0.0  \n 181                   0.0                    1.0                  0.0  \n 165                   0.0                    0.0                  0.0  \n 274                   0.0                    0.0                  0.0  \n 212                   0.0                    0.0                  1.0  \n 84                    0.0                    1.0                  0.0  \n 42                    0.0                    0.0                  1.0  \n 9                     0.0                    0.0                  0.0  \n 118                   0.0                    0.0                  0.0  \n 22                    0.0                    0.0                  0.0  \n 155                   0.0                    0.0                  0.0  \n 24                    0.0                    0.0                  0.0  \n 167                   0.0                    0.0                  0.0  \n 225                   0.0                    0.0                  0.0  \n 75                    0.0                    0.0                  0.0  \n 233                   0.0                    0.0                  0.0  \n 262                   0.0                    0.0                  0.0  \n 6                     0.0                    0.0                  0.0  \n 68                    0.0                    0.0                  0.0  \n 46                    0.0                    0.0                  0.0  \n 176                   0.0                    0.0                  0.0  \n 66                    0.0                    1.0                  0.0  \n 25                    0.0                    0.0                  0.0  \n 125                   0.0                    0.0                  1.0  \n 213                   0.0                    0.0                  0.0  \n 19                    1.0                    0.0                  0.0  \n 82                    0.0                    0.0                  0.0  \n 258                   0.0                    0.0                  0.0  \n 269                   1.0                    0.0                  0.0  \n 90                    0.0                    0.0                  1.0  \n 152                   0.0                    0.0                  0.0  \n 260                   0.0                    0.0                  0.0  \n 15                    0.0                    0.0                  0.0  \n 159                   0.0                    0.0                  0.0  \n 10                    0.0                    0.0                  1.0  ,\n 30      no\n 126     no\n 220     no\n 142     no\n 255     no\n 236     no\n 97      no\n 215     no\n 256     no\n 144     no\n 79      no\n 208     no\n 230     no\n 101     no\n 272     no\n 114     no\n 193    yes\n 60      no\n 202     no\n 241     no\n 45      no\n 73      no\n 181     no\n 165     no\n 274     no\n 212     no\n 84      no\n 42      no\n 9       no\n 118     no\n 22      no\n 155     no\n 24      no\n 167    yes\n 225     no\n 75      no\n 233    yes\n 262    yes\n 6       no\n 68      no\n 46      no\n 176    yes\n 66      no\n 25      no\n 125     no\n 213     no\n 19      no\n 82      no\n 258    yes\n 269     no\n 90      no\n 152    yes\n 260    yes\n 15      no\n 159    yes\n 10      no\n Name: irradiat, dtype: object)"
     },
     "execution_count": 23,
     "metadata": {},
     "output_type": "execute_result"
    }
   ],
   "source": [
    "from sklearn.model_selection import train_test_split\n",
    "\n",
    "def split_datas(dataframe: pd.DataFrame, parameters: dict):\n",
    "\n",
    "    label_column_name = None\n",
    "\n",
    "    for key, value in parameters.items():\n",
    "        if value[\"datatype\"] == DataType.LABEL:\n",
    "            label_column_name = key\n",
    "\n",
    "    if label_column_name is None:\n",
    "        raise ValueError(\"Cannot find the label column\")\n",
    "\n",
    "    y = dataframe[label_column_name]\n",
    "    X = dataframe.drop(label_column_name, axis=1)\n",
    "\n",
    "    X_train, X_test, y_train, y_test = train_test_split(X, y, test_size=0.2, random_state=42)\n",
    "    X_train, X_val, y_train, y_val = train_test_split(X_train, y_train, test_size=0.25, random_state=42)\n",
    "\n",
    "    return X_train, y_train, X_val, y_val, X_test, y_test\n",
    "\n",
    "current_dataset = load_dataset(CSV_FILE_URL, IS_CSV_FILE_CONTAINS_ROW_HEADER, NAMES_ROWS_HEADER)\n",
    "current_dataset = clean_dataset(current_dataset, ROWS_DATATYPES)\n",
    "current_dataset = normalize_dataset(current_dataset, ROWS_DATATYPES)\n",
    "current_dataset = transform_data(current_dataset, ROWS_DATATYPES)\n",
    "\n",
    "split_datas(current_dataset, ROWS_DATATYPES)"
   ],
   "metadata": {
    "collapsed": false
   }
  },
  {
   "cell_type": "markdown",
   "source": [
    "# Classification\n",
    "\n",
    "- Arbres de décision : l'algorithme de décision arbre (DecisionTreeClassifier) permet de créer un modèle de classification en utilisant une structure de décision hiérarchique basée sur les caractéristiques du jeu de données.\n",
    "\n",
    "- Forêts aléatoires : l'algorithme de forêt aléatoire (RandomForestClassifier) est une extension de l'algorithme de décision arbre qui crée un ensemble de arbres de décision et utilise la moyenne de leurs prédictions pour améliorer la robustesse du modèle.\n",
    "\n",
    "- Réseaux de neurones : l'algorithme de réseau de neurones (MLPClassifier) est un algorithme de classification basé sur l'apprentissage profond qui utilise une architecture de réseau de neurones pour effectuer la classification.\n",
    "\n",
    "- SVM (Support Vector Machines) : l'algorithme SVM (SVC) est un algorithme de classification qui utilise des hyperplans de séparation pour séparer les différentes classes dans l'espace des features.\n",
    "\n",
    "- K-mean : l'algorithme KNN (KNeighborsClassifier) est un algorithme de classification qui prédit la classe d'une observation en utilisant la classe majoritaire des K observations les plus proches de cette observation."
   ],
   "metadata": {
    "collapsed": false
   }
  },
  {
   "cell_type": "code",
   "execution_count": 23,
   "outputs": [],
   "source": [],
   "metadata": {
    "collapsed": false
   }
  },
  {
   "cell_type": "code",
   "execution_count": 24,
   "outputs": [
    {
     "name": "stdout",
     "output_type": "stream",
     "text": [
      "tree_accuracy : 0.7142857142857143\n",
      "forest_accuracy : 0.6785714285714286\n",
      "neural_net_accuracy : 0.7321428571428571\n",
      "svm_accuracy : 0.7142857142857143\n",
      "knn_accuracy : 0.7142857142857143\n"
     ]
    },
    {
     "name": "stderr",
     "output_type": "stream",
     "text": [
      "/Library/Frameworks/Python.framework/Versions/3.10/lib/python3.10/site-packages/sklearn/neural_network/_multilayer_perceptron.py:679: ConvergenceWarning: Stochastic Optimizer: Maximum iterations (200) reached and the optimization hasn't converged yet.\n",
      "  warnings.warn(\n"
     ]
    }
   ],
   "source": [
    "from sklearn.tree import DecisionTreeClassifier\n",
    "from sklearn.ensemble import RandomForestClassifier\n",
    "from sklearn.neural_network import MLPClassifier\n",
    "from sklearn.svm import SVC\n",
    "from sklearn.neighbors import KNeighborsClassifier\n",
    "from sklearn.metrics import accuracy_score\n",
    "\n",
    "def evaluate_classifiers(X_train, y_train, X_val, y_val):\n",
    "    # Création d'une instance de chaque algorithme de classification\n",
    "    tree_clf = DecisionTreeClassifier()\n",
    "    forest_clf = RandomForestClassifier()\n",
    "    neural_net_clf = MLPClassifier()\n",
    "    svm_clf = SVC()\n",
    "    knn_clf = KNeighborsClassifier()\n",
    "\n",
    "    # Entraînement de chaque algorithme sur les données d'entraînement\n",
    "    tree_clf.fit(X_train, y_train)\n",
    "    forest_clf.fit(X_train, y_train)\n",
    "    neural_net_clf.fit(X_train, y_train)\n",
    "    svm_clf.fit(X_train, y_train)\n",
    "    knn_clf.fit(X_train, y_train)\n",
    "\n",
    "    # Évaluation de la performance de chaque algorithme sur les données de validation\n",
    "    tree_predictions = tree_clf.predict(X_val)\n",
    "    forest_predictions = forest_clf.predict(X_val)\n",
    "    neural_net_predictions = neural_net_clf.predict(X_val)\n",
    "    svm_predictions = svm_clf.predict(X_val)\n",
    "    knn_predictions = knn_clf.predict(X_val)\n",
    "\n",
    "    # Calcul de l'accuracy de chaque algorithme\n",
    "    tree_accuracy = accuracy_score(y_val, tree_predictions)\n",
    "    forest_accuracy = accuracy_score(y_val, forest_predictions)\n",
    "    neural_net_accuracy = accuracy_score(y_val, neural_net_predictions)\n",
    "    svm_accuracy = accuracy_score(y_val, svm_predictions)\n",
    "    knn_accuracy = accuracy_score(y_val, knn_predictions)\n",
    "\n",
    "    print(f\"tree_accuracy : {tree_accuracy}\")\n",
    "    print(f\"forest_accuracy : {forest_accuracy}\")\n",
    "    print(f\"neural_net_accuracy : {neural_net_accuracy}\")\n",
    "    print(f\"svm_accuracy : {svm_accuracy}\")\n",
    "    print(f\"knn_accuracy : {knn_accuracy}\")\n",
    "\n",
    "\n",
    "current_dataset = load_dataset(CSV_FILE_URL, IS_CSV_FILE_CONTAINS_ROW_HEADER, NAMES_ROWS_HEADER)\n",
    "current_dataset = clean_dataset(current_dataset, ROWS_DATATYPES)\n",
    "current_dataset = normalize_dataset(current_dataset, ROWS_DATATYPES)\n",
    "current_dataset = transform_data(current_dataset, ROWS_DATATYPES)\n",
    "\n",
    "X_train, y_train, X_val, y_val, X_test, y_test = split_datas(current_dataset, ROWS_DATATYPES)\n",
    "evaluate_classifiers(X_train, y_train, X_val, y_val)"
   ],
   "metadata": {
    "collapsed": false
   }
  },
  {
   "cell_type": "code",
   "execution_count": 25,
   "outputs": [
    {
     "name": "stderr",
     "output_type": "stream",
     "text": [
      "/Library/Frameworks/Python.framework/Versions/3.10/lib/python3.10/site-packages/sklearn/neural_network/_multilayer_perceptron.py:679: ConvergenceWarning: Stochastic Optimizer: Maximum iterations (200) reached and the optimization hasn't converged yet.\n",
      "  warnings.warn(\n"
     ]
    },
    {
     "data": {
      "text/plain": "{'DecisionTreeClassifier()': {'score': 0.7142857142857143,\n  'trained_classifier': DecisionTreeClassifier()},\n 'RandomForestClassifier(n_estimators=200)': {'score': 0.7321428571428571,\n  'trained_classifier': RandomForestClassifier(n_estimators=200)},\n 'MLPClassifier()': {'score': 0.7678571428571429,\n  'trained_classifier': MLPClassifier()},\n 'SVC(C=1.2)': {'score': 0.7142857142857143, 'trained_classifier': SVC(C=1.2)},\n 'KNeighborsClassifier(n_neighbors=6)': {'score': 0.6964285714285714,\n  'trained_classifier': KNeighborsClassifier(n_neighbors=6)}}"
     },
     "execution_count": 25,
     "metadata": {},
     "output_type": "execute_result"
    }
   ],
   "source": [
    "CLASSIFIERS_CONFIG = [\n",
    "    DecisionTreeClassifier(criterion=\"gini\", splitter=\"best\", ),\n",
    "    RandomForestClassifier(n_estimators=200),\n",
    "    MLPClassifier(activation=\"relu\"),\n",
    "    SVC(C=1.2),\n",
    "    KNeighborsClassifier(n_neighbors=6),\n",
    "]\n",
    "\n",
    "\n",
    "def launch_analysis(X_train, y_train, X_val, y_val, CLASSIFIERS_CONFIG):\n",
    "\n",
    "    results = {}\n",
    "\n",
    "    for classifier in CLASSIFIERS_CONFIG:\n",
    "        classifier.fit(X_train, y_train)\n",
    "        prediction = classifier.predict(X_val)\n",
    "        score = accuracy_score(y_val, prediction)\n",
    "\n",
    "        results[f\"{classifier}\"] = {\n",
    "            \"score\": score,\n",
    "            \"trained_classifier\": classifier\n",
    "        }\n",
    "\n",
    "    return results\n",
    "\n",
    "\n",
    "current_dataset = load_dataset(CSV_FILE_URL, IS_CSV_FILE_CONTAINS_ROW_HEADER, NAMES_ROWS_HEADER)\n",
    "current_dataset = clean_dataset(current_dataset, ROWS_DATATYPES)\n",
    "current_dataset = normalize_dataset(current_dataset, ROWS_DATATYPES)\n",
    "current_dataset = transform_data(current_dataset, ROWS_DATATYPES)\n",
    "\n",
    "X_train, y_train, X_val, y_val, X_test, y_test = split_datas(current_dataset, ROWS_DATATYPES)\n",
    "launch_analysis(X_train, y_train, X_val, y_val, CLASSIFIERS_CONFIG)"
   ],
   "metadata": {
    "collapsed": false
   }
  },
  {
   "cell_type": "code",
   "execution_count": 26,
   "outputs": [
    {
     "name": "stdout",
     "output_type": "stream",
     "text": [
      "DecisionTreeClassifier() => 0.7321428571428571 | 0.7321428571428571\n",
      "RandomForestClassifier(n_estimators=200) => 0.6964285714285714 | 0.75\n",
      "MLPClassifier() => 0.7142857142857143 | 0.8392857142857143\n",
      "SVC(C=1.2) => 0.7142857142857143 | 0.8392857142857143\n",
      "KNeighborsClassifier(n_neighbors=6) => 0.6964285714285714 | 0.7857142857142857\n"
     ]
    }
   ],
   "source": [
    "def launch_test(analysis_results, X_test, y_test):\n",
    "\n",
    "    for key, value in analysis_results.items():\n",
    "        trained_classifier = value[\"trained_classifier\"]\n",
    "\n",
    "        print(f\"{key} => {value['score']} | {accuracy_score(y_test, trained_classifier.predict(X_test))}\")\n",
    "\n",
    "current_dataset = load_dataset(CSV_FILE_URL, IS_CSV_FILE_CONTAINS_ROW_HEADER, NAMES_ROWS_HEADER)\n",
    "current_dataset = clean_dataset(current_dataset, ROWS_DATATYPES)\n",
    "current_dataset = normalize_dataset(current_dataset, ROWS_DATATYPES)\n",
    "current_dataset = transform_data(current_dataset, ROWS_DATATYPES)\n",
    "\n",
    "X_train, y_train, X_val, y_val, X_test, y_test = split_datas(current_dataset, ROWS_DATATYPES)\n",
    "analysis_results = launch_analysis(X_train, y_train, X_val, y_val, CLASSIFIERS_CONFIG)\n",
    "\n",
    "launch_test(analysis_results, X_test, y_test)"
   ],
   "metadata": {
    "collapsed": false
   }
  },
  {
   "cell_type": "markdown",
   "source": [
    "# Test avec plusieurs hyperparametres pour chaque algo\n"
   ],
   "metadata": {
    "collapsed": false
   }
  },
  {
   "cell_type": "code",
   "execution_count": 27,
   "outputs": [
    {
     "ename": "ModuleNotFoundError",
     "evalue": "No module named 'matplotlib'",
     "output_type": "error",
     "traceback": [
      "\u001B[0;31m---------------------------------------------------------------------------\u001B[0m",
      "\u001B[0;31mModuleNotFoundError\u001B[0m                       Traceback (most recent call last)",
      "Cell \u001B[0;32mIn[27], line 2\u001B[0m\n\u001B[1;32m      1\u001B[0m \u001B[38;5;28;01mfrom\u001B[39;00m \u001B[38;5;21;01msklearn\u001B[39;00m\u001B[38;5;21;01m.\u001B[39;00m\u001B[38;5;21;01mmodel_selection\u001B[39;00m \u001B[38;5;28;01mimport\u001B[39;00m GridSearchCV\n\u001B[0;32m----> 2\u001B[0m \u001B[38;5;28;01mimport\u001B[39;00m \u001B[38;5;21;01mmatplotlib\u001B[39;00m\u001B[38;5;21;01m.\u001B[39;00m\u001B[38;5;21;01mpyplot\u001B[39;00m \u001B[38;5;28;01mas\u001B[39;00m \u001B[38;5;21;01mplt\u001B[39;00m\n\u001B[1;32m      3\u001B[0m \u001B[38;5;28;01mfrom\u001B[39;00m \u001B[38;5;21;01msklearn\u001B[39;00m\u001B[38;5;21;01m.\u001B[39;00m\u001B[38;5;21;01mmetrics\u001B[39;00m \u001B[38;5;28;01mimport\u001B[39;00m accuracy_score, precision_score, recall_score, f1_score, roc_auc_score\n\u001B[1;32m      4\u001B[0m \u001B[38;5;28;01mimport\u001B[39;00m \u001B[38;5;21;01mwarnings\u001B[39;00m\n",
      "\u001B[0;31mModuleNotFoundError\u001B[0m: No module named 'matplotlib'"
     ]
    }
   ],
   "source": [
    "from sklearn.model_selection import GridSearchCV\n",
    "import matplotlib.pyplot as plt\n",
    "from sklearn.metrics import accuracy_score, precision_score, recall_score, f1_score, roc_auc_score\n",
    "import warnings\n",
    "\n",
    "warnings.filterwarnings('ignore')\n",
    "\n",
    "CLASSIFIERS_CONFIGURATION = {\n",
    "    \"decision_tree\": {\n",
    "        \"criterion\": [\"gini\", \"entropy\", \"log_loss\"],\n",
    "        \"splitter\": [\"best\", \"random\"],\n",
    "        \"min_samples_split\": [2, 3]\n",
    "    },\n",
    "    \"random_forest\": {\n",
    "        \"n_estimators\": [100, 200],\n",
    "        \"criterion\": [\"gini\", \"entropy\", \"log_loss\"],\n",
    "    },\n",
    "    \"MLPC\": {\n",
    "        \"solver\": ['lbfgs', 'sgd', 'adam'],\n",
    "        \"activation\" : ['identity', 'logistic', 'tanh', 'relu']\n",
    "    },\n",
    "    \"SVC\": {\n",
    "        \"C\": [1.0, 1.5, 2.0]\n",
    "    },\n",
    "    \"k_neighbors\": {\n",
    "        \"n_neighbors\": [2, 5, 10]\n",
    "    }\n",
    "}\n",
    "\n",
    "COMPARAISONS_SCORES = {\n",
    "    \"validation\": [\"accuracy\", \"precision\", \"recall\", \"f1\", \"auc\"],\n",
    "    \"test\": [\"accuracy\", \"precision\"]\n",
    "}\n",
    "\n",
    "def generate_scores(scores_to_do: List[str], y, prediction):\n",
    "    scores = {}\n",
    "    y_intern = y.to_numpy()\n",
    "    y_intern = np.array(np.where(y_intern == 'no', 0, 1), dtype=int)\n",
    "    prediction = np.array(np.where(prediction == 'no', 0, 1), dtype=int)\n",
    "    for name_score in scores_to_do:\n",
    "        if name_score == \"accuracy\":\n",
    "            scores[\"accuracy\"] = accuracy_score(y_intern, prediction)\n",
    "        if name_score == \"precision\":\n",
    "            scores[\"precision\"] = precision_score(y_intern, prediction)\n",
    "        if name_score == \"recall\":\n",
    "            scores[\"recall\"] = recall_score(y_intern, prediction)\n",
    "        if name_score == \"f1\":\n",
    "            scores[\"f1\"] = f1_score(y_intern, prediction)\n",
    "        if name_score == \"auc\":\n",
    "            scores[\"auc\"] = roc_auc_score(y_intern, prediction)\n",
    "    return scores\n",
    "\n",
    "def plot_results(grid_search: GridSearchCV, name_cls, optimizations_values, comparaison_config, X_train, y_train, X_val, y_val, X_test, y_test):\n",
    "\n",
    "    print(\"=> \", name_cls)\n",
    "\n",
    "    # 1. Affichage des résultats sur le set de train\n",
    "    results = grid_search.cv_results_\n",
    "\n",
    "    results_dataframe = []\n",
    "    columns_name = []\n",
    "    for param, possible_values in optimizations_values.items():\n",
    "        results_dataframe.append(results[f'param_{param}'].data)\n",
    "        columns_name.append(f\"{param}\")\n",
    "    results_dataframe.append(results['mean_test_score'])\n",
    "    columns_name.append(\"mean_test_score\")\n",
    "\n",
    "    results_dataframe = pd.DataFrame(results_dataframe).T\n",
    "    results_dataframe = results_dataframe.reset_index(drop=True)\n",
    "    results_dataframe.columns = columns_name\n",
    "    results_dataframe = results_dataframe.sort_values(by=['mean_test_score'], ascending=False)\n",
    "\n",
    "    columns_name.remove(\"mean_test_score\")\n",
    "    # Créez une colonne qui concatène les valeurs de `label_col`\n",
    "    results_dataframe['combinaison_hyperparameters'] = results_dataframe[columns_name].apply(lambda x: \" | \".join(map(str, x)), axis=1)\n",
    "\n",
    "    fig, ax = plt.subplots(3, 1, figsize=(30, 20))\n",
    "    ax[0].barh(results_dataframe[\"combinaison_hyperparameters\"], results_dataframe[\"mean_test_score\"], label=name_cls)\n",
    "    ax[0].set(xlabel='score', ylabel='combinaison de paramètres')\n",
    "    ax[0].set_title(\"Résultats de l'entrainement\")\n",
    "    print(\"====> Train scores\", pd.concat([results_dataframe[\"combinaison_hyperparameters\"], results_dataframe[\"mean_test_score\"]], axis=1).set_index('combinaison_hyperparameters')['mean_test_score'].to_dict())\n",
    "\n",
    "    # 2. Affichage des résultats sur le set de validation\n",
    "    validation_prediction = grid_search.predict(X_val)\n",
    "    validations_scores = generate_scores(comparaison_config[\"validation\"], y_val, validation_prediction)\n",
    "    ax[1].barh(list(validations_scores.keys()), list(validations_scores.values()), label=\"Validation scores with the best combinaison\")\n",
    "    ax[1].set(xlabel='score', ylabel='type de score')\n",
    "    ax[1].set_title('Score de validation')\n",
    "    print(\"====> Validation scores\", validations_scores)\n",
    "\n",
    "\n",
    "    # 3. Affichage des résultats sur le set de test\n",
    "    test_prediction = grid_search.predict(X_test)\n",
    "    test_scores = generate_scores(comparaison_config[\"test\"], y_test, test_prediction)\n",
    "    ax[2].barh(list(test_scores.keys()), list(test_scores.values()), label=\"Validation scores with the best combinaison\")\n",
    "    ax[2].set(xlabel='score', ylabel='type de score')\n",
    "    ax[2].set_title('Score de tests')\n",
    "    print(\"====> Tests scores\", test_scores)\n",
    "\n",
    "    plt.show()\n",
    "\n",
    "\n",
    "\n",
    "def launch_analysis_complete(X_train, y_train, X_val, y_val, X_test, y_test, configuration, comparaison_config):\n",
    "\n",
    "    for name_cls, optimizations_values in configuration.items():\n",
    "\n",
    "        clf = None\n",
    "\n",
    "        if name_cls == \"decision_tree\":\n",
    "            clf = DecisionTreeClassifier()\n",
    "\n",
    "        if name_cls == \"random_forest\":\n",
    "            clf = RandomForestClassifier()\n",
    "\n",
    "        if name_cls == \"MLPC\":\n",
    "            clf = MLPClassifier()\n",
    "\n",
    "        if name_cls == \"SVC\":\n",
    "            clf = SVC()\n",
    "\n",
    "        if name_cls == \"k_neighbors\":\n",
    "            clf = KNeighborsClassifier()\n",
    "\n",
    "\n",
    "        # Initialisez la recherche de grille\n",
    "        grid_search = GridSearchCV(estimator=clf, param_grid=optimizations_values, cv=5)\n",
    "\n",
    "        # Entraînez votre modèle en utilisant la recherche de grille\n",
    "        grid_search.fit(X_train, y_train)\n",
    "\n",
    "        plot_results(grid_search, name_cls, optimizations_values, comparaison_config, X_train, y_train, X_val, y_val, X_test, y_test)\n",
    "\n",
    "current_dataset = load_dataset(CSV_FILE_URL, IS_CSV_FILE_CONTAINS_ROW_HEADER, NAMES_ROWS_HEADER)\n",
    "current_dataset = clean_dataset(current_dataset, ROWS_DATATYPES)\n",
    "current_dataset = normalize_dataset(current_dataset, ROWS_DATATYPES)\n",
    "current_dataset = transform_data(current_dataset, ROWS_DATATYPES)\n",
    "\n",
    "X_train, y_train, X_val, y_val, X_test, y_test = split_datas(current_dataset, ROWS_DATATYPES)\n",
    "launch_analysis_complete(X_train, y_train, X_val, y_val, X_test, y_test, CLASSIFIERS_CONFIGURATION, COMPARAISONS_SCORES)"
   ],
   "metadata": {
    "collapsed": false
   }
  },
  {
   "cell_type": "code",
   "execution_count": null,
   "outputs": [],
   "source": [],
   "metadata": {
    "collapsed": false
   }
  }
 ],
 "metadata": {
  "kernelspec": {
   "display_name": "Python 3",
   "language": "python",
   "name": "python3"
  },
  "language_info": {
   "codemirror_mode": {
    "name": "ipython",
    "version": 2
   },
   "file_extension": ".py",
   "mimetype": "text/x-python",
   "name": "python",
   "nbconvert_exporter": "python",
   "pygments_lexer": "ipython2",
   "version": "2.7.6"
  }
 },
 "nbformat": 4,
 "nbformat_minor": 0
}
