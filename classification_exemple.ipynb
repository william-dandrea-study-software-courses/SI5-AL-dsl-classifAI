{
 "cells": [
  {
   "cell_type": "markdown",
   "source": [
    "# Importations"
   ],
   "metadata": {
    "collapsed": false,
    "pycharm": {
     "name": "#%% md\n"
    }
   }
  },
  {
   "cell_type": "code",
   "execution_count": 2,
   "outputs": [],
   "source": [
    "from typing import List\n",
    "from enum import Enum\n",
    "\n",
    "import numpy as np\n",
    "import pandas as pd"
   ],
   "metadata": {
    "collapsed": false,
    "pycharm": {
     "name": "#%%\n"
    }
   }
  },
  {
   "cell_type": "markdown",
   "source": [
    "# Dataset sur lequel nous allons travailler"
   ],
   "metadata": {
    "collapsed": false,
    "pycharm": {
     "name": "#%% md\n"
    }
   }
  },
  {
   "cell_type": "code",
   "execution_count": 3,
   "outputs": [],
   "source": [
    "class DataType(Enum):\n",
    "    BOOLEAN = 1\n",
    "    QUALITATIVE_NOMINAL = 2         # Named categories : ['FH', 'SF', 'EV']\n",
    "    QUALITATIVE_ORDINAL = 3         # Categories with an implied order : ['small', 'medium', 'high']\n",
    "    QUANTITATIVE_DISCRETE = 4       # Only particular numbers : [1, 2, 3, 6, 8]\n",
    "    QUANTITATIVE_CONTINUOUS = 5     # Any numerical value : [1.345, 2.394, 8.345, 0.432]\n",
    "    LABEL = 6                       # Label de la classification\n",
    "\n",
    "\n",
    "class JobWhenMissingValue(Enum):    # Si une valeur d'un dataset est manquante\n",
    "    DELETE_LINE = 1                 # - On supprime la ligne\n",
    "    REPLACE_VALUE = 2               # - On remplace la valeur\n",
    "\n",
    "class EncodingType(Enum):\n",
    "    ONE_HOT_ENCODER = 1\n",
    "    ORDINAL_ENCODER = 2"
   ],
   "metadata": {
    "collapsed": false,
    "pycharm": {
     "name": "#%%\n"
    }
   }
  },
  {
   "cell_type": "code",
   "execution_count": 39,
   "outputs": [],
   "source": [
    "# Url à partir de la racine du dataset au format CSV\n",
    "CSV_FILE_URL: str = 'breast-cancer.csv'\n",
    "\n",
    "# Si le fichier CSV contient les noms de colonnes, mettre à True, si le fichier CSV ne contient\n",
    "# que les données, et pas les titres, mettre à False\n",
    "IS_CSV_FILE_CONTAINS_ROW_HEADER: bool = False\n",
    "\n",
    "# Renommer les noms des colonnes\n",
    "NAMES_ROWS_HEADER: List[str] = [\n",
    "    \"class\",\n",
    "    \"age\",\n",
    "    \"menopause\",\n",
    "    \"tumor-size\",\n",
    "    \"inv-nodes\",\n",
    "    \"node-caps\",\n",
    "    \"deg-malig\",\n",
    "    \"breast\",\n",
    "    \"breast-quad\",\n",
    "    \"irradiat\",\n",
    "]\n",
    "\n",
    "# Les types des données qui ont été inséré\n",
    "ROWS_DATATYPES = {\n",
    "    \"class\": {\n",
    "        \"datatype\": DataType.BOOLEAN,\n",
    "        \"possible_values\": [ \"recurrence-events\", \"no-recurrence-events\" ], # TRUE, FALSE\n",
    "        \"job_when_missing_value\": {\n",
    "            \"type\": JobWhenMissingValue.REPLACE_VALUE,\n",
    "            \"replace_by\": False,\n",
    "        }\n",
    "    },\n",
    "    \"age\": {\n",
    "        \"datatype\": DataType.QUALITATIVE_ORDINAL,\n",
    "        \"possible_values\": [ \"10-19\", \"20-29\", \"30-39\", \"40-49\", \"50-59\", \"60-69\", \"70-79\", \"80-89\", \"90-99\" ],\n",
    "        \"encoding\": EncodingType.ORDINAL_ENCODER,\n",
    "        \"job_when_missing_value\": {\n",
    "            \"type\": JobWhenMissingValue.DELETE_LINE,\n",
    "        }\n",
    "    },\n",
    "    \"menopause\": {\n",
    "        \"datatype\": DataType.QUALITATIVE_NOMINAL,\n",
    "        \"possible_values\": [ \"lt40\", \"premeno\", \"ge40\" ],\n",
    "        \"encoding\": EncodingType.ONE_HOT_ENCODER,\n",
    "        \"job_when_missing_value\": {\n",
    "            \"type\": JobWhenMissingValue.DELETE_LINE,\n",
    "        }\n",
    "    },\n",
    "    \"tumor-size\": {\n",
    "        \"datatype\": DataType.QUALITATIVE_ORDINAL,\n",
    "        \"possible_values\": [ \"0-4\", \"5-9\", \"10-14\", \"15-19\", \"20-24\", \"25-29\", \"30-34\", \"35-39\", \"40-44\", \"45-49\", \"50-54\", \"55-59\" ],\n",
    "        \"encoding\": EncodingType.ORDINAL_ENCODER,\n",
    "        \"job_when_missing_value\": {\n",
    "            \"type\": JobWhenMissingValue.DELETE_LINE,\n",
    "        }\n",
    "    },\n",
    "    \"inv-nodes\": {\n",
    "        \"datatype\": DataType.QUALITATIVE_ORDINAL,\n",
    "        \"possible_values\": [ \"0-2\", \"3-5\", \"6-8\", \"9-11\", \"12-14\", \"15-17\", \"18-20\", \"21-23\", \"24-26\", \"27-29\", \"30-32\", \"33-35\", \"36-39\" ],\n",
    "        \"encoding\": EncodingType.ORDINAL_ENCODER,\n",
    "        \"job_when_missing_value\": {\n",
    "            \"type\": JobWhenMissingValue.DELETE_LINE,\n",
    "        }\n",
    "    },\n",
    "    \"node-caps\": {\n",
    "        \"datatype\": DataType.BOOLEAN,\n",
    "        \"possible_values\": [\"yes\", \"no\"],\n",
    "        \"job_when_missing_value\": {\n",
    "            \"type\": JobWhenMissingValue.DELETE_LINE,\n",
    "        }\n",
    "    },\n",
    "    \"deg-malig\": {\n",
    "        \"datatype\": DataType.QUANTITATIVE_DISCRETE,\n",
    "        \"job_when_missing_value\": {\n",
    "            \"type\": JobWhenMissingValue.DELETE_LINE,\n",
    "        }\n",
    "    },\n",
    "    \"breast\": {\n",
    "        \"datatype\": DataType.QUALITATIVE_NOMINAL,\n",
    "        \"possible_values\": [ \"left\", \"right\" ],\n",
    "        \"encoding\": EncodingType.ONE_HOT_ENCODER,\n",
    "        \"job_when_missing_value\": {\n",
    "            \"type\": JobWhenMissingValue.DELETE_LINE,\n",
    "        }\n",
    "    },\n",
    "    \"breast-quad\": {\n",
    "        \"datatype\": DataType.QUALITATIVE_NOMINAL,\n",
    "        \"possible_values\": [ \"left_up\",  \"left_low\",  \"right_up\",  \"right_low\",  \"central\" ],\n",
    "        \"encoding\": EncodingType.ONE_HOT_ENCODER,\n",
    "        \"job_when_missing_value\": {\n",
    "            \"type\": JobWhenMissingValue.DELETE_LINE,\n",
    "        }\n",
    "    },\n",
    "    \"irradiat\": {\n",
    "        \"datatype\": DataType.LABEL,\n",
    "        \"possible_values\": [\"yes\", \"no\"],\n",
    "        \"job_when_missing_value\": {\n",
    "            \"type\": JobWhenMissingValue.DELETE_LINE,\n",
    "        }\n",
    "    },\n",
    "}"
   ],
   "metadata": {
    "collapsed": false,
    "pycharm": {
     "name": "#%%\n"
    }
   }
  },
  {
   "cell_type": "code",
   "execution_count": 20,
   "outputs": [],
   "source": [
    "\n",
    "def load_dataset() -> pd.DataFrame:\n",
    "\n",
    "    header_value = 1 if IS_CSV_FILE_CONTAINS_ROW_HEADER else None\n",
    "\n",
    "    current_dataset = pd.read_csv(CSV_FILE_URL, header= header_value)\n",
    "\n",
    "    if header_value is None:\n",
    "        current_dataset.columns = NAMES_ROWS_HEADER\n",
    "\n",
    "    return current_dataset\n",
    "\n",
    "current_dataset = load_dataset()"
   ],
   "metadata": {
    "collapsed": false,
    "pycharm": {
     "name": "#%%\n"
    }
   }
  },
  {
   "cell_type": "markdown",
   "source": [
    "# Pré-processing"
   ],
   "metadata": {
    "collapsed": false,
    "pycharm": {
     "name": "#%% md\n"
    }
   }
  },
  {
   "cell_type": "markdown",
   "source": [
    "## Nettoyage des données\n",
    "\n",
    "Cela consiste à enlever les données manquantes ou erronées et à corriger les erreurs éventuelles."
   ],
   "metadata": {
    "collapsed": false,
    "pycharm": {
     "name": "#%% md\n"
    }
   }
  },
  {
   "cell_type": "code",
   "execution_count": 30,
   "outputs": [
    {
     "data": {
      "text/plain": "                    class    age menopause tumor-size inv-nodes node-caps  \\\n0    no-recurrence-events  30-39   premeno      30-34       0-2        no   \n1    no-recurrence-events  40-49   premeno      20-24       0-2        no   \n2    no-recurrence-events  40-49   premeno      20-24       0-2        no   \n3    no-recurrence-events  60-69      ge40      15-19       0-2        no   \n4    no-recurrence-events  40-49   premeno        0-4       0-2        no   \n..                    ...    ...       ...        ...       ...       ...   \n281     recurrence-events  30-39   premeno      30-34       0-2        no   \n282     recurrence-events  30-39   premeno      20-24       0-2        no   \n283     recurrence-events  60-69      ge40      20-24       0-2        no   \n284     recurrence-events  40-49      ge40      30-34       3-5        no   \n285     recurrence-events  50-59      ge40      30-34       3-5        no   \n\n     deg-malig breast breast-quad irradiat  \n0            3   left    left_low       no  \n1            2  right    right_up       no  \n2            2   left    left_low       no  \n3            2  right     left_up       no  \n4            2  right   right_low       no  \n..         ...    ...         ...      ...  \n281          2   left     left_up       no  \n282          3   left     left_up      yes  \n283          1  right     left_up       no  \n284          3   left    left_low       no  \n285          3   left    left_low       no  \n\n[277 rows x 10 columns]",
      "text/html": "<div>\n<style scoped>\n    .dataframe tbody tr th:only-of-type {\n        vertical-align: middle;\n    }\n\n    .dataframe tbody tr th {\n        vertical-align: top;\n    }\n\n    .dataframe thead th {\n        text-align: right;\n    }\n</style>\n<table border=\"1\" class=\"dataframe\">\n  <thead>\n    <tr style=\"text-align: right;\">\n      <th></th>\n      <th>class</th>\n      <th>age</th>\n      <th>menopause</th>\n      <th>tumor-size</th>\n      <th>inv-nodes</th>\n      <th>node-caps</th>\n      <th>deg-malig</th>\n      <th>breast</th>\n      <th>breast-quad</th>\n      <th>irradiat</th>\n    </tr>\n  </thead>\n  <tbody>\n    <tr>\n      <th>0</th>\n      <td>no-recurrence-events</td>\n      <td>30-39</td>\n      <td>premeno</td>\n      <td>30-34</td>\n      <td>0-2</td>\n      <td>no</td>\n      <td>3</td>\n      <td>left</td>\n      <td>left_low</td>\n      <td>no</td>\n    </tr>\n    <tr>\n      <th>1</th>\n      <td>no-recurrence-events</td>\n      <td>40-49</td>\n      <td>premeno</td>\n      <td>20-24</td>\n      <td>0-2</td>\n      <td>no</td>\n      <td>2</td>\n      <td>right</td>\n      <td>right_up</td>\n      <td>no</td>\n    </tr>\n    <tr>\n      <th>2</th>\n      <td>no-recurrence-events</td>\n      <td>40-49</td>\n      <td>premeno</td>\n      <td>20-24</td>\n      <td>0-2</td>\n      <td>no</td>\n      <td>2</td>\n      <td>left</td>\n      <td>left_low</td>\n      <td>no</td>\n    </tr>\n    <tr>\n      <th>3</th>\n      <td>no-recurrence-events</td>\n      <td>60-69</td>\n      <td>ge40</td>\n      <td>15-19</td>\n      <td>0-2</td>\n      <td>no</td>\n      <td>2</td>\n      <td>right</td>\n      <td>left_up</td>\n      <td>no</td>\n    </tr>\n    <tr>\n      <th>4</th>\n      <td>no-recurrence-events</td>\n      <td>40-49</td>\n      <td>premeno</td>\n      <td>0-4</td>\n      <td>0-2</td>\n      <td>no</td>\n      <td>2</td>\n      <td>right</td>\n      <td>right_low</td>\n      <td>no</td>\n    </tr>\n    <tr>\n      <th>...</th>\n      <td>...</td>\n      <td>...</td>\n      <td>...</td>\n      <td>...</td>\n      <td>...</td>\n      <td>...</td>\n      <td>...</td>\n      <td>...</td>\n      <td>...</td>\n      <td>...</td>\n    </tr>\n    <tr>\n      <th>281</th>\n      <td>recurrence-events</td>\n      <td>30-39</td>\n      <td>premeno</td>\n      <td>30-34</td>\n      <td>0-2</td>\n      <td>no</td>\n      <td>2</td>\n      <td>left</td>\n      <td>left_up</td>\n      <td>no</td>\n    </tr>\n    <tr>\n      <th>282</th>\n      <td>recurrence-events</td>\n      <td>30-39</td>\n      <td>premeno</td>\n      <td>20-24</td>\n      <td>0-2</td>\n      <td>no</td>\n      <td>3</td>\n      <td>left</td>\n      <td>left_up</td>\n      <td>yes</td>\n    </tr>\n    <tr>\n      <th>283</th>\n      <td>recurrence-events</td>\n      <td>60-69</td>\n      <td>ge40</td>\n      <td>20-24</td>\n      <td>0-2</td>\n      <td>no</td>\n      <td>1</td>\n      <td>right</td>\n      <td>left_up</td>\n      <td>no</td>\n    </tr>\n    <tr>\n      <th>284</th>\n      <td>recurrence-events</td>\n      <td>40-49</td>\n      <td>ge40</td>\n      <td>30-34</td>\n      <td>3-5</td>\n      <td>no</td>\n      <td>3</td>\n      <td>left</td>\n      <td>left_low</td>\n      <td>no</td>\n    </tr>\n    <tr>\n      <th>285</th>\n      <td>recurrence-events</td>\n      <td>50-59</td>\n      <td>ge40</td>\n      <td>30-34</td>\n      <td>3-5</td>\n      <td>no</td>\n      <td>3</td>\n      <td>left</td>\n      <td>left_low</td>\n      <td>no</td>\n    </tr>\n  </tbody>\n</table>\n<p>277 rows × 10 columns</p>\n</div>"
     },
     "execution_count": 30,
     "metadata": {},
     "output_type": "execute_result"
    }
   ],
   "source": [
    "def clean_dataset(dataframe: pd.DataFrame, parameters: dict) -> pd.DataFrame:\n",
    "    \"\"\" Méthode qui nettoie le dataset selon les volontés définies par le client dans `parameters`\n",
    "    :param dataframe: pd.DataFrame = notre dataset\n",
    "    :param parameters: dict = notre dictionnaire ROWS_DATATYPES\n",
    "    \"\"\"\n",
    "    dataframe = dataframe.replace(\"?\", np.nan)\n",
    "\n",
    "    for key, value in parameters.items():\n",
    "\n",
    "        if value[\"job_when_missing_value\"][\"type\"] == JobWhenMissingValue.DELETE_LINE:\n",
    "            dataframe = dataframe[dataframe[key].notna()]\n",
    "\n",
    "        if value[\"job_when_missing_value\"][\"type\"] == JobWhenMissingValue.REPLACE_VALUE:\n",
    "            dataframe[key] = dataframe[key].replace(np.nan, value[\"job_when_missing_value\"][\"replace_by\"])\n",
    "\n",
    "    return dataframe\n",
    "\n",
    "current_dataset = load_dataset()\n",
    "clean_dataset(current_dataset, ROWS_DATATYPES)"
   ],
   "metadata": {
    "collapsed": false,
    "pycharm": {
     "name": "#%%\n"
    }
   }
  },
  {
   "cell_type": "markdown",
   "source": [
    "## Normalisation des données (uniquement pour les données quantitatives)\n",
    "\n",
    "Cela consiste à mettre toutes les données sur la même échelle, afin d'éviter que certains attributs aient un poids plus important que d'autres dans l'analyse."
   ],
   "metadata": {
    "collapsed": false,
    "pycharm": {
     "name": "#%% md\n"
    }
   }
  },
  {
   "cell_type": "code",
   "execution_count": 11,
   "outputs": [
    {
     "data": {
      "text/plain": "                    class    age menopause tumor-size inv-nodes node-caps  \\\n0    no-recurrence-events  30-39   premeno      30-34       0-2        no   \n1    no-recurrence-events  40-49   premeno      20-24       0-2        no   \n2    no-recurrence-events  40-49   premeno      20-24       0-2        no   \n3    no-recurrence-events  60-69      ge40      15-19       0-2        no   \n4    no-recurrence-events  40-49   premeno        0-4       0-2        no   \n..                    ...    ...       ...        ...       ...       ...   \n281     recurrence-events  30-39   premeno      30-34       0-2        no   \n282     recurrence-events  30-39   premeno      20-24       0-2        no   \n283     recurrence-events  60-69      ge40      20-24       0-2        no   \n284     recurrence-events  40-49      ge40      30-34       3-5        no   \n285     recurrence-events  50-59      ge40      30-34       3-5        no   \n\n     deg-malig breast breast-quad irradiat  \n0          1.0   left    left_low       no  \n1          0.5  right    right_up       no  \n2          0.5   left    left_low       no  \n3          0.5  right     left_up       no  \n4          0.5  right   right_low       no  \n..         ...    ...         ...      ...  \n281        0.5   left     left_up       no  \n282        1.0   left     left_up      yes  \n283        0.0  right     left_up       no  \n284        1.0   left    left_low       no  \n285        1.0   left    left_low       no  \n\n[286 rows x 10 columns]",
      "text/html": "<div>\n<style scoped>\n    .dataframe tbody tr th:only-of-type {\n        vertical-align: middle;\n    }\n\n    .dataframe tbody tr th {\n        vertical-align: top;\n    }\n\n    .dataframe thead th {\n        text-align: right;\n    }\n</style>\n<table border=\"1\" class=\"dataframe\">\n  <thead>\n    <tr style=\"text-align: right;\">\n      <th></th>\n      <th>class</th>\n      <th>age</th>\n      <th>menopause</th>\n      <th>tumor-size</th>\n      <th>inv-nodes</th>\n      <th>node-caps</th>\n      <th>deg-malig</th>\n      <th>breast</th>\n      <th>breast-quad</th>\n      <th>irradiat</th>\n    </tr>\n  </thead>\n  <tbody>\n    <tr>\n      <th>0</th>\n      <td>no-recurrence-events</td>\n      <td>30-39</td>\n      <td>premeno</td>\n      <td>30-34</td>\n      <td>0-2</td>\n      <td>no</td>\n      <td>1.0</td>\n      <td>left</td>\n      <td>left_low</td>\n      <td>no</td>\n    </tr>\n    <tr>\n      <th>1</th>\n      <td>no-recurrence-events</td>\n      <td>40-49</td>\n      <td>premeno</td>\n      <td>20-24</td>\n      <td>0-2</td>\n      <td>no</td>\n      <td>0.5</td>\n      <td>right</td>\n      <td>right_up</td>\n      <td>no</td>\n    </tr>\n    <tr>\n      <th>2</th>\n      <td>no-recurrence-events</td>\n      <td>40-49</td>\n      <td>premeno</td>\n      <td>20-24</td>\n      <td>0-2</td>\n      <td>no</td>\n      <td>0.5</td>\n      <td>left</td>\n      <td>left_low</td>\n      <td>no</td>\n    </tr>\n    <tr>\n      <th>3</th>\n      <td>no-recurrence-events</td>\n      <td>60-69</td>\n      <td>ge40</td>\n      <td>15-19</td>\n      <td>0-2</td>\n      <td>no</td>\n      <td>0.5</td>\n      <td>right</td>\n      <td>left_up</td>\n      <td>no</td>\n    </tr>\n    <tr>\n      <th>4</th>\n      <td>no-recurrence-events</td>\n      <td>40-49</td>\n      <td>premeno</td>\n      <td>0-4</td>\n      <td>0-2</td>\n      <td>no</td>\n      <td>0.5</td>\n      <td>right</td>\n      <td>right_low</td>\n      <td>no</td>\n    </tr>\n    <tr>\n      <th>...</th>\n      <td>...</td>\n      <td>...</td>\n      <td>...</td>\n      <td>...</td>\n      <td>...</td>\n      <td>...</td>\n      <td>...</td>\n      <td>...</td>\n      <td>...</td>\n      <td>...</td>\n    </tr>\n    <tr>\n      <th>281</th>\n      <td>recurrence-events</td>\n      <td>30-39</td>\n      <td>premeno</td>\n      <td>30-34</td>\n      <td>0-2</td>\n      <td>no</td>\n      <td>0.5</td>\n      <td>left</td>\n      <td>left_up</td>\n      <td>no</td>\n    </tr>\n    <tr>\n      <th>282</th>\n      <td>recurrence-events</td>\n      <td>30-39</td>\n      <td>premeno</td>\n      <td>20-24</td>\n      <td>0-2</td>\n      <td>no</td>\n      <td>1.0</td>\n      <td>left</td>\n      <td>left_up</td>\n      <td>yes</td>\n    </tr>\n    <tr>\n      <th>283</th>\n      <td>recurrence-events</td>\n      <td>60-69</td>\n      <td>ge40</td>\n      <td>20-24</td>\n      <td>0-2</td>\n      <td>no</td>\n      <td>0.0</td>\n      <td>right</td>\n      <td>left_up</td>\n      <td>no</td>\n    </tr>\n    <tr>\n      <th>284</th>\n      <td>recurrence-events</td>\n      <td>40-49</td>\n      <td>ge40</td>\n      <td>30-34</td>\n      <td>3-5</td>\n      <td>no</td>\n      <td>1.0</td>\n      <td>left</td>\n      <td>left_low</td>\n      <td>no</td>\n    </tr>\n    <tr>\n      <th>285</th>\n      <td>recurrence-events</td>\n      <td>50-59</td>\n      <td>ge40</td>\n      <td>30-34</td>\n      <td>3-5</td>\n      <td>no</td>\n      <td>1.0</td>\n      <td>left</td>\n      <td>left_low</td>\n      <td>no</td>\n    </tr>\n  </tbody>\n</table>\n<p>286 rows × 10 columns</p>\n</div>"
     },
     "execution_count": 11,
     "metadata": {},
     "output_type": "execute_result"
    }
   ],
   "source": [
    "from sklearn.preprocessing import minmax_scale\n",
    "\n",
    "def normalize_dataset(dataframe: pd.DataFrame, parameters: dict) -> pd.DataFrame:\n",
    "    \"\"\"\n",
    "    :param dataframe:\n",
    "    :param parameters:\n",
    "    :return:\n",
    "    \"\"\"\n",
    "    for key, value in parameters.items():\n",
    "\n",
    "        if value[\"datatype\"] == DataType.QUANTITATIVE_DISCRETE or value[\"datatype\"] == DataType.QUANTITATIVE_CONTINUOUS:\n",
    "\n",
    "            dataframe[[key]] = minmax_scale(dataframe[[key]])\n",
    "\n",
    "    return dataframe\n",
    "\n",
    "current_dataset = load_dataset()\n",
    "normalize_dataset(current_dataset, ROWS_DATATYPES)"
   ],
   "metadata": {
    "collapsed": false,
    "pycharm": {
     "name": "#%%\n"
    }
   }
  },
  {
   "cell_type": "markdown",
   "source": [
    "## Transformation des données\n",
    "\n",
    "Cela consiste à appliquer des transformations mathématiques aux données afin de les mettre sous une forme qui convient mieux à l'analyse. Par exemple, il peut être utile de transformer des données catégorielles en données numériques."
   ],
   "metadata": {
    "collapsed": false,
    "pycharm": {
     "name": "#%% md\n"
    }
   }
  },
  {
   "cell_type": "code",
   "execution_count": 40,
   "outputs": [
    {
     "data": {
      "text/plain": "     class  age  tumor-size  inv-nodes  node-caps  deg-malig irradiat  \\\n0    False  2.0         6.0        0.0      False        1.0       no   \n1    False  3.0         4.0        0.0      False        0.5       no   \n2    False  3.0         4.0        0.0      False        0.5       no   \n3    False  5.0         3.0        0.0      False        0.5       no   \n4    False  3.0         0.0        0.0      False        0.5       no   \n..     ...  ...         ...        ...        ...        ...      ...   \n281   True  2.0         6.0        0.0      False        0.5       no   \n282   True  2.0         4.0        0.0      False        1.0      yes   \n283   True  5.0         4.0        0.0      False        0.0       no   \n284   True  3.0         6.0        1.0      False        1.0       no   \n285   True  4.0         6.0        1.0      False        1.0       no   \n\n     menopause_lt40  menopause_premeno  menopause_ge40  breast_left  \\\n0               0.0                1.0             0.0          1.0   \n1               0.0                1.0             0.0          0.0   \n2               0.0                1.0             0.0          1.0   \n3               0.0                0.0             1.0          0.0   \n4               0.0                1.0             0.0          0.0   \n..              ...                ...             ...          ...   \n281             NaN                NaN             NaN          NaN   \n282             NaN                NaN             NaN          NaN   \n283             NaN                NaN             NaN          NaN   \n284             NaN                NaN             NaN          NaN   \n285             NaN                NaN             NaN          NaN   \n\n     breast_right  breast-quad_left_up  breast-quad_left_low  \\\n0             0.0                  0.0                   1.0   \n1             1.0                  0.0                   0.0   \n2             0.0                  0.0                   1.0   \n3             1.0                  1.0                   0.0   \n4             1.0                  0.0                   0.0   \n..            ...                  ...                   ...   \n281           NaN                  NaN                   NaN   \n282           NaN                  NaN                   NaN   \n283           NaN                  NaN                   NaN   \n284           NaN                  NaN                   NaN   \n285           NaN                  NaN                   NaN   \n\n     breast-quad_right_up  breast-quad_right_low  breast-quad_central  \n0                     0.0                    0.0                  0.0  \n1                     1.0                    0.0                  0.0  \n2                     0.0                    0.0                  0.0  \n3                     0.0                    0.0                  0.0  \n4                     0.0                    1.0                  0.0  \n..                    ...                    ...                  ...  \n281                   NaN                    NaN                  NaN  \n282                   NaN                    NaN                  NaN  \n283                   NaN                    NaN                  NaN  \n284                   NaN                    NaN                  NaN  \n285                   NaN                    NaN                  NaN  \n\n[277 rows x 17 columns]",
      "text/html": "<div>\n<style scoped>\n    .dataframe tbody tr th:only-of-type {\n        vertical-align: middle;\n    }\n\n    .dataframe tbody tr th {\n        vertical-align: top;\n    }\n\n    .dataframe thead th {\n        text-align: right;\n    }\n</style>\n<table border=\"1\" class=\"dataframe\">\n  <thead>\n    <tr style=\"text-align: right;\">\n      <th></th>\n      <th>class</th>\n      <th>age</th>\n      <th>tumor-size</th>\n      <th>inv-nodes</th>\n      <th>node-caps</th>\n      <th>deg-malig</th>\n      <th>irradiat</th>\n      <th>menopause_lt40</th>\n      <th>menopause_premeno</th>\n      <th>menopause_ge40</th>\n      <th>breast_left</th>\n      <th>breast_right</th>\n      <th>breast-quad_left_up</th>\n      <th>breast-quad_left_low</th>\n      <th>breast-quad_right_up</th>\n      <th>breast-quad_right_low</th>\n      <th>breast-quad_central</th>\n    </tr>\n  </thead>\n  <tbody>\n    <tr>\n      <th>0</th>\n      <td>False</td>\n      <td>2.0</td>\n      <td>6.0</td>\n      <td>0.0</td>\n      <td>False</td>\n      <td>1.0</td>\n      <td>no</td>\n      <td>0.0</td>\n      <td>1.0</td>\n      <td>0.0</td>\n      <td>1.0</td>\n      <td>0.0</td>\n      <td>0.0</td>\n      <td>1.0</td>\n      <td>0.0</td>\n      <td>0.0</td>\n      <td>0.0</td>\n    </tr>\n    <tr>\n      <th>1</th>\n      <td>False</td>\n      <td>3.0</td>\n      <td>4.0</td>\n      <td>0.0</td>\n      <td>False</td>\n      <td>0.5</td>\n      <td>no</td>\n      <td>0.0</td>\n      <td>1.0</td>\n      <td>0.0</td>\n      <td>0.0</td>\n      <td>1.0</td>\n      <td>0.0</td>\n      <td>0.0</td>\n      <td>1.0</td>\n      <td>0.0</td>\n      <td>0.0</td>\n    </tr>\n    <tr>\n      <th>2</th>\n      <td>False</td>\n      <td>3.0</td>\n      <td>4.0</td>\n      <td>0.0</td>\n      <td>False</td>\n      <td>0.5</td>\n      <td>no</td>\n      <td>0.0</td>\n      <td>1.0</td>\n      <td>0.0</td>\n      <td>1.0</td>\n      <td>0.0</td>\n      <td>0.0</td>\n      <td>1.0</td>\n      <td>0.0</td>\n      <td>0.0</td>\n      <td>0.0</td>\n    </tr>\n    <tr>\n      <th>3</th>\n      <td>False</td>\n      <td>5.0</td>\n      <td>3.0</td>\n      <td>0.0</td>\n      <td>False</td>\n      <td>0.5</td>\n      <td>no</td>\n      <td>0.0</td>\n      <td>0.0</td>\n      <td>1.0</td>\n      <td>0.0</td>\n      <td>1.0</td>\n      <td>1.0</td>\n      <td>0.0</td>\n      <td>0.0</td>\n      <td>0.0</td>\n      <td>0.0</td>\n    </tr>\n    <tr>\n      <th>4</th>\n      <td>False</td>\n      <td>3.0</td>\n      <td>0.0</td>\n      <td>0.0</td>\n      <td>False</td>\n      <td>0.5</td>\n      <td>no</td>\n      <td>0.0</td>\n      <td>1.0</td>\n      <td>0.0</td>\n      <td>0.0</td>\n      <td>1.0</td>\n      <td>0.0</td>\n      <td>0.0</td>\n      <td>0.0</td>\n      <td>1.0</td>\n      <td>0.0</td>\n    </tr>\n    <tr>\n      <th>...</th>\n      <td>...</td>\n      <td>...</td>\n      <td>...</td>\n      <td>...</td>\n      <td>...</td>\n      <td>...</td>\n      <td>...</td>\n      <td>...</td>\n      <td>...</td>\n      <td>...</td>\n      <td>...</td>\n      <td>...</td>\n      <td>...</td>\n      <td>...</td>\n      <td>...</td>\n      <td>...</td>\n      <td>...</td>\n    </tr>\n    <tr>\n      <th>281</th>\n      <td>True</td>\n      <td>2.0</td>\n      <td>6.0</td>\n      <td>0.0</td>\n      <td>False</td>\n      <td>0.5</td>\n      <td>no</td>\n      <td>NaN</td>\n      <td>NaN</td>\n      <td>NaN</td>\n      <td>NaN</td>\n      <td>NaN</td>\n      <td>NaN</td>\n      <td>NaN</td>\n      <td>NaN</td>\n      <td>NaN</td>\n      <td>NaN</td>\n    </tr>\n    <tr>\n      <th>282</th>\n      <td>True</td>\n      <td>2.0</td>\n      <td>4.0</td>\n      <td>0.0</td>\n      <td>False</td>\n      <td>1.0</td>\n      <td>yes</td>\n      <td>NaN</td>\n      <td>NaN</td>\n      <td>NaN</td>\n      <td>NaN</td>\n      <td>NaN</td>\n      <td>NaN</td>\n      <td>NaN</td>\n      <td>NaN</td>\n      <td>NaN</td>\n      <td>NaN</td>\n    </tr>\n    <tr>\n      <th>283</th>\n      <td>True</td>\n      <td>5.0</td>\n      <td>4.0</td>\n      <td>0.0</td>\n      <td>False</td>\n      <td>0.0</td>\n      <td>no</td>\n      <td>NaN</td>\n      <td>NaN</td>\n      <td>NaN</td>\n      <td>NaN</td>\n      <td>NaN</td>\n      <td>NaN</td>\n      <td>NaN</td>\n      <td>NaN</td>\n      <td>NaN</td>\n      <td>NaN</td>\n    </tr>\n    <tr>\n      <th>284</th>\n      <td>True</td>\n      <td>3.0</td>\n      <td>6.0</td>\n      <td>1.0</td>\n      <td>False</td>\n      <td>1.0</td>\n      <td>no</td>\n      <td>NaN</td>\n      <td>NaN</td>\n      <td>NaN</td>\n      <td>NaN</td>\n      <td>NaN</td>\n      <td>NaN</td>\n      <td>NaN</td>\n      <td>NaN</td>\n      <td>NaN</td>\n      <td>NaN</td>\n    </tr>\n    <tr>\n      <th>285</th>\n      <td>True</td>\n      <td>4.0</td>\n      <td>6.0</td>\n      <td>1.0</td>\n      <td>False</td>\n      <td>1.0</td>\n      <td>no</td>\n      <td>NaN</td>\n      <td>NaN</td>\n      <td>NaN</td>\n      <td>NaN</td>\n      <td>NaN</td>\n      <td>NaN</td>\n      <td>NaN</td>\n      <td>NaN</td>\n      <td>NaN</td>\n      <td>NaN</td>\n    </tr>\n  </tbody>\n</table>\n<p>277 rows × 17 columns</p>\n</div>"
     },
     "execution_count": 40,
     "metadata": {},
     "output_type": "execute_result"
    }
   ],
   "source": [
    "from sklearn.preprocessing import OrdinalEncoder\n",
    "from sklearn.preprocessing import OneHotEncoder\n",
    "\n",
    "def transform_data(dataframe: pd.DataFrame, parameters: dict) -> pd.DataFrame:\n",
    "    \"\"\"\n",
    "    \"datatype\": DataType.QUALITATIVE_ORDINAL,\n",
    "        \"possible_values\": [ \"10-19\", \"20-29\", \"30-39\", \"40-49\", \"50-59\", \"60-69\", \"70-79\", \"80-89\", \"90-99\" ],\n",
    "        \"encoding\": EncodingType.ORDINAL_ENCODER,\n",
    "        \"job_when_missing_value\": {\n",
    "            \"type\": JobWhenMissingValue.DELETE_LINE,\n",
    "    }\n",
    "    \"\"\"\n",
    "\n",
    "    for key, value in parameters.items():\n",
    "        if value[\"datatype\"] == DataType.BOOLEAN:\n",
    "            remplacement = {\n",
    "                value[\"possible_values\"][0]: True,\n",
    "                value[\"possible_values\"][1]: False\n",
    "            }\n",
    "\n",
    "            dataframe[key] = dataframe[key].map(remplacement)\n",
    "\n",
    "        if \"encoding\" in value and value[\"encoding\"] == EncodingType.ORDINAL_ENCODER:\n",
    "            # Création de l'objet OrdinalEncoder\n",
    "            ordinal_encoder = OrdinalEncoder(categories=[value[\"possible_values\"]])\n",
    "\n",
    "            # Encodage des valeurs de la colonne\n",
    "            dataframe[key] = ordinal_encoder.fit_transform(dataframe[[key]])\n",
    "\n",
    "        if \"encoding\" in value and value[\"encoding\"] == EncodingType.ONE_HOT_ENCODER:\n",
    "            # Création de l'objet OneHotEncoder\n",
    "            one_hot_encoder = OneHotEncoder(categories=[value[\"possible_values\"]])\n",
    "\n",
    "            # Encodage des valeurs de la colonne\n",
    "            values_encoded = one_hot_encoder.fit_transform(dataframe[[key]]).toarray()\n",
    "\n",
    "            dataframe = dataframe.drop(key, axis=1)\n",
    "\n",
    "            dataframe_encoded = pd.DataFrame(values_encoded, columns=[f\"{key}_{x}\" for x in one_hot_encoder.categories_[0]])\n",
    "            dataframe = dataframe.join(dataframe_encoded)\n",
    "\n",
    "\n",
    "    return dataframe\n",
    "\n",
    "current_dataset = load_dataset()\n",
    "current_dataset = clean_dataset(current_dataset, ROWS_DATATYPES)\n",
    "current_dataset = normalize_dataset(current_dataset, ROWS_DATATYPES)\n",
    "transform_data(current_dataset, ROWS_DATATYPES)"
   ],
   "metadata": {
    "collapsed": false,
    "pycharm": {
     "name": "#%%\n"
    }
   }
  },
  {
   "cell_type": "code",
   "execution_count": null,
   "outputs": [],
   "source": [],
   "metadata": {
    "collapsed": false,
    "pycharm": {
     "name": "#%%\n"
    }
   }
  }
 ],
 "metadata": {
  "kernelspec": {
   "display_name": "Python 3",
   "language": "python",
   "name": "python3"
  },
  "language_info": {
   "codemirror_mode": {
    "name": "ipython",
    "version": 2
   },
   "file_extension": ".py",
   "mimetype": "text/x-python",
   "name": "python",
   "nbconvert_exporter": "python",
   "pygments_lexer": "ipython2",
   "version": "2.7.6"
  }
 },
 "nbformat": 4,
 "nbformat_minor": 0
}