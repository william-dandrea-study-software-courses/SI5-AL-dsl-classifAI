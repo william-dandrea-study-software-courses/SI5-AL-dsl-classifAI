{
 "cells": [
  {
   "cell_type": "markdown",
   "source": [
    "# Importations"
   ],
   "metadata": {
    "collapsed": false,
    "pycharm": {
     "name": "#%% md\n"
    }
   }
  },
  {
   "cell_type": "code",
   "execution_count": 18,
   "outputs": [],
   "source": [
    "from typing import List\n",
    "from enum import Enum\n",
    "\n",
    "import numpy as np\n",
    "import matplotlib.pyplot as plt\n",
    "import pandas as pd\n",
    "from sklearn.model_selection import train_test_split, KFold\n",
    "from sklearn.datasets import make_classification, make_circles\n",
    "from sklearn import svm, tree\n",
    "from sklearn.ensemble import RandomForestClassifier\n",
    "from sklearn.neural_network import MLPClassifier\n",
    "from sklearn.neighbors import KNeighborsClassifier\n",
    "from sklearn.metrics import accuracy_score, roc_auc_score"
   ],
   "metadata": {
    "collapsed": false,
    "pycharm": {
     "name": "#%%\n"
    }
   }
  },
  {
   "cell_type": "markdown",
   "source": [
    "# Dataset sur lequel nous allons travailler"
   ],
   "metadata": {
    "collapsed": false,
    "pycharm": {
     "name": "#%% md\n"
    }
   }
  },
  {
   "cell_type": "code",
   "execution_count": 3,
   "outputs": [],
   "source": [
    "Xtemp, ytemp = make_circles(n_samples=1000, shuffle=True, noise=None, random_state=42)"
   ],
   "metadata": {
    "collapsed": false,
    "pycharm": {
     "name": "#%%\n"
    }
   }
  },
  {
   "cell_type": "code",
   "execution_count": null,
   "outputs": [],
   "source": [
    "\"\"\"\n",
    "X : [\n",
    "        [1, 5]\n",
    "        [8, 2]\n",
    "        [4, 1]\n",
    "        [5, 8]\n",
    "    ]\n",
    "y : [\n",
    "        [1],\n",
    "        [0],\n",
    "        [0],\n",
    "        [1],\n",
    "    ]\n",
    "\"\"\""
   ],
   "metadata": {
    "collapsed": false,
    "pycharm": {
     "name": "#%%\n"
    }
   }
  },
  {
   "cell_type": "code",
   "execution_count": 21,
   "outputs": [],
   "source": [
    "class DataType(Enum):\n",
    "    BOOLEAN = 1\n",
    "    QUALITATIVE_NOMINAL = 2         # Named categories : ['FH', 'SF', 'EV']\n",
    "    QUALITATIVE_ORDINAL = 3         # Categories with an implied order : ['small', 'medium', 'high']\n",
    "    QUANTITATIVE_DISCRETE = 4       # Only particular numbers : [1, 2, 3, 6, 8]\n",
    "    QUANTITATIVE_CONTINUOUS = 5     # Any numerical value : [1.345, 2.394, 8.345, 0.432]\n",
    "    LABEL = 6                       # Label de la classification\n",
    "\n",
    "\n",
    "class JobWhenMissingValue(Enum):    # Si une valeur d'un dataset est manquante\n",
    "    DELETE_LINE = 1                 # - On supprime la ligne\n",
    "    REPLACE_VALUE = 2               # - On remplace la valeur"
   ],
   "metadata": {
    "collapsed": false,
    "pycharm": {
     "name": "#%%\n"
    }
   }
  },
  {
   "cell_type": "code",
   "execution_count": 14,
   "outputs": [],
   "source": [
    "# Url à partir de la racine du dataset au format CSV\n",
    "CSV_FILE_URL: str = 'breast-cancer.csv'\n",
    "\n",
    "# Si le fichier CSV contient les noms de colonnes, mettre à True, si le fichier CSV ne contient\n",
    "# que les données, et pas les titres, mettre à False\n",
    "IS_CSV_FILE_CONTAINS_ROW_HEADER: bool = False\n",
    "\n",
    "# Renommer les noms des colonnes\n",
    "NAMES_ROWS_HEADER: List[str] = [\n",
    "    \"class\",\n",
    "    \"age\",\n",
    "    \"menopause\",\n",
    "    \"tumor-size\",\n",
    "    \"inv-nodes\",\n",
    "    \"node-caps\",\n",
    "    \"deg-malig\",\n",
    "    \"breast\",\n",
    "    \"breast-quad\",\n",
    "    \"irradiat\",\n",
    "]\n",
    "\n",
    "# Les types des données qui ont été inséré\n",
    "ROWS_DATATYPES = {\n",
    "    \"class\": {\n",
    "        \"datatype\": DataType.BOOLEAN,\n",
    "        \"matches\": {\n",
    "            \"no-recurrence-events\": False,\n",
    "            \"recurrence-events\": True,\n",
    "        },\n",
    "        \"job_when_missing_value\": {\n",
    "            \"type\": JobWhenMissingValue.REPLACE_VALUE,\n",
    "            \"replace_by\": False,\n",
    "        }\n",
    "    },\n",
    "    \"age\": {\n",
    "        \"datatype\": DataType.QUALITATIVE_ORDINAL,\n",
    "        \"matches\": {\n",
    "            \"10-19\": 1,\n",
    "            \"20-29\": 2,\n",
    "            \"30-39\": 3,\n",
    "            \"40-49\": 4,\n",
    "            \"50-59\": 5,\n",
    "            \"60-69\": 6,\n",
    "            \"70-79\": 7,\n",
    "            \"80-89\": 8,\n",
    "            \"90-99\": 9\n",
    "        },\n",
    "        \"job_when_missing_value\": {\n",
    "            \"type\": JobWhenMissingValue.DELETE_LINE,\n",
    "        }\n",
    "    },\n",
    "    \"menopause\": {\n",
    "        \"datatype\": DataType.QUALITATIVE_NOMINAL,\n",
    "        \"matches\": {\n",
    "            \"lt40\": 1,\n",
    "            \"premeno\": 2,\n",
    "            \"ge40\": 3,\n",
    "        },\n",
    "        \"job_when_missing_value\": {\n",
    "            \"type\": JobWhenMissingValue.DELETE_LINE,\n",
    "        }\n",
    "    },\n",
    "    \"tumor-size\": {\n",
    "        \"datatype\": DataType.QUALITATIVE_ORDINAL,\n",
    "        \"matches\": {\n",
    "            \"0-4\": 1,\n",
    "            \"5-9\": 2,\n",
    "            \"10-14\": 3,\n",
    "            \"15-19\": 4,\n",
    "            \"20-24\": 5,\n",
    "            \"25-29\": 6,\n",
    "            \"30-34\": 7,\n",
    "            \"35-39\": 8,\n",
    "            \"40-44\": 9,\n",
    "            \"45-49\": 10,\n",
    "            \"50-54\": 11,\n",
    "            \"55-59\": 12,\n",
    "        },\n",
    "        \"job_when_missing_value\": {\n",
    "            \"type\": JobWhenMissingValue.DELETE_LINE,\n",
    "        }\n",
    "    },\n",
    "    \"inv-nodes\": {\n",
    "        \"datatype\": DataType.QUALITATIVE_ORDINAL,\n",
    "        \"matches\": {\n",
    "            \"0-2\": 1,\n",
    "            \"3-5\": 2,\n",
    "            \"6-8\": 3,\n",
    "            \"9-11\": 4,\n",
    "            \"12-14\": 5,\n",
    "            \"15-17\": 6,\n",
    "            \"18-20\": 7,\n",
    "            \"21-23\": 8,\n",
    "            \"24-26\": 9,\n",
    "            \"27-29\": 10,\n",
    "            \"30-32\": 11,\n",
    "            \"33-35\": 12,\n",
    "            \"36-39\": 13\n",
    "        },\n",
    "        \"job_when_missing_value\": {\n",
    "            \"type\": JobWhenMissingValue.DELETE_LINE,\n",
    "        }\n",
    "    },\n",
    "    \"node-caps\": {\n",
    "        \"datatype\": DataType.BOOLEAN,\n",
    "        \"matches\": {\n",
    "            \"yes\": True,\n",
    "            \"no\": False,\n",
    "        },\n",
    "        \"job_when_missing_value\": {\n",
    "            \"type\": JobWhenMissingValue.DELETE_LINE,\n",
    "        }\n",
    "    },\n",
    "    \"deg-malig\": {\n",
    "        \"datatype\": DataType.QUANTITATIVE_DISCRETE,\n",
    "        \"job_when_missing_value\": {\n",
    "            \"type\": JobWhenMissingValue.DELETE_LINE,\n",
    "        }\n",
    "    },\n",
    "    \"breast\": {\n",
    "        \"datatype\": DataType.QUALITATIVE_NOMINAL,\n",
    "        \"matches\": {\n",
    "            \"left\": 1,\n",
    "            \"right\": 2\n",
    "        },\n",
    "        \"job_when_missing_value\": {\n",
    "            \"type\": JobWhenMissingValue.DELETE_LINE,\n",
    "        }\n",
    "    },\n",
    "    \"breast-quad\": {\n",
    "        \"datatype\": DataType.QUALITATIVE_NOMINAL,\n",
    "        \"matches\": {\n",
    "            \"left-up\": 1,\n",
    "            \"left-low\": 2,\n",
    "            \"right-up\": 3,\n",
    "            \"right-low\": 4,\n",
    "            \"central\": 5,\n",
    "        },\n",
    "        \"job_when_missing_value\": {\n",
    "            \"type\": JobWhenMissingValue.DELETE_LINE,\n",
    "        }\n",
    "    },\n",
    "    \"irradiat\": {\n",
    "        \"datatype\": DataType.LABEL,\n",
    "        \"matches\": {\n",
    "            \"yes\": True,\n",
    "            \"no\": False,\n",
    "        },\n",
    "        \"job_when_missing_value\": {\n",
    "            \"type\": JobWhenMissingValue.DELETE_LINE,\n",
    "        }\n",
    "    },\n",
    "}"
   ],
   "metadata": {
    "collapsed": false,
    "pycharm": {
     "name": "#%%\n"
    }
   }
  },
  {
   "cell_type": "code",
   "execution_count": 15,
   "outputs": [
    {
     "data": {
      "text/plain": "                        0      1        2      3    4   5  6      7  \\\n0    no-recurrence-events  30-39  premeno  30-34  0-2  no  3   left   \n1    no-recurrence-events  40-49  premeno  20-24  0-2  no  2  right   \n2    no-recurrence-events  40-49  premeno  20-24  0-2  no  2   left   \n3    no-recurrence-events  60-69     ge40  15-19  0-2  no  2  right   \n4    no-recurrence-events  40-49  premeno    0-4  0-2  no  2  right   \n..                    ...    ...      ...    ...  ...  .. ..    ...   \n281     recurrence-events  30-39  premeno  30-34  0-2  no  2   left   \n282     recurrence-events  30-39  premeno  20-24  0-2  no  3   left   \n283     recurrence-events  60-69     ge40  20-24  0-2  no  1  right   \n284     recurrence-events  40-49     ge40  30-34  3-5  no  3   left   \n285     recurrence-events  50-59     ge40  30-34  3-5  no  3   left   \n\n             8    9  \n0     left_low   no  \n1     right_up   no  \n2     left_low   no  \n3      left_up   no  \n4    right_low   no  \n..         ...  ...  \n281    left_up   no  \n282    left_up  yes  \n283    left_up   no  \n284   left_low   no  \n285   left_low   no  \n\n[286 rows x 10 columns]",
      "text/html": "<div>\n<style scoped>\n    .dataframe tbody tr th:only-of-type {\n        vertical-align: middle;\n    }\n\n    .dataframe tbody tr th {\n        vertical-align: top;\n    }\n\n    .dataframe thead th {\n        text-align: right;\n    }\n</style>\n<table border=\"1\" class=\"dataframe\">\n  <thead>\n    <tr style=\"text-align: right;\">\n      <th></th>\n      <th>0</th>\n      <th>1</th>\n      <th>2</th>\n      <th>3</th>\n      <th>4</th>\n      <th>5</th>\n      <th>6</th>\n      <th>7</th>\n      <th>8</th>\n      <th>9</th>\n    </tr>\n  </thead>\n  <tbody>\n    <tr>\n      <th>0</th>\n      <td>no-recurrence-events</td>\n      <td>30-39</td>\n      <td>premeno</td>\n      <td>30-34</td>\n      <td>0-2</td>\n      <td>no</td>\n      <td>3</td>\n      <td>left</td>\n      <td>left_low</td>\n      <td>no</td>\n    </tr>\n    <tr>\n      <th>1</th>\n      <td>no-recurrence-events</td>\n      <td>40-49</td>\n      <td>premeno</td>\n      <td>20-24</td>\n      <td>0-2</td>\n      <td>no</td>\n      <td>2</td>\n      <td>right</td>\n      <td>right_up</td>\n      <td>no</td>\n    </tr>\n    <tr>\n      <th>2</th>\n      <td>no-recurrence-events</td>\n      <td>40-49</td>\n      <td>premeno</td>\n      <td>20-24</td>\n      <td>0-2</td>\n      <td>no</td>\n      <td>2</td>\n      <td>left</td>\n      <td>left_low</td>\n      <td>no</td>\n    </tr>\n    <tr>\n      <th>3</th>\n      <td>no-recurrence-events</td>\n      <td>60-69</td>\n      <td>ge40</td>\n      <td>15-19</td>\n      <td>0-2</td>\n      <td>no</td>\n      <td>2</td>\n      <td>right</td>\n      <td>left_up</td>\n      <td>no</td>\n    </tr>\n    <tr>\n      <th>4</th>\n      <td>no-recurrence-events</td>\n      <td>40-49</td>\n      <td>premeno</td>\n      <td>0-4</td>\n      <td>0-2</td>\n      <td>no</td>\n      <td>2</td>\n      <td>right</td>\n      <td>right_low</td>\n      <td>no</td>\n    </tr>\n    <tr>\n      <th>...</th>\n      <td>...</td>\n      <td>...</td>\n      <td>...</td>\n      <td>...</td>\n      <td>...</td>\n      <td>...</td>\n      <td>...</td>\n      <td>...</td>\n      <td>...</td>\n      <td>...</td>\n    </tr>\n    <tr>\n      <th>281</th>\n      <td>recurrence-events</td>\n      <td>30-39</td>\n      <td>premeno</td>\n      <td>30-34</td>\n      <td>0-2</td>\n      <td>no</td>\n      <td>2</td>\n      <td>left</td>\n      <td>left_up</td>\n      <td>no</td>\n    </tr>\n    <tr>\n      <th>282</th>\n      <td>recurrence-events</td>\n      <td>30-39</td>\n      <td>premeno</td>\n      <td>20-24</td>\n      <td>0-2</td>\n      <td>no</td>\n      <td>3</td>\n      <td>left</td>\n      <td>left_up</td>\n      <td>yes</td>\n    </tr>\n    <tr>\n      <th>283</th>\n      <td>recurrence-events</td>\n      <td>60-69</td>\n      <td>ge40</td>\n      <td>20-24</td>\n      <td>0-2</td>\n      <td>no</td>\n      <td>1</td>\n      <td>right</td>\n      <td>left_up</td>\n      <td>no</td>\n    </tr>\n    <tr>\n      <th>284</th>\n      <td>recurrence-events</td>\n      <td>40-49</td>\n      <td>ge40</td>\n      <td>30-34</td>\n      <td>3-5</td>\n      <td>no</td>\n      <td>3</td>\n      <td>left</td>\n      <td>left_low</td>\n      <td>no</td>\n    </tr>\n    <tr>\n      <th>285</th>\n      <td>recurrence-events</td>\n      <td>50-59</td>\n      <td>ge40</td>\n      <td>30-34</td>\n      <td>3-5</td>\n      <td>no</td>\n      <td>3</td>\n      <td>left</td>\n      <td>left_low</td>\n      <td>no</td>\n    </tr>\n  </tbody>\n</table>\n<p>286 rows × 10 columns</p>\n</div>"
     },
     "execution_count": 15,
     "metadata": {},
     "output_type": "execute_result"
    }
   ],
   "source": [
    "header_value = 1 if IS_CSV_FILE_CONTAINS_ROW_HEADER else None\n",
    "\n",
    "res = pd.read_csv(CSV_FILE_URL, header=header_value)\n",
    "res"
   ],
   "metadata": {
    "collapsed": false,
    "pycharm": {
     "name": "#%%\n"
    }
   }
  },
  {
   "cell_type": "markdown",
   "source": [
    "# Pré-processing"
   ],
   "metadata": {
    "collapsed": false,
    "pycharm": {
     "name": "#%% md\n"
    }
   }
  },
  {
   "cell_type": "markdown",
   "source": [
    "## Nettoyage des données"
   ],
   "metadata": {
    "collapsed": false,
    "pycharm": {
     "name": "#%% md\n"
    }
   }
  },
  {
   "cell_type": "code",
   "execution_count": 6,
   "outputs": [
    {
     "data": {
      "text/plain": "numpy.ndarray"
     },
     "execution_count": 6,
     "metadata": {},
     "output_type": "execute_result"
    }
   ],
   "source": [
    "def clean_dataset(dataframe: pd.DataFrame, parameters: dict) -> None:\n",
    "    \"\"\" Méthode qui nettoie le dataset selon les volontés définies par le client dans `parameters`\n",
    "    :param dataframe: pd.DataFrame = notre dataset\n",
    "    :param parameters: dict = notre dictionnaire ROWS_DATATYPES\n",
    "    \"\"\"\n",
    "    for key, value in parameters.items():\n",
    "\n",
    "        if value[\"job_when_missing_value\"][\"type\"] == JobWhenMissingValue.DELETE_LINE:\n",
    "            dataframe = dataframe[dataframe[key].notna()]\n",
    "\n",
    "        if value[\"job_when_missing_value\"][\"type\"] == JobWhenMissingValue.REPLACE_VALUE:\n",
    "            dataframe[key] = dataframe[key].replace(np.nan, value[\"job_when_missing_value\"][\"replace_by\"])"
   ],
   "metadata": {
    "collapsed": false,
    "pycharm": {
     "name": "#%%\n"
    }
   }
  },
  {
   "cell_type": "markdown",
   "source": [
    "## Normalisation des données (uniquement pour les données quantitatives)"
   ],
   "metadata": {
    "collapsed": false,
    "pycharm": {
     "name": "#%% md\n"
    }
   }
  },
  {
   "cell_type": "code",
   "execution_count": null,
   "outputs": [],
   "source": [
    "def normalize_dataset(dataframe: pd.DataFrame, parameters: dict) -> None:\n",
    "    print(\"normalize\")"
   ],
   "metadata": {
    "collapsed": false,
    "pycharm": {
     "name": "#%%\n"
    }
   }
  }
 ],
 "metadata": {
  "kernelspec": {
   "display_name": "Python 3",
   "language": "python",
   "name": "python3"
  },
  "language_info": {
   "codemirror_mode": {
    "name": "ipython",
    "version": 2
   },
   "file_extension": ".py",
   "mimetype": "text/x-python",
   "name": "python",
   "nbconvert_exporter": "python",
   "pygments_lexer": "ipython2",
   "version": "2.7.6"
  }
 },
 "nbformat": 4,
 "nbformat_minor": 0
}